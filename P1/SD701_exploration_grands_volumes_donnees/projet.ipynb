{
 "cells": [
  {
   "cell_type": "markdown",
   "metadata": {},
   "source": [
    "# project for the course: Big Data Mining"
   ]
  },
  {
   "cell_type": "markdown",
   "metadata": {},
   "source": [
    "## Preliminary data processing"
   ]
  },
  {
   "cell_type": "code",
   "execution_count": 1,
   "metadata": {},
   "outputs": [
    {
     "name": "stdout",
     "output_type": "stream",
     "text": [
      "Pretty printing has been turned OFF\n"
     ]
    }
   ],
   "source": [
    "%pprint\n",
    "# imports for pyspark\n",
    "import findspark\n",
    "findspark.init()\n",
    "import pyspark\n",
    "\n",
    "# other imports\n",
    "from pyspark.sql.types import StructType, StructField \n",
    "from pyspark.sql.types import DoubleType, IntegerType \n",
    "from pyspark.ml.feature import VectorAssembler \n",
    "from pyspark.sql import SQLContext \n",
    "from pyspark.ml.linalg import VectorUDT,Vectors\n",
    "from pyspark import SparkContext\n",
    "sc = SparkContext()\n",
    "import pyspark.sql.functions as sqlf\n",
    "import re \n",
    "import unicodedata\n",
    "import math\n",
    "from pyspark.sql.types import StringType\n",
    "sqlContext = SQLContext(sc)\n",
    "from pyspark.ml.regression import LinearRegression\n",
    "from pyspark.ml.feature import VectorAssembler"
   ]
  },
  {
   "cell_type": "code",
   "execution_count": 2,
   "metadata": {},
   "outputs": [],
   "source": [
    "# first define the user targetted by recommender system!\n",
    "user = '1'\n",
    "\n",
    "# define the hyperparameters\n",
    "w1 = 0.25\n",
    "w2 = 0.25\n",
    "w3 = 0.25\n",
    "w4 = 0.25\n",
    "alpha = 0.0005\n",
    "delta = 0.05"
   ]
  },
  {
   "cell_type": "code",
   "execution_count": 3,
   "metadata": {},
   "outputs": [],
   "source": [
    "# functions to clean the data\n",
    "future_pattern = re.compile(\"\"\"([^,\"]+|\"[^\"]+\")(?=,|$)\"\"\")\n",
    "\n",
    "def parseCSV(line):\n",
    "    return future_pattern.findall(line) "
   ]
  },
  {
   "cell_type": "code",
   "execution_count": 4,
   "metadata": {},
   "outputs": [
    {
     "data": {
      "text/plain": [
       "[['userId', 'movieId', 'rating', 'timestamp'], ['1', '1', '4.0', '964982703'], ['1', '3', '4.0', '964981247'], ['1', '6', '4.0', '964982224'], ['1', '47', '5.0', '964983815']]"
      ]
     },
     "execution_count": 4,
     "metadata": {},
     "output_type": "execute_result"
    }
   ],
   "source": [
    "# loading the file rating.csv\n",
    "path_data = \"/home/romain/movie_small\"\n",
    "rt = sc.textFile(path_data+\"/ratings.csv\").map(parseCSV)\n",
    "rt.take(5)"
   ]
  },
  {
   "cell_type": "code",
   "execution_count": 5,
   "metadata": {
    "scrolled": true
   },
   "outputs": [
    {
     "data": {
      "text/plain": [
       "[['movieId', 'title', 'genres'], ['1', 'Toy Story (1995)', 'Adventure|Animation|Children|Comedy|Fantasy'], ['2', 'Jumanji (1995)', 'Adventure|Children|Fantasy'], ['3', 'Grumpier Old Men (1995)', 'Comedy|Romance'], ['4', 'Waiting to Exhale (1995)', 'Comedy|Drama|Romance']]"
      ]
     },
     "execution_count": 5,
     "metadata": {},
     "output_type": "execute_result"
    }
   ],
   "source": [
    "# loading the file movies.csv\n",
    "mv = sc.textFile(path_data+\"/movies.csv\").map(parseCSV) \n",
    "# show\n",
    "mv.take(5)"
   ]
  },
  {
   "cell_type": "code",
   "execution_count": 6,
   "metadata": {},
   "outputs": [
    {
     "name": "stdout",
     "output_type": "stream",
     "text": [
      "25 movies have been removed from the data set because they have no genres listed.\n"
     ]
    },
    {
     "data": {
      "text/plain": [
       "[['1', 'Toy Story', 1995, 'Adventure|Animation|Children|Comedy|Fantasy'], ['2', 'Jumanji', 1995, 'Adventure|Children|Fantasy'], ['3', 'Grumpier Old Men', 1995, 'Comedy|Romance'], ['4', 'Waiting to Exhale', 1995, 'Comedy|Drama|Romance'], ['5', 'Father of the Bride Part II', 1995, 'Comedy']]"
      ]
     },
     "execution_count": 6,
     "metadata": {},
     "output_type": "execute_result"
    }
   ],
   "source": [
    "# obtain a clean movie file rdd\n",
    "\n",
    "# starting to clean and transform the movie file\n",
    "mv2 = mv.filter(lambda x: x[0]!=\"movieId\").map(lambda x: (str(x[0]), str(x[1]), str(x[2])))\n",
    "# split movie titles and years\n",
    "mv3 = mv2.map(lambda x: [x[0],x[1].rsplit(\"(\",1)[0].strip(),x[1].split(\"(\")[-1].split(\")\")[0],x[2]])\n",
    "# filter for anomalies\n",
    "mv4 = mv3.filter(lambda x: x[2].isdigit()).map(lambda x: [x[0], x[1], int(x[2]), x[3]])\n",
    "# eliminate rows for which \"no genres\" is listed\n",
    "mv5 = mv4.filter(lambda x: \"genre\" not in x[3])\n",
    "# display loss\n",
    "print(str(mv4.count() - mv5.count()) + \" movies have been removed from the data set because they have no genres listed.\")\n",
    "# show\n",
    "mv5.take(5) "
   ]
  },
  {
   "cell_type": "markdown",
   "metadata": {},
   "source": [
    "## Part 1: a similarity-based model"
   ]
  },
  {
   "cell_type": "code",
   "execution_count": 7,
   "metadata": {},
   "outputs": [
    {
     "data": {
      "text/plain": [
       "[['1', (1995, [0, 1, 1, 1, 1, 0, 0, 0, 1, 0, 0, 0, 0, 0, 0, 0, 0, 0])], ['2', (1995, [0, 1, 0, 1, 0, 0, 0, 0, 1, 0, 0, 0, 0, 0, 0, 0, 0, 0])], ['3', (1995, [0, 0, 0, 0, 1, 0, 0, 0, 0, 0, 0, 0, 0, 1, 0, 0, 0, 0])], ['4', (1995, [0, 0, 0, 0, 1, 0, 0, 1, 0, 0, 0, 0, 0, 1, 0, 0, 0, 0])], ['5', (1995, [0, 0, 0, 0, 1, 0, 0, 0, 0, 0, 0, 0, 0, 0, 0, 0, 0, 0])]]"
      ]
     },
     "execution_count": 7,
     "metadata": {},
     "output_type": "execute_result"
    }
   ],
   "source": [
    "# now, with a clean basis, start transforming for our purpose\n",
    "\n",
    "# function to convert the genres column to binaries\n",
    "def convert_binary(genres):\n",
    "    binaries = [0] * 18\n",
    "    if \"Action\" in genres:\n",
    "        binaries[0] = 1\n",
    "    if \"Adventure\" in genres:\n",
    "        binaries[1] = 1\n",
    "    if \"Animation\" in genres:\n",
    "        binaries[2] = 1\n",
    "    if \"Children\" in genres:\n",
    "        binaries[3] = 1\n",
    "    if \"Comedy\" in genres:\n",
    "        binaries[4] = 1\n",
    "    if \"Crime\" in genres:\n",
    "        binaries[5] = 1\n",
    "    if \"Documentary\" in genres:\n",
    "        binaries[6] = 1\n",
    "    if \"Drama\" in genres:\n",
    "        binaries[7] = 1\n",
    "    if \"Fantasy\" in genres:\n",
    "        binaries[8] = 1\n",
    "    if \"Film-Noir\" in genres:\n",
    "        binaries[9] = 1\n",
    "    if \"Horror\" in genres:\n",
    "        binaries[10] = 1\n",
    "    if \"Musical\" in genres:\n",
    "        binaries[11] = 1\n",
    "    if \"Mystery\" in genres:\n",
    "        binaries[12] = 1\n",
    "    if \"Romance\" in genres:\n",
    "        binaries[13] = 1\n",
    "    if \"Sci\" in genres:\n",
    "        binaries[14] = 1\n",
    "    if \"Thriller\" in genres:\n",
    "        binaries[15] = 1\n",
    "    if \"War\" in genres:\n",
    "        binaries[16] = 1\n",
    "    if \"Western\" in genres:\n",
    "        binaries[17] = 1\n",
    "    return binaries\n",
    "        \n",
    "# apply to movies, get rid of titles\n",
    "mv6 = mv5.map(lambda x: [x[0], (x[2], convert_binary(x[3]))])\n",
    "# show\n",
    "mv6.take(5) "
   ]
  },
  {
   "cell_type": "code",
   "execution_count": 8,
   "metadata": {},
   "outputs": [
    {
     "data": {
      "text/plain": [
       "[('1', 215), ('2', 110), ('3', 52), ('4', 7), ('5', 49)]"
      ]
     },
     "execution_count": 8,
     "metadata": {},
     "output_type": "execute_result"
    }
   ],
   "source": [
    "# obtain the total number of ratings for each movie\n",
    "rt2 = rt.filter(lambda x: x[0]!=\"userId\").map(lambda x: (str(x[0]), str(x[1]), float(x[2]), int(x[3])))\n",
    "rt3 = rt2.map(lambda x: [x[1], 1]).reduceByKey(lambda a,b: a+b).sortBy(lambda x: int(x[0]))\n",
    "# obtain the ratings for each movie\n",
    "rt4 = rt2.map(lambda x: [x[1], x[2]]).reduceByKey(lambda a,b: a+b)\n",
    "# obtain rdd with total number of ratings and average rating for each movie\n",
    "rt5 = rt4.join(rt3).map(lambda x: [x[0], (x[1][1], round(x[1][0]/x[1][1],4))])\n",
    "# show\n",
    "rt3.take(5)"
   ]
  },
  {
   "cell_type": "code",
   "execution_count": 9,
   "metadata": {},
   "outputs": [
    {
     "data": {
      "text/plain": [
       "[['70', (1996, 3.5091, 55, [1, 0, 0, 0, 1, 0, 0, 0, 0, 0, 1, 0, 0, 0, 0, 1, 0, 0])], ['441', (1993, 3.9286, 42, [0, 0, 0, 0, 1, 0, 0, 0, 0, 0, 0, 0, 0, 0, 0, 0, 0, 0])]]"
      ]
     },
     "execution_count": 9,
     "metadata": {},
     "output_type": "execute_result"
    }
   ],
   "source": [
    "# join rt5 with mv6: obtain rdd with 5 columns\n",
    "# id, associated to (year, average rating, number of ratings, genre)\n",
    "mv7 = rt5.join(mv6).map(lambda x: [x[0], (x[1][1][0], x[1][0][1], x[1][0][0], x[1][1][1])])\n",
    "mv7.take(2)"
   ]
  },
  {
   "cell_type": "markdown",
   "metadata": {},
   "source": [
    "## Focus on user preferences"
   ]
  },
  {
   "cell_type": "code",
   "execution_count": 10,
   "metadata": {},
   "outputs": [
    {
     "data": {
      "text/plain": [
       "[[1993, 4.0, 42, [0, 0, 0, 0, 1, 0, 0, 0, 0, 0, 0, 0, 0, 0, 0, 0, 0, 0]], [1996, 4.0, 36, [0, 0, 0, 0, 1, 0, 0, 1, 0, 0, 0, 0, 0, 0, 0, 0, 0, 0]], [1975, 5.0, 136, [0, 1, 0, 0, 1, 0, 0, 0, 1, 0, 0, 0, 0, 0, 0, 0, 0, 0]], [1998, 4.0, 31, [0, 0, 0, 0, 0, 1, 0, 1, 0, 0, 0, 0, 1, 0, 0, 1, 0, 0]], [1990, 4.0, 88, [0, 1, 0, 0, 1, 0, 0, 0, 0, 0, 0, 0, 0, 0, 1, 0, 0, 1]]]"
      ]
     },
     "execution_count": 10,
     "metadata": {},
     "output_type": "execute_result"
    }
   ],
   "source": [
    "# obtain the list of movies rated by user\n",
    "mr = rt.filter(lambda x: x[0]==user).map(lambda x: (x[1], x[2]))\n",
    "# join with movies\n",
    "mr2 = mv7.join(mr).map(lambda x: [x[1][0][0], float(x[1][1][0]), x[1][0][2], x[1][0][3]])\n",
    "# show\n",
    "mr2.take(5)"
   ]
  },
  {
   "cell_type": "code",
   "execution_count": 11,
   "metadata": {
    "scrolled": false
   },
   "outputs": [
    {
     "name": "stdout",
     "output_type": "stream",
     "text": [
      "\"Usual Suspects, The\t \t1995\t \tCrime|Mystery|Thriller\n",
      "From Dusk Till Dawn\t \t1996\t \tAction|Comedy|Horror|Thriller\n",
      "Braveheart\t \t1995\t \tAction|Drama|War\n",
      "Canadian Bacon\t \t1995\t \tComedy|War\n",
      "Billy Madison\t \t1995\t \tComedy\n",
      "Tommy Boy\t \t1995\t \tComedy\n",
      "Forrest Gump\t \t1994\t \tComedy|Drama|Romance|War\n",
      "Dazed and Confused\t \t1993\t \tComedy\n",
      "\"Three Musketeers, The\t \t1993\t \tAction|Adventure|Comedy|Romance\n",
      "Tombstone\t \t1993\t \tAction|Drama|Western\n",
      "Dances with Wolves\t \t1990\t \tAdventure|Drama|Western\n",
      "Pinocchio\t \t1940\t \tAnimation|Children|Fantasy|Musical\n",
      "Fargo\t \t1996\t \tComedy|Crime|Drama|Thriller\n",
      "Mission: Impossible\t \t1996\t \tAction|Adventure|Mystery|Thriller\n",
      "\"Rock, The\t \t1996\t \tAction|Adventure|Thriller\n",
      "Twister\t \t1996\t \tAction|Adventure|Romance|Thriller\n",
      "\"Ghost and Mrs. Muir, The\t \t1947\t \tDrama|Fantasy|Romance\n",
      "Escape to Witch Mountain\t \t1975\t \tAdventure|Children|Fantasy\n",
      "\"Three Caballeros, The\t \t1945\t \tAnimation|Children|Musical\n",
      "\"Sword in the Stone, The\t \t1963\t \tAnimation|Children|Fantasy|Musical\n"
     ]
    }
   ],
   "source": [
    "# for convenience, also obtain a display of movies rated by user\n",
    "mr3 = rt2.map(lambda x: [x[0], x[1]]).filter(lambda x: x[0]==user).map(lambda x:  (x[1],x[0])).join(mv5.map(lambda x: (x[0],[x[1], x[2], x[3]]))).map(lambda x: [x[1][1][0], x[1][1][1], x[1][1][2]])\n",
    "# show\n",
    "mr3.take(20)\n",
    "\n",
    "for i in mr3.take(20):\n",
    "    print(str(i[0])+ \"\\t \\t\" + str(i[1]) + \"\\t \\t\" + str(i[2]))\n",
    "    "
   ]
  },
  {
   "cell_type": "code",
   "execution_count": 12,
   "metadata": {},
   "outputs": [],
   "source": [
    "# for later, define all movies not rated by the user\n",
    "# all movies rated by the user\n",
    "temp1 = rt.filter(lambda x: x[0]==user).map(lambda x: (x[1], 'whatever')).groupByKey().map(lambda x: (x[0])).sortBy(lambda x: int(x))\n",
    "# all the movies\n",
    "temp2 = rt.filter(lambda x: x[0]!=\"userId\").map(lambda x: (x[1], 'whatever')).groupByKey().map(lambda x: (x[0])).sortBy(lambda x: int(x))\n",
    "# all movies - movies rated = all movies not rated\n",
    "temp3 = temp2.subtract(temp1).sortBy(lambda x: int(x))\n",
    "temp3.take(10)\n",
    "# add a second entry to allow for later join\n",
    "temp4 = temp3.map(lambda x: [x, 'whatever'])"
   ]
  },
  {
   "cell_type": "code",
   "execution_count": 13,
   "metadata": {},
   "outputs": [
    {
     "data": {
      "text/plain": [
       "[(1984, 4.37, 70, [0.39, 0.37, 0.12, 0.18, 0.36, 0.19, 0.0, 0.29, 0.2, 0.0, 0.07, 0.09, 0.08, 0.11, 0.17, 0.24, 0.09, 0.03])]"
      ]
     },
     "execution_count": 13,
     "metadata": {},
     "output_type": "execute_result"
    }
   ],
   "source": [
    "# define function to aggregate genres\n",
    "def aggregate_genre(binaries1, binaries2):\n",
    "    cum_binaries = [0] * 18\n",
    "    for i in range (18):\n",
    "        cum_binaries[i] = binaries1[i] + binaries2[i]\n",
    "    return cum_binaries\n",
    "\n",
    "# define the individual characteristics of user:\n",
    "el1 = int(round(mr2.map(lambda x: x[0]).reduce(lambda a,b: a+b)/mr2.count()))\n",
    "el2 = round(mr2.map(lambda x: x[1]).reduce(lambda a,b: a+b)/mr2.count(),2)\n",
    "el3 = int(round(mr2.map(lambda x: x[2]).reduce(lambda a,b: a+b)/mr2.count()))\n",
    "el4 = [round(x/mr2.count(),2) for x in  mr2.map(lambda x: x[3]).reduce(aggregate_genre)]\n",
    "# now obtain the benchmark vector for user:\n",
    "bv = sc.parallelize([(el1, el2, el3, el4)])\n",
    "bv.collect()"
   ]
  },
  {
   "cell_type": "markdown",
   "metadata": {},
   "source": [
    "## Measures of similarities with other movies"
   ]
  },
  {
   "cell_type": "code",
   "execution_count": 14,
   "metadata": {},
   "outputs": [],
   "source": [
    "# define first the z function\n",
    "def z(val, scale):\n",
    "    return math.atan(scale*val)/(math.pi/2)\n",
    "\n",
    "# define the genre proximity function\n",
    "def gp(genre1, genre2):\n",
    "    cum = 0\n",
    "    for i in range (18):\n",
    "        cum += genre1[i]*genre2[i]\n",
    "    return cum / genre1.count(1)"
   ]
  },
  {
   "cell_type": "code",
   "execution_count": 15,
   "metadata": {},
   "outputs": [
    {
     "name": "stdout",
     "output_type": "stream",
     "text": [
      "0.874\n"
     ]
    }
   ],
   "source": [
    "# exemple value of z function\n",
    "print(round(z(100,0.05),3))"
   ]
  },
  {
   "cell_type": "code",
   "execution_count": 16,
   "metadata": {},
   "outputs": [
    {
     "data": {
      "text/plain": [
       "[['70', (1996, 1984), (3.5091, 4.37), (55, 70), ([1, 0, 0, 0, 1, 0, 0, 0, 0, 0, 1, 0, 0, 0, 0, 1, 0, 0], [0.39, 0.37, 0.12, 0.18, 0.36, 0.19, 0.0, 0.29, 0.2, 0.0, 0.07, 0.09, 0.08, 0.11, 0.17, 0.24, 0.09, 0.03])]]"
      ]
     },
     "execution_count": 16,
     "metadata": {},
     "output_type": "execute_result"
    }
   ],
   "source": [
    "# then convert mv7 to a format similar to bv (with movie id additionally)\n",
    "mv8 = mv7.map(lambda x: [x[0], x[1][0], x[1][1], x[1][2], x[1][3]])\n",
    "# run a cartesian with the benchmark to evaluate the metrics with every movie\n",
    "mv9 = bv.cartesian(mv8)\n",
    "# reorganize\n",
    "mv10 = mv9.map(lambda x: [x[1][0], (x[1][1], x[0][0]), (x[1][2], x[0][1]), (x[1][3], x[0][2]), (x[1][4], x[0][3])])\n",
    "# show\n",
    "mv10.take(1)"
   ]
  },
  {
   "cell_type": "code",
   "execution_count": 17,
   "metadata": {
    "scrolled": false
   },
   "outputs": [
    {
     "name": "stdout",
     "output_type": "stream",
     "text": [
      "0.794\tIn the Line of Fire\t1993\tAction|Thriller\n",
      "0.792\t\"Avengers, The\t2012\tAction|Adventure|Sci-Fi|IMAX\n",
      "0.791\tThis Is Spinal Tap\t1984\tComedy\n",
      "0.788\t\"Fish Called Wanda, A\t1988\tComedy|Crime\n",
      "0.787\t\"Good, the Bad and the Ugly, The (Buono, il brutto, il cattivo, Il)\t1966\tAction|Adventure|Western\n",
      "0.785\tTraffic\t2000\tCrime|Drama|Thriller\n",
      "0.78\t\"Royal Tenenbaums, The\t2001\tComedy|Drama\n",
      "0.78\tHarry Potter and the Goblet of Fire\t2005\tAdventure|Fantasy|Thriller|IMAX\n",
      "0.779\tErin Brockovich\t2000\tDrama\n",
      "0.778\t\"American President, The\t1995\tComedy|Drama|Romance\n",
      "0.778\tDjango Unchained\t2012\tAction|Drama|Western\n",
      "0.777\tScarface\t1983\tAction|Crime|Drama\n",
      "0.772\tCity of God (Cidade de Deus)\t2002\tAction|Adventure|Crime|Drama|Thriller\n",
      "0.769\tDie Hard 2\t1990\tAction|Adventure|Thriller\n",
      "0.769\tRobin Hood: Men in Tights\t1993\tComedy\n",
      "0.769\tPirates of the Caribbean: Dead Man's Chest\t2006\tAction|Adventure|Fantasy\n",
      "0.768\tMary Poppins\t1964\tChildren|Comedy|Fantasy|Musical\n",
      "0.767\tAmadeus\t1984\tDrama\n",
      "0.764\tLost in Translation\t2003\tComedy|Drama|Romance\n",
      "0.764\tBig Fish\t2003\tDrama|Fantasy|Romance\n"
     ]
    }
   ],
   "source": [
    "# now run the maps to get a measure of proximity\n",
    "mv11 = mv10.map(lambda x: [x[0], 1 - z(abs(x[1][0] - x[1][1]), alpha) , 1 - abs(x[2][0] - x[2][1]) / 5, 1 - z(abs(x[3][0] - x[3][1]), delta), gp(x[4][0], x[4][1])])\n",
    "mv12 = mv11.map(lambda x: [x[0], w1*x[1] + w2*x[2] + w3*x[3] + w4*x[4]])\n",
    "# remove movies rated by user\n",
    "mv13 = temp4.join(mv12).map(lambda x: (x[0], x[1][1]))\n",
    "# recover remaining movies and sort descending\n",
    "mv14 = mv5.map(lambda x: (x[0], [x[1], x[2], x[3]]))\n",
    "mv15 = mv14.join(mv13).map(lambda x: [round(x[1][1],3), x[1][0][0], x[1][0][1], x[1][0][2]]).sortBy(lambda x: -x[0])\n",
    "\n",
    "# display recommandations\n",
    "for i in mv15.take(20):\n",
    "    print(str(i[0])+ \"\\t\" + str(i[1]) + \"\\t\" + str(i[2]) + \"\\t\" + str(i[3]))"
   ]
  },
  {
   "cell_type": "markdown",
   "metadata": {},
   "source": [
    "## Part 2: a simple linear regression model"
   ]
  },
  {
   "cell_type": "code",
   "execution_count": 18,
   "metadata": {},
   "outputs": [],
   "source": [
    "# obtain the forecast set (the set with the features but no predicted value)"
   ]
  },
  {
   "cell_type": "code",
   "execution_count": 19,
   "metadata": {},
   "outputs": [
    {
     "data": {
      "text/plain": [
       "[('70', 1.013489917272727), ('441', 0.839911563809526), ('648', 0.807532234567903), ('1024', 0.8886444433333338), ('1060', 1.1708530844444454)]"
      ]
     },
     "execution_count": 19,
     "metadata": {},
     "output_type": "execute_result"
    }
   ],
   "source": [
    "# obtain square rating for each movie\n",
    "rt6 = rt2.map(lambda x: [x[1], x[2]**2]).reduceByKey(lambda a,b: a+b)\n",
    "# obtain exp(standard deviation) for each movie\n",
    "rt7 = rt6.join(rt5).map(lambda x: [x[0], (x[1][0]/x[1][1][0], x[1][1][1]**2)]).map(lambda x: (x[0], (x[1][0]-x[1][1])))\n",
    "# show\n",
    "rt7.take(5)"
   ]
  },
  {
   "cell_type": "code",
   "execution_count": 20,
   "metadata": {},
   "outputs": [
    {
     "data": {
      "text/plain": [
       "[('1', -5), ('2', -5), ('3', -5)]"
      ]
     },
     "execution_count": 20,
     "metadata": {},
     "output_type": "execute_result"
    }
   ],
   "source": [
    "# redefine year features\n",
    "mv16 = mv5.map(lambda x: (x[0], x[2] - 2000))\n",
    "# show\n",
    "mv16.take(3)"
   ]
  },
  {
   "cell_type": "code",
   "execution_count": 21,
   "metadata": {},
   "outputs": [
    {
     "data": {
      "text/plain": [
       "[('70', [3.5091, 4.0073, 1.0135, -4, 1, 0, 0, 0, 1, 0, 0, 0, 0, 0, 1, 0, 0, 0, 0, 1, 0, 0]), ('1220', [3.8095, 4.4308, 0.821, -20, 1, 0, 0, 0, 1, 0, 0, 0, 0, 0, 0, 1, 0, 0, 0, 0, 0, 0]), ('1805', [3.0161, 3.434, 1.0402, -2, 0, 0, 0, 0, 0, 1, 0, 1, 0, 0, 0, 0, 1, 0, 0, 1, 0, 0])]"
      ]
     },
     "execution_count": 21,
     "metadata": {},
     "output_type": "execute_result"
    }
   ],
   "source": [
    "# for each movie, gather average rating, log(num rating), exp(sd), year, and 18 dummy features\n",
    "rt8 = mv7.join(rt7).join(mv16).map(lambda x: (x[0], [x[1][0][0][1], round(math.log(x[1][0][0][2]),4), round(x[1][0][1],4), x[1][1], x[1][0][0][3][0], x[1][0][0][3][1], x[1][0][0][3][2], x[1][0][0][3][3], x[1][0][0][3][4], x[1][0][0][3][5], x[1][0][0][3][6], x[1][0][0][3][7], x[1][0][0][3][8], x[1][0][0][3][9], x[1][0][0][3][10], x[1][0][0][3][11], x[1][0][0][3][12], x[1][0][0][3][13], x[1][0][0][3][14], x[1][0][0][3][15], x[1][0][0][3][16], x[1][0][0][3][17]]))\n",
    "# show\n",
    "rt8.take(3)"
   ]
  },
  {
   "cell_type": "code",
   "execution_count": 22,
   "metadata": {},
   "outputs": [
    {
     "name": "stdout",
     "output_type": "stream",
     "text": [
      "+-------+------+------+------+----+---+---+---+---+---+---+---+---+---+---+---+---+---+---+---+---+---+---+\n",
      "|movieId|    ar|    nr|   sdr|year| g1| g2| g3| g4| g5| g6| g7| g8| g9|g10|g11|g12|g13|g14|g15|g16|g17|g18|\n",
      "+-------+------+------+------+----+---+---+---+---+---+---+---+---+---+---+---+---+---+---+---+---+---+---+\n",
      "|     70|3.5091|4.0073|1.0135|  -4|  1|  0|  0|  0|  1|  0|  0|  0|  0|  0|  1|  0|  0|  0|  0|  1|  0|  0|\n",
      "|   1220|3.8095|4.4308| 0.821| -20|  1|  0|  0|  0|  1|  0|  0|  0|  0|  0|  0|  1|  0|  0|  0|  0|  0|  0|\n",
      "|   1805|3.0161| 3.434|1.0402|  -2|  0|  0|  0|  0|  0|  1|  0|  1|  0|  0|  0|  0|  1|  0|  0|  1|  0|  0|\n",
      "|   2078|3.8302|3.9703|0.7164| -33|  0|  0|  1|  1|  1|  0|  0|  0|  0|  0|  0|  1|  0|  0|  0|  0|  0|  0|\n",
      "|   3508|  4.25|2.8904|0.3958| -24|  1|  1|  0|  0|  0|  0|  0|  1|  0|  0|  0|  0|  0|  0|  0|  1|  0|  1|\n",
      "+-------+------+------+------+----+---+---+---+---+---+---+---+---+---+---+---+---+---+---+---+---+---+---+\n",
      "only showing top 5 rows\n",
      "\n",
      "+-------+--------------------+\n",
      "|movieId|            features|\n",
      "+-------+--------------------+\n",
      "|     70|(22,[0,1,2,3,4,8,...|\n",
      "|   1220|(22,[0,1,2,3,4,8,...|\n",
      "|   1805|(22,[0,1,2,3,9,11...|\n",
      "|   2078|(22,[0,1,2,3,6,7,...|\n",
      "|   3508|(22,[0,1,2,3,4,5,...|\n",
      "+-------+--------------------+\n",
      "only showing top 5 rows\n",
      "\n"
     ]
    }
   ],
   "source": [
    "# convert prediction set to dataframe\n",
    "ps1 = rt8.map(lambda x: [x[0], x[1][0], x[1][1], x[1][2], x[1][3], x[1][4], x[1][5], x[1][6], x[1][7], x[1][8], x[1][9], x[1][10], x[1][11], x[1][12], x[1][13], x[1][14], x[1][15], x[1][16], x[1][17], x[1][18], x[1][19], x[1][20], x[1][21]])\n",
    "ps2 = ps1.toDF(['movieId','ar','nr','sdr','year','g1','g2','g3','g4','g5','g6','g7','g8','g9','g10','g11','g12','g13','g14','g15','g16','g17','g18'])\n",
    "# show\n",
    "ps2.show(5)\n",
    "# convert to format compatible with ml\n",
    "vectorAssembler = VectorAssembler(inputCols = ['ar','nr','sdr','year','g1','g2','g3','g4','g5','g6','g7','g8','g9','g10','g11','g12','g13','g14','g15','g16','g17','g18'], outputCol = 'features')\n",
    "ps3 = vectorAssembler.transform(ps2)\n",
    "ps4 = ps3.select(['movieId','features'])\n",
    "ps4.show(5)\n"
   ]
  },
  {
   "cell_type": "code",
   "execution_count": 23,
   "metadata": {},
   "outputs": [],
   "source": [
    "# now obtain the training set for the user\n",
    "# it is basically the forecast set restricted to the movies rated by the user\n",
    "# where we now have a predicted value, using the user rating for this specific movie"
   ]
  },
  {
   "cell_type": "code",
   "execution_count": 24,
   "metadata": {},
   "outputs": [
    {
     "data": {
      "text/plain": [
       "[(5.0, 4.2377, 5.3181, 0.6387, -5, 0, 0, 0, 0, 0, 1, 0, 0, 0, 0, 0, 0, 1, 0, 0, 1, 0, 0), (5.0, 3.3265, 3.8918, 1.1079, -5, 0, 0, 0, 0, 1, 0, 0, 0, 0, 0, 0, 0, 0, 0, 0, 0, 0, 0), (4.0, 3.9286, 3.7377, 0.8399, -7, 0, 0, 0, 0, 1, 0, 0, 0, 0, 0, 0, 0, 0, 0, 0, 0, 0, 0)]"
      ]
     },
     "execution_count": 24,
     "metadata": {},
     "output_type": "execute_result"
    }
   ],
   "source": [
    "# gather user's result in a single rdd where the first column is explained variable rating, and the others are the regressors\n",
    "rt9 = mr.join(rt8).map(lambda x: (float(x[1][0]),x[1][1][0],x[1][1][1],x[1][1][2],x[1][1][3],x[1][1][4],x[1][1][5],x[1][1][6],x[1][1][7],x[1][1][8],x[1][1][9],x[1][1][10],x[1][1][11],x[1][1][12],x[1][1][13],x[1][1][14],x[1][1][15],x[1][1][16],x[1][1][17],x[1][1][18],x[1][1][19],x[1][1][20],x[1][1][21]))\n",
    "# show\n",
    "rt9.take(3)"
   ]
  },
  {
   "cell_type": "code",
   "execution_count": 25,
   "metadata": {
    "scrolled": true
   },
   "outputs": [
    {
     "name": "stdout",
     "output_type": "stream",
     "text": [
      "+------+------+------+------+----+---+---+---+---+---+---+---+---+---+---+---+---+---+---+---+---+---+---+\n",
      "|rating|    ar|    nr|   sdr|year| g1| g2| g3| g4| g5| g6| g7| g8| g9|g10|g11|g12|g13|g14|g15|g16|g17|g18|\n",
      "+------+------+------+------+----+---+---+---+---+---+---+---+---+---+---+---+---+---+---+---+---+---+---+\n",
      "|   5.0|4.2377|5.3181|0.6387|  -5|  0|  0|  0|  0|  0|  1|  0|  0|  0|  0|  0|  0|  1|  0|  0|  1|  0|  0|\n",
      "|   5.0|3.3265|3.8918|1.1079|  -5|  0|  0|  0|  0|  1|  0|  0|  0|  0|  0|  0|  0|  0|  0|  0|  0|  0|  0|\n",
      "|   4.0|3.9286|3.7377|0.8399|  -7|  0|  0|  0|  0|  1|  0|  0|  0|  0|  0|  0|  0|  0|  0|  0|  0|  0|  0|\n",
      "|   4.0|3.2623|4.1109|0.7099|  -7|  1|  1|  0|  0|  1|  0|  0|  0|  0|  0|  0|  0|  0|  1|  0|  0|  0|  0|\n",
      "|   5.0|3.8154|4.1744|0.9966|  -7|  1|  0|  0|  0|  0|  0|  0|  1|  0|  0|  0|  0|  0|  0|  0|  0|  0|  1|\n",
      "+------+------+------+------+----+---+---+---+---+---+---+---+---+---+---+---+---+---+---+---+---+---+---+\n",
      "only showing top 5 rows\n",
      "\n"
     ]
    }
   ],
   "source": [
    "# convert to dataframe\n",
    "ts = rt9.toDF(['rating','ar','nr','sdr','year','g1','g2','g3','g4','g5','g6','g7','g8','g9','g10','g11','g12','g13','g14','g15','g16','g17','g18'])\n",
    "# show\n",
    "ts.show(5)"
   ]
  },
  {
   "cell_type": "code",
   "execution_count": 26,
   "metadata": {},
   "outputs": [
    {
     "name": "stdout",
     "output_type": "stream",
     "text": [
      "+------+--------------------+\n",
      "|rating|            features|\n",
      "+------+--------------------+\n",
      "|   5.0|(22,[0,1,2,3,9,16...|\n",
      "|   5.0|(22,[0,1,2,3,8],[...|\n",
      "|   4.0|(22,[0,1,2,3,8],[...|\n",
      "|   4.0|(22,[0,1,2,3,4,5,...|\n",
      "|   5.0|(22,[0,1,2,3,4,11...|\n",
      "+------+--------------------+\n",
      "only showing top 5 rows\n",
      "\n"
     ]
    }
   ],
   "source": [
    "# convert to format compatible with ml\n",
    "vectorAssembler = VectorAssembler(inputCols = ['ar','nr','sdr','year','g1','g2','g3','g4','g5','g6','g7','g8','g9','g10','g11','g12','g13','g14','g15','g16','g17','g18'], outputCol = 'features')\n",
    "ts1 = vectorAssembler.transform(ts)\n",
    "ts1 = ts1.select(['rating','features'])\n",
    "ts1.show(5)"
   ]
  },
  {
   "cell_type": "code",
   "execution_count": 27,
   "metadata": {},
   "outputs": [
    {
     "name": "stdout",
     "output_type": "stream",
     "text": [
      "+-------+-----------------+--------------------+\n",
      "|movieId|       prediction|            features|\n",
      "+-------+-----------------+--------------------+\n",
      "|  32892|6.896993514812584|(22,[0,1,2,3,11,2...|\n",
      "|   2068|6.838854832899267|(22,[0,1,2,3,11,1...|\n",
      "|    484|6.584029584480806|(22,[0,1,2,3,5,7]...|\n",
      "|  26171|6.439741589808314|(22,[0,1,2,3,8],[...|\n",
      "|  25825|6.417288349375511|(22,[0,1,2,3,11,1...|\n",
      "+-------+-----------------+--------------------+\n",
      "only showing top 5 rows\n",
      "\n"
     ]
    }
   ],
   "source": [
    "# create linear regression\n",
    "lr = LinearRegression(featuresCol='features',labelCol='rating',predictionCol='prediction')\n",
    "# train\n",
    "model = lr.fit(ts1)\n",
    "# obtain prediction for prediction set\n",
    "rating_predictions = model.transform(ps4)\n",
    "ps5 = rating_predictions.select(\"movieId\",\"prediction\",\"features\")\n",
    "# show\n",
    "ps5.sort('prediction', ascending=False).show(5)"
   ]
  },
  {
   "cell_type": "code",
   "execution_count": 28,
   "metadata": {},
   "outputs": [
    {
     "name": "stdout",
     "output_type": "stream",
     "text": [
      "beta_1  =  0.919       delta_5 =  -0.107       delta_13 =  0.066\n",
      "beta_2  = -0.08        delta_6 =  -0.011       delta_14 = -0.173\n",
      "beta_3  =  0.685       delta_7 =   0.0         delta_15 = -0.2\n",
      "beta_4  = -0.006       delta_8 =  -0.114       delta_16 = -0.176\n",
      "delta_1 = -0.007       delta_9 =  -0.144       delta_17 = -0.131\n",
      "delta_2 =  0.015       delta_10 =  0.277       delta_18 = -0.195\n",
      "delta_3 =  0.065       delta_11 = -0.915\n",
      "delta_4 =  0.103       delta_12 = -0.093\n"
     ]
    }
   ],
   "source": [
    "# display regression coefficients\n",
    "print(\"beta_1  =  \" + str(round(model.coefficients[0], 3)) + '       ' + \"delta_5 =  \" + str(round(model.coefficients[8], 3)) + '       ' + \"delta_13 =  \" + str(round(model.coefficients[16], 3)))\n",
    "print(\"beta_2  = \" + str(round(model.coefficients[1], 3)) + '        ' + \"delta_6 =  \" + str(round(model.coefficients[9], 3)) + '       ' + \"delta_14 = \" + str(round(model.coefficients[17], 3)))\n",
    "print(\"beta_3  =  \" + str(round(model.coefficients[2], 3)) + '       ' + \"delta_7 =   \" + str(round(model.coefficients[10], 3)) + '         ' + \"delta_15 = \" + str(round(model.coefficients[18], 3)))\n",
    "print(\"beta_4  = \" + str(round(model.coefficients[3], 3)) + '       ' + \"delta_8 =  \" + str(round(model.coefficients[11], 3)) + '       ' + \"delta_16 = \" + str(round(model.coefficients[19], 3)))\n",
    "print(\"delta_1 = \" + str(round(model.coefficients[4], 3)) + '       ' + \"delta_9 =  \" + str(round(model.coefficients[12], 3)) + '       ' + \"delta_17 = \" + str(round(model.coefficients[20], 3)))\n",
    "print(\"delta_2 =  \" + str(round(model.coefficients[5], 3)) + '       ' + \"delta_10 =  \" + str(round(model.coefficients[13], 3)) + '       ' + \"delta_18 = \" + str(round(model.coefficients[21], 3)))\n",
    "print(\"delta_3 =  \" + str(round(model.coefficients[6], 3)) + '       ' + \"delta_11 = \" + str(round(model.coefficients[14], 3)))\n",
    "print(\"delta_4 =  \" + str(round(model.coefficients[7], 3)) + '       ' + \"delta_12 = \" + str(round(model.coefficients[15], 3)))"
   ]
  },
  {
   "cell_type": "code",
   "execution_count": null,
   "metadata": {},
   "outputs": [],
   "source": []
  },
  {
   "cell_type": "code",
   "execution_count": 29,
   "metadata": {},
   "outputs": [
    {
     "name": "stdout",
     "output_type": "stream",
     "text": [
      "+-----------------+-----------------------------------------------------------+----+----------------------------+\n",
      "|prediction       |title                                                      |year|genres                      |\n",
      "+-----------------+-----------------------------------------------------------+----+----------------------------+\n",
      "|6.896993514812584|Ivan's Childhood (a.k.a. My Name is Ivan) (Ivanovo detstvo)|1962|Drama|War                   |\n",
      "|6.838854832899267|Fanny and Alexander (Fanny och Alexander)                  |1982|Drama|Fantasy|Mystery       |\n",
      "|6.584029584480806|Lassie                                                     |1994|Adventure|Children          |\n",
      "|6.439741589808314|Play Time (a.k.a. Playtime)                                |1967|Comedy                      |\n",
      "|6.417288349375511|Fury                                                       |1936|Drama|Film-Noir             |\n",
      "|6.40235945681551 |\"Zed & Two Noughts, A                                      |1985|Drama                       |\n",
      "|6.360582930482634|Titanic                                                    |1953|Action|Drama                |\n",
      "|6.298316480478787|\"Room, The                                                 |2003|Comedy|Drama|Romance        |\n",
      "|6.199129175735221|Troll 2                                                    |1990|Fantasy|Horror              |\n",
      "|6.15596740468558 |Burnt by the Sun (Utomlyonnye solntsem)                    |1994|Drama                       |\n",
      "|6.009410936784207|Gulliver's Travels                                         |1939|Adventure|Animation|Children|\n",
      "|6.008702819041224|Kind Hearts and Coronets                                   |1949|Comedy|Drama                |\n",
      "|5.956643521665349|\"Hard Way, The                                             |1991|Action|Comedy               |\n",
      "|5.94904300726737 |Junior and Karlson                                         |1968|Adventure|Animation|Children|\n",
      "|5.937933055030355|Karlson Returns                                            |1970|Adventure|Animation|Children|\n",
      "|5.928762764316524|Winnie Pooh                                                |1969|Animation|Children          |\n",
      "|5.928762764316524|Gena the Crocodile                                         |1969|Animation|Children          |\n",
      "|5.921268126674832|On the Trail of the Bremen Town Musicians                  |1973|Adventure|Animation|Children|\n",
      "|5.883641440401528|Louis C.K.: Shameless                                      |2007|Comedy                      |\n",
      "|5.864708522130931|Girls About Town                                           |1931|Comedy                      |\n",
      "+-----------------+-----------------------------------------------------------+----+----------------------------+\n",
      "only showing top 20 rows\n",
      "\n"
     ]
    }
   ],
   "source": [
    "# convert mv5 rdd to dataframe\n",
    "mv17 = mv5.toDF(['movieId', 'title', 'year', 'genres'])\n",
    "# join with the results\n",
    "mv18 = mv17.join(ps5, mv17.movieId == ps5.movieId).select(\"prediction\", \"title\", \"year\", \"genres\").sort('prediction', ascending=False)\n",
    "mv18.show(20, truncate = False)"
   ]
  }
 ],
 "metadata": {
  "kernelspec": {
   "display_name": "Python 3",
   "language": "python",
   "name": "python3"
  },
  "language_info": {
   "codemirror_mode": {
    "name": "ipython",
    "version": 3
   },
   "file_extension": ".py",
   "mimetype": "text/x-python",
   "name": "python",
   "nbconvert_exporter": "python",
   "pygments_lexer": "ipython3",
   "version": "3.7.3"
  }
 },
 "nbformat": 4,
 "nbformat_minor": 2
}
