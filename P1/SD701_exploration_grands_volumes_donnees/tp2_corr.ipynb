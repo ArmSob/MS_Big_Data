{
 "cells": [
  {
   "cell_type": "markdown",
   "metadata": {},
   "source": [
    "# Setting up the plot"
   ]
  },
  {
   "cell_type": "code",
   "execution_count": 1,
   "metadata": {},
   "outputs": [],
   "source": [
    "%matplotlib inline\n",
    "\n",
    "import matplotlib\n",
    "import numpy as np\n",
    "import matplotlib.pyplot as plt"
   ]
  },
  {
   "cell_type": "markdown",
   "metadata": {},
   "source": [
    "# Spark ML\n",
    "\n",
    "In this lab, we will identify malign/benign brest cancers\n",
    "\n",
    "First, you need to download the dataset at the url: http://archive.ics.uci.edu/ml/machine-learning-databases/breast-cancer-wisconsin/breast-cancer-wisconsin.data\n",
    "and initialize Spark"
   ]
  },
  {
   "cell_type": "code",
   "execution_count": 2,
   "metadata": {},
   "outputs": [],
   "source": [
    "import findspark\n",
    "findspark.init()\n",
    "\n",
    "import pyspark\n",
    "sc = pyspark.SparkContext(appName=\"Breast Cancer\")"
   ]
  },
  {
   "cell_type": "markdown",
   "metadata": {},
   "source": [
    "# Load the data into a Dataframe"
   ]
  },
  {
   "cell_type": "code",
   "execution_count": 3,
   "metadata": {},
   "outputs": [
    {
     "name": "stdout",
     "output_type": "stream",
     "text": [
      "+--------------------+-----+\n",
      "|            features|label|\n",
      "+--------------------+-----+\n",
      "|[5.0,1.0,1.0,1.0,...|    0|\n",
      "|[5.0,4.0,4.0,5.0,...|    0|\n",
      "|[3.0,1.0,1.0,1.0,...|    0|\n",
      "|[6.0,8.0,8.0,1.0,...|    0|\n",
      "|[4.0,1.0,1.0,3.0,...|    0|\n",
      "|[8.0,10.0,10.0,8....|    1|\n",
      "|[1.0,1.0,1.0,1.0,...|    0|\n",
      "|[2.0,1.0,2.0,1.0,...|    0|\n",
      "|[2.0,1.0,1.0,1.0,...|    0|\n",
      "|[4.0,2.0,1.0,1.0,...|    0|\n",
      "|[1.0,1.0,1.0,1.0,...|    0|\n",
      "|[2.0,1.0,1.0,1.0,...|    0|\n",
      "|[5.0,3.0,3.0,3.0,...|    1|\n",
      "|[1.0,1.0,1.0,1.0,...|    0|\n",
      "|[8.0,7.0,5.0,10.0...|    1|\n",
      "|[7.0,4.0,6.0,4.0,...|    1|\n",
      "|[4.0,1.0,1.0,1.0,...|    0|\n",
      "|[4.0,1.0,1.0,1.0,...|    0|\n",
      "|[10.0,7.0,7.0,6.0...|    1|\n",
      "|[6.0,1.0,1.0,1.0,...|    0|\n",
      "+--------------------+-----+\n",
      "only showing top 20 rows\n",
      "\n"
     ]
    }
   ],
   "source": [
    "from pyspark.sql.types import StructType, StructField, DoubleType, IntegerType\n",
    "from pyspark.ml.feature import VectorAssembler\n",
    "from pyspark.sql import SQLContext\n",
    "from pyspark.ml.linalg import VectorUDT,Vectors\n",
    "\n",
    "def toFloat(x):\n",
    "    if x == '?':\n",
    "        return 5.0\n",
    "    else:\n",
    "        return float(x)\n",
    "\n",
    "def doLine(l):\n",
    "    item=l.split(\",\")\n",
    "    label = 1\n",
    "    if item[10]=='2':\n",
    "        label=0\n",
    "    return (Vectors.dense([toFloat(e) for e in item[1:10]]),label)\n",
    "    \n",
    "raw_data = sc.textFile(\"/home/jachiet/Downloads/breast-cancer-wisconsin.data\")\n",
    "schema = StructType([StructField(\"features\", VectorUDT(), True),StructField(\"label\",IntegerType(),True)])\n",
    "data = SQLContext(sc).createDataFrame(raw_data.map(doLine),schema)\n",
    "data.show()"
   ]
  },
  {
   "cell_type": "markdown",
   "metadata": {},
   "source": [
    "# Split into training and testing"
   ]
  },
  {
   "cell_type": "code",
   "execution_count": 4,
   "metadata": {},
   "outputs": [
    {
     "name": "stdout",
     "output_type": "stream",
     "text": [
      "+--------------------+-----+\n",
      "|            features|label|\n",
      "+--------------------+-----+\n",
      "|[1.0,1.0,1.0,1.0,...|    0|\n",
      "|[1.0,1.0,1.0,1.0,...|    0|\n",
      "|[1.0,1.0,1.0,1.0,...|    0|\n",
      "|[1.0,1.0,2.0,1.0,...|    0|\n",
      "|[1.0,2.0,2.0,1.0,...|    0|\n",
      "+--------------------+-----+\n",
      "only showing top 5 rows\n",
      "\n"
     ]
    }
   ],
   "source": [
    "train, test = data.randomSplit([0.9, 0.1], seed=12345)\n",
    "\n",
    "test.show(5)"
   ]
  },
  {
   "cell_type": "markdown",
   "metadata": {},
   "source": [
    "# Train a first model"
   ]
  },
  {
   "cell_type": "code",
   "execution_count": 5,
   "metadata": {},
   "outputs": [],
   "source": [
    "from pyspark.ml.classification import DecisionTreeClassifier\n",
    "from pyspark.ml.evaluation import BinaryClassificationEvaluator\n",
    "\n",
    "decisionTree = DecisionTreeClassifier(maxDepth=2,labelCol=\"label\", featuresCol=\"features\")\n",
    "model = decisionTree.fit(train)\n"
   ]
  },
  {
   "cell_type": "code",
   "execution_count": 6,
   "metadata": {},
   "outputs": [
    {
     "data": {
      "text/plain": [
       "0.9333333333333333"
      ]
     },
     "execution_count": 6,
     "metadata": {},
     "output_type": "execute_result"
    }
   ],
   "source": [
    "predictions = model.transform(test)\n",
    "predictions.filter(\"label=prediction\").count()/predictions.count()"
   ]
  },
  {
   "cell_type": "markdown",
   "metadata": {},
   "source": [
    "# Evaluate the model"
   ]
  },
  {
   "cell_type": "code",
   "execution_count": 7,
   "metadata": {},
   "outputs": [],
   "source": [
    "from pyspark.ml.classification import DecisionTreeClassifier, DecisionTreeClassificationModel\n",
    "from pyspark.ml.evaluation import BinaryClassificationEvaluator\n",
    "\n",
    "evaluator = BinaryClassificationEvaluator(rawPredictionCol=\"rawPrediction\",labelCol=\"label\",metricName='areaUnderROC')\n",
    "\n"
   ]
  },
  {
   "cell_type": "code",
   "execution_count": 8,
   "metadata": {},
   "outputs": [
    {
     "name": "stdout",
     "output_type": "stream",
     "text": [
      "0.9711111111111111\n"
     ]
    }
   ],
   "source": [
    "print(evaluator.evaluate(predictions))\n"
   ]
  },
  {
   "cell_type": "markdown",
   "metadata": {},
   "source": [
    "# Show trained model"
   ]
  },
  {
   "cell_type": "code",
   "execution_count": 9,
   "metadata": {},
   "outputs": [
    {
     "name": "stdout",
     "output_type": "stream",
     "text": [
      "DecisionTreeClassificationModel (uid=DecisionTreeClassifier_6a0068338f00) of depth 2 with 7 nodes\n",
      "  If (feature 1 <= 2.5)\n",
      "   If (feature 5 <= 5.5)\n",
      "    Predict: 0.0\n",
      "   Else (feature 5 > 5.5)\n",
      "    Predict: 1.0\n",
      "  Else (feature 1 > 2.5)\n",
      "   If (feature 1 <= 3.5)\n",
      "    Predict: 0.0\n",
      "   Else (feature 1 > 3.5)\n",
      "    Predict: 1.0\n",
      "\n",
      "2\n"
     ]
    }
   ],
   "source": [
    "print(model.toDebugString)\n",
    "print(model._java_obj.getMaxDepth())"
   ]
  },
  {
   "cell_type": "markdown",
   "metadata": {},
   "source": [
    "# Plot the ROC curve"
   ]
  },
  {
   "cell_type": "code",
   "execution_count": 10,
   "metadata": {},
   "outputs": [],
   "source": [
    "def get_curve(predictions):\n",
    "    points = predictions.select('label','probability').rdd.map(lambda row: (float(row['probability'][1]), float(row['label']))).collect()\n",
    "    # points should be array containing on the first column \n",
    "    # the probability of being a 1 and in the second column\n",
    "    # the label.\n",
    "    points.sort()# sorts the points on the probability\n",
    "    \n",
    "    # First we compute the total number of True and False\n",
    "    nbFalse = 0.\n",
    "    nbTrue = 0.\n",
    "    for i in points:\n",
    "        nbFalse += i[1]\n",
    "        nbTrue += 1-i[1]\n",
    "    \n",
    "    # We now use a sliding window algorithm to compute the ROC points\n",
    "    # At the beggining we have seen 0 False, 0 True\n",
    "    false_positive = 0\n",
    "    true_positive = 0\n",
    "    fpr=[0]\n",
    "    tpr=[0]\n",
    "    last_proba = -1 # we want one point for each possible threshold\n",
    "    for (proba,label) in points:\n",
    "        false_positive += label\n",
    "        true_positive += 1-label\n",
    "        if last_proba == proba: # remove last point if it was not taking into\n",
    "            del tpr[-1]         # account all the points at a given threshold\n",
    "            del fpr[-1]\n",
    "        last_proba = proba\n",
    "        fpr.append(false_positive/nbFalse)\n",
    "        tpr.append(true_positive/nbTrue)\n",
    "    \n",
    "    fpr.append(1)\n",
    "    tpr.append(1)\n",
    "    return (fpr,tpr)\n",
    "        \n",
    "def get_area(xs,ys):\n",
    "    # supposes that the curve starts in (0,0) and finishes in (1,1)\n",
    "    area = 0\n",
    "    last_x = 0\n",
    "    last_y = 0\n",
    "    for i in range(len(xs)):\n",
    "        area += (xs[i]-last_x)*(ys[i]+last_y)/2.\n",
    "        last_x = xs[i]\n",
    "        last_y = ys[i]\n",
    "    return area\n",
    "\n",
    "def plot(*spredictions):\n",
    "    plt.title(\"ROC\")\n",
    "    plt.xlabel(\"FPR\")\n",
    "    plt.ylabel(\"TPR\")\n",
    "    for predictions in spredictions:\n",
    "        FPR,TPR = get_curve(predictions)\n",
    "        area = get_area(FPR,TPR)\n",
    "        print(\"Area Under ROC \"+str(area))\n",
    "        plt.plot(FPR,TPR)"
   ]
  },
  {
   "cell_type": "code",
   "execution_count": 11,
   "metadata": {},
   "outputs": [
    {
     "name": "stdout",
     "output_type": "stream",
     "text": [
      "Area Under ROC 0.9711111111111113\n"
     ]
    },
    {
     "data": {
      "image/png": "[encoded data removed]",
      "text/plain": [
       "<Figure size 432x288 with 1 Axes>"
      ]
     },
     "metadata": {
      "needs_background": "light"
     },
     "output_type": "display_data"
    }
   ],
   "source": [
    "plot(predictions)"
   ]
  },
  {
   "cell_type": "markdown",
   "metadata": {},
   "source": [
    "# A second method to compute the ROC curve by testing several threshold"
   ]
  },
  {
   "cell_type": "code",
   "execution_count": 12,
   "metadata": {},
   "outputs": [
    {
     "name": "stdout",
     "output_type": "stream",
     "text": [
      "[(0.0, 0.0), (0.044444444444444446, 0.9), (0.13333333333333333, 1.0), (1, 1)]\n",
      "0.9711111111111111\n"
     ]
    },
    {
     "data": {
      "text/plain": [
       "[<matplotlib.lines.Line2D at 0x7fa578193610>]"
      ]
     },
     "execution_count": 12,
     "metadata": {},
     "output_type": "execute_result"
    },
    {
     "data": {
      "image/png": "[encoded data removed]",
      "text/plain": [
       "<Figure size 432x288 with 1 Axes>"
      ]
     },
     "metadata": {
      "needs_background": "light"
     },
     "output_type": "display_data"
    }
   ],
   "source": [
    "raw_points = predictions.select('label','probability').rdd.map(lambda row: (float(row['probability'][1]), float(row['label']))).collect()\n",
    "\n",
    "val = [(1,1)]\n",
    "\n",
    "for th in range(1001):\n",
    "    nbT=0.\n",
    "    nbF=0.\n",
    "    nbN=0.\n",
    "    nbP=0.\n",
    "    for (x,y) in raw_points:\n",
    "        if x*1000. >= th:\n",
    "            if y==1:\n",
    "                nbT+=1\n",
    "            else:\n",
    "                nbF+=1\n",
    "        if y==1:\n",
    "            nbP+=1\n",
    "        else:\n",
    "            nbN+=1\n",
    "    nv = (nbF/nbN,nbT/nbP)\n",
    "    if nv!= val[-1]:\n",
    "        val.append(nv)\n",
    "    \n",
    "val.reverse()\n",
    "    \n",
    "xs = [x for (x,y) in val]\n",
    "ys = [y for (x,y) in val]\n",
    "area = 0\n",
    "for i in range(len(val)-1):\n",
    "    area += (ys[i]+ys[i+1])*(xs[i+1]-xs[i])/2\n",
    "print(val)\n",
    "print(area)\n",
    "plt.title(\"ROC\")\n",
    "plt.xlabel(\"FPR\")\n",
    "plt.ylabel(\"TPR\")\n",
    "plt.plot(xs, ys)"
   ]
  },
  {
   "cell_type": "markdown",
   "metadata": {},
   "source": [
    "# Grid builder"
   ]
  },
  {
   "cell_type": "code",
   "execution_count": 13,
   "metadata": {},
   "outputs": [
    {
     "data": {
      "text/plain": [
       "0.9755555555555556"
      ]
     },
     "execution_count": 13,
     "metadata": {},
     "output_type": "execute_result"
    }
   ],
   "source": [
    "from pyspark.ml.tuning import ParamGridBuilder, TrainValidationSplit\n",
    "\n",
    "\n",
    "paramGrid = ParamGridBuilder()\\\n",
    "    .addGrid(decisionTree.maxBins, [e*4 for e in range(4,16) ]) \\\n",
    "    .addGrid(decisionTree.maxDepth, [e for e in range(2,6) ]) \\\n",
    "    .build()\n",
    "\n",
    "tvs = TrainValidationSplit(estimator=decisionTree,\n",
    "                           estimatorParamMaps=paramGrid,\n",
    "                           evaluator=evaluator,\n",
    "                           # 80% of the data will be used for training, 20% for validation.\n",
    "                           trainRatio=0.8)\n",
    "\n",
    "tvs_model = tvs.fit(train)\n",
    "tvs_predictions = tvs_model.transform(test)\n",
    "evaluator.evaluate(tvs_predictions)"
   ]
  },
  {
   "cell_type": "markdown",
   "metadata": {},
   "source": [
    "# Cross-validation"
   ]
  },
  {
   "cell_type": "code",
   "execution_count": 14,
   "metadata": {},
   "outputs": [
    {
     "data": {
      "text/plain": [
       "0.9681481481481482"
      ]
     },
     "execution_count": 14,
     "metadata": {},
     "output_type": "execute_result"
    }
   ],
   "source": [
    "from pyspark.ml.tuning import ParamGridBuilder, TrainValidationSplit, CrossValidator\n",
    "\n",
    "\n",
    "paramGrid = ParamGridBuilder()\\\n",
    "    .addGrid(decisionTree.maxBins, range(4,16,4)) \\\n",
    "    .addGrid(decisionTree.maxDepth, range(3,8)) \\\n",
    "    .build()\n",
    "\n",
    "cvs = CrossValidator(estimator=decisionTree,\n",
    "                    estimatorParamMaps=paramGrid,\n",
    "                    evaluator=evaluator,\n",
    "                    # 80% of the data will be used for training, 20% for validation.\n",
    "                    numFolds=5)\n",
    "\n",
    "cvs_model = cvs.fit(train)\n",
    "cvs_predictions = cvs_model.transform(test)\n",
    "evaluator.evaluate(cvs_predictions)"
   ]
  },
  {
   "cell_type": "markdown",
   "metadata": {},
   "source": [
    "# Show best model features"
   ]
  },
  {
   "cell_type": "code",
   "execution_count": 15,
   "metadata": {},
   "outputs": [
    {
     "name": "stdout",
     "output_type": "stream",
     "text": [
      "DecisionTreeClassificationModel (uid=DecisionTreeClassifier_6a0068338f00) of depth 6 with 45 nodes\n",
      "  If (feature 1 <= 2.5)\n",
      "   If (feature 5 <= 5.5)\n",
      "    If (feature 0 <= 6.5)\n",
      "     If (feature 7 <= 6.5)\n",
      "      Predict: 0.0\n",
      "     Else (feature 7 > 6.5)\n",
      "      If (feature 0 <= 3.5)\n",
      "       Predict: 0.0\n",
      "      Else (feature 0 > 3.5)\n",
      "       Predict: 1.0\n",
      "    Else (feature 0 > 6.5)\n",
      "     If (feature 2 <= 2.5)\n",
      "      Predict: 0.0\n",
      "     Else (feature 2 > 2.5)\n",
      "      Predict: 1.0\n",
      "   Else (feature 5 > 5.5)\n",
      "    If (feature 0 <= 1.5)\n",
      "     Predict: 0.0\n",
      "    Else (feature 0 > 1.5)\n",
      "     Predict: 1.0\n",
      "  Else (feature 1 > 2.5)\n",
      "   If (feature 1 <= 3.5)\n",
      "    If (feature 5 <= 2.5)\n",
      "     If (feature 7 <= 6.5)\n",
      "      Predict: 0.0\n",
      "     Else (feature 7 > 6.5)\n",
      "      Predict: 1.0\n",
      "    Else (feature 5 > 2.5)\n",
      "     If (feature 0 <= 6.5)\n",
      "      If (feature 7 <= 4.5)\n",
      "       Predict: 1.0\n",
      "      Else (feature 7 > 4.5)\n",
      "       If (feature 7 <= 7.5)\n",
      "        Predict: 0.0\n",
      "       Else (feature 7 > 7.5)\n",
      "        Predict: 1.0\n",
      "     Else (feature 0 > 6.5)\n",
      "      Predict: 1.0\n",
      "   Else (feature 1 > 3.5)\n",
      "    If (feature 1 <= 4.5)\n",
      "     If (feature 0 <= 5.5)\n",
      "      If (feature 3 <= 5.5)\n",
      "       If (feature 0 <= 3.5)\n",
      "        Predict: 1.0\n",
      "       Else (feature 0 > 3.5)\n",
      "        Predict: 0.0\n",
      "      Else (feature 3 > 5.5)\n",
      "       Predict: 1.0\n",
      "     Else (feature 0 > 5.5)\n",
      "      If (feature 5 <= 1.5)\n",
      "       If (feature 3 <= 3.5)\n",
      "        Predict: 0.0\n",
      "       Else (feature 3 > 3.5)\n",
      "        Predict: 1.0\n",
      "      Else (feature 5 > 1.5)\n",
      "       Predict: 1.0\n",
      "    Else (feature 1 > 4.5)\n",
      "     If (feature 3 <= 1.5)\n",
      "      If (feature 0 <= 6.5)\n",
      "       If (feature 2 <= 6.5)\n",
      "        Predict: 1.0\n",
      "       Else (feature 2 > 6.5)\n",
      "        Predict: 0.0\n",
      "      Else (feature 0 > 6.5)\n",
      "       Predict: 1.0\n",
      "     Else (feature 3 > 1.5)\n",
      "      Predict: 1.0\n",
      "\n",
      "DecisionTreeClassificationModel (uid=DecisionTreeClassifier_6a0068338f00) of depth 3 with 13 nodes\n",
      "  If (feature 1 <= 2.5)\n",
      "   If (feature 5 <= 5.5)\n",
      "    If (feature 0 <= 6.5)\n",
      "     Predict: 0.0\n",
      "    Else (feature 0 > 6.5)\n",
      "     Predict: 1.0\n",
      "   Else (feature 5 > 5.5)\n",
      "    If (feature 0 <= 1.5)\n",
      "     Predict: 0.0\n",
      "    Else (feature 0 > 1.5)\n",
      "     Predict: 1.0\n",
      "  Else (feature 1 > 2.5)\n",
      "   If (feature 1 <= 3.5)\n",
      "    If (feature 5 <= 2.5)\n",
      "     Predict: 0.0\n",
      "    Else (feature 5 > 2.5)\n",
      "     Predict: 1.0\n",
      "   Else (feature 1 > 3.5)\n",
      "    Predict: 1.0\n",
      "\n"
     ]
    }
   ],
   "source": [
    "print(cvs_model.bestModel.toDebugString)\n",
    "print(tvs_model.bestModel.toDebugString)"
   ]
  },
  {
   "cell_type": "code",
   "execution_count": 16,
   "metadata": {},
   "outputs": [
    {
     "name": "stdout",
     "output_type": "stream",
     "text": [
      "Area Under ROC 0.9266666666666667\n",
      "Area Under ROC 0.9755555555555557\n",
      "Area Under ROC 0.9711111111111113\n"
     ]
    },
    {
     "data": {
      "image/png": "[encoded data removed]",
      "text/plain": [
       "<Figure size 432x288 with 1 Axes>"
      ]
     },
     "metadata": {
      "needs_background": "light"
     },
     "output_type": "display_data"
    }
   ],
   "source": [
    "plot(cvs_predictions,tvs_predictions,predictions)\n"
   ]
  }
 ],
 "metadata": {
  "kernelspec": {
   "display_name": "Python 3",
   "language": "python",
   "name": "python3"
  },
  "language_info": {
   "codemirror_mode": {
    "name": "ipython",
    "version": 3
   },
   "file_extension": ".py",
   "mimetype": "text/x-python",
   "name": "python",
   "nbconvert_exporter": "python",
   "pygments_lexer": "ipython3",
   "version": "3.7.4"
  }
 },
 "nbformat": 4,
 "nbformat_minor": 4
}
