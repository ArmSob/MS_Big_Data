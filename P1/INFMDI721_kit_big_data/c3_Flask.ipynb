{
 "cells": [
  {
   "cell_type": "markdown",
   "metadata": {},
   "source": [
    "# Micro site web en python\n",
    "\n",
    "Réalisé à l'aide du package [Flask](https://pypi.org/project/Flask/).\n",
    "\n",
    "Attention: si vous executez la cellule ci dessous, elle ne s'arrêtera pas. Pour l'interrompre dans jupyterlab: Kernel > Interrupt Kernel.\n",
    "\n",
    "Quand le site s'exécute, rendez vous sur http://127.0.0.1:5000 pour le consulter.\n",
    "\n",
    "(127.0.0.1 est l'adresse IP de votre propre ordinateur)"
   ]
  },
  {
   "cell_type": "code",
   "execution_count": null,
   "metadata": {},
   "outputs": [],
   "source": [
    "# This small program runs a website with two pages:\n",
    "# - GET / => returns list of items + display a form to add new item\n",
    "# - POST /add-item => add a new item, display a link to main page\n",
    "\n",
    "from flask import Flask, request\n",
    "import json\n",
    "\n",
    "site = Flask('site')\n",
    "\n",
    "todo_list = []\n",
    "\n",
    "\n",
    "@site.route('/')\n",
    "def home():\n",
    "    # On regarde si la page web a été demandée avec le paramètre &format=json\n",
    "    # dans l'url. Si c'est le cas: on renvoie la liste au format JSON.\n",
    "    format = request.args.get('format', 'html')\n",
    "    if format == 'json':\n",
    "        return json.dumps(todo_list)\n",
    "    \n",
    "    # Sinon: on génère une page HTML contenant la liste:\n",
    "    items = [f'<li>{item}</li>' for item in todo_list]\n",
    "    return f\"\"\"\n",
    "        <h1>Todo List</h1>\n",
    "        <ul>\n",
    "            {''.join(items)}\n",
    "        </ul>\n",
    "        <form action=\"/add-item\" method=\"post\">\n",
    "            <input type=\"text\" name=\"newitem\" />\n",
    "            <input type=\"submit\" value=\"ajouter\" />\n",
    "        </form>\n",
    "    \"\"\"\n",
    "\n",
    "\n",
    "@site.route('/add-item', methods=['POST'])\n",
    "def add_item():\n",
    "    item = request.form['newitem']  # retrieve the data sent by the browser\n",
    "    todo_list.append(item)\n",
    "    \n",
    "    return f\"\"\"\n",
    "        <p>\n",
    "            {item} has been added to todo-list !<br><br>\n",
    "            Go <a href=\"/\">back</a> to main page.\n",
    "        </p>\n",
    "    \"\"\"\n",
    "\n",
    "\n",
    "site.run()"
   ]
  },
  {
   "cell_type": "markdown",
   "metadata": {},
   "source": [
    "### Interagir avec le site web flask-website\n",
    "\n",
    "Préalable: il faut que le site s'exécute (cf. le notebook jupyterlab run-flask-website.ipynb)"
   ]
  },
  {
   "cell_type": "code",
   "execution_count": 1,
   "metadata": {},
   "outputs": [
    {
     "data": {
      "text/plain": [
       "'\\n        <h1>Todo List</h1>\\n        <ul>\\n            \\n        </ul>\\n        <form action=\"/add-item\" method=\"post\">\\n            <input type=\"text\" name=\"newitem\" />\\n            <input type=\"submit\" value=\"ajouter\" />\\n        </form>\\n    '"
      ]
     },
     "execution_count": 1,
     "metadata": {},
     "output_type": "execute_result"
    }
   ],
   "source": [
    "# Récupération de la page d'accueil:\n",
    "requests.get('http://127.0.0.1:5000').text"
   ]
  },
  {
   "cell_type": "code",
   "execution_count": 2,
   "metadata": {},
   "outputs": [
    {
     "data": {
      "text/plain": [
       "<Response [405]>"
      ]
     },
     "execution_count": 2,
     "metadata": {},
     "output_type": "execute_result"
    }
   ],
   "source": [
    "# pas la bonne méthode HTTP (GET au lieu de POST)\n",
    "requests.get('http://127.0.0.1:5000/add-item')"
   ]
  },
  {
   "cell_type": "code",
   "execution_count": 3,
   "metadata": {},
   "outputs": [
    {
     "data": {
      "text/plain": [
       "<Response [400]>"
      ]
     },
     "execution_count": 3,
     "metadata": {},
     "output_type": "execute_result"
    }
   ],
   "source": [
    "# Bonne méthode, mais on a oublié d'envoyer des data:\n",
    "requests.post('http://127.0.0.1:5000/add-item')"
   ]
  },
  {
   "cell_type": "code",
   "execution_count": 4,
   "metadata": {},
   "outputs": [],
   "source": [
    "resp = requests.post('http://127.0.0.1:5000/add-item', data={'newitem': 'biere'})"
   ]
  },
  {
   "cell_type": "code",
   "execution_count": 5,
   "metadata": {},
   "outputs": [
    {
     "data": {
      "text/plain": [
       "<Response [200]>"
      ]
     },
     "execution_count": 5,
     "metadata": {},
     "output_type": "execute_result"
    }
   ],
   "source": [
    "resp"
   ]
  },
  {
   "cell_type": "code",
   "execution_count": 6,
   "metadata": {},
   "outputs": [
    {
     "data": {
      "text/plain": [
       "'\\n        <p>\\n            biere has been added to todo-list !<br><br>\\n            Go <a href=\"/\">back</a> to main page.\\n        </p>\\n    '"
      ]
     },
     "execution_count": 6,
     "metadata": {},
     "output_type": "execute_result"
    }
   ],
   "source": [
    "resp.text"
   ]
  },
  {
   "cell_type": "code",
   "execution_count": 7,
   "metadata": {},
   "outputs": [
    {
     "data": {
      "text/plain": [
       "<Response [200]>"
      ]
     },
     "execution_count": 7,
     "metadata": {},
     "output_type": "execute_result"
    }
   ],
   "source": [
    "requests.post('http://127.0.0.1:5000/add-item', data={'newitem': 'pizza'})"
   ]
  },
  {
   "cell_type": "code",
   "execution_count": 8,
   "metadata": {},
   "outputs": [],
   "source": [
    "from bs4 import BeautifulSoup\n",
    "\n",
    "html = requests.get('http://127.0.0.1:5000').text\n",
    "soup = BeautifulSoup(html)"
   ]
  },
  {
   "cell_type": "code",
   "execution_count": 9,
   "metadata": {},
   "outputs": [
    {
     "data": {
      "text/plain": [
       "[<li>biere</li>, <li>pizza</li>]"
      ]
     },
     "execution_count": 9,
     "metadata": {},
     "output_type": "execute_result"
    }
   ],
   "source": [
    "soup.find_all('li')"
   ]
  },
  {
   "cell_type": "code",
   "execution_count": 10,
   "metadata": {},
   "outputs": [
    {
     "data": {
      "text/plain": [
       "['biere', 'pizza']"
      ]
     },
     "execution_count": 10,
     "metadata": {},
     "output_type": "execute_result"
    }
   ],
   "source": [
    "[elem.text for elem in soup.find_all('li')]"
   ]
  },
  {
   "cell_type": "markdown",
   "metadata": {},
   "source": [
    "Pourquoi s'embêter à récupérer du HTML alors que je peux demander à la page web de me renvoyer du JSON ?"
   ]
  },
  {
   "cell_type": "code",
   "execution_count": 11,
   "metadata": {},
   "outputs": [],
   "source": [
    "response = requests.get('http://127.0.0.1:5000?format=json')"
   ]
  },
  {
   "cell_type": "code",
   "execution_count": 12,
   "metadata": {},
   "outputs": [],
   "source": [
    "import json\n",
    "liste = json.loads(response.text)"
   ]
  },
  {
   "cell_type": "code",
   "execution_count": 13,
   "metadata": {},
   "outputs": [
    {
     "data": {
      "text/plain": [
       "list"
      ]
     },
     "execution_count": 13,
     "metadata": {},
     "output_type": "execute_result"
    }
   ],
   "source": [
    "type(liste)"
   ]
  },
  {
   "cell_type": "code",
   "execution_count": 14,
   "metadata": {},
   "outputs": [
    {
     "data": {
      "text/plain": [
       "['biere', 'pizza']"
      ]
     },
     "execution_count": 14,
     "metadata": {},
     "output_type": "execute_result"
    }
   ],
   "source": [
    "liste"
   ]
  }
 ],
 "metadata": {
  "kernelspec": {
   "display_name": "Python 3",
   "language": "python",
   "name": "python3"
  },
  "language_info": {
   "codemirror_mode": {
    "name": "ipython",
    "version": 3
   },
   "file_extension": ".py",
   "mimetype": "text/x-python",
   "name": "python",
   "nbconvert_exporter": "python",
   "pygments_lexer": "ipython3",
   "version": "3.7.3"
  }
 },
 "nbformat": 4,
 "nbformat_minor": 4
}
