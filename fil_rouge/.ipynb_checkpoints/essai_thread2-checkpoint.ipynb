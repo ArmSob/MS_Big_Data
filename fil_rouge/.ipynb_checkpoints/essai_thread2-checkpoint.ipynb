{
 "cells": [
  {
   "cell_type": "code",
   "execution_count": 1,
   "metadata": {},
   "outputs": [],
   "source": [
    "import sys\n",
    "from tkinter import Tk\n",
    "import time\n",
    "from PyQt5 import QtWidgets, QtGui, QtCore\n",
    "from PyQt5.QtWidgets import QApplication, QMainWindow, QWidget, QLabel, QPushButton, QLineEdit, QFrame, \\\n",
    "QHBoxLayout, QCheckBox, QRadioButton, QButtonGroup, QStyle, QSlider, QStackedLayout, QComboBox\n",
    "from PyQt5.QtCore import pyqtSlot, QRect, Qt, QRunnable, QThreadPool, QThread, QObject, QUrl, QSize\n",
    "from PyQt5.QtMultimedia import QMediaContent, QMediaPlayer\n",
    "from PyQt5.QtMultimediaWidgets import QVideoWidget\n",
    "from PyQt5.QtGui import QImage, QPalette, QBrush, QIcon, QPixmap, QFont\n",
    "from PyQt5.QtCore import pyqtSignal"
   ]
  },
  {
   "cell_type": "code",
   "execution_count": 2,
   "metadata": {},
   "outputs": [],
   "source": [
    "class DNN_Viewer(QWidget):             \n",
    "    def __init__(self, n_filters=2):\n",
    "        super(DNN_Viewer, self).__init__()\n",
    "        self.init_gui()\n",
    "        \n",
    "    def init_gui(self):\n",
    "        self.setFixedSize(800, 400)\n",
    "        self.move(500, 500)\n",
    "        \n",
    "        self.paused = 0\n",
    "        \n",
    "        self.threadButton = QPushButton(self)\n",
    "        self.threadButton.move(100,100)  \n",
    "        self.threadButton.resize(200,100)\n",
    "        self.threadButton.setText(\"start thread\") \n",
    "        self.threadButton.setStyleSheet(\"font-size: 26px; font-family: \\\n",
    "        FreeSans; font-weight: bold\")\n",
    "        self.threadButton.clicked.connect(self.press_thread_button) \n",
    "\n",
    "        self.helloButton = QPushButton(self)\n",
    "        self.helloButton.move(500,100)  \n",
    "        self.helloButton.resize(200,100)\n",
    "        self.helloButton.setText(\"print hello\") \n",
    "        self.helloButton.setStyleSheet(\"font-size: 26px; font-family: \\\n",
    "        FreeSans; font-weight: bold\")\n",
    "        self.helloButton.clicked.connect(self.press_hello_button) \n",
    "        \n",
    "        self.firstLabel = QLabel(self) \n",
    "        self.firstLabel.setText(\"thread has paused:\") \n",
    "        self.firstLabel.move(300, 250)\n",
    "        self.firstLabel.setStyleSheet(\"font-size: 22px; font-family: FreeSans\")\n",
    "        \n",
    "        self.secondLabel = QLabel(self) \n",
    "        self.secondLabel.setText(str(self.paused) + \" times\") \n",
    "        self.secondLabel.move(300, 300)\n",
    "        self.secondLabel.setStyleSheet(\"font-size: 22px; font-family: FreeSans\")\n",
    "        \n",
    "    def update_label(self, val):\n",
    "        self.paused += val\n",
    "        self.secondLabel.setText(str(self.paused) + \" times\")\n",
    "    \n",
    "    def press_hello_button(self):\n",
    "        print(\"hello\")\n",
    "        \n",
    "    def press_thread_button(self):\n",
    "        # self.threadpool = QThreadPool()\n",
    "        self.worker = Worker(self.paused)\n",
    "        # self.threadpool.start(worker)\n",
    "        self.worker.start()\n",
    "        self.worker.val_pause.connect(self.update_label)\n",
    "\n",
    "          \n",
    "class Worker(QtCore.QThread):\n",
    "    val_pause = pyqtSignal(int)\n",
    "    \n",
    "    def __init__(self, current_pause, parent=None):\n",
    "        super(Worker, self).__init__(parent)\n",
    "        self.pause = current_pause\n",
    "        self.print_pause()\n",
    "    \n",
    "    def run(self):\n",
    "        print(\"Thread start\")\n",
    "        for i in range (15):\n",
    "            time.sleep(3)\n",
    "            val = 1\n",
    "            self.val_pause.emit(val)\n",
    "        print(\"Thread complete\")\n",
    "        \n",
    "    def print_pause(self):\n",
    "        print(\"when clicking on start thread button, pause count was: \" + str(self.pause))"
   ]
  },
  {
   "cell_type": "code",
   "execution_count": 3,
   "metadata": {},
   "outputs": [],
   "source": [
    "def dnn_viewer():\n",
    "    app = QApplication(sys.argv)    \n",
    "    viewer = DNN_Viewer()         \n",
    "    viewer.show()             \n",
    "    sys.exit(app.exec_()) "
   ]
  },
  {
   "cell_type": "code",
   "execution_count": null,
   "metadata": {},
   "outputs": [
    {
     "name": "stdout",
     "output_type": "stream",
     "text": [
      "0\n",
      "Thread start\n",
      "hello\n",
      "hello\n",
      "hello\n",
      "hello\n",
      "hello\n",
      "Thread complete\n",
      "15\n",
      "Thread start\n",
      "Thread complete\n"
     ]
    }
   ],
   "source": [
    "dnn_viewer()"
   ]
  },
  {
   "cell_type": "code",
   "execution_count": null,
   "metadata": {},
   "outputs": [],
   "source": []
  },
  {
   "cell_type": "code",
   "execution_count": null,
   "metadata": {},
   "outputs": [],
   "source": []
  },
  {
   "cell_type": "code",
   "execution_count": null,
   "metadata": {},
   "outputs": [],
   "source": []
  },
  {
   "cell_type": "code",
   "execution_count": null,
   "metadata": {},
   "outputs": [],
   "source": []
  },
  {
   "cell_type": "code",
   "execution_count": null,
   "metadata": {},
   "outputs": [],
   "source": []
  },
  {
   "cell_type": "code",
   "execution_count": null,
   "metadata": {},
   "outputs": [],
   "source": []
  },
  {
   "cell_type": "code",
   "execution_count": null,
   "metadata": {},
   "outputs": [],
   "source": []
  },
  {
   "cell_type": "code",
   "execution_count": null,
   "metadata": {},
   "outputs": [],
   "source": []
  },
  {
   "cell_type": "code",
   "execution_count": null,
   "metadata": {},
   "outputs": [],
   "source": []
  },
  {
   "cell_type": "code",
   "execution_count": null,
   "metadata": {},
   "outputs": [],
   "source": []
  },
  {
   "cell_type": "code",
   "execution_count": null,
   "metadata": {},
   "outputs": [],
   "source": []
  },
  {
   "cell_type": "code",
   "execution_count": null,
   "metadata": {},
   "outputs": [],
   "source": []
  },
  {
   "cell_type": "code",
   "execution_count": null,
   "metadata": {},
   "outputs": [],
   "source": []
  },
  {
   "cell_type": "code",
   "execution_count": null,
   "metadata": {},
   "outputs": [],
   "source": []
  },
  {
   "cell_type": "code",
   "execution_count": null,
   "metadata": {},
   "outputs": [],
   "source": []
  },
  {
   "cell_type": "code",
   "execution_count": null,
   "metadata": {},
   "outputs": [],
   "source": []
  },
  {
   "cell_type": "code",
   "execution_count": null,
   "metadata": {},
   "outputs": [],
   "source": []
  },
  {
   "cell_type": "code",
   "execution_count": null,
   "metadata": {},
   "outputs": [],
   "source": []
  },
  {
   "cell_type": "code",
   "execution_count": null,
   "metadata": {},
   "outputs": [],
   "source": []
  },
  {
   "cell_type": "code",
   "execution_count": null,
   "metadata": {},
   "outputs": [],
   "source": []
  },
  {
   "cell_type": "code",
   "execution_count": null,
   "metadata": {},
   "outputs": [],
   "source": []
  },
  {
   "cell_type": "code",
   "execution_count": null,
   "metadata": {},
   "outputs": [],
   "source": []
  },
  {
   "cell_type": "code",
   "execution_count": null,
   "metadata": {},
   "outputs": [],
   "source": []
  },
  {
   "cell_type": "code",
   "execution_count": null,
   "metadata": {},
   "outputs": [],
   "source": []
  }
 ],
 "metadata": {
  "kernelspec": {
   "display_name": "Python 3",
   "language": "python",
   "name": "python3"
  },
  "language_info": {
   "codemirror_mode": {
    "name": "ipython",
    "version": 3
   },
   "file_extension": ".py",
   "mimetype": "text/x-python",
   "name": "python",
   "nbconvert_exporter": "python",
   "pygments_lexer": "ipython3",
   "version": "3.6.9"
  }
 },
 "nbformat": 4,
 "nbformat_minor": 4
}
