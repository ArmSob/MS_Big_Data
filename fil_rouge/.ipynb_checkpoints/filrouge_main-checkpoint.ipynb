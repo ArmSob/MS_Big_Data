{
 "cells": [
  {
   "cell_type": "markdown",
   "metadata": {},
   "source": [
    "## Imports"
   ]
  },
  {
   "cell_type": "code",
   "execution_count": 1,
   "metadata": {},
   "outputs": [],
   "source": [
    "# run script with all general imports\n",
    "exec(open(\"imports.py\").read())"
   ]
  },
  {
   "cell_type": "code",
   "execution_count": 2,
   "metadata": {},
   "outputs": [],
   "source": [
    "# # imports for PyQt5\n",
    "# from PyQt5 import QtWidgets\n",
    "# from PyQt5.QtWidgets import QApplication, QMainWindow, QLabel, QPushButton, QLineEdit\n",
    "# import sys"
   ]
  },
  {
   "cell_type": "code",
   "execution_count": 3,
   "metadata": {},
   "outputs": [],
   "source": [
    "# fil rouge library for data treatement and visualisation\n",
    "from filrouge_data_visualisation import load_cifar10, show_cifar10, images_loss_accuracy, mount_video, \\\n",
    "images_weights, images_gradients, assemble_images, loss_accuracy_video, weight_gradient_video\n",
    "# fil rouge script for tensorflow callbacks\n",
    "from filrouge_tensorflow import create_batch, get_gradient\n",
    "# fil rouge scripts for dashboard\n",
    "from DNN_Viewer import *"
   ]
  },
  {
   "cell_type": "code",
   "execution_count": null,
   "metadata": {},
   "outputs": [],
   "source": []
  },
  {
   "cell_type": "markdown",
   "metadata": {},
   "source": [
    "## Data preprocessing"
   ]
  },
  {
   "cell_type": "code",
   "execution_count": 4,
   "metadata": {},
   "outputs": [
    {
     "name": "stdout",
     "output_type": "stream",
     "text": [
      "Succesfully loaded the cifar10 dataset.\n",
      "There are 50000 images in the train set and 10000 images in the test set.\n",
      "Each image is 32 by 32 by 3.\n",
      "There are 10 different classes in the dataset.\n"
     ]
    }
   ],
   "source": [
    "# load the cifar10 dataset\n",
    "train_images, train_labels, test_images, test_labels, X_train, y_train, X_test, y_test = load_cifar10()"
   ]
  },
  {
   "cell_type": "code",
   "execution_count": 5,
   "metadata": {},
   "outputs": [],
   "source": [
    "# show a few examples from each class\n",
    "#nb_examples = 3\n",
    "#show_cifar10(images=train_images, labels=train_labels, examples=nb_examples)"
   ]
  },
  {
   "cell_type": "markdown",
   "metadata": {},
   "source": [
    "## Interface creation"
   ]
  },
  {
   "cell_type": "code",
   "execution_count": 6,
   "metadata": {
    "scrolled": false
   },
   "outputs": [
    {
     "name": "stdout",
     "output_type": "stream",
     "text": [
      "thread initiated\n"
     ]
    },
    {
     "ename": "SystemExit",
     "evalue": "0",
     "output_type": "error",
     "traceback": [
      "An exception has occurred, use %tb to see the full traceback.\n",
      "\u001b[0;31mSystemExit\u001b[0m\u001b[0;31m:\u001b[0m 0\n"
     ]
    }
   ],
   "source": [
    "# call window function\n",
    "dnn_viewer()"
   ]
  },
  {
   "cell_type": "code",
   "execution_count": null,
   "metadata": {},
   "outputs": [],
   "source": []
  },
  {
   "cell_type": "code",
   "execution_count": null,
   "metadata": {},
   "outputs": [],
   "source": [
    "# # callback function for keras\n",
    "# def callback2():\n",
    "    \n",
    "#     # create sequential model\n",
    "#     model = Sequential()\n",
    "#     # layer 1: convolution\n",
    "#     model.add(Conv2D(filters=nb_filters, kernel_size=(3, 3), padding='same', input_shape=(32, 32, 3), activation='relu'))\n",
    "#     # layer 2: max pooling with dropout\n",
    "#     model.add(MaxPooling2D(pool_size=(2, 2)))\n",
    "#     model.add(Dropout(0.25))\n",
    "#     # layer 8: softmax\n",
    "#     model.add(Flatten())\n",
    "#     model.add(Dense(units=10, activation='softmax'))\n",
    "\n",
    "#     # compilation\n",
    "#     model.compile(optimizer=RMSprop(learning_rate=0.0001, decay=1e-6), loss='categorical_crossentropy', metrics=['accuracy'])\n",
    "\n",
    "#     # summary of the model\n",
    "#     model.summary()\n",
    "    \n",
    "#     # training\n",
    "#     model.fit(X_train, y_train, batch_size=128, epochs=5, verbose=1, validation_split=0.2);\n",
    "    "
   ]
  },
  {
   "cell_type": "code",
   "execution_count": null,
   "metadata": {},
   "outputs": [],
   "source": []
  },
  {
   "cell_type": "code",
   "execution_count": null,
   "metadata": {},
   "outputs": [],
   "source": []
  },
  {
   "cell_type": "code",
   "execution_count": null,
   "metadata": {},
   "outputs": [],
   "source": [
    "released = {\n",
    "\t\t\"iphone\" : 2007,\n",
    "\t\t\"iphone 3G\" : 2008,\n",
    "\t\t\"iphone 3GS\" : 2009,\n",
    "\t\t\"iphone 4\" : 2010,\n",
    "\t\t\"iphone 4S\" : 2011,\n",
    "\t\t\"iphone 5\" : 2012\n",
    "\t}"
   ]
  },
  {
   "cell_type": "code",
   "execution_count": null,
   "metadata": {},
   "outputs": [],
   "source": [
    "released"
   ]
  },
  {
   "cell_type": "code",
   "execution_count": null,
   "metadata": {},
   "outputs": [],
   "source": [
    "released.get(\"iphone 3G\")"
   ]
  },
  {
   "cell_type": "code",
   "execution_count": null,
   "metadata": {},
   "outputs": [],
   "source": [
    "np.unique(train_labels)"
   ]
  },
  {
   "cell_type": "code",
   "execution_count": null,
   "metadata": {},
   "outputs": [],
   "source": [
    "grou = [32, 32, 64, 64]"
   ]
  },
  {
   "cell_type": "code",
   "execution_count": null,
   "metadata": {},
   "outputs": [],
   "source": [
    "grou"
   ]
  },
  {
   "cell_type": "code",
   "execution_count": null,
   "metadata": {},
   "outputs": [],
   "source": [
    "str(grou)"
   ]
  },
  {
   "cell_type": "code",
   "execution_count": null,
   "metadata": {},
   "outputs": [],
   "source": [
    "str([32, 32, 64, 64])[1:-2]"
   ]
  },
  {
   "cell_type": "code",
   "execution_count": null,
   "metadata": {},
   "outputs": [],
   "source": [
    "not True"
   ]
  },
  {
   "cell_type": "code",
   "execution_count": null,
   "metadata": {},
   "outputs": [],
   "source": [
    "import sys\n",
    "from PyQt5.Qt import *\n",
    "\n",
    "class MyWindow(QMainWindow):\n",
    "    \n",
    "    def __init__ (self) :\n",
    "        QMainWindow.__init__( self )\n",
    "        self.setWindowTitle( 'QT Slider with Python' )\n",
    "        self.resize(320, 150)\n",
    "    \n",
    "        self.__slider = QSlider( Qt.Horizontal, self )\n",
    "        self.__slider.setGeometry( 10, 10, 300, 40 )\n",
    "        self.__slider.valueChanged.connect( self.valueChanged )\n",
    "        \n",
    "        self.__button = QPushButton(\"Reset slider value\", self)\n",
    "        self.__button.setGeometry(10, 50, 230, 35)\n",
    "        self.__button.clicked.connect( self.resetValue )\n",
    "        \n",
    "        self.__label = QLabel( self )\n",
    "        self.__label.setGeometry(250, 50, 50, 35)\n",
    "        \n",
    "        \n",
    "    def valueChanged( self, value ):\n",
    "        self.__label.setText( str( value ) )\n",
    "    \n",
    "    def resetValue(self):\n",
    "        self.__slider.setValue( 0 )\n",
    "\n",
    "\n",
    "if __name__ == \"__main__\" :\n",
    "    app = QApplication( sys.argv )\n",
    "\n",
    "    myWindow = MyWindow()\n",
    "    myWindow.show()\n",
    "    \n",
    "    sys.exit( app.exec_() )"
   ]
  },
  {
   "cell_type": "code",
   "execution_count": null,
   "metadata": {},
   "outputs": [],
   "source": [
    "from PyQt5.QtGui import *\n",
    "from PyQt5.QtWidgets import *\n",
    "from PyQt5.QtCore import *\n",
    "\n",
    "import time\n",
    "\n",
    "\n",
    "class Worker(QRunnable):\n",
    "    '''\n",
    "    Worker thread\n",
    "    '''\n",
    "\n",
    "    @pyqtSlot()\n",
    "    def run(self):\n",
    "        '''\n",
    "        Your code goes in this function\n",
    "        '''\n",
    "        print(\"Thread start\") \n",
    "        time.sleep(5)\n",
    "        print(\"Thread complete\")\n",
    "\n",
    "\n",
    "\n",
    "class MainWindow(QMainWindow):\n",
    "\n",
    "\n",
    "    def __init__(self, *args, **kwargs):\n",
    "        super(MainWindow, self).__init__(*args, **kwargs)\n",
    "        \n",
    "        self.threadpool = QThreadPool()\n",
    "        print(\"Multithreading with maximum %d threads\" % self.threadpool.maxThreadCount())\n",
    "    \n",
    "        self.counter = 0\n",
    "    \n",
    "        layout = QVBoxLayout()\n",
    "        \n",
    "        self.l = QLabel(\"Start\")\n",
    "        b = QPushButton(\"DANGER!\")\n",
    "        b.pressed.connect(self.oh_no)\n",
    "    \n",
    "        layout.addWidget(self.l)\n",
    "        layout.addWidget(b)\n",
    "    \n",
    "        w = QWidget()\n",
    "        w.setLayout(layout)\n",
    "    \n",
    "        self.setCentralWidget(w)\n",
    "    \n",
    "        self.show()\n",
    "\n",
    "        self.timer = QTimer()\n",
    "        self.timer.setInterval(1000)\n",
    "        self.timer.timeout.connect(self.recurring_timer)\n",
    "        self.timer.start()\n",
    "    \n",
    "    def oh_no(self):\n",
    "        worker = Worker()\n",
    "        self.threadpool.start(worker)\n",
    "\n",
    "    def recurring_timer(self):\n",
    "        self.counter +=1\n",
    "        self.l.setText(\"Counter: %d\" % self.counter)\n",
    "    \n",
    "    \n",
    "app = QApplication([])\n",
    "window = MainWindow()\n",
    "app.exec_()"
   ]
  },
  {
   "cell_type": "code",
   "execution_count": null,
   "metadata": {},
   "outputs": [],
   "source": []
  },
  {
   "cell_type": "code",
   "execution_count": null,
   "metadata": {},
   "outputs": [],
   "source": [
    "from PyQt5.QtCore import QThread, QObject"
   ]
  },
  {
   "cell_type": "code",
   "execution_count": null,
   "metadata": {},
   "outputs": [],
   "source": []
  },
  {
   "cell_type": "code",
   "execution_count": null,
   "metadata": {},
   "outputs": [],
   "source": []
  },
  {
   "cell_type": "code",
   "execution_count": null,
   "metadata": {},
   "outputs": [],
   "source": []
  },
  {
   "cell_type": "code",
   "execution_count": null,
   "metadata": {},
   "outputs": [],
   "source": []
  },
  {
   "cell_type": "code",
   "execution_count": null,
   "metadata": {},
   "outputs": [],
   "source": []
  },
  {
   "cell_type": "code",
   "execution_count": null,
   "metadata": {},
   "outputs": [],
   "source": [
    "from PyQt5.QtCore import QDir, Qt, QUrl\n",
    "from PyQt5.QtMultimedia import QMediaContent, QMediaPlayer\n",
    "from PyQt5.QtMultimediaWidgets import QVideoWidget\n",
    "from PyQt5.QtWidgets import (QApplication, QFileDialog, QHBoxLayout, QLabel,\n",
    "        QPushButton, QSizePolicy, QSlider, QStyle, QVBoxLayout, QWidget)\n",
    "from PyQt5.QtWidgets import QMainWindow,QWidget, QPushButton, QAction\n",
    "from PyQt5.QtGui import QIcon\n",
    "import sys\n",
    "\n",
    "class VideoWindow(QMainWindow):\n",
    "\n",
    "    def __init__(self, parent=None):\n",
    "        super(VideoWindow, self).__init__(parent)\n",
    "        self.setWindowTitle(\"PyQt Video Player Widget Example - pythonprogramminglanguage.com\") \n",
    "\n",
    "        self.mediaPlayer = QMediaPlayer(None, QMediaPlayer.VideoSurface)\n",
    "\n",
    "        videoWidget = QVideoWidget()\n",
    "\n",
    "        self.playButton = QPushButton()\n",
    "        self.playButton.setEnabled(False)\n",
    "        self.playButton.setIcon(self.style().standardIcon(QStyle.SP_MediaPlay))\n",
    "        self.playButton.clicked.connect(self.play)\n",
    "\n",
    "        self.positionSlider = QSlider(Qt.Horizontal)\n",
    "        self.positionSlider.setRange(0, 0)\n",
    "        self.positionSlider.sliderMoved.connect(self.setPosition)\n",
    "\n",
    "        self.errorLabel = QLabel()\n",
    "        self.errorLabel.setSizePolicy(QSizePolicy.Preferred,\n",
    "                QSizePolicy.Maximum)\n",
    "\n",
    "        # Create new action\n",
    "        openAction = QAction(QIcon('open.png'), '&Open', self)        \n",
    "        openAction.setShortcut('Ctrl+O')\n",
    "        openAction.setStatusTip('Open movie')\n",
    "        openAction.triggered.connect(self.openFile)\n",
    "\n",
    "        # Create exit action\n",
    "        exitAction = QAction(QIcon('exit.png'), '&Exit', self)        \n",
    "        exitAction.setShortcut('Ctrl+Q')\n",
    "        exitAction.setStatusTip('Exit application')\n",
    "        exitAction.triggered.connect(self.exitCall)\n",
    "\n",
    "        # Create menu bar and add action\n",
    "        menuBar = self.menuBar()\n",
    "        fileMenu = menuBar.addMenu('&File')\n",
    "        #fileMenu.addAction(newAction)\n",
    "        fileMenu.addAction(openAction)\n",
    "        fileMenu.addAction(exitAction)\n",
    "\n",
    "        # Create a widget for window contents\n",
    "        wid = QWidget(self)\n",
    "        self.setCentralWidget(wid)\n",
    "\n",
    "        # Create layouts to place inside widget\n",
    "        controlLayout = QHBoxLayout()\n",
    "        controlLayout.setContentsMargins(0, 0, 0, 0)\n",
    "        controlLayout.addWidget(self.playButton)\n",
    "        controlLayout.addWidget(self.positionSlider)\n",
    "\n",
    "        layout = QVBoxLayout()\n",
    "        layout.addWidget(videoWidget)\n",
    "        layout.addLayout(controlLayout)\n",
    "        layout.addWidget(self.errorLabel)\n",
    "\n",
    "        # Set widget to contain window contents\n",
    "        wid.setLayout(layout)\n",
    "\n",
    "        self.mediaPlayer.setVideoOutput(videoWidget)\n",
    "        self.mediaPlayer.stateChanged.connect(self.mediaStateChanged)\n",
    "        self.mediaPlayer.positionChanged.connect(self.positionChanged)\n",
    "        self.mediaPlayer.durationChanged.connect(self.durationChanged)\n",
    "        self.mediaPlayer.error.connect(self.handleError)\n",
    "\n",
    "    def openFile(self):\n",
    "        fileName, _ = QFileDialog.getOpenFileName(self, \"Open Movie\",\n",
    "                QDir.homePath())\n",
    "\n",
    "        if fileName != '':\n",
    "            self.mediaPlayer.setMedia(\n",
    "                    QMediaContent(QUrl.fromLocalFile(fileName)))\n",
    "            self.playButton.setEnabled(True)\n",
    "\n",
    "    def exitCall(self):\n",
    "        sys.exit(app.exec_())\n",
    "\n",
    "    def play(self):\n",
    "        if self.mediaPlayer.state() == QMediaPlayer.PlayingState:\n",
    "            self.mediaPlayer.pause()\n",
    "        else:\n",
    "            self.mediaPlayer.play()\n",
    "\n",
    "    def mediaStateChanged(self, state):\n",
    "        if self.mediaPlayer.state() == QMediaPlayer.PlayingState:\n",
    "            self.playButton.setIcon(\n",
    "                    self.style().standardIcon(QStyle.SP_MediaPause))\n",
    "        else:\n",
    "            self.playButton.setIcon(\n",
    "                    self.style().standardIcon(QStyle.SP_MediaPlay))\n",
    "\n",
    "    def positionChanged(self, position):\n",
    "        self.positionSlider.setValue(position)\n",
    "\n",
    "    def durationChanged(self, duration):\n",
    "        self.positionSlider.setRange(0, duration)\n",
    "\n",
    "    def setPosition(self, position):\n",
    "        self.mediaPlayer.setPosition(position)\n",
    "    def handleError(self):\n",
    "        self.playButton.setEnabled(False)\n",
    "        self.errorLabel.setText(\"Error: \" + self.mediaPlayer.errorString())\n",
    "\n",
    "if __name__ == '__main__':\n",
    "    app = QApplication(sys.argv)\n",
    "    player = VideoWindow()\n",
    "    player.resize(640, 480)\n",
    "    player.show()\n",
    "    sys.exit(app.exec_())"
   ]
  },
  {
   "cell_type": "code",
   "execution_count": null,
   "metadata": {},
   "outputs": [],
   "source": [
    "from PyQt5.QtMultimedia import QMediaContent, QMediaPlayer\n",
    "videoWidget = QVideoWidget()"
   ]
  },
  {
   "cell_type": "code",
   "execution_count": null,
   "metadata": {},
   "outputs": [],
   "source": [
    "from PyQt5.Qt import PYQT_VERSION_STR\n",
    "print(\"PyQt version:\", PYQT_VERSION_STR)"
   ]
  },
  {
   "cell_type": "code",
   "execution_count": null,
   "metadata": {},
   "outputs": [],
   "source": []
  },
  {
   "cell_type": "code",
   "execution_count": null,
   "metadata": {},
   "outputs": [],
   "source": [
    "import PyQt5.QtMultimedia"
   ]
  },
  {
   "cell_type": "code",
   "execution_count": null,
   "metadata": {},
   "outputs": [],
   "source": [
    "from PyQt5.QtMultimediaWidgets import QVideoWidget\n",
    "videoWidget = QVideoWidget()"
   ]
  },
  {
   "cell_type": "code",
   "execution_count": null,
   "metadata": {},
   "outputs": [],
   "source": [
    "from PyQt5 import QtMultimedia"
   ]
  },
  {
   "cell_type": "code",
   "execution_count": null,
   "metadata": {},
   "outputs": [],
   "source": [
    "from PyQt5 import QtWidgets, QtGui"
   ]
  },
  {
   "cell_type": "code",
   "execution_count": null,
   "metadata": {},
   "outputs": [],
   "source": []
  },
  {
   "cell_type": "code",
   "execution_count": null,
   "metadata": {},
   "outputs": [],
   "source": []
  },
  {
   "cell_type": "code",
   "execution_count": null,
   "metadata": {},
   "outputs": [],
   "source": [
    "from PyQt5 import QtCore, QtGui, QtWidgets, QtMultimedia\n",
    "\n",
    "from GUI import Ui_MainWindow\n",
    "\n",
    "class MainWindow(QtWidgets.QMainWindow, Ui_MainWindow):\n",
    "    def __init__(self, *args, **kwargs):\n",
    "        QtWidgets.QMainWindow.__init__(self, *args, **kwargs)\n",
    "        self.setupUi(self)\n",
    "\n",
    "        self.mediaPlayer = QtMultimedia.QMediaPlayer(self)\n",
    "        self.mediaPlayer.setVideoOutput(self.widget)\n",
    "        # fileName = \"/path/of/your/local_file\"\n",
    "        # url = QtCore.QUrl.fromLocalFile(fileName)\n",
    "        url = QtCore.QUrl(\"http://clips.vorwaerts-gmbh.de/VfE_html5.mp4\")\n",
    "        self.mediaPlayer.setMedia(QtMultimedia.QMediaContent(url))\n",
    "        self.mediaPlayer.play()\n",
    "\n",
    "if __name__ == \"__main__\":\n",
    "    import sys\n",
    "    app = QtWidgets.QApplication(sys.argv)\n",
    "    w = MainWindow()\n",
    "    w.show()\n",
    "    sys.exit(app.exec_())"
   ]
  },
  {
   "cell_type": "code",
   "execution_count": null,
   "metadata": {},
   "outputs": [],
   "source": []
  },
  {
   "cell_type": "code",
   "execution_count": null,
   "metadata": {},
   "outputs": [],
   "source": [
    "import numpy as np\n",
    "np.array([4])"
   ]
  },
  {
   "cell_type": "code",
   "execution_count": null,
   "metadata": {},
   "outputs": [],
   "source": [
    "python3 --version"
   ]
  },
  {
   "cell_type": "code",
   "execution_count": null,
   "metadata": {},
   "outputs": [],
   "source": [
    "import sys\n",
    "sys.version"
   ]
  },
  {
   "cell_type": "code",
   "execution_count": null,
   "metadata": {},
   "outputs": [],
   "source": [
    "380/818*1168"
   ]
  },
  {
   "cell_type": "code",
   "execution_count": null,
   "metadata": {},
   "outputs": [],
   "source": [
    "import sys\n",
    "from PyQt5.QtCore import QSize\n",
    "from PyQt5.QtGui import QImage, QPalette, QBrush\n",
    "from PyQt5.QtWidgets import *\n",
    "\n",
    "class MainWindow(QWidget):\n",
    "    def __init__(self):\n",
    "       QWidget.__init__(self)\n",
    "       self.setGeometry(100,100,300,200)\n",
    "\n",
    "       oImage = QImage(\"/home/romain/jupyter_gui/binocular.png\")\n",
    "       sImage = oImage.scaled(QSize(300,200))                   # resize Image to widgets size\n",
    "       palette = QPalette()\n",
    "       palette.setBrush(QPalette.Window, QBrush(sImage))                        \n",
    "       self.setPalette(palette)\n",
    "\n",
    "       self.label = QLabel('Test', self)                        # test, if it's really backgroundimage\n",
    "       self.label.setGeometry(50,50,200,50)\n",
    "\n",
    "       self.show()\n",
    "\n",
    "if __name__ == \"__main__\":\n",
    "\n",
    "    app = QApplication(sys.argv)\n",
    "    oMainwindow = MainWindow()\n",
    "    sys.exit(app.exec_())"
   ]
  },
  {
   "cell_type": "code",
   "execution_count": null,
   "metadata": {},
   "outputs": [],
   "source": [
    "import sys\n",
    "from PyQt5.QtWidgets import QApplication, QWidget, QLabel\n",
    "from PyQt5.QtGui import QIcon, QPixmap\n",
    "\n",
    "class App(QWidget):\n",
    "\n",
    "    def __init__(self):\n",
    "        super().__init__()\n",
    "        self.title = 'PyQt5 image - pythonspot.com'\n",
    "        self.left = 10\n",
    "        self.top = 10\n",
    "        self.width = 640\n",
    "        self.height = 480\n",
    "        self.initUI()\n",
    "    \n",
    "    def initUI(self):\n",
    "        self.setWindowTitle(self.title)\n",
    "        self.setGeometry(self.left, self.top, self.width, self.height)\n",
    "    \n",
    "        # Create widget\n",
    "        label = QLabel(self)\n",
    "        pixmap = QPixmap('/home/romain/jupyter_gui/binocular.png')\n",
    "        label.setPixmap(pixmap)\n",
    "        self.resize(pixmap.width(),pixmap.height())\n",
    "\n",
    "        \n",
    "        self.show()\n",
    "\n",
    "if __name__ == '__main__':\n",
    "    app = QApplication(sys.argv)\n",
    "    ex = App()\n",
    "    sys.exit(app.exec_())"
   ]
  },
  {
   "cell_type": "code",
   "execution_count": null,
   "metadata": {},
   "outputs": [],
   "source": [
    "from PyQt5.QtGui import QIcon, QFont\n",
    "from PyQt5.QtCore import QDir, Qt, QUrl, QSize\n",
    "from PyQt5.QtMultimedia import QMediaContent, QMediaPlayer\n",
    "from PyQt5.QtMultimediaWidgets import QVideoWidget\n",
    "from PyQt5.QtWidgets import (QApplication, QFileDialog, QHBoxLayout, QLabel, \n",
    "        QPushButton, QSizePolicy, QSlider, QStyle, QVBoxLayout, QWidget, QStatusBar)\n",
    "\n",
    "class VideoPlayer(QWidget):\n",
    "\n",
    "    def __init__(self, parent=None):\n",
    "        super(VideoPlayer, self).__init__(parent)\n",
    "\n",
    "        self.mediaPlayer = QMediaPlayer(None, QMediaPlayer.VideoSurface)\n",
    "\n",
    "        btnSize = QSize(16, 16)\n",
    "        videoWidget = QVideoWidget()\n",
    "\n",
    "        openButton = QPushButton(\"Open Video\")   \n",
    "        openButton.setToolTip(\"Open Video File\")\n",
    "        openButton.setStatusTip(\"Open Video File\")\n",
    "        openButton.setFixedHeight(24)\n",
    "        openButton.setIconSize(btnSize)\n",
    "        openButton.setFont(QFont(\"Noto Sans\", 8))\n",
    "        openButton.setIcon(QIcon.fromTheme(\"document-open\", QIcon(\"D:/_Qt/img/open.png\")))\n",
    "        openButton.clicked.connect(self.abrir)\n",
    "\n",
    "        self.playButton = QPushButton()\n",
    "        self.playButton.setEnabled(False)\n",
    "        self.playButton.setFixedHeight(24)\n",
    "        self.playButton.setIconSize(btnSize)\n",
    "        self.playButton.setIcon(self.style().standardIcon(QStyle.SP_MediaPlay))\n",
    "        self.playButton.clicked.connect(self.play)\n",
    "\n",
    "        self.positionSlider = QSlider(Qt.Horizontal)\n",
    "        self.positionSlider.setRange(0, 0)\n",
    "        self.positionSlider.sliderMoved.connect(self.setPosition)\n",
    "\n",
    "        self.statusBar = QStatusBar()\n",
    "        self.statusBar.setFont(QFont(\"Noto Sans\", 7))\n",
    "        self.statusBar.setFixedHeight(14)\n",
    "\n",
    "        controlLayout = QHBoxLayout()\n",
    "        controlLayout.setContentsMargins(0, 0, 0, 0)\n",
    "        controlLayout.addWidget(openButton)\n",
    "        controlLayout.addWidget(self.playButton)\n",
    "        controlLayout.addWidget(self.positionSlider)\n",
    "\n",
    "        layout = QVBoxLayout()\n",
    "        layout.addWidget(videoWidget)\n",
    "        layout.addLayout(controlLayout)\n",
    "        layout.addWidget(self.statusBar)\n",
    "\n",
    "        self.setLayout(layout)\n",
    "\n",
    "        self.mediaPlayer.setVideoOutput(videoWidget)\n",
    "        self.mediaPlayer.stateChanged.connect(self.mediaStateChanged)\n",
    "        self.mediaPlayer.positionChanged.connect(self.positionChanged)\n",
    "        self.mediaPlayer.durationChanged.connect(self.durationChanged)\n",
    "        self.mediaPlayer.error.connect(self.handleError)\n",
    "        self.statusBar.showMessage(\"Ready\")\n",
    "\n",
    "    def abrir(self):\n",
    "        fileName = \"/home/romain/jupyter_gui/wg_1_25.avi\"\n",
    "\n",
    "        if fileName != '':\n",
    "            self.mediaPlayer.setMedia(\n",
    "                    QMediaContent(QUrl.fromLocalFile(fileName)))\n",
    "            self.playButton.setEnabled(True)\n",
    "            self.statusBar.showMessage(fileName)\n",
    "            self.play()\n",
    "\n",
    "    def play(self):\n",
    "        if self.mediaPlayer.state() == QMediaPlayer.PlayingState:\n",
    "            self.mediaPlayer.pause()\n",
    "        else:\n",
    "            self.mediaPlayer.play()\n",
    "\n",
    "    def mediaStateChanged(self, state):\n",
    "        if self.mediaPlayer.state() == QMediaPlayer.PlayingState:\n",
    "            self.playButton.setIcon(\n",
    "                    self.style().standardIcon(QStyle.SP_MediaPause))\n",
    "        else:\n",
    "            self.playButton.setIcon(\n",
    "                    self.style().standardIcon(QStyle.SP_MediaPlay))\n",
    "\n",
    "    def positionChanged(self, position):\n",
    "        self.positionSlider.setValue(position)\n",
    "\n",
    "    def durationChanged(self, duration):\n",
    "        self.positionSlider.setRange(0, duration)\n",
    "\n",
    "    def setPosition(self, position):\n",
    "        self.mediaPlayer.setPosition(position)\n",
    "\n",
    "    def handleError(self):\n",
    "        self.playButton.setEnabled(False)\n",
    "        self.statusBar.showMessage(\"Error: \" + self.mediaPlayer.errorString())\n",
    "\n",
    "if __name__ == '__main__':\n",
    "    import sys\n",
    "    app = QApplication(sys.argv)\n",
    "    player = VideoPlayer()\n",
    "    player.setWindowTitle(\"Player\")\n",
    "    player.resize(600, 400)\n",
    "    player.show()\n",
    "    sys.exit(app.exec_())"
   ]
  }
 ],
 "metadata": {
  "kernelspec": {
   "display_name": "Python 3",
   "language": "python",
   "name": "python3"
  },
  "language_info": {
   "codemirror_mode": {
    "name": "ipython",
    "version": 3
   },
   "file_extension": ".py",
   "mimetype": "text/x-python",
   "name": "python",
   "nbconvert_exporter": "python",
   "pygments_lexer": "ipython3",
   "version": "3.6.9"
  }
 },
 "nbformat": 4,
 "nbformat_minor": 2
}
