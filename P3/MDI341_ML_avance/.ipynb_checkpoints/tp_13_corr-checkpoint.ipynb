{
 "cells": [
  {
   "cell_type": "markdown",
   "metadata": {},
   "source": [
    "# <h1><center>Travaux Pratiques - Chaînes de Markov - HMMs</center></h1>"
   ]
  },
  {
   "cell_type": "markdown",
   "metadata": {},
   "source": [
    "# Première partie"
   ]
  },
  {
   "cell_type": "markdown",
   "metadata": {},
   "source": [
    "## I.1 Fonctions dont vous pouvez avoir besoin"
   ]
  },
  {
   "cell_type": "code",
   "execution_count": 1,
   "metadata": {},
   "outputs": [],
   "source": [
    "# imports\n",
    "import numpy as np\n",
    "from numpy import cumsum, loadtxt, argmax, concatenate, ones, array, set_printoptions, stack, log, zeros, amax, exp\n",
    "from numpy.random import random\n",
    "from matplotlib.pyplot import plot, figure, title, xlabel, ylabel, xlim, ylim, grid, show, imshow, subplot, suptitle\n",
    "\n",
    "# path to data files\n",
    "path = '/home/tp_ML'\n",
    "\n",
    "# matrix display precision\n",
    "set_printoptions(suppress=True, precision=3)"
   ]
  },
  {
   "cell_type": "markdown",
   "metadata": {},
   "source": [
    "### I.2 Chaîne de Markov"
   ]
  },
  {
   "cell_type": "markdown",
   "metadata": {},
   "source": [
    "On veut générer des mots dans une langue donnée en modélisant la formation de ces mots par\n",
    "une chaîne de Markov. Les 28 états du modèle correspondent aux 26 lettres de l’alphabet\n",
    "auxquelles et on ajoute un état ‘espace initial’ (état 1) et un état ‘espace final’ (état 28) qui\n",
    "sert à terminer les mots.\n",
    "La correspondance entre la valeur numérique d’un état et un caractère est la suivante : l’état 1\n",
    "correspond à un espace (avant le début d’un mot) et l’état 28 à celui d’un espace en fin de mot. Les états 2 à 27 correspondent aux caractères de a à z. On pourra utiliser une structure de\n",
    "dictionnaire en python pour faire cette correspondance.\n",
    "On utilisera une chaîne de Markov ergodique entre les 26 états correspondants aux lettres de\n",
    "l’alphabet."
   ]
  },
  {
   "cell_type": "code",
   "execution_count": 2,
   "metadata": {},
   "outputs": [],
   "source": [
    "# creation of dictionary\n",
    "dic = {'1' : ' ', '2' : 'a', '3' : 'b', '4': 'c', '5' : 'd', '6' : 'e', '7': 'f', '8' : 'g', '9' : 'h', '10': 'i', '11': 'j',\n",
    "'12' : 'k', '13' : 'l', '14': 'm', '15' : 'n', '16' : 'o', '17': 'p', '18' : 'q', '19' : 'r' , '20': 's', '21' : 't', '22'\n",
    ": 'u', '23': 'v', '24' : 'w', '25' : 'x' , '26': 'y', '27' : 'z', '28' : ' ' }\n",
    "\n",
    "# creation of inverse dictionary\n",
    "dic_inv = {v: k for k, v in dic.items()}"
   ]
  },
  {
   "cell_type": "markdown",
   "metadata": {},
   "source": [
    "### I.2.a Matrice de transitions"
   ]
  },
  {
   "cell_type": "markdown",
   "metadata": {},
   "source": [
    "* 'bigramenglish.txt' contient la matrice des transitions pour l’anglais (bigrams) entre deux\n",
    "symboles (caractères ou espaces). Le terme générique (i,j) de la matrice de transition\n",
    "correspond à la probabilité de transiter vers l’état j à partir de l’état i."
   ]
  },
  {
   "cell_type": "code",
   "execution_count": 3,
   "metadata": {},
   "outputs": [],
   "source": [
    "# load transition matrix for English bigrams\n",
    "bi_eng = loadtxt(path + '/bigramenglish.txt')"
   ]
  },
  {
   "cell_type": "markdown",
   "metadata": {},
   "source": [
    "* A quelles probabilités correspond la première ligne de la matrice de transition ? et celles de la\n",
    "dernière colonne ?"
   ]
  },
  {
   "cell_type": "code",
   "execution_count": 4,
   "metadata": {},
   "outputs": [
    {
     "name": "stdout",
     "output_type": "stream",
     "text": [
      "La première ligne de la matrice de transition est: \n",
      "\n",
      "[0.    0.113 0.044 0.045 0.033 0.022 0.042 0.016 0.064 0.069 0.004 0.004\n",
      " 0.023 0.04  0.023 0.07  0.031 0.001 0.026 0.067 0.165 0.01  0.007 0.071\n",
      " 0.    0.011 0.    0.   ]\n"
     ]
    }
   ],
   "source": [
    "print(\"La première ligne de la matrice de transition est: \")\n",
    "print()\n",
    "print(bi_eng[0,:])"
   ]
  },
  {
   "cell_type": "markdown",
   "metadata": {},
   "source": [
    "La première ligne correspond à la probabilité de passer de l'état 1 (l'espace initial) à n'importe quel état du modèle. On oberve par exemple que la probabilitié de passer de l'état initial à lui-même (A(1,1)), ou à l'état final (A(1,28)) est égale à zéro. Cela qui implique que le modèle force à transiter par des lettres depuis l'état initial pour former des mots, ce qui est le but de l'exercice."
   ]
  },
  {
   "cell_type": "code",
   "execution_count": 5,
   "metadata": {},
   "outputs": [
    {
     "name": "stdout",
     "output_type": "stream",
     "text": [
      "La dernière colonne de la matrice de transition est: \n",
      "\n",
      "[0.    0.067 0.007 0.02  0.599 0.36  0.397 0.316 0.103 0.025 0.001 0.372\n",
      " 0.153 0.158 0.294 0.123 0.064 0.001 0.211 0.43  0.223 0.038 0.    0.102\n",
      " 0.123 0.776 0.002 1.   ]\n"
     ]
    }
   ],
   "source": [
    "print(\"La dernière colonne de la matrice de transition est: \")\n",
    "print()\n",
    "print(bi_eng[:,-1])"
   ]
  },
  {
   "cell_type": "markdown",
   "metadata": {},
   "source": [
    "La dernière colonne de la matrice correspond à la probabilité de passer de n'importe quel état du modèle à l'état final. On oberve là encore une probabilité nulle pour les états initiaux et finaux ((A(1,28) et A(28,28)), impliquant l'obligation de transiter par des lettres avant d'atteindre l'état final ou d'y retourner."
   ]
  },
  {
   "cell_type": "markdown",
   "metadata": {},
   "source": [
    "* Pour chaque lettre de l’alphabet, indiquer la transition la plus fréquente depuis cette lettre."
   ]
  },
  {
   "cell_type": "code",
   "execution_count": 6,
   "metadata": {
    "scrolled": false
   },
   "outputs": [
    {
     "name": "stdout",
     "output_type": "stream",
     "text": [
      "les transitions les plus fréquentes depuis chaque lettre sont:\n"
     ]
    },
    {
     "data": {
      "text/plain": [
       "['  -> t',\n",
       " 'a -> n',\n",
       " 'b -> e',\n",
       " 'c -> o',\n",
       " 'd ->  ',\n",
       " 'e ->  ',\n",
       " 'f ->  ',\n",
       " 'g ->  ',\n",
       " 'h -> e',\n",
       " 'i -> n',\n",
       " 'j -> o',\n",
       " 'k ->  ',\n",
       " 'l -> e',\n",
       " 'm -> e',\n",
       " 'n ->  ',\n",
       " 'o -> n',\n",
       " 'p -> e',\n",
       " 'q -> u',\n",
       " 'r -> e',\n",
       " 's ->  ',\n",
       " 't -> h',\n",
       " 'u -> r',\n",
       " 'v -> e',\n",
       " 'w -> a',\n",
       " 'x -> t',\n",
       " 'y ->  ',\n",
       " 'z -> e']"
      ]
     },
     "execution_count": 6,
     "metadata": {},
     "output_type": "execute_result"
    }
   ],
   "source": [
    "print(\"les transitions les plus fréquentes depuis chaque lettre sont:\")\n",
    "[key1 + ' -> ' + dic[str(key2+1)] for key1, key2 in zip(dic_inv, argmax(bi_eng, axis=1))]"
   ]
  },
  {
   "cell_type": "markdown",
   "metadata": {},
   "source": [
    "### I.2.b Générer un mot"
   ]
  },
  {
   "cell_type": "markdown",
   "metadata": {},
   "source": [
    "* On veut générer un mot à partir de l’état initial 1 (espace de début de mot).\n",
    "\n",
    "* Ecrire une fonction etat_suivant qui génère un état (à t+1) à partir de l’état courant (à t) et à\n",
    "l’aide de la matrice de transitions et de la fonction de répartition."
   ]
  },
  {
   "cell_type": "code",
   "execution_count": 7,
   "metadata": {},
   "outputs": [],
   "source": [
    "def etat_suivant(etat_courant, matrice_transition):\n",
    "    transition_cumulee = cumsum(matrice_transition[etat_courant-1,:])\n",
    "    return sum(transition_cumulee<random())+1"
   ]
  },
  {
   "cell_type": "markdown",
   "metadata": {},
   "source": [
    "* Afficher sur un graphique la fonction de répartition pour une ligne de la matrice de transition\n",
    "et expliquer son rôle pour la génération de l’état à t+1."
   ]
  },
  {
   "cell_type": "code",
   "execution_count": 8,
   "metadata": {},
   "outputs": [
    {
     "data": {
      "image/png": "[encoded data removed]",
      "text/plain": [
       "<Figure size 504x360 with 1 Axes>"
      ]
     },
     "metadata": {
      "needs_background": "light"
     },
     "output_type": "display_data"
    }
   ],
   "source": [
    "# choose row to display\n",
    "row = 2\n",
    "# plot the cdf\n",
    "cdf = [0] + list(cumsum(bi_eng[row-1,:])) + [1, 1]\n",
    "fig_1 = figure(figsize=(7,5))\n",
    "plot([i for i in range(0 ,31)], cdf, linewidth=3, c=(0, 0.6, 0.8));\n",
    "title('Fig 1: distribution function of row ' + str(row) + ' of the transition matrix bi_eng')\n",
    "xlabel('States')\n",
    "ylabel('Cumulated probabilities')\n",
    "xlim([0,30])\n",
    "ylim([0,1.2])\n",
    "grid(True)\n",
    "show()"
   ]
  },
  {
   "cell_type": "markdown",
   "metadata": {},
   "source": [
    "La fonction de répartition permet de générer l'état t+1 à partir de l'état t, en utilisant un nombre aléatoire uniforme. C'est la méthode d'inversion de la fonction de répartition: on pioche uniformément un nombre entre 0 et 1, puis inverse la fonction de répartition pour trouver à quelle valeur de x (ici x=état) correspond cette probabilité cumulée."
   ]
  },
  {
   "cell_type": "markdown",
   "metadata": {},
   "source": [
    "* Utiliser cette fonction pour écrire la fonction genere_state_seq qui génère une séquence\n",
    "d’états jusqu’à aboutir à l’état final (28)."
   ]
  },
  {
   "cell_type": "code",
   "execution_count": 9,
   "metadata": {},
   "outputs": [],
   "source": [
    "def genere_state_seq(matrice_transition):\n",
    "    state_seq = [1]\n",
    "    terminal_state = matrice_transition.shape[0]\n",
    "    while state_seq[-1] != terminal_state:\n",
    "        state_seq.append(etat_suivant(state_seq[-1], matrice_transition))\n",
    "    return state_seq"
   ]
  },
  {
   "cell_type": "markdown",
   "metadata": {},
   "source": [
    "* Ecrire une fonction display_seq qui transforme une\n",
    "séquence d’états en séquence de caractères, à l’aide d’un dictionnaire. "
   ]
  },
  {
   "cell_type": "code",
   "execution_count": 10,
   "metadata": {},
   "outputs": [],
   "source": [
    "def display_seq(state_sequence, dictionary):\n",
    "    return ''.join([dictionary[str(state)] for state in state_sequence]).lstrip()"
   ]
  },
  {
   "cell_type": "markdown",
   "metadata": {},
   "source": [
    "* Utiliser ces fonctions pour générer des mots et donner des exemples de mots générés."
   ]
  },
  {
   "cell_type": "code",
   "execution_count": 11,
   "metadata": {},
   "outputs": [
    {
     "name": "stdout",
     "output_type": "stream",
     "text": [
      "20 words generated by the function:\n",
      "\n",
      "my \n",
      "panene \n",
      "selil \n",
      "tistto \n",
      "ne \n",
      "ton \n",
      "phafinth \n",
      "dlonatho \n",
      "g \n",
      "t \n",
      "h \n",
      "han \n",
      "iolig \n",
      "be \n",
      "velel \n",
      "iligrin \n",
      "frn \n",
      "uphef \n",
      "avid \n",
      "e \n"
     ]
    }
   ],
   "source": [
    "# number of words to display\n",
    "words = 20\n",
    "\n",
    "# display words\n",
    "print(str(words) + \" words generated by the function:\")\n",
    "print(\"\")\n",
    "for word in range(words):\n",
    "    print(display_seq(genere_state_seq(bi_eng), dic))"
   ]
  },
  {
   "cell_type": "markdown",
   "metadata": {},
   "source": [
    "### I.2.c Générer une phrase"
   ]
  },
  {
   "cell_type": "markdown",
   "metadata": {},
   "source": [
    "* On veut générer une suite de mots (phrase). Créer un état final de phrase (état 29,\n",
    "correspondant au caractère . ) dont la probabilité de transition vers cet état depuis un état\n",
    "final de mot est 0.1. Ecrire une fonction modifie_mat_dic qui modifie la matrice de transition\n",
    "et le dictionnaire en conséquence."
   ]
  },
  {
   "cell_type": "markdown",
   "metadata": {},
   "source": [
    "Note: je crée deux fonctions séparées au lieu d'une, pour des raisons de clarté d'une part, et de practicité d'autre part avec la partie reconnaissance de langue, pour lequel ce choix s'avère plus flexible."
   ]
  },
  {
   "cell_type": "code",
   "execution_count": 12,
   "metadata": {},
   "outputs": [],
   "source": [
    "def modifie_mat(transition_matrix):\n",
    "    matrix_dimension = transition_matrix.shape[0]\n",
    "    new_transition_matrix = transition_matrix.copy()\n",
    "    new_transition_matrix[-1,0] = 0.9\n",
    "    new_transition_matrix[-1,-1] = 0\n",
    "    right_block = array([[0] * (matrix_dimension-1) + [0.1]])\n",
    "    low_block = array([[0] * (matrix_dimension) + [1]])\n",
    "    new_transition_matrix = concatenate((concatenate((new_transition_matrix, right_block.T), axis=1), low_block), axis=0)\n",
    "    return new_transition_matrix\n",
    "\n",
    "def modifie_dic(dictionary, modif_list):\n",
    "    new_dictionary = dictionary.copy()\n",
    "    for tuple in modif_list:\n",
    "        new_dictionary[tuple[0]] = tuple[1]\n",
    "    return new_dictionary"
   ]
  },
  {
   "cell_type": "markdown",
   "metadata": {},
   "source": [
    "* Donner des exemples de phrases générées."
   ]
  },
  {
   "cell_type": "code",
   "execution_count": 13,
   "metadata": {
    "scrolled": false
   },
   "outputs": [
    {
     "name": "stdout",
     "output_type": "stream",
     "text": [
      "10 sentences generated by the function:\n",
      "\n",
      "fe baibrend whe pesode s y ing ise th by d de incor herncaman n ofumo br s gre.\n",
      "alat tornge.\n",
      "tot hir wofoud bid tedere arvio d ng e t.\n",
      "th they citen.\n",
      "lllise or ally.\n",
      "use gatheestthe t.\n",
      "d cond.\n",
      "awer bourblledisedicet heave.\n",
      "weanallauges herof atiliolora wothre pr hand phimim ban le.\n",
      "nlt sutlle.\n"
     ]
    }
   ],
   "source": [
    "# number of sentences to display\n",
    "sentences = 10\n",
    "\n",
    "# update transition matrix and dictionary\n",
    "new_bi_eng = modifie_mat(bi_eng)\n",
    "new_dic = modifie_dic(dic, [('28', ''), ('29', '.')])\n",
    "\n",
    "# display sentence\n",
    "print(str(sentences) + \" sentences generated by the function:\")\n",
    "print(\"\")\n",
    "for sentence in range(sentences):\n",
    "    print(display_seq(genere_state_seq(new_bi_eng), new_dic))"
   ]
  },
  {
   "cell_type": "markdown",
   "metadata": {},
   "source": [
    "### I.3. Reconnaissance de la langue"
   ]
  },
  {
   "cell_type": "markdown",
   "metadata": {},
   "source": [
    "* Charger la matrice des transitions entre caractères pour le français."
   ]
  },
  {
   "cell_type": "code",
   "execution_count": 14,
   "metadata": {},
   "outputs": [],
   "source": [
    "# load transition matrix for French bigrams\n",
    "bi_fr = loadtxt(path + '/bigramfrancais.txt')\n",
    "\n",
    "# update to account for sentences (base matrix is only for words)\n",
    "new_bi_fr = modifie_mat(bi_fr)"
   ]
  },
  {
   "cell_type": "markdown",
   "metadata": {},
   "source": [
    "* Ecrire une fonction calc_vraisemblance qui calcule la vraisemblance du modèle français pour une phrase donnée\n",
    "en multipliant les probabilités de transition. Pour tenir compte de toutes les transitions\n",
    "(notamment celles entre espaces de fin et de début de mots et vers la fin de phrase) on pourra\n",
    "transformer une séquence « mot1 mot2.» par la séquence « -mot1+-mot2+.», les signes - , +\n",
    "et . représentant l’état initial de mot, l’état final de mot et l’état final de phrase,\n",
    "respectivement.\n"
   ]
  },
  {
   "cell_type": "code",
   "execution_count": 15,
   "metadata": {},
   "outputs": [],
   "source": [
    "# update of dictionary to account for symbols instead of spaces\n",
    "dic_sym = modifie_dic(dic, [('1', '-'), ('28', '+'), ('29', '.')])\n",
    "\n",
    "# creation of inverse dictionary\n",
    "dic_sym_inv = {v: k for k, v in dic_sym.items()}\n",
    "\n",
    "# creation of likelihood calculation function\n",
    "def calc_vraisemblance(sentence, transition_matrix, inverse_dictionary):\n",
    "    # replace spaces with symbols\n",
    "    sentence = '-' + sentence.replace(\" \", \"+-\").replace(\".\", \"+.\")\n",
    "    # initiate likelihood value\n",
    "    likelihood = 1\n",
    "    # sequentially consider pairs of current character, next character in the sentence\n",
    "    for tuple in zip(sentence[0:-1], sentence[1:]):\n",
    "        # use inverse dictionary to obtain states from characters\n",
    "        current_state, next_state = int(dic_sym_inv[tuple[0]]), int(dic_sym_inv[tuple[1]])\n",
    "        # update likelihood with transition probability\n",
    "        likelihood *= transition_matrix[current_state-1, next_state-1]\n",
    "    return likelihood"
   ]
  },
  {
   "cell_type": "markdown",
   "metadata": {},
   "source": [
    "* Calculer la vraisemblance des modèles français et anglais pour la phrase « to be or not to be ».\n",
    "De même calculer la vraisemblance des modèles français et anglais pour la phrase « etre ou ne\n",
    "pas etre »."
   ]
  },
  {
   "cell_type": "code",
   "execution_count": 16,
   "metadata": {},
   "outputs": [
    {
     "name": "stdout",
     "output_type": "stream",
     "text": [
      "La vraisemblance de 'to be or not to be' est de 5.9602081018686406e-30 pour la langue française.\n",
      "La vraisemblance de 'to be or not to be' est de 8.112892227809415e-20 pour la langue anglaise.\n",
      "La vraisemblance de 'etre ou ne pas etre' est de 1.145706887234789e-19 pour la langue française.\n",
      "La vraisemblance de 'etre ou ne pas etre' est de 4.462288711775253e-24 pour la langue anglaise.\n"
     ]
    }
   ],
   "source": [
    "# calculate likelihoods\n",
    "lik_fr_to_be = calc_vraisemblance('to be or not to be.', new_bi_fr, dic_sym_inv)\n",
    "lik_eng_to_be = calc_vraisemblance('to be or not to be.', new_bi_eng, dic_sym_inv)\n",
    "lik_fr_etre = calc_vraisemblance('etre ou ne pas etre.', new_bi_fr, dic_sym_inv)\n",
    "lik_eng_etre = calc_vraisemblance('etre ou ne pas etre.', new_bi_eng, dic_sym_inv)\n",
    "\n",
    "# display results\n",
    "print(\"La vraisemblance de 'to be or not to be' est de \" + str(lik_fr_to_be) + \" pour la langue française.\")\n",
    "print(\"La vraisemblance de 'to be or not to be' est de \" + str(lik_eng_to_be) + \" pour la langue anglaise.\")\n",
    "print(\"La vraisemblance de 'etre ou ne pas etre' est de \" + str(lik_fr_etre) + \" pour la langue française.\")\n",
    "print(\"La vraisemblance de 'etre ou ne pas etre' est de \" + str(lik_eng_etre) + \" pour la langue anglaise.\")"
   ]
  },
  {
   "cell_type": "markdown",
   "metadata": {},
   "source": [
    "On note que la reconnaissance de langue fonctionne bien. Le modèle attribue une vraisemblance plus élevée à la langue anglaise pour la phrase \"to be or not to be\", et une vraisemblance plus élevée à la langue française pour la phrase \"être ou ne pas être\"."
   ]
  },
  {
   "cell_type": "code",
   "execution_count": null,
   "metadata": {},
   "outputs": [],
   "source": []
  },
  {
   "cell_type": "markdown",
   "metadata": {},
   "source": [
    "# Deuxième partie"
   ]
  },
  {
   "cell_type": "markdown",
   "metadata": {},
   "source": [
    "### II. 1. Introduction"
   ]
  },
  {
   "cell_type": "markdown",
   "metadata": {},
   "source": [
    "* L’objectif de cette partie est de générer des séquences d’observations suivant un modèle de\n",
    "Markov Caché donné, puis de calculer la vraisemblance d’une séquence d’observations\n",
    "suivant un modèle de Markov Caché donné.\n",
    "* Le modèle de Markov est de type discret. \n",
    "* Les classes de caractères (classes 0, 1, 7) sont modélisées chacune par un modèle à Q=5 états de type gauche-droite. La matrice de transitions A de taille QxQ.\n",
    "* Les vecteurs π sont tous égaux à π=(1 0 0 0 0). Les séquences d’états commencent donc toujours par l’état q1=1.\n",
    "* Un symbole correspond à une colonne de 5 pixels (binaires : noir/blanc). Il y a 2^5=32 configurations, et donc N=32 symboles possibles. Les symboles sont stocké dans la matrice V, de taille QxN.\n",
    "* Les probabilités des observations dans chaque état sont indiquées dans la matrice B de taille NxQ.\n",
    "\n"
   ]
  },
  {
   "cell_type": "markdown",
   "metadata": {},
   "source": [
    "### II. 2. Génération de séquences d’observations"
   ]
  },
  {
   "cell_type": "markdown",
   "metadata": {},
   "source": [
    "* Les matrices A0.txt, B0.txt, vect_p0.txt contiennent les matrices A, B, et le vecteur π\n",
    "correspondant au modèle de Markov caché du chiffre 0. Le fichier matrice_symboles.txt\n",
    "contient le dictionnaire. Charger ces fichiers depuis le site pédagogique."
   ]
  },
  {
   "cell_type": "code",
   "execution_count": 17,
   "metadata": {},
   "outputs": [],
   "source": [
    "# load all files\n",
    "A0 = loadtxt(path + '/A0.txt')\n",
    "B0 = loadtxt(path + '/B0.txt')\n",
    "Pi = loadtxt(path + '/vect_pi0.txt')\n",
    "V = loadtxt(path + '/matrice_symboles.txt')"
   ]
  },
  {
   "cell_type": "markdown",
   "metadata": {},
   "source": [
    "### II. 2.1 Matrices creuses"
   ]
  },
  {
   "cell_type": "markdown",
   "metadata": {},
   "source": [
    "* A quoi correspondent les zéros de la matrice B ? et ceux de la matrice A et du vecteur π ?"
   ]
  },
  {
   "cell_type": "code",
   "execution_count": 18,
   "metadata": {},
   "outputs": [
    {
     "name": "stdout",
     "output_type": "stream",
     "text": [
      "La matrice B est donnée par:\n",
      "\n",
      "[[ 1.    -0.    -0.    -0.     1.   ]\n",
      " [-0.     0.     0.     0.    -0.   ]\n",
      " [-0.     0.     0.     0.018 -0.   ]\n",
      " [-0.     0.078  0.     0.129 -0.   ]\n",
      " [-0.     0.012  0.017  0.    -0.   ]\n",
      " [-0.     0.     0.     0.    -0.   ]\n",
      " [-0.     0.     0.003  0.    -0.   ]\n",
      " [-0.     0.     0.     0.    -0.   ]\n",
      " [-0.     0.     0.024  0.    -0.   ]\n",
      " [-0.     0.     0.     0.    -0.   ]\n",
      " [-0.     0.018  0.     0.163 -0.   ]\n",
      " [-0.     0.     0.317  0.    -0.   ]\n",
      " [-0.     0.     0.     0.    -0.   ]\n",
      " [-0.     0.215  0.     0.049 -0.   ]\n",
      " [-0.     0.     0.     0.    -0.   ]\n",
      " [-0.     0.     0.     0.    -0.   ]\n",
      " [-0.     0.     0.     0.019 -0.   ]\n",
      " [-0.     0.     0.454  0.    -0.   ]\n",
      " [-0.     0.     0.     0.    -0.   ]\n",
      " [-0.     0.     0.     0.002 -0.   ]\n",
      " [-0.     0.     0.     0.    -0.   ]\n",
      " [-0.     0.     0.     0.    -0.   ]\n",
      " [-0.     0.566  0.     0.502 -0.   ]\n",
      " [-0.     0.022  0.007  0.    -0.   ]\n",
      " [-0.     0.     0.     0.    -0.   ]\n",
      " [-0.     0.006  0.     0.    -0.   ]\n",
      " [-0.     0.     0.072  0.108 -0.   ]\n",
      " [-0.     0.     0.09   0.    -0.   ]\n",
      " [-0.     0.     0.     0.    -0.   ]\n",
      " [-0.     0.074  0.     0.    -0.   ]\n",
      " [-0.     0.     0.     0.    -0.   ]\n",
      " [-0.     0.     0.007  0.    -0.   ]]\n"
     ]
    }
   ],
   "source": [
    "print(\"La matrice B est donnée par:\")\n",
    "print()\n",
    "print(B0)"
   ]
  },
  {
   "cell_type": "markdown",
   "metadata": {},
   "source": [
    "Les zéros correspondent ux symboles qui ne peuvent pas être atteints pour un état caché donné. Par exemple, le fait que B(2,1)=0 implique que lorsqu'on se trouve dans l'état 1, on ne peut pas observer le symbole 2. En observant la matrice, on remarque qu'elle est creuse: seules quelques entrées sont non-zéro, ce qui implique que seuls un petit nombre de symboles peuvent être observés dans chaque état. Certains symboles ne sont même atteints dans aucun état (par exemple le symbole 2)."
   ]
  },
  {
   "cell_type": "code",
   "execution_count": 19,
   "metadata": {},
   "outputs": [
    {
     "name": "stdout",
     "output_type": "stream",
     "text": [
      "La matrice A est donnée par:\n",
      "\n",
      "[[ 0.842  0.158 -0.    -0.    -0.   ]\n",
      " [-0.     0.789  0.211 -0.    -0.   ]\n",
      " [-0.    -0.     0.863  0.137 -0.   ]\n",
      " [-0.    -0.    -0.     0.792  0.208]\n",
      " [-0.    -0.    -0.    -0.     1.   ]]\n"
     ]
    }
   ],
   "source": [
    "print(\"La matrice A est donnée par:\")\n",
    "print()\n",
    "print(A0)"
   ]
  },
  {
   "cell_type": "markdown",
   "metadata": {},
   "source": [
    "Les zéros correspondent aux états cachés qui ne peuvent pas être atteints pour un état caché donné. Par exemple, le fait que A(2,1)=0 implique que lorsqu'on se trouve dans l'état 2, on ne peut pas retourner à l'état 1. On reconnaît dans la matrice 1 une matrice gauche-droite, qui implique qu'une fois un état atteint on ne peut retourner à aucun état précédent et qu'on peut seulement atteindre le ou les états suivants."
   ]
  },
  {
   "cell_type": "code",
   "execution_count": 20,
   "metadata": {},
   "outputs": [
    {
     "name": "stdout",
     "output_type": "stream",
     "text": [
      "Le vecteur pi est donné par:\n",
      "\n",
      "[1. 0. 0. 0. 0.]\n"
     ]
    }
   ],
   "source": [
    "print(\"Le vecteur pi est donné par:\")\n",
    "print()\n",
    "print(Pi)"
   ]
  },
  {
   "cell_type": "markdown",
   "metadata": {},
   "source": [
    "Les zéros correspondent aux états qui ne peuvent pas constituer des états initiaux. Ici, pi(2) = 0 implique qu'on ne peut pas démarrer le processus à l'état caché 2. En réalité, on remarque que le seul état initial possible avec ce vecteur pi est l'état caché 1."
   ]
  },
  {
   "cell_type": "markdown",
   "metadata": {},
   "source": [
    "### II.2.2 Fonction de transitions"
   ]
  },
  {
   "cell_type": "markdown",
   "metadata": {},
   "source": [
    "* Ecrire une fonction etat_suivant qui génère un état qt+1(à t+1) à partir de l’état courant qt (à t) à l’aide de la matrice de transitions et de la fonction de répartition cumsum."
   ]
  },
  {
   "cell_type": "code",
   "execution_count": 21,
   "metadata": {},
   "outputs": [],
   "source": [
    "def etat_suivant(etat_courant, matrice_transition):\n",
    "    transition_cumulee = cumsum(matrice_transition[etat_courant-1,:])\n",
    "    return sum(transition_cumulee<random())+1"
   ]
  },
  {
   "cell_type": "markdown",
   "metadata": {},
   "source": [
    "* Afficher la fonction de répartition pour une ligne de la matrice de transition et expliquer son\n",
    "rôle pour la génération de l’état à t+1."
   ]
  },
  {
   "cell_type": "code",
   "execution_count": 22,
   "metadata": {},
   "outputs": [
    {
     "data": {
      "image/png": "[encoded data removed]",
      "text/plain": [
       "<Figure size 504x360 with 1 Axes>"
      ]
     },
     "metadata": {
      "needs_background": "light"
     },
     "output_type": "display_data"
    }
   ],
   "source": [
    "# choose row to display\n",
    "row = 2\n",
    "# plot the cdf\n",
    "cdf = [0] + list(cumsum(A0[row-1,:])) + [1]\n",
    "fig_2 = figure(figsize=(7,5))\n",
    "plot([i for i in range(0 ,7)], cdf, linewidth=3, c=(0, 0.6, 0.8));\n",
    "title('Fig 2: distribution function of row ' + str(row) + ' of the transition matrix A')\n",
    "xlabel('States')\n",
    "ylabel('Cumulated probabilities')\n",
    "xlim([0,6])\n",
    "ylim([0,1.2])\n",
    "grid(True)\n",
    "show()"
   ]
  },
  {
   "cell_type": "markdown",
   "metadata": {},
   "source": [
    "La fonction de répartition permet de générer l'état t+1 à partir de l'état t, en utilisant un nombre aléatoire uniforme. C'est la méthode d'inversion de la fonction de répartition: on pioche uniformément un nombre entre 0 et 1, puis inverse la fonction de répartition pour trouver à quelle valeur de x (ici x=état) correspond cette probabilité cumulée."
   ]
  },
  {
   "cell_type": "markdown",
   "metadata": {},
   "source": [
    "### II.2.3 Générer une séquence d'observations"
   ]
  },
  {
   "cell_type": "markdown",
   "metadata": {},
   "source": [
    "* Générer une séquence d’observations suivant le modèle de Markov Caché du chiffre 0.\n",
    "On commencera par générer une séquence d’états suivant ce modèle à l’aide de la fonction\n",
    "etat_suivant. Puis on générera la séquence d’observations par le même procédé."
   ]
  },
  {
   "cell_type": "code",
   "execution_count": 23,
   "metadata": {},
   "outputs": [],
   "source": [
    "# function to generate both state and observation sequence\n",
    "def genere_state_obs_seq(matrice_transition, matrice_observations):\n",
    "    # initiate state and observations sequences; initial state is always 1\n",
    "    state_seq = [1]\n",
    "    obs_seq = [etat_suivant(1, matrice_observations.T)]\n",
    "    # generate sequences\n",
    "    terminal_state = matrice_transition.shape[0]\n",
    "    while state_seq[-1] != terminal_state:\n",
    "        state_seq.append(etat_suivant(state_seq[-1], matrice_transition))\n",
    "        obs_seq.append(etat_suivant(state_seq[-1], matrice_observations.T))\n",
    "    return state_seq, obs_seq"
   ]
  },
  {
   "cell_type": "code",
   "execution_count": 24,
   "metadata": {},
   "outputs": [
    {
     "name": "stdout",
     "output_type": "stream",
     "text": [
      "La séquence des états cachés est donnée par:\n",
      "[1, 1, 2, 2, 2, 2, 2, 2, 2, 2, 2, 3, 3, 3, 3, 3, 3, 3, 3, 3, 3, 3, 3, 4, 5]\n",
      "La séquence des observations est donnée par:\n",
      "[1, 1, 23, 23, 14, 4, 23, 14, 14, 23, 26, 18, 12, 18, 18, 18, 24, 27, 18, 12, 28, 18, 12, 23, 1]\n"
     ]
    }
   ],
   "source": [
    "# generate the two sequences\n",
    "state_sequence, observation_sequence = genere_state_obs_seq(A0, B0)\n",
    "# display results\n",
    "print(\"La séquence des états cachés est donnée par:\")\n",
    "print(state_sequence)\n",
    "print(\"La séquence des observations est donnée par:\")\n",
    "print(observation_sequence)"
   ]
  },
  {
   "cell_type": "markdown",
   "metadata": {},
   "source": [
    "### II.2.4 Visualisation des images générées"
   ]
  },
  {
   "cell_type": "markdown",
   "metadata": {},
   "source": [
    "* Visualiser le résultat sous forme d’image."
   ]
  },
  {
   "cell_type": "code",
   "execution_count": 25,
   "metadata": {},
   "outputs": [
    {
     "data": {
      "image/png": "[encoded data removed]",
      "text/plain": [
       "<Figure size 432x432 with 1 Axes>"
      ]
     },
     "metadata": {
      "needs_background": "light"
     },
     "output_type": "display_data"
    }
   ],
   "source": [
    "# visualization of image generated in previous question\n",
    "image = stack([V[:,symbol-1] for symbol in observation_sequence], axis=0).T\n",
    "fig_3 = figure(figsize=(6,6))\n",
    "imshow(image, interpolation='none', aspect='auto');\n",
    "title('Fig 3: image of digit 0');\n",
    "show()"
   ]
  },
  {
   "cell_type": "markdown",
   "metadata": {},
   "source": [
    "* Générer des séquences pour le chiffre 7 et le chiffre 1 (matrices B1.txt, B7.txt, etc…)"
   ]
  },
  {
   "cell_type": "code",
   "execution_count": 26,
   "metadata": {},
   "outputs": [],
   "source": [
    "# load matrices\n",
    "A1 = loadtxt(path + '/A1.txt')\n",
    "B1 = loadtxt(path + '/B1.txt')\n",
    "A7 = loadtxt(path + '/A7.txt')\n",
    "B7 = loadtxt(path + '/B7.txt')"
   ]
  },
  {
   "cell_type": "code",
   "execution_count": 27,
   "metadata": {},
   "outputs": [
    {
     "data": {
      "image/png": "[encoded data removed]",
      "text/plain": [
       "<Figure size 1440x1080 with 20 Axes>"
      ]
     },
     "metadata": {
      "needs_background": "light"
     },
     "output_type": "display_data"
    }
   ],
   "source": [
    "# display 20 examples of class 0\n",
    "fig4 = figure(1, figsize=(20, 15))\n",
    "suptitle(\"Sequences generated for number 0\", fontsize=36)\n",
    "for index in range(1,21):\n",
    "    state_sequence, observation_sequence = genere_state_obs_seq(A0, B0)\n",
    "    image = stack([V[:,symbol-1] for symbol in observation_sequence], axis=0).T\n",
    "    subplot(4,5,index)\n",
    "    imshow(image, interpolation='none', aspect='auto');"
   ]
  },
  {
   "cell_type": "code",
   "execution_count": 28,
   "metadata": {},
   "outputs": [
    {
     "data": {
      "image/png": "[encoded data removed]",
      "text/plain": [
       "<Figure size 1440x1080 with 20 Axes>"
      ]
     },
     "metadata": {
      "needs_background": "light"
     },
     "output_type": "display_data"
    }
   ],
   "source": [
    "# display 20 examples of class 0\n",
    "fig5 = figure(1, figsize=(20, 15))\n",
    "suptitle(\"Sequences generated for number 7\", fontsize=36)\n",
    "for index in range(1,21):\n",
    "    state_sequence, observation_sequence = genere_state_obs_seq(A7, B7)\n",
    "    image = stack([V[:,symbol-1] for symbol in observation_sequence], axis=0).T\n",
    "    subplot(4,5,index)\n",
    "    imshow(image, interpolation='none', aspect='auto');"
   ]
  },
  {
   "cell_type": "code",
   "execution_count": 29,
   "metadata": {},
   "outputs": [
    {
     "data": {
      "image/png": "[encoded data removed]",
      "text/plain": [
       "<Figure size 1440x1080 with 20 Axes>"
      ]
     },
     "metadata": {
      "needs_background": "light"
     },
     "output_type": "display_data"
    }
   ],
   "source": [
    "# display 20 examples of class 1\n",
    "fig6 = figure(1, figsize=(20, 15))\n",
    "suptitle(\"Sequences generated for number 1\", fontsize=36)\n",
    "for index in range(1,21):\n",
    "    state_sequence, observation_sequence = genere_state_obs_seq(A1, B1)\n",
    "    image = stack([V[:,symbol-1] for symbol in observation_sequence], axis=0).T\n",
    "    subplot(4,5,index)\n",
    "    imshow(image, interpolation='none', aspect='auto');"
   ]
  },
  {
   "cell_type": "markdown",
   "metadata": {},
   "source": [
    "### II.3. Calcul de la vraisemblance de séquences d’observations"
   ]
  },
  {
   "cell_type": "markdown",
   "metadata": {},
   "source": [
    "* Les fichiers SeqTest0.txt, SeqTest1.txt, SeqTest7.txt contiennent chacun 10 séquences\n",
    "d’observations de chiffres des 3 classes 0, 1 et 7, disposés en ligne."
   ]
  },
  {
   "cell_type": "code",
   "execution_count": 30,
   "metadata": {},
   "outputs": [],
   "source": [
    "# load sequences\n",
    "SeqTest0 = loadtxt(path + '/SeqTest0.txt').astype(int)\n",
    "SeqTest1 = loadtxt(path + '/SeqTest1.txt').astype(int)\n",
    "SeqTest7 = loadtxt(path + '/SeqTest7.txt').astype(int)"
   ]
  },
  {
   "cell_type": "markdown",
   "metadata": {},
   "source": [
    "### II.3.1 Calcul des vraisemblances"
   ]
  },
  {
   "cell_type": "markdown",
   "metadata": {},
   "source": [
    "* Calculer la vraisemblance de ces séquences suivant chacun des modèles (0, 1 et 7) par l’algorithme de Viterbi (on pourra implémenter la version logarithmique de cet algorithme). Pour cela les matrices A, B et π seront converties en logarithmes (utiliser np.log)."
   ]
  },
  {
   "cell_type": "code",
   "execution_count": 31,
   "metadata": {},
   "outputs": [],
   "source": [
    "# auxiliary function to switch to log values\n",
    "def log_matrix(X):\n",
    "    log_X = X.copy()\n",
    "    # for non-zero entries, simply take the log\n",
    "    log_X[X != 0] = log(X[X != 0])\n",
    "    # for zero entries, log is not defined; set to large negative value\n",
    "    log_X[X == 0] = -500\n",
    "    return log_X\n",
    "\n",
    "# function for Viterbi algorithm\n",
    "def viterbi(A, B, pi, seq):\n",
    "    # get dimensions for the table\n",
    "    nb_states = A.shape[0]\n",
    "    seq_length = seq.shape[0]\n",
    "    # initiate Delta and Phi tables\n",
    "    Delta_table = zeros((nb_states, seq_length))\n",
    "    Phi_table = zeros((nb_states, seq_length))\n",
    "    # switch matrices to log\n",
    "    log_pi = log_matrix(pi)\n",
    "    log_A = log_matrix(A)\n",
    "    log_B = log_matrix(B)\n",
    "    # initial period\n",
    "    b = log_B.T[:, seq[0]-1]\n",
    "    Delta_table[:,0] = b + log_pi\n",
    "    # other sequence periods\n",
    "    for sequence_period in range(1, seq_length):\n",
    "        obs = seq[sequence_period]\n",
    "        delta = Delta_table[:,sequence_period-1]\n",
    "        for state in range(nb_states):\n",
    "            a = log_A[:,state]\n",
    "            b = log_B.T[state, obs-1]\n",
    "            temp = delta + a + b\n",
    "            Phi_table[state, sequence_period] = argmax(temp) + 1\n",
    "            Delta_table[state, sequence_period] = amax(temp)\n",
    "    log_likelihood = amax(Delta_table[:,-1])\n",
    "    likelihood = exp(log_likelihood)\n",
    "    return log_likelihood, likelihood"
   ]
  },
  {
   "cell_type": "markdown",
   "metadata": {},
   "source": [
    "Note: pour des raisons de lisibilité, je limite dans cette question le calcul de la vraisemblance à une seule séquence de chaque classe. La classification de l'ensemble des séquences se fera en question suivante."
   ]
  },
  {
   "cell_type": "code",
   "execution_count": 32,
   "metadata": {},
   "outputs": [
    {
     "name": "stdout",
     "output_type": "stream",
     "text": [
      "La log-vraissemblance de la séquence de classe 0 avec les paramètres A0 et B0 est de -29.21.\n",
      "La log-vraissemblance de la séquence de classe 0 avec les paramètres A1 et B1 est de -93.01.\n",
      "La log-vraissemblance de la séquence de classe 0 avec les paramètres A7 et B7 est de -106.19.\n",
      "\n",
      "La log-vraissemblance de la séquence de classe 1 avec les paramètres A0 et B0 est de -70.17.\n",
      "La log-vraissemblance de la séquence de classe 1 avec les paramètres A1 et B1 est de -53.33.\n",
      "La log-vraissemblance de la séquence de classe 1 avec les paramètres A7 et B7 est de -72.52.\n",
      "\n",
      "La log-vraissemblance de la séquence de classe 7 avec les paramètres A0 et B0 est de -88.23.\n",
      "La log-vraissemblance de la séquence de classe 7 avec les paramètres A1 et B1 est de -81.56.\n",
      "La log-vraissemblance de la séquence de classe 7 avec les paramètres A7 et B7 est de -32.56.\n"
     ]
    }
   ],
   "source": [
    "# likelihood for one sequence of each class\n",
    "loglik, lik = viterbi(A0, B0, Pi, SeqTest0[0,:])\n",
    "print(\"La log-vraissemblance de la séquence de classe 0 avec les paramètres A0 et B0 est de \" + str(round(loglik,2)) + \".\")\n",
    "loglik, lik = viterbi(A1, B1, Pi, SeqTest0[0,:])\n",
    "print(\"La log-vraissemblance de la séquence de classe 0 avec les paramètres A1 et B1 est de \" + str(round(loglik,2)) + \".\")\n",
    "loglik, lik = viterbi(A7, B7, Pi, SeqTest0[0,:])\n",
    "print(\"La log-vraissemblance de la séquence de classe 0 avec les paramètres A7 et B7 est de \" + str(round(loglik,2)) + \".\")\n",
    "print()\n",
    "loglik, lik = viterbi(A0, B0, Pi, SeqTest1[0,:])\n",
    "print(\"La log-vraissemblance de la séquence de classe 1 avec les paramètres A0 et B0 est de \" + str(round(loglik,2)) + \".\")\n",
    "loglik, lik = viterbi(A1, B1, Pi, SeqTest1[0,:])\n",
    "print(\"La log-vraissemblance de la séquence de classe 1 avec les paramètres A1 et B1 est de \" + str(round(loglik,2)) + \".\")\n",
    "loglik, lik = viterbi(A7, B7, Pi, SeqTest1[0,:])\n",
    "print(\"La log-vraissemblance de la séquence de classe 1 avec les paramètres A7 et B7 est de \" + str(round(loglik,2)) + \".\")\n",
    "print()\n",
    "loglik, lik = viterbi(A0, B0, Pi, SeqTest7[0,:])\n",
    "print(\"La log-vraissemblance de la séquence de classe 7 avec les paramètres A0 et B0 est de \" + str(round(loglik,2)) + \".\")\n",
    "loglik, lik = viterbi(A1, B1, Pi, SeqTest7[0,:])\n",
    "print(\"La log-vraissemblance de la séquence de classe 7 avec les paramètres A1 et B1 est de \" + str(round(loglik,2)) + \".\")\n",
    "loglik, lik = viterbi(A7, B7, Pi, SeqTest7[0,:])\n",
    "print(\"La log-vraissemblance de la séquence de classe 7 avec les paramètres A7 et B7 est de \" + str(round(loglik,2)) + \".\")"
   ]
  },
  {
   "cell_type": "markdown",
   "metadata": {},
   "source": [
    "On observe que pour les exemples considérées, la log-vraisemblance la plus élevée est systématiquement celle qui correspond à la classe correcte. Autrement dit, les paramètres A0, A1, A7, B0, B1 et B7 dont on dispose semblent être capables de classifier correctement les exemples de séquences considérés. On considère en prochaine question la classification de l'ensemble des 30 séquences."
   ]
  },
  {
   "cell_type": "markdown",
   "metadata": {},
   "source": [
    "### II.3.2 Classification des images de test"
   ]
  },
  {
   "cell_type": "markdown",
   "metadata": {},
   "source": [
    "* Donner le résultat de la classification des images de test en considérant un problème à\n",
    "trois classes : 0, 1 et 7."
   ]
  },
  {
   "cell_type": "code",
   "execution_count": 33,
   "metadata": {},
   "outputs": [
    {
     "name": "stdout",
     "output_type": "stream",
     "text": [
      "La séquence 1 de la classe 0 a été correctement prédite comme 0.\n",
      "La séquence 2 de la classe 0 a été correctement prédite comme 0.\n",
      "La séquence 3 de la classe 0 a été correctement prédite comme 0.\n",
      "La séquence 4 de la classe 0 a été correctement prédite comme 0.\n",
      "La séquence 5 de la classe 0 a été correctement prédite comme 0.\n",
      "La séquence 6 de la classe 0 a été correctement prédite comme 0.\n",
      "La séquence 7 de la classe 0 a été correctement prédite comme 0.\n",
      "La séquence 8 de la classe 0 a été correctement prédite comme 0.\n",
      "La séquence 9 de la classe 0 a été correctement prédite comme 0.\n",
      "La séquence 10 de la classe 0 a été correctement prédite comme 0.\n",
      "\n",
      "La séquence 1 de la classe 1 a été correctement prédite comme 1.\n",
      "La séquence 2 de la classe 1 a été correctement prédite comme 1.\n",
      "La séquence 3 de la classe 1 a été correctement prédite comme 1.\n",
      "La séquence 4 de la classe 1 a été correctement prédite comme 1.\n",
      "La séquence 5 de la classe 1 a été correctement prédite comme 1.\n",
      "La séquence 6 de la classe 1 a été correctement prédite comme 1.\n",
      "La séquence 7 de la classe 1 a été correctement prédite comme 1.\n",
      "La séquence 8 de la classe 1 a été correctement prédite comme 1.\n",
      "La séquence 9 de la classe 1 a été correctement prédite comme 1.\n",
      "La séquence 10 de la classe 1 a été correctement prédite comme 1.\n",
      "\n",
      "La séquence 1 de la classe 7 a été correctement prédite comme 7.\n",
      "La séquence 2 de la classe 7 a été correctement prédite comme 7.\n",
      "La séquence 3 de la classe 7 a été incorrectement prédite comme 1.\n",
      "La séquence 4 de la classe 7 a été correctement prédite comme 7.\n",
      "La séquence 5 de la classe 7 a été correctement prédite comme 7.\n",
      "La séquence 6 de la classe 7 a été correctement prédite comme 7.\n",
      "La séquence 7 de la classe 7 a été correctement prédite comme 7.\n",
      "La séquence 8 de la classe 7 a été correctement prédite comme 7.\n",
      "La séquence 9 de la classe 7 a été correctement prédite comme 7.\n",
      "La séquence 10 de la classe 7 a été correctement prédite comme 7.\n",
      "\n",
      "Au total, les prévisions sont correctes pour 29 séquences sur 30.\n"
     ]
    }
   ],
   "source": [
    "# initiate counters\n",
    "count_correct = 0\n",
    "\n",
    "# class 0\n",
    "for index, sequence in enumerate(SeqTest0):\n",
    "    loglik0, lik0 = viterbi(A0, B0, Pi, sequence)\n",
    "    loglik1, lik1 = viterbi(A1, B1, Pi, sequence)\n",
    "    loglik7, lik7 = viterbi(A7, B7, Pi, sequence)\n",
    "    log_lik = [loglik0, loglik1, -1000, -1000, -1000, -1000, -1000, loglik7]\n",
    "    predicted_class = argmax(log_lik)\n",
    "    if predicted_class == 0:\n",
    "        count_correct += 1\n",
    "        print(\"La séquence \" + str(index+1) + \" de la classe 0 a été correctement prédite comme 0.\")\n",
    "    else:\n",
    "        print(\"La séquence \" + str(index+1) + \" de la classe 0 a été incorrectement prédite comme \" + str(predicted_class) + \".\")\n",
    "print()\n",
    "        \n",
    "# class 1\n",
    "for index, sequence in enumerate(SeqTest1):\n",
    "    loglik0, lik0 = viterbi(A0, B0, Pi, sequence)\n",
    "    loglik1, lik1 = viterbi(A1, B1, Pi, sequence)\n",
    "    loglik7, lik7 = viterbi(A7, B7, Pi, sequence)\n",
    "    log_lik = [loglik0, loglik1, -1000, -1000, -1000, -1000, -1000, loglik7]\n",
    "    predicted_class = argmax(log_lik)\n",
    "    if predicted_class == 1:\n",
    "        count_correct += 1\n",
    "        print(\"La séquence \" + str(index+1) + \" de la classe 1 a été correctement prédite comme 1.\")\n",
    "    else:\n",
    "        print(\"La séquence \" + str(index+1) + \" de la classe 1 a été incorrectement prédite comme \" + str(predicted_class) + \".\")\n",
    "print()\n",
    "\n",
    "# class 7\n",
    "for index, sequence in enumerate(SeqTest7):\n",
    "    loglik0, lik0 = viterbi(A0, B0, Pi, sequence)\n",
    "    loglik1, lik1 = viterbi(A1, B1, Pi, sequence)\n",
    "    loglik7, lik7 = viterbi(A7, B7, Pi, sequence)\n",
    "    log_lik = [loglik0, loglik1, -1000, -1000, -1000, -1000, -1000, loglik7]\n",
    "    predicted_class = argmax(log_lik)\n",
    "    if predicted_class == 7:\n",
    "        count_correct += 1\n",
    "        print(\"La séquence \" + str(index+1) + \" de la classe 7 a été correctement prédite comme 7.\")\n",
    "    else:\n",
    "        print(\"La séquence \" + str(index+1) + \" de la classe 7 a été incorrectement prédite comme \" + str(predicted_class) + \".\")\n",
    "\n",
    "print()\n",
    "print(\"Au total, les prévisions sont correctes pour \" + str(count_correct) + \" séquences sur 30.\" )   "
   ]
  },
  {
   "cell_type": "code",
   "execution_count": null,
   "metadata": {},
   "outputs": [],
   "source": []
  },
  {
   "cell_type": "code",
   "execution_count": null,
   "metadata": {},
   "outputs": [],
   "source": []
  },
  {
   "cell_type": "code",
   "execution_count": null,
   "metadata": {},
   "outputs": [],
   "source": []
  }
 ],
 "metadata": {
  "kernelspec": {
   "display_name": "Python 3",
   "language": "python",
   "name": "python3"
  },
  "language_info": {
   "codemirror_mode": {
    "name": "ipython",
    "version": 3
   },
   "file_extension": ".py",
   "mimetype": "text/x-python",
   "name": "python",
   "nbconvert_exporter": "python",
   "pygments_lexer": "ipython3",
   "version": "3.7.4"
  }
 },
 "nbformat": 4,
 "nbformat_minor": 2
}
