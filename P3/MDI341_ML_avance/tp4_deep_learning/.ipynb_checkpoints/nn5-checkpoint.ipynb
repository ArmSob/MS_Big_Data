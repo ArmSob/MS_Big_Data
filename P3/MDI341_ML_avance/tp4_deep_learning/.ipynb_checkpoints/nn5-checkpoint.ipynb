{
 "cells": [
  {
   "cell_type": "code",
   "execution_count": 3,
   "metadata": {},
   "outputs": [
    {
     "name": "stdout",
     "output_type": "stream",
     "text": [
      "TensorFlow version:  2.0.0\n"
     ]
    }
   ],
   "source": [
    "import tensorflow as tf\n",
    "print(\"TensorFlow version: \",format(tf.__version__))\n",
    "import DataSets as ds\n",
    "import Layers\n",
    "import numpy as np\n",
    "from pathlib import Path"
   ]
  },
  {
   "cell_type": "markdown",
   "metadata": {},
   "source": [
    "### chargement des données"
   ]
  },
  {
   "cell_type": "code",
   "execution_count": 4,
   "metadata": {},
   "outputs": [
    {
     "name": "stdout",
     "output_type": "stream",
     "text": [
      "nb data =  10000\n",
      "nb data =  10000\n"
     ]
    }
   ],
   "source": [
    "LoadModel = False\n",
    "experiment_size = 10\n",
    "train = ds.DataSet(Path(\"/home/romain/jupyter_mla/Databases/data_%dk.bin\"%experiment_size), \\\n",
    "                   Path(\"/home/romain/jupyter_mla/Databases/gender_%dk.bin\"%experiment_size), 1000*experiment_size)\n",
    "test = ds.DataSet(Path(\"/home/romain/jupyter_mla/Databases/data_test10k.bin\"), \\\n",
    "     Path(\"/home/romain/jupyter_mla/Databases/gender_test10k.bin\"), 10000)"
   ]
  },
  {
   "cell_type": "markdown",
   "metadata": {},
   "source": [
    "### classes pour définir les couches et la structure du réseau"
   ]
  },
  {
   "cell_type": "code",
   "execution_count": 5,
   "metadata": {},
   "outputs": [],
   "source": [
    "class ConvNeuralNet(tf.Module):\n",
    "    def __init__(self):\n",
    "        list = []\n",
    "        list.append( Layers.unflat('unflat',48, 48, 1) )\n",
    "        nbfilter = 3\n",
    "        for i in range(4):\n",
    "            for j in range(2):\n",
    "                list.append(Layers.conv('block_%d_conv_%d'%(i,j), output_dim=nbfilter, filterSize=3, stride=1,dropout_rate = 0.1))\n",
    "            list.append( Layers.maxpool('pool', 2) )\n",
    "            nbfilter *= 2\n",
    "        list.append(Layers.flat())\n",
    "        list.append(Layers.fc('fc', 2))\n",
    "        self.list = list\n",
    "\n",
    "    def __call__(self, x, log_summary, training):\n",
    "        for l in self.list:\n",
    "            x = l(x, log_summary, training)\n",
    "        return x"
   ]
  },
  {
   "cell_type": "code",
   "execution_count": 6,
   "metadata": {},
   "outputs": [],
   "source": [
    "def train_one_iter(model, optimizer, image, label, log_summary):\n",
    "    with tf.GradientTape() as tape:\n",
    "        y = model(image,log_summary,True)\n",
    "        y = tf.nn.log_softmax(y)\n",
    "        diff = label * y\n",
    "        loss = -tf.reduce_sum(diff)\n",
    "        if log_summary:\n",
    "            tf.summary.scalar('cross entropy', loss)\n",
    "        grads = tape.gradient(loss, model.trainable_variables)\n",
    "        optimizer.apply_gradients(zip(grads, model.trainable_variables))\n",
    "    return loss"
   ]
  },
  {
   "cell_type": "markdown",
   "metadata": {},
   "source": [
    "### Résumé du modèle"
   ]
  },
  {
   "cell_type": "code",
   "execution_count": 7,
   "metadata": {},
   "outputs": [
    {
     "name": "stdout",
     "output_type": "stream",
     "text": [
      "-----------------------------------------------------\n",
      "----------------------- 10k -------------------------\n",
      "-----------------------------------------------------\n"
     ]
    }
   ],
   "source": [
    "print (\"-----------------------------------------------------\")\n",
    "print (\"----------------------- %dk -------------------------\"%experiment_size)\n",
    "print (\"-----------------------------------------------------\")"
   ]
  },
  {
   "cell_type": "code",
   "execution_count": null,
   "metadata": {},
   "outputs": [],
   "source": [
    "train_summary_writer = tf.summary.create_file_writer('logs %dk'%experiment_size)\n",
    "optimizer = tf.optimizers.Adam(1e-3)\n",
    "simple_cnn = ConvNeuralNet()"
   ]
  },
  {
   "cell_type": "code",
   "execution_count": null,
   "metadata": {},
   "outputs": [],
   "source": [
    "for iter in range(5000):\n",
    "    tf.summary.experimental.set_step(iter)\n",
    "\n",
    "    if iter % 500 == 0:\n",
    "        with train_summary_writer.as_default():\n",
    "            acc1 = train.mean_accuracy(simple_cnn) * 100\n",
    "            acc2 = test.mean_accuracy(simple_cnn) * 100\n",
    "            print(\"iter= %6d accuracy - train= %.2f%% - test= %.2f%%\" % (iter, acc1, acc2))\n",
    "\n",
    "    ima, lab = train.NextTrainingBatch()\n",
    "    with train_summary_writer.as_default():\n",
    "        loss = train_one_iter(simple_cnn, optimizer, ima, lab, iter % 10 == 0)\n",
    "\n",
    "    if iter % 100 == 0:\n",
    "        print(\"iter= %6d - loss= %f\" % (iter, loss))"
   ]
  },
  {
   "cell_type": "code",
   "execution_count": null,
   "metadata": {},
   "outputs": [],
   "source": []
  },
  {
   "cell_type": "code",
   "execution_count": null,
   "metadata": {},
   "outputs": [],
   "source": []
  }
 ],
 "metadata": {
  "kernelspec": {
   "display_name": "Python 3",
   "language": "python",
   "name": "python3"
  },
  "language_info": {
   "codemirror_mode": {
    "name": "ipython",
    "version": 3
   },
   "file_extension": ".py",
   "mimetype": "text/x-python",
   "name": "python",
   "nbconvert_exporter": "python",
   "pygments_lexer": "ipython3",
   "version": "3.7.4"
  }
 },
 "nbformat": 4,
 "nbformat_minor": 2
}
