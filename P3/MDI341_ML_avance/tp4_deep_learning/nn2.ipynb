{
 "cells": [
  {
   "cell_type": "code",
   "execution_count": 1,
   "metadata": {},
   "outputs": [
    {
     "name": "stdout",
     "output_type": "stream",
     "text": [
      "TensorFlow version:  2.0.0\n"
     ]
    }
   ],
   "source": [
    "import tensorflow as tf\n",
    "import numpy as np\n",
    "print(\"TensorFlow version: \",format(tf.__version__))\n",
    "from pathlib import Path\n",
    "import DataSets as ds"
   ]
  },
  {
   "cell_type": "markdown",
   "metadata": {},
   "source": [
    "### chargement des données"
   ]
  },
  {
   "cell_type": "code",
   "execution_count": 2,
   "metadata": {},
   "outputs": [
    {
     "name": "stdout",
     "output_type": "stream",
     "text": [
      "nb data =  1000\n"
     ]
    }
   ],
   "source": [
    "LoadModel = True\n",
    "experiment_name = '1k'\n",
    "train = ds.DataSet(Path(\"/home/romain/jupyter_mla/Databases/data_1k.bin\"), \\\n",
    "                   Path(\"/home/romain/jupyter_mla/Databases/gender_1k.bin\"), 1000)"
   ]
  },
  {
   "cell_type": "markdown",
   "metadata": {},
   "source": [
    "### classes pour définir les couches et la structure du réseau"
   ]
  },
  {
   "cell_type": "markdown",
   "metadata": {},
   "source": [
    "Note: le module tf.summary est une API qui permet d'enregristrer des mesures de données. Ces enregistrements peuvent ensuite être visualisés sous TensorBoard, l'outil de visualisation de TensorFlow."
   ]
  },
  {
   "cell_type": "code",
   "execution_count": 3,
   "metadata": {},
   "outputs": [],
   "source": [
    "class fc_layer(tf.Module):\n",
    "    def __init__(self, name, input_dim, output_dim):\n",
    "        self.scope_name = name\n",
    "        w_init = tf.random.truncated_normal([input_dim, output_dim], stddev=0.1)\n",
    "        self.w = tf.Variable(w_init)\n",
    "        print('w      ', self.w.shape)\n",
    "        b_init = tf.constant(0.0, shape=[output_dim])\n",
    "        self.b = tf.Variable(b_init)\n",
    "        print('b      ', self.b.get_shape())\n",
    "\n",
    "    def __call__(self, x, log_summary):\n",
    "        if log_summary:\n",
    "            with tf.name_scope(self.scope_name) as scope:\n",
    "                tf.summary.scalar(\"mean w\", tf.reduce_mean(self.w))\n",
    "                tf.summary.scalar(\"max w\", tf.reduce_max(self.w))\n",
    "                tf.summary.histogram(\"w\", self.w)\n",
    "                tf.summary.scalar(\"mean b\", tf.reduce_mean(self.b))\n",
    "                tf.summary.scalar(\"max b\", tf.reduce_max(self.b))\n",
    "                tf.summary.histogram(\"b\", self.b)\n",
    "        return tf.matmul(x, self.w) + self.b"
   ]
  },
  {
   "cell_type": "code",
   "execution_count": 4,
   "metadata": {},
   "outputs": [],
   "source": [
    "class SimpleNet(tf.Module):\n",
    "    def __init__(self, input_dim):\n",
    "        self.fc1 = fc_layer('fc1', input_dim, 50)\n",
    "        self.fc2 = fc_layer('fc2', 50, 2)\n",
    "\n",
    "    def __call__(self, x, log_summary):\n",
    "        x = self.fc1(x, log_summary)\n",
    "        x = tf.nn.sigmoid(x)\n",
    "        x = self.fc2(x, log_summary)\n",
    "        return x"
   ]
  },
  {
   "cell_type": "code",
   "execution_count": 5,
   "metadata": {},
   "outputs": [],
   "source": [
    "def train_one_iter(model, optimizer, image, label, log_summary):\n",
    "    with tf.GradientTape() as tape:\n",
    "        y = model(image,log_summary)\n",
    "        loss = tf.reduce_sum(tf.square(y - label))\n",
    "        if log_summary:\n",
    "            tf.summary.scalar('loss', loss)\n",
    "        grads = tape.gradient(loss, model.trainable_variables)\n",
    "        optimizer.apply_gradients(zip(grads, model.trainable_variables))\n",
    "    return loss"
   ]
  },
  {
   "cell_type": "markdown",
   "metadata": {},
   "source": [
    "### Résumé du modèle"
   ]
  },
  {
   "cell_type": "code",
   "execution_count": 6,
   "metadata": {},
   "outputs": [
    {
     "name": "stdout",
     "output_type": "stream",
     "text": [
      "-----------------------------------------------------\n",
      "----------- 1k ---------------------\n",
      "-----------------------------------------------------\n"
     ]
    }
   ],
   "source": [
    "print (\"-----------------------------------------------------\")\n",
    "print (\"-----------\", experiment_name, \"---------------------\")\n",
    "print (\"-----------------------------------------------------\")"
   ]
  },
  {
   "cell_type": "code",
   "execution_count": 7,
   "metadata": {},
   "outputs": [
    {
     "name": "stdout",
     "output_type": "stream",
     "text": [
      "w       (2304, 50)\n",
      "b       (50,)\n",
      "w       (50, 2)\n",
      "b       (2,)\n"
     ]
    }
   ],
   "source": [
    "# note: 'tf.summary.create_file_writer' sert à créer un fichier récapitulatif dans le répertoire en argument\n",
    "train_summary_writer = tf.summary.create_file_writer('logs')\n",
    "optimizer = tf.optimizers.SGD(1e-4)\n",
    "simple_v2 = SimpleNet(train.dim)"
   ]
  },
  {
   "cell_type": "code",
   "execution_count": 8,
   "metadata": {},
   "outputs": [],
   "source": [
    "# note: 'tf.summary.Checkpoint' sert à créer un point de sauvegarde et de restauration des paramètres suivis\n",
    "if LoadModel:\n",
    "    ckpt = tf.train.Checkpoint(step=tf.Variable(1), optimizer=optimizer, net=simple_v2)\n",
    "    ckpt.restore('/home/romain/jupyter_mla/Databases/saved_model-1')"
   ]
  },
  {
   "cell_type": "code",
   "execution_count": 9,
   "metadata": {},
   "outputs": [
    {
     "name": "stdout",
     "output_type": "stream",
     "text": [
      "iter=      0 - loss= 42.924492\n",
      "iter=    100 - loss= 36.503040\n",
      "iter=    200 - loss= 22.528732\n",
      "iter=    300 - loss= 40.310223\n",
      "iter=    400 - loss= 33.822441\n"
     ]
    }
   ],
   "source": [
    "for iter in range(500):\n",
    "    tf.summary.experimental.set_step(iter)\n",
    "    ima, lab = train.NextTrainingBatch()\n",
    "    with train_summary_writer.as_default():\n",
    "        loss = train_one_iter(simple_v2, optimizer, ima, lab, iter % 10 == 0)\n",
    "    if iter % 100 == 0:\n",
    "        print(\"iter= %6d - loss= %f\" % (iter, loss))"
   ]
  },
  {
   "cell_type": "code",
   "execution_count": 10,
   "metadata": {},
   "outputs": [],
   "source": [
    "if not LoadModel:\n",
    "    ckpt = tf.train.Checkpoint(step=tf.Variable(1), optimizer=optimizer, net=simple_v2)\n",
    "    ckpt.save(Path(\"/home/romain/jupyter_mla/Databases/saved_model\"))"
   ]
  }
 ],
 "metadata": {
  "kernelspec": {
   "display_name": "Python 3",
   "language": "python",
   "name": "python3"
  },
  "language_info": {
   "codemirror_mode": {
    "name": "ipython",
    "version": 3
   },
   "file_extension": ".py",
   "mimetype": "text/x-python",
   "name": "python",
   "nbconvert_exporter": "python",
   "pygments_lexer": "ipython3",
   "version": "3.7.4"
  }
 },
 "nbformat": 4,
 "nbformat_minor": 2
}
