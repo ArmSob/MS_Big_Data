{
 "cells": [
  {
   "cell_type": "markdown",
   "metadata": {},
   "source": [
    "### explication de l'architecture"
   ]
  },
  {
   "cell_type": "markdown",
   "metadata": {},
   "source": [
    "Mon choix pour ce projet est d'entraîner un réseau simple inspiré d'AlexNet. Celui-ci est en effet suffisamment riche pour obtenir des résultats satisfaisants tout en étant suffisamment simple pour être facilement architecturé et estimé. La version choisie ici contient les couches suivantes:\n",
    "- une couche de convolution à 3 filtres de dimension 3 et stride de 1, activation ReLU.\n",
    "- une couche de max pooling de dimension 2.\n",
    "- une seconde couche de convolution à 6 filtres de dimension 3 et stride de 1, activation ReLU.\n",
    "- une seconde couche de max pooling de dimension 2.\n",
    "- une troisième couche de convolution à 12 filtres de dimension 3 et stride de 1, activation ReLU.\n",
    "- une troisième couche de max pooling de dimension 2.\n",
    "- une couche de flattening pour récupérer les données sous forme vectorielle.\n",
    "- une première couche fully connected de dimension 20.\n",
    "- une seconde couche fully connected de sortie, de dimension 2."
   ]
  },
  {
   "cell_type": "markdown",
   "metadata": {},
   "source": [
    "### imports"
   ]
  },
  {
   "cell_type": "code",
   "execution_count": 1,
   "metadata": {},
   "outputs": [
    {
     "name": "stdout",
     "output_type": "stream",
     "text": [
      "TensorFlow version:  2.0.0\n"
     ]
    }
   ],
   "source": [
    "import tensorflow as tf\n",
    "import numpy as np\n",
    "print(\"TensorFlow version: \",format(tf.__version__))\n",
    "import Layers\n",
    "from pathlib import Path\n",
    "import DataSets as ds\n",
    "import matplotlib.pyplot as plt"
   ]
  },
  {
   "cell_type": "markdown",
   "metadata": {},
   "source": [
    "### paramètres et chargement des données"
   ]
  },
  {
   "cell_type": "code",
   "execution_count": 2,
   "metadata": {},
   "outputs": [],
   "source": [
    "LoadModel = True\n",
    "experiment_size = 100\n",
    "n_iter = 0"
   ]
  },
  {
   "cell_type": "code",
   "execution_count": 3,
   "metadata": {},
   "outputs": [
    {
     "name": "stdout",
     "output_type": "stream",
     "text": [
      "nb data =  100000\n",
      "nb data =  10000\n"
     ]
    }
   ],
   "source": [
    "train = ds.DataSet(Path(\"/home/romain/jupyter_mla/Databases/data_%dk.bin\"%experiment_size), \\\n",
    "                   Path(\"/home/romain/jupyter_mla/Databases/gender_%dk.bin\"%experiment_size), 1000*experiment_size)\n",
    "test = ds.DataSet(Path(\"/home/romain/jupyter_mla/Databases/data_test10k.bin\"), \\\n",
    "     Path(\"/home/romain/jupyter_mla/Databases/gender_test10k.bin\"), 10000)"
   ]
  },
  {
   "cell_type": "markdown",
   "metadata": {},
   "source": [
    "### classes pour définir les couches et la structure du réseau"
   ]
  },
  {
   "cell_type": "code",
   "execution_count": 4,
   "metadata": {},
   "outputs": [],
   "source": [
    "class ConvNeuralNet(tf.Module):\n",
    "    def __init__(self):\n",
    "        self.unflat = Layers.unflat('unflat',48, 48, 1)\n",
    "        self.cv1 = Layers.conv('conv_1', output_dim=3, filterSize=3, stride=1)\n",
    "        self.mp1 = Layers.maxpool('pool_1', 2)\n",
    "        self.cv2 = Layers.conv('conv_2', output_dim=6, filterSize=3, stride=1)\n",
    "        self.mp2 = Layers.maxpool('pool_2', 2)        \n",
    "        self.cv3 = Layers.conv('conv_3', output_dim=12, filterSize=3, stride=1)\n",
    "        self.mp3 = Layers.maxpool('pool_2', 2)         \n",
    "        self.flat = Layers.flat()\n",
    "        self.fc1 = Layers.fc('fc_1', 20)\n",
    "        self.fc2 = Layers.fc('fc_2', 2)\n",
    "\n",
    "    def __call__(self, x, log_summary):\n",
    "        x = self.unflat(x, log_summary)\n",
    "        x = self.cv1(x, log_summary)\n",
    "        x = self.mp1(x)\n",
    "        x = self.cv2(x, log_summary)\n",
    "        x = self.mp2(x)\n",
    "        x = self.cv3(x, log_summary)\n",
    "        x = self.mp3(x)\n",
    "        x = self.flat(x)\n",
    "        x = self.fc1(x, log_summary)\n",
    "        x = self.fc2(x, log_summary)\n",
    "        return x"
   ]
  },
  {
   "cell_type": "code",
   "execution_count": 5,
   "metadata": {},
   "outputs": [],
   "source": [
    "def train_one_iter(model, optimizer, image, label, log_summary):\n",
    "    with tf.GradientTape() as tape:\n",
    "        y = model(image,log_summary)\n",
    "        y = tf.nn.log_softmax(y)\n",
    "        diff = label * y\n",
    "        loss = -tf.reduce_sum(diff)\n",
    "        if log_summary:\n",
    "            tf.summary.scalar('cross entropy', loss)\n",
    "        grads = tape.gradient(loss, model.trainable_variables)\n",
    "        optimizer.apply_gradients(zip(grads, model.trainable_variables))\n",
    "    return loss"
   ]
  },
  {
   "cell_type": "code",
   "execution_count": 6,
   "metadata": {},
   "outputs": [],
   "source": [
    "### Résumé du modèle"
   ]
  },
  {
   "cell_type": "code",
   "execution_count": 7,
   "metadata": {},
   "outputs": [
    {
     "name": "stdout",
     "output_type": "stream",
     "text": [
      "-----------------------------------------------------\n",
      "----------------------- 100k -------------------------\n",
      "-----------------------------------------------------\n"
     ]
    }
   ],
   "source": [
    "print (\"-----------------------------------------------------\")\n",
    "print (\"----------------------- %dk -------------------------\"%experiment_size)\n",
    "print (\"-----------------------------------------------------\")"
   ]
  },
  {
   "cell_type": "code",
   "execution_count": 8,
   "metadata": {},
   "outputs": [
    {
     "name": "stdout",
     "output_type": "stream",
     "text": [
      "def unflat unflat ? => 48 48 1\n"
     ]
    }
   ],
   "source": [
    "train_summary_writer = tf.summary.create_file_writer('logs %dk'%experiment_size)\n",
    "optimizer = tf.optimizers.Adam(1e-3)\n",
    "simple_cnn = ConvNeuralNet()"
   ]
  },
  {
   "cell_type": "code",
   "execution_count": 9,
   "metadata": {},
   "outputs": [],
   "source": [
    "if LoadModel:\n",
    "    ckpt = tf.train.Checkpoint(step=tf.Variable(1), optimizer=optimizer, net=simple_cnn)\n",
    "    ckpt.restore('/home/romain/jupyter_mla/saved_model-1')"
   ]
  },
  {
   "cell_type": "code",
   "execution_count": 10,
   "metadata": {},
   "outputs": [],
   "source": [
    "for iter in range(n_iter):\n",
    "    tf.summary.experimental.set_step(iter)\n",
    "    \n",
    "    if iter % 500 == 0:\n",
    "        with train_summary_writer.as_default():\n",
    "            acc1 = train.mean_accuracy(simple_cnn) * 100\n",
    "            acc2 = test.mean_accuracy(simple_cnn) * 100\n",
    "            print(\"iter= %6d accuracy - train= %.2f%% - test= %.2f%%\" % (iter, acc1, acc2))\n",
    "\n",
    "    ima, lab = train.NextTrainingBatch()\n",
    "    with train_summary_writer.as_default():\n",
    "        loss = train_one_iter(simple_cnn, optimizer, ima, lab, iter % 10 == 0)\n",
    "\n",
    "    if iter % 100 == 0:\n",
    "        print(\"iter= %6d - loss= %f\" % (iter, loss))"
   ]
  },
  {
   "cell_type": "code",
   "execution_count": 11,
   "metadata": {},
   "outputs": [],
   "source": [
    "if not LoadModel:\n",
    "    ckpt = tf.train.Checkpoint(step=tf.Variable(1), optimizer=optimizer, net=simple_cnn)\n",
    "    ckpt.save('/home/romain/jupyter_mla/saved_model')"
   ]
  },
  {
   "cell_type": "code",
   "execution_count": null,
   "metadata": {},
   "outputs": [],
   "source": []
  },
  {
   "cell_type": "code",
   "execution_count": null,
   "metadata": {},
   "outputs": [],
   "source": []
  }
 ],
 "metadata": {
  "kernelspec": {
   "display_name": "Python 3",
   "language": "python",
   "name": "python3"
  },
  "language_info": {
   "codemirror_mode": {
    "name": "ipython",
    "version": 3
   },
   "file_extension": ".py",
   "mimetype": "text/x-python",
   "name": "python",
   "nbconvert_exporter": "python",
   "pygments_lexer": "ipython3",
   "version": "3.7.4"
  }
 },
 "nbformat": 4,
 "nbformat_minor": 2
}
