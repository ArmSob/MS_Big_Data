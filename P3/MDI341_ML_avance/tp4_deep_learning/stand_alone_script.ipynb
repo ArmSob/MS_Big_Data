{
 "cells": [
  {
   "cell_type": "markdown",
   "metadata": {},
   "source": [
    "### imports"
   ]
  },
  {
   "cell_type": "code",
   "execution_count": 1,
   "metadata": {},
   "outputs": [
    {
     "name": "stdout",
     "output_type": "stream",
     "text": [
      "TensorFlow version:  2.0.0\n"
     ]
    }
   ],
   "source": [
    "import tensorflow as tf\n",
    "import numpy as np\n",
    "print(\"TensorFlow version: \",format(tf.__version__))\n",
    "import Layers\n",
    "from pathlib import Path\n",
    "import DataSets as ds\n",
    "import matplotlib.pyplot as plt\n",
    "from PIL import Image"
   ]
  },
  {
   "cell_type": "markdown",
   "metadata": {},
   "source": [
    "### chargement du modèle"
   ]
  },
  {
   "cell_type": "code",
   "execution_count": 2,
   "metadata": {},
   "outputs": [
    {
     "name": "stdout",
     "output_type": "stream",
     "text": [
      "def unflat unflat ? => 48 48 1\n"
     ]
    }
   ],
   "source": [
    "# chargement des classes et infos nécessaires pour charger le modèle\n",
    "class ConvNeuralNet(tf.Module):\n",
    "    def __init__(self):\n",
    "        self.unflat = Layers.unflat('unflat',48, 48, 1)\n",
    "        self.cv1 = Layers.conv('conv_1', output_dim=3, filterSize=3, stride=1)\n",
    "        self.mp1 = Layers.maxpool('pool_1', 2)\n",
    "        self.cv2 = Layers.conv('conv_2', output_dim=6, filterSize=3, stride=1)\n",
    "        self.mp2 = Layers.maxpool('pool_2', 2)        \n",
    "        self.cv3 = Layers.conv('conv_3', output_dim=12, filterSize=3, stride=1)\n",
    "        self.mp3 = Layers.maxpool('pool_2', 2)         \n",
    "        self.flat = Layers.flat()\n",
    "        self.fc1 = Layers.fc('fc_1', 20)\n",
    "        self.fc2 = Layers.fc('fc_2', 2)\n",
    "\n",
    "    def __call__(self, x, log_summary):\n",
    "        x = self.unflat(x, log_summary)\n",
    "        x = self.cv1(x, log_summary)\n",
    "        x = self.mp1(x)\n",
    "        x = self.cv2(x, log_summary)\n",
    "        x = self.mp2(x)\n",
    "        x = self.cv3(x, log_summary)\n",
    "        x = self.mp3(x)\n",
    "        x = self.flat(x)\n",
    "        x = self.fc1(x, log_summary)\n",
    "        x = self.fc2(x, log_summary)\n",
    "        return x\n",
    "    \n",
    "optimizer = tf.optimizers.Adam(1e-3)\n",
    "simple_cnn = ConvNeuralNet()"
   ]
  },
  {
   "cell_type": "code",
   "execution_count": 3,
   "metadata": {},
   "outputs": [],
   "source": [
    "# restauration depuis checkpoint\n",
    "ckpt = tf.train.Checkpoint(step=tf.Variable(1), optimizer=optimizer, net=simple_cnn);\n",
    "ckpt.restore('/home/romain/jupyter_mla/saved_model-1');"
   ]
  },
  {
   "cell_type": "code",
   "execution_count": 4,
   "metadata": {},
   "outputs": [
    {
     "name": "stdout",
     "output_type": "stream",
     "text": [
      "nb data =  10000\n",
      "build conv conv_1 3x3  1 => 3\n",
      "build conv conv_2 3x3  3 => 6\n",
      "build conv conv_3 3x3  6 => 12\n",
      "build fc fc_1  432 => 20\n",
      "build fc fc_2  20 => 2\n"
     ]
    }
   ],
   "source": [
    "# chargement du test set\n",
    "test = ds.DataSet(Path(\"/home/romain/jupyter_mla/Databases/data_test10k.bin\"), \\\n",
    "     Path(\"/home/romain/jupyter_mla/Databases/gender_test10k.bin\"), 10000)\n",
    "# random passage du modèle pour qu'il ne réaffiche plus le résumé de ses infos par la suite\n",
    "simple_cnn(np.zeros(2304).astype(np.float32), False);"
   ]
  },
  {
   "cell_type": "markdown",
   "metadata": {},
   "source": [
    "### traitement de la photographie supplémentaire"
   ]
  },
  {
   "cell_type": "code",
   "execution_count": 5,
   "metadata": {},
   "outputs": [
    {
     "name": "stdout",
     "output_type": "stream",
     "text": [
      "The original image dimension is  (48, 48)\n"
     ]
    },
    {
     "data": {
      "image/png": "[encoded data removed]",
      "text/plain": [
       "<Figure size 432x288 with 1 Axes>"
      ]
     },
     "metadata": {
      "needs_background": "light"
     },
     "output_type": "display_data"
    }
   ],
   "source": [
    "# import de l'image en couleur, conversion en greyscale, et transformation en vecteur numpy (greyscale: une dimension)\n",
    "my_ima = np.asarray(Image.open('/home/romain/jupyter_mla/shamrock.jpg').convert('L')).astype(np.float32)\n",
    "# conversion en image noir et blanc et sauvegarde\n",
    "print('The original image dimension is ', my_ima.shape)\n",
    "my_ima_pic = Image.fromarray(np.uint8(my_ima))\n",
    "my_ima_pic.save('/home/romain/jupyter_mla/adv_romain_legrand_ori.png')\n",
    "# aperçu de l'image\n",
    "plt.imshow(my_ima, cmap='gray',clim=(0,255))\n",
    "# création du label correspondant\n",
    "my_lab = np.array([1,0])"
   ]
  },
  {
   "cell_type": "markdown",
   "metadata": {},
   "source": [
    "### première prédiction"
   ]
  },
  {
   "cell_type": "code",
   "execution_count": 6,
   "metadata": {},
   "outputs": [],
   "source": [
    "# fonction de prédiction pour la photo supplémentaire\n",
    "def predict(data, label, model):\n",
    "    pred = np.array(model(data, False))[0]\n",
    "    print('score for gender = male is ' + str(round(pred[0],2)) + '; score for gender = female is ' \\\n",
    "          + str(round(pred[1],2)) + '.')\n",
    "    pred_index = np.argmax(pred)\n",
    "    if pred_index == 0:\n",
    "        pred_gender = 'male'\n",
    "    else:\n",
    "        pred_gender = 'female'\n",
    "    actual_index = np.argmax(label)\n",
    "    if actual_index == 0:\n",
    "        actual_gender = 'male'\n",
    "    else:\n",
    "        actual_gender = 'female'\n",
    "    print('predicted gender is ' + pred_gender +', actual gender is ' + actual_gender + '.')\n",
    "    if pred_gender == actual_gender:\n",
    "        print('prediction is correct.')\n",
    "    else:\n",
    "        print('prediction is false.')\n",
    "    return pred"
   ]
  },
  {
   "cell_type": "code",
   "execution_count": 7,
   "metadata": {},
   "outputs": [
    {
     "name": "stdout",
     "output_type": "stream",
     "text": [
      "score for gender = male is 20.42; score for gender = female is -13.37.\n",
      "predicted gender is male, actual gender is male.\n",
      "prediction is correct.\n"
     ]
    }
   ],
   "source": [
    "# on fait la prédiction, qui doit normalement être correcte\n",
    "predict1 = predict(my_ima, my_lab, simple_cnn)"
   ]
  },
  {
   "cell_type": "markdown",
   "metadata": {},
   "source": [
    "### création de l'image bruitée"
   ]
  },
  {
   "cell_type": "markdown",
   "metadata": {},
   "source": [
    "Note: j'utilise la méthode \"Fast Gradient Sign\" de Goodfellow (2015) pour générer l'example adverse, dans la mesure où elle est beaucoup plus simple que celle qui consiste à entraîner la perturbation pour qu'elle maximise l'erreur."
   ]
  },
  {
   "cell_type": "code",
   "execution_count": 8,
   "metadata": {},
   "outputs": [],
   "source": [
    "# on va ici obtenir le gradient de la loss par rapport à l'image d'entrée\n",
    "my_ima_ts = tf.convert_to_tensor(my_ima, np.float32)\n",
    "my_lab_ts = tf.convert_to_tensor(my_lab, np.float32)\n",
    "with tf.GradientTape() as t:\n",
    "    t.watch(my_ima_ts)\n",
    "    y = simple_cnn(my_ima_ts,False)\n",
    "    y = tf.nn.log_softmax(y)\n",
    "    diff = my_lab * y\n",
    "    loss = -tf.reduce_sum(diff)\n",
    "    grad = t.gradient(loss, my_ima_ts)"
   ]
  },
  {
   "cell_type": "code",
   "execution_count": 9,
   "metadata": {},
   "outputs": [
    {
     "data": {
      "image/png": "[encoded data removed]",
      "text/plain": [
       "<Figure size 432x288 with 1 Axes>"
      ]
     },
     "metadata": {
      "needs_background": "light"
     },
     "output_type": "display_data"
    }
   ],
   "source": [
    "# intensité du bruit\n",
    "int_bruit = 0.5\n",
    "# copie de l'image originale\n",
    "X = my_ima\n",
    "# signe du gradient\n",
    "grad = np.array(grad)\n",
    "grad_sign = np.sign(grad)\n",
    "# vecteur d'uniformes sur 0-2 pour avoir un bruit de 1 en moyenne \n",
    "unf = np.random.uniform(low=0.0, high=2.0, size=(48,48)).astype(np.float32)\n",
    "# création de l'image de bruit\n",
    "DX = int_bruit * grad_sign * unf\n",
    "# transformation de l'image de bruit pour qu'elle soit d'avantage visible\n",
    "DX_trans = 125 * np.absolute(DX)\n",
    "# aperçu de l'image\n",
    "plt.imshow(DX_trans , cmap='gray',clim=(0,255))\n",
    "DX_pic = Image.fromarray(np.uint8(DX_trans))\n",
    "# enregistrement de l'image de bruit\n",
    "DX_pic.save('/home/romain/jupyter_mla/adv_romain_legrand_amp.png')"
   ]
  },
  {
   "cell_type": "code",
   "execution_count": 10,
   "metadata": {
    "scrolled": false
   },
   "outputs": [
    {
     "data": {
      "image/png": "[encoded data removed]",
      "text/plain": [
       "<Figure size 432x288 with 1 Axes>"
      ]
     },
     "metadata": {
      "needs_background": "light"
     },
     "output_type": "display_data"
    }
   ],
   "source": [
    "# création de l'image modififée avec le bruit\n",
    "X_mod = X + DX\n",
    "# on montre l'image bruitée, indiscernable de l'image originale\n",
    "plt.imshow(X_mod, cmap='gray',clim=(0,255))\n",
    "X_mod = np.reshape(X_mod, 2304)\n",
    "# enregistrement de l'image de bruit\n",
    "X_mod_pic = Image.fromarray(np.uint8(np.reshape(X_mod,(48,48))))\n",
    "X_mod_pic.save('/home/romain/jupyter_mla/adv_romain_legrand_mod.png')"
   ]
  },
  {
   "cell_type": "code",
   "execution_count": 11,
   "metadata": {},
   "outputs": [
    {
     "name": "stdout",
     "output_type": "stream",
     "text": [
      "score for gender = male is -26.0; score for gender = female is 37.02.\n",
      "predicted gender is female, actual gender is male.\n",
      "prediction is false.\n"
     ]
    }
   ],
   "source": [
    "# on refait maintenant la prédiction, qui doit maintenant s'avérer fausse\n",
    "predict2 = predict(X_mod, my_lab, simple_cnn)"
   ]
  },
  {
   "cell_type": "code",
   "execution_count": null,
   "metadata": {},
   "outputs": [],
   "source": []
  },
  {
   "cell_type": "code",
   "execution_count": null,
   "metadata": {},
   "outputs": [],
   "source": []
  }
 ],
 "metadata": {
  "kernelspec": {
   "display_name": "Python 3",
   "language": "python",
   "name": "python3"
  },
  "language_info": {
   "codemirror_mode": {
    "name": "ipython",
    "version": 3
   },
   "file_extension": ".py",
   "mimetype": "text/x-python",
   "name": "python",
   "nbconvert_exporter": "python",
   "pygments_lexer": "ipython3",
   "version": "3.7.4"
  }
 },
 "nbformat": 4,
 "nbformat_minor": 2
}
