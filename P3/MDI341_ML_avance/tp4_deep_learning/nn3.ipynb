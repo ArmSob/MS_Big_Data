{
 "cells": [
  {
   "cell_type": "markdown",
   "metadata": {},
   "source": [
    "### Attention: s'assurer que le fichier DataSets.py présent dans le chemin indiqué est bien celui du fichier nn3! Sinon risque de crash du code;"
   ]
  },
  {
   "cell_type": "code",
   "execution_count": 1,
   "metadata": {},
   "outputs": [
    {
     "name": "stdout",
     "output_type": "stream",
     "text": [
      "TensorFlow version:  2.0.0\n"
     ]
    }
   ],
   "source": [
    "import tensorflow as tf\n",
    "import numpy as np\n",
    "print(\"TensorFlow version: \",format(tf.__version__))\n",
    "from pathlib import Path\n",
    "import DataSets as ds"
   ]
  },
  {
   "cell_type": "markdown",
   "metadata": {},
   "source": [
    "### chargement des données"
   ]
  },
  {
   "cell_type": "code",
   "execution_count": 2,
   "metadata": {},
   "outputs": [
    {
     "name": "stdout",
     "output_type": "stream",
     "text": [
      "nb data =  10000\n",
      "nb data =  10000\n"
     ]
    }
   ],
   "source": [
    "LoadModel = False\n",
    "experiment_size = 10\n",
    "train = ds.DataSet(Path(\"/home/romain/jupyter_mla/Databases/data_%dk.bin\"%experiment_size), \\\n",
    "                   Path(\"/home/romain/jupyter_mla/Databases/gender_%dk.bin\"%experiment_size), 1000*experiment_size)\n",
    "test = ds.DataSet(Path(\"/home/romain/jupyter_mla/Databases/data_test10k.bin\"), \\\n",
    "     Path(\"/home/romain/jupyter_mla/Databases/gender_test10k.bin\"), 10000)"
   ]
  },
  {
   "cell_type": "markdown",
   "metadata": {},
   "source": [
    "### classes pour définir les couches et la structure du réseau"
   ]
  },
  {
   "cell_type": "code",
   "execution_count": 3,
   "metadata": {},
   "outputs": [],
   "source": [
    "class fc_layer(tf.Module):\n",
    "    def __init__(self, name, input_dim, output_dim):\n",
    "        self.scope_name = name\n",
    "        w_init = tf.random.truncated_normal([input_dim, output_dim], stddev=0.1)\n",
    "        self.w = tf.Variable(w_init)\n",
    "        print('w      ', self.w.shape)\n",
    "        b_init = tf.constant(0.0, shape=[output_dim])\n",
    "        self.b = tf.Variable(b_init)\n",
    "        print('b      ', self.b.get_shape())\n",
    "\n",
    "\n",
    "    def __call__(self, x, log_summary):\n",
    "        if log_summary:\n",
    "            with tf.name_scope(self.scope_name) as scope:\n",
    "                tf.summary.scalar(\"mean w\", tf.reduce_mean(self.w))\n",
    "                tf.summary.scalar(\"max w\", tf.reduce_max(self.w))\n",
    "                tf.summary.histogram(\"w\", self.w)\n",
    "                tf.summary.scalar(\"mean b\", tf.reduce_mean(self.b))\n",
    "                tf.summary.scalar(\"max b\", tf.reduce_max(self.b))\n",
    "                tf.summary.histogram(\"b\", self.b)\n",
    "        return tf.matmul(x, self.w) + self.b"
   ]
  },
  {
   "cell_type": "code",
   "execution_count": 4,
   "metadata": {},
   "outputs": [],
   "source": [
    "class SimpleNet(tf.Module):\n",
    "    def __init__(self, input_dim):\n",
    "        self.fc1 = fc_layer('fc1', input_dim, 50)\n",
    "        self.fc2 = fc_layer('fc2', 50, 2)\n",
    "\n",
    "    def __call__(self, x, log_summary):\n",
    "        x = self.fc1(x, log_summary)\n",
    "        x = tf.nn.sigmoid(x)\n",
    "        x = self.fc2(x, log_summary)\n",
    "        return x"
   ]
  },
  {
   "cell_type": "code",
   "execution_count": 5,
   "metadata": {},
   "outputs": [],
   "source": [
    "def train_one_iter(model, optimizer, image, label, log_summary):\n",
    "    with tf.GradientTape() as tape:\n",
    "        y = model(image,log_summary)\n",
    "        loss = tf.reduce_sum(tf.square(y - label))\n",
    "        if log_summary:\n",
    "            tf.summary.scalar('loss', loss)\n",
    "        grads = tape.gradient(loss, model.trainable_variables)\n",
    "        optimizer.apply_gradients(zip(grads, model.trainable_variables))\n",
    "    return loss"
   ]
  },
  {
   "cell_type": "markdown",
   "metadata": {},
   "source": [
    "### Résumé du modèle"
   ]
  },
  {
   "cell_type": "code",
   "execution_count": 6,
   "metadata": {},
   "outputs": [
    {
     "name": "stdout",
     "output_type": "stream",
     "text": [
      "-----------------------------------------------------\n",
      "----------------------- 10k -------------------------\n",
      "-----------------------------------------------------\n"
     ]
    }
   ],
   "source": [
    "print (\"-----------------------------------------------------\")\n",
    "print (\"----------------------- %dk -------------------------\"%experiment_size)\n",
    "print (\"-----------------------------------------------------\")"
   ]
  },
  {
   "cell_type": "code",
   "execution_count": 7,
   "metadata": {},
   "outputs": [
    {
     "name": "stdout",
     "output_type": "stream",
     "text": [
      "w       (2304, 50)\n",
      "b       (50,)\n",
      "w       (50, 2)\n",
      "b       (2,)\n"
     ]
    }
   ],
   "source": [
    "train_summary_writer = tf.summary.create_file_writer('logs')\n",
    "optimizer = tf.optimizers.SGD(1e-4)\n",
    "simple_v2 = SimpleNet(train.dim)"
   ]
  },
  {
   "cell_type": "code",
   "execution_count": 8,
   "metadata": {},
   "outputs": [
    {
     "name": "stdout",
     "output_type": "stream",
     "text": [
      "iter=      0 - loss= 364.795807\n",
      "iter=      0 accuracy - train= 48.01% - test= 54.08%\n",
      "iter=    100 - loss= 43.697674\n",
      "iter=    200 - loss= 3.933403\n",
      "iter=    300 - loss= 5.380292\n",
      "iter=    400 - loss= 70.471382\n",
      "iter=    500 - loss= 42.113567\n",
      "iter=    500 accuracy - train= 60.78% - test= 64.67%\n",
      "iter=    600 - loss= 77.402618\n",
      "iter=    700 - loss= 39.394745\n",
      "iter=    800 - loss= 34.234615\n",
      "iter=    900 - loss= 6.834790\n",
      "iter=   1000 - loss= 20.229486\n",
      "iter=   1000 accuracy - train= 58.92% - test= 55.98%\n",
      "iter=   1100 - loss= 54.763031\n",
      "iter=   1200 - loss= 52.374474\n",
      "iter=   1300 - loss= 12.051232\n",
      "iter=   1400 - loss= 183.049240\n",
      "iter=   1500 - loss= 39.735825\n",
      "iter=   1500 accuracy - train= 60.22% - test= 57.41%\n",
      "iter=   1600 - loss= 10.685817\n",
      "iter=   1700 - loss= 51.838348\n",
      "iter=   1800 - loss= 34.396255\n",
      "iter=   1900 - loss= 68.069977\n",
      "iter=   2000 - loss= 31.615200\n",
      "iter=   2000 accuracy - train= 62.67% - test= 66.30%\n",
      "iter=   2100 - loss= 5.991741\n",
      "iter=   2200 - loss= 23.060081\n",
      "iter=   2300 - loss= 18.679316\n",
      "iter=   2400 - loss= 59.050575\n",
      "iter=   2500 - loss= 29.825016\n",
      "iter=   2500 accuracy - train= 66.22% - test= 68.47%\n",
      "iter=   2600 - loss= 50.573067\n",
      "iter=   2700 - loss= 72.925591\n",
      "iter=   2800 - loss= 117.846909\n",
      "iter=   2900 - loss= 56.843956\n",
      "iter=   3000 - loss= 51.462185\n",
      "iter=   3000 accuracy - train= 71.79% - test= 69.94%\n",
      "iter=   3100 - loss= 52.254105\n",
      "iter=   3200 - loss= 60.383301\n",
      "iter=   3300 - loss= 38.055912\n",
      "iter=   3400 - loss= 9.972395\n",
      "iter=   3500 - loss= 83.772072\n",
      "iter=   3500 accuracy - train= 76.41% - test= 74.18%\n",
      "iter=   3600 - loss= 16.516094\n",
      "iter=   3700 - loss= 54.195324\n",
      "iter=   3800 - loss= 31.951279\n",
      "iter=   3900 - loss= 46.756905\n",
      "iter=   4000 - loss= 31.576426\n",
      "iter=   4000 accuracy - train= 74.32% - test= 72.86%\n",
      "iter=   4100 - loss= 8.440509\n",
      "iter=   4200 - loss= 10.949022\n",
      "iter=   4300 - loss= 37.967941\n",
      "iter=   4400 - loss= 32.077980\n",
      "iter=   4500 - loss= 59.197876\n",
      "iter=   4500 accuracy - train= 76.67% - test= 73.34%\n",
      "iter=   4600 - loss= 24.989918\n",
      "iter=   4700 - loss= 30.042204\n",
      "iter=   4800 - loss= 10.801587\n",
      "iter=   4900 - loss= 23.398190\n"
     ]
    }
   ],
   "source": [
    "for iter in range(5000):\n",
    "    tf.summary.experimental.set_step(iter)\n",
    "    ima, lab = train.NextTrainingBatch()\n",
    "    with train_summary_writer.as_default():\n",
    "        loss = train_one_iter(simple_v2, optimizer, ima, lab, iter % 10 == 0)\n",
    "    if iter % 100 == 0:\n",
    "        print(\"iter= %6d - loss= %f\" % (iter, loss))\n",
    "    if iter % 500 == 0:\n",
    "        with train_summary_writer.as_default():\n",
    "            acc1 = train.mean_accuracy(simple_v2)*100\n",
    "            acc2 = test.mean_accuracy(simple_v2)*100\n",
    "            print(\"iter= %6d accuracy - train= %.2f%% - test= %.2f%%\" % (iter, acc1,acc2))"
   ]
  },
  {
   "cell_type": "code",
   "execution_count": null,
   "metadata": {},
   "outputs": [],
   "source": []
  }
 ],
 "metadata": {
  "kernelspec": {
   "display_name": "Python 3",
   "language": "python",
   "name": "python3"
  },
  "language_info": {
   "codemirror_mode": {
    "name": "ipython",
    "version": 3
   },
   "file_extension": ".py",
   "mimetype": "text/x-python",
   "name": "python",
   "nbconvert_exporter": "python",
   "pygments_lexer": "ipython3",
   "version": "3.7.4"
  }
 },
 "nbformat": 4,
 "nbformat_minor": 2
}
