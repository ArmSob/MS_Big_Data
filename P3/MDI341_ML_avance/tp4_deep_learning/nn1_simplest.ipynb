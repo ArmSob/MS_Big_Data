{
 "cells": [
  {
   "cell_type": "code",
   "execution_count": 1,
   "metadata": {},
   "outputs": [
    {
     "name": "stdout",
     "output_type": "stream",
     "text": [
      "TensorFlow version:  2.0.0\n"
     ]
    }
   ],
   "source": [
    "import tensorflow as tf\n",
    "import numpy as np\n",
    "print(\"TensorFlow version: \",format(tf.__version__))\n",
    "from pathlib import Path"
   ]
  },
  {
   "cell_type": "markdown",
   "metadata": {},
   "source": [
    "### chargement des données"
   ]
  },
  {
   "cell_type": "code",
   "execution_count": 2,
   "metadata": {},
   "outputs": [],
   "source": [
    "# nombre d images\n",
    "nbdata = 1000\n",
    "# chemin vers les données\n",
    "trainDataFile = Path(\"/home/romain/jupyter_mla/Databases/data_1k.bin\")\n",
    "LabelFile = Path(\"/home/romain/jupyter_mla/Databases/gender_1k.bin\")"
   ]
  },
  {
   "cell_type": "code",
   "execution_count": 3,
   "metadata": {},
   "outputs": [],
   "source": [
    "# dimension des images (de l'input x): 2304 car taille des images 48*48 pixels en niveau de gris\n",
    "dim = 2304\n",
    "# ouverture du fichier données\n",
    "f = open(trainDataFile, 'rb')\n",
    "# ouverture d'un fichier vide\n",
    "data = np.empty([nbdata, dim], dtype=np.float32)\n",
    "# chargement des données ligne par ligne\n",
    "for i in range(nbdata):\n",
    "    data[i, :] = np.fromfile(f, dtype=np.uint8, count=dim).astype(np.float32)\n",
    "# fermeture du fichier\n",
    "f.close()"
   ]
  },
  {
   "cell_type": "code",
   "execution_count": 4,
   "metadata": {},
   "outputs": [],
   "source": [
    "# idem avec les étiquettes\n",
    "f = open(LabelFile, 'rb')\n",
    "label = np.empty([nbdata, 2], dtype=np.float32)\n",
    "for i in range(nbdata):\n",
    "    label[i, :] = np.fromfile(f, dtype=np.float32, count=2)\n",
    "f.close()"
   ]
  },
  {
   "cell_type": "markdown",
   "metadata": {},
   "source": [
    "### classes pour définir les couches et la structure du réseau"
   ]
  },
  {
   "cell_type": "markdown",
   "metadata": {},
   "source": [
    "note: la classe 'Module' de tensorflow sert à créer un conteneur générique. Ce conteneur peut engranger des variables, des fonctions, et même d'autres modules; de manière générale, la calsse Module peut contenir tout objet sur lequel on peutt envoyer des inputs pour les travailler."
   ]
  },
  {
   "cell_type": "markdown",
   "metadata": {},
   "source": [
    "note: la méthode \"call\" permet d'utiliser une classe comme une méthode. Il faut pour celà d'abord déclarer\n",
    "une instance de la classe concernée: par exemple fc1=fc_layer(...).\n",
    "On peut ensuite faire un appel de méthode en utilisant l'instance ainsi créée comme si elle était une méthode: par exemple fc1(x).\n",
    "Cela aura pour résultat d'appeller la méthode appelé __call__ au sein de la classe fc_layer et de l'exécuter avec l'input envoyé en entrée."
   ]
  },
  {
   "cell_type": "code",
   "execution_count": 5,
   "metadata": {},
   "outputs": [],
   "source": [
    "class fc_layer(tf.Module):\n",
    "    def __init__(self, input_dim, output_dim):\n",
    "        w_init = tf.random.truncated_normal([input_dim, output_dim], stddev=0.1)\n",
    "        self.w = tf.Variable(w_init)\n",
    "        print('w      ', self.w.get_shape())\n",
    "        b_init = tf.constant(0.0, shape=[output_dim])\n",
    "        self.b = tf.Variable(b_init)\n",
    "        print('b      ', self.b.get_shape())\n",
    "\n",
    "    def __call__(self, x):\n",
    "        return tf.matmul(x, self.w) + self.b"
   ]
  },
  {
   "cell_type": "code",
   "execution_count": 6,
   "metadata": {},
   "outputs": [],
   "source": [
    "class SimpleNet(tf.Module):\n",
    "    def __init__(self, input_dim):\n",
    "        self.fc1 = fc_layer(input_dim,50)\n",
    "        self.fc2 = fc_layer(50,2)\n",
    "\n",
    "    def __call__(self, x):\n",
    "        x = self.fc1(x)\n",
    "        x = tf.nn.sigmoid(x)\n",
    "        x = self.fc2(x)\n",
    "        return x"
   ]
  },
  {
   "cell_type": "markdown",
   "metadata": {},
   "source": [
    "### méthodes pour entrainer le modèle"
   ]
  },
  {
   "cell_type": "code",
   "execution_count": 7,
   "metadata": {},
   "outputs": [],
   "source": [
    "def train_one_step(model, optimizer, image, label):\n",
    "    with tf.GradientTape() as tape:\n",
    "        y = model(image)\n",
    "        loss = tf.reduce_sum(tf.square(y - label))\n",
    "        grads = tape.gradient(loss, model.trainable_variables)\n",
    "        optimizer.apply_gradients(zip(grads, model.trainable_variables))\n",
    "    return loss"
   ]
  },
  {
   "cell_type": "code",
   "execution_count": 8,
   "metadata": {},
   "outputs": [
    {
     "name": "stdout",
     "output_type": "stream",
     "text": [
      "w       (2304, 50)\n",
      "b       (50,)\n",
      "w       (50, 2)\n",
      "b       (2,)\n"
     ]
    }
   ],
   "source": [
    "optimizer = tf.optimizers.SGD(1e-5)\n",
    "simple_model = SimpleNet(dim)"
   ]
  },
  {
   "cell_type": "code",
   "execution_count": 9,
   "metadata": {},
   "outputs": [],
   "source": [
    "curPos = 0\n",
    "batchSize = 256"
   ]
  },
  {
   "cell_type": "code",
   "execution_count": 10,
   "metadata": {},
   "outputs": [
    {
     "name": "stdout",
     "output_type": "stream",
     "text": [
      "it=      0 - loss= 233.125168\n",
      "it=      1 - loss= 291.884491\n",
      "it=      2 - loss= 172.478394\n",
      "it=      3 - loss= 223.546082\n",
      "it=      4 - loss= 181.255508\n",
      "it=      5 - loss= 119.982124\n",
      "it=      6 - loss= 224.515259\n",
      "it=      7 - loss= 132.087723\n",
      "it=      8 - loss= 97.573235\n",
      "it=      9 - loss= 232.923309\n",
      "it=    100 - loss= 77.959435\n",
      "it=    200 - loss= 58.542015\n",
      "it=    300 - loss= 217.838104\n",
      "it=    400 - loss= 74.132187\n",
      "it=    500 - loss= 49.015774\n",
      "it=    600 - loss= 179.988770\n",
      "it=    700 - loss= 58.728489\n",
      "it=    800 - loss= 49.096252\n",
      "it=    900 - loss= 164.612396\n",
      "it=   1000 - loss= 59.599312\n",
      "it=   1100 - loss= 52.093494\n",
      "it=   1200 - loss= 145.187836\n",
      "it=   1300 - loss= 52.506577\n",
      "it=   1400 - loss= 52.320679\n",
      "it=   1500 - loss= 118.220573\n",
      "it=   1600 - loss= 48.077209\n",
      "it=   1700 - loss= 42.157368\n",
      "it=   1800 - loss= 90.892944\n",
      "it=   1900 - loss= 53.641838\n",
      "it=   2000 - loss= 41.738533\n",
      "it=   2100 - loss= 101.725723\n",
      "it=   2200 - loss= 51.061981\n",
      "it=   2300 - loss= 43.185810\n",
      "it=   2400 - loss= 86.229271\n",
      "it=   2500 - loss= 38.950947\n",
      "it=   2600 - loss= 45.896683\n",
      "it=   2700 - loss= 75.819733\n",
      "it=   2800 - loss= 29.830067\n",
      "it=   2900 - loss= 36.923168\n",
      "it=   3000 - loss= 60.041618\n",
      "it=   3100 - loss= 31.107452\n",
      "it=   3200 - loss= 34.437569\n",
      "it=   3300 - loss= 48.322891\n",
      "it=   3400 - loss= 48.384079\n",
      "it=   3500 - loss= 27.665058\n",
      "it=   3600 - loss= 54.450813\n",
      "it=   3700 - loss= 45.478157\n",
      "it=   3800 - loss= 27.460335\n",
      "it=   3900 - loss= 61.738247\n",
      "it=   4000 - loss= 26.879297\n",
      "it=   4100 - loss= 26.115070\n",
      "it=   4200 - loss= 49.881721\n",
      "it=   4300 - loss= 24.110788\n",
      "it=   4400 - loss= 25.493668\n",
      "it=   4500 - loss= 41.013672\n",
      "it=   4600 - loss= 23.418602\n",
      "it=   4700 - loss= 26.223024\n",
      "it=   4800 - loss= 40.129688\n",
      "it=   4900 - loss= 32.485874\n"
     ]
    }
   ],
   "source": [
    "for it in range(5000):\n",
    "    if curPos + batchSize > nbdata:\n",
    "        curPos = 0\n",
    "    loss = train_one_step(simple_model, optimizer,\n",
    "                          data[curPos:curPos + batchSize, :], label[curPos:curPos + batchSize, :])\n",
    "    curPos += batchSize\n",
    "    if it % 100 == 0 or it < 10:\n",
    "        print(\"it= %6d - loss= %f\" % (it, loss.numpy()))"
   ]
  },
  {
   "cell_type": "code",
   "execution_count": null,
   "metadata": {},
   "outputs": [],
   "source": []
  },
  {
   "cell_type": "code",
   "execution_count": null,
   "metadata": {},
   "outputs": [],
   "source": []
  }
 ],
 "metadata": {
  "kernelspec": {
   "display_name": "Python 3",
   "language": "python",
   "name": "python3"
  },
  "language_info": {
   "codemirror_mode": {
    "name": "ipython",
    "version": 3
   },
   "file_extension": ".py",
   "mimetype": "text/x-python",
   "name": "python",
   "nbconvert_exporter": "python",
   "pygments_lexer": "ipython3",
   "version": "3.7.4"
  }
 },
 "nbformat": 4,
 "nbformat_minor": 2
}
