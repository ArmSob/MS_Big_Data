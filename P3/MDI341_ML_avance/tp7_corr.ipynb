{
 "cells": [
  {
   "cell_type": "markdown",
   "metadata": {},
   "source": [
    "# TP Large Scale Kernel Methods"
   ]
  },
  {
   "cell_type": "code",
   "execution_count": 1,
   "metadata": {},
   "outputs": [],
   "source": [
    "# general imports\n",
    "import numpy as np\n",
    "from scipy import linalg\n",
    "import matplotlib.pyplot as plt\n",
    "plt.style.use('ggplot')\n",
    "\n",
    "# data loading and partitioning\n",
    "from sklearn.model_selection import train_test_split\n",
    "from sklearn.preprocessing import StandardScaler\n",
    "from sklearn.datasets import load_svmlight_file\n",
    "\n",
    "# question 1\n",
    "from sklearn.svm import SVC, LinearSVC\n",
    "from time import time\n",
    "from sklearn.metrics import accuracy_score\n",
    "\n",
    "# question 2\n",
    "from scipy.sparse.linalg import svds\n",
    "from scipy.linalg import svd\n",
    "from numpy import diag\n",
    "from numpy import dot\n",
    "\n",
    "# question 3\n",
    "from numpy import sqrt\n",
    "from numpy import sum\n",
    "\n",
    "# question 4\n",
    "from numpy.random import normal\n",
    "from numpy.random import uniform\n",
    "from numpy import pi\n",
    "from numpy import cos\n",
    "from numpy.matlib import repmat\n",
    "\n",
    "# question 6\n",
    "from sklearn.metrics.pairwise import rbf_kernel"
   ]
  },
  {
   "cell_type": "markdown",
   "metadata": {},
   "source": [
    "## Chargement et partitionnement des données"
   ]
  },
  {
   "cell_type": "code",
   "execution_count": 2,
   "metadata": {},
   "outputs": [
    {
     "name": "stdout",
     "output_type": "stream",
     "text": [
      "Nombre d'exemples d'apprentissage: 20000\n",
      "Nombre d'exemples de test: 40000\n",
      "Nombre de features: 22\n"
     ]
    }
   ],
   "source": [
    "###############################################################################\n",
    "# Requires file ijcnn1.dat.gz to be present in the directory\n",
    "\n",
    "# default path: uncomment to restore\n",
    "#dataset_path = 'ijcnn1.dat.gz'\n",
    "\n",
    "# path on my own laptop: omment to ignore\n",
    "dataset_path = '/home/romain/jupyter/ijcnn1.dat'\n",
    "\n",
    "ijcnn1 = load_svmlight_file(dataset_path)\n",
    "X = ijcnn1[0].todense()\n",
    "y = ijcnn1[1]\n",
    "\n",
    "###############################################################################\n",
    "# Extract features\n",
    "\n",
    "X_train, X_test, y_train, y_test = train_test_split(X[:60000, :], y[:60000],\n",
    "                     train_size=20000, random_state=42)\n",
    "\n",
    "scaler = StandardScaler()\n",
    "X_train = scaler.fit_transform(X_train)\n",
    "X_test = scaler.transform(X_test)\n",
    "\n",
    "n1, p = X_train.shape\n",
    "n2 = X_test.shape[0]\n",
    "\n",
    "print(\"Nombre d'exemples d'apprentissage:\", n1)\n",
    "print(\"Nombre d'exemples de test:\", n2)\n",
    "print(\"Nombre de features:\", p)"
   ]
  },
  {
   "cell_type": "markdown",
   "metadata": {},
   "source": [
    "## Question 1"
   ]
  },
  {
   "cell_type": "markdown",
   "metadata": {},
   "source": [
    "On va fitter nos données d'apprentissage avec un SVM linéaire et un SVM non-linéaire (noyau Gaussien) pour comparer leur score de prédiction ainsi que le temps de calcul nécessaire à l'apprentissage et à la prédiction."
   ]
  },
  {
   "cell_type": "code",
   "execution_count": 3,
   "metadata": {},
   "outputs": [
    {
     "name": "stdout",
     "output_type": "stream",
     "text": [
      "Fitting SVC rbf on 20000 samples...\n",
      "done in 3.929s\n",
      "Predicting with SVC rbf on 40000 samples...\n",
      "done in 4.748s\n",
      "classification accuracy: 0.980\n"
     ]
    }
   ],
   "source": [
    "print(\"Fitting SVC rbf on %d samples...\" % X_train.shape[0])\n",
    "t0 = time()\n",
    "# fit SVM with Gaussian kernel\n",
    "clf = SVC(kernel='rbf')\n",
    "clf.fit(X_train, y_train)\n",
    "timing_kernel = time() - t0\n",
    "print(\"done in %0.3fs\" % (time() - t0))\n",
    "\n",
    "# obtain predictions\n",
    "print(\"Predicting with SVC rbf on %d samples...\" % X_test.shape[0])\n",
    "t1 = time()\n",
    "y_pred = clf.predict(X_test)\n",
    "print(\"done in %0.3fs\" % (time() - t1))\n",
    "\n",
    "# compute accuracy\n",
    "accuracy_kernel = accuracy_score(y_test, y_pred)\n",
    "print(\"classification accuracy: %0.3f\" % accuracy_kernel)"
   ]
  },
  {
   "cell_type": "code",
   "execution_count": 4,
   "metadata": {},
   "outputs": [
    {
     "name": "stdout",
     "output_type": "stream",
     "text": [
      "Fitting linear SVC on 20000 samples...\n",
      "done in 0.096s\n",
      "Predicting with linear SVC on 40000 samples...\n",
      "done in 0.002s\n",
      "classification accuracy: 0.917\n"
     ]
    }
   ],
   "source": [
    "# the exercise is repeated with a linear SVM\n",
    "print(\"Fitting linear SVC on %d samples...\" % X_train.shape[0])\n",
    "t0 = time()\n",
    "\n",
    "# fit SVM with linear kernel\n",
    "clf_linear = LinearSVC(dual=False)\n",
    "clf_linear.fit(X_train, y_train)\n",
    "timing_linear = time() - t0\n",
    "print(\"done in %0.3fs\" % (time() - t0))\n",
    "\n",
    "# obtain predictions\n",
    "print(\"Predicting with linear SVC on %d samples...\" % X_test.shape[0])\n",
    "t1 = time()\n",
    "y_pred_linear = clf_linear.predict(X_test)\n",
    "print(\"done in %0.3fs\" % (time() - t1))\n",
    "\n",
    "# compute accuracy\n",
    "accuracy_linear = accuracy_score(y_test, y_pred_linear)\n",
    "print(\"classification accuracy: %0.3f\" % accuracy_linear) "
   ]
  },
  {
   "cell_type": "code",
   "execution_count": 5,
   "metadata": {},
   "outputs": [
    {
     "name": "stdout",
     "output_type": "stream",
     "text": [
      "The estimation time with the linear SVC is 41 times shorter than that of the SVC with Gaussian kernel.\n"
     ]
    }
   ],
   "source": [
    "print(\"The estimation time with the linear SVC is \" + str(round(timing_kernel/timing_linear)) + \\\n",
    "      \" times shorter than that of the SVC with Gaussian kernel.\")"
   ]
  },
  {
   "cell_type": "markdown",
   "metadata": {},
   "source": [
    "On tire deux conclusions de l'exercice. \n",
    "\n",
    "Premièrement, le SVM linéaire est considérablement plus rapide que le SVM à noyau gaussien en termes d'estimation, puisque la phase de fit est environ 35 fois plus courte. On pourrait donc être tenté d'adopter un SVM linéaire lorsque l'on a affaire à de très grands volumes de données, afin d'assurer un passage à l'échelle dans des temps d'estimation raisonnables.\n",
    "\n",
    "Toutefois, la seconde conclusion est que le gain de temps lié au SVM linéaire est réalisé au détriment de la performance. Alors que la précision du SVM à noyau Gaussien est très élevée (0.98), celle du SVM linéaire est bien plus basse (0.917).\n",
    "\n",
    "On peut donc en conclure qu'il est nécessaire d'utiliser un SVC à noyaux pour obtenir de bonnes performances. Même si le SVM linéaire s'avère plus rapide, la dégradation de performance est telle qu'on ne peut pas envisager de l'utiliser, même sur de grands volumes de données. Il conviendra donc de trouver une meilleure solution pour passer à l'échelle, qui permette notamment l'utilisation de noyaux."
   ]
  },
  {
   "cell_type": "code",
   "execution_count": null,
   "metadata": {},
   "outputs": [],
   "source": []
  },
  {
   "cell_type": "markdown",
   "metadata": {},
   "source": [
    "## Question 2"
   ]
  },
  {
   "cell_type": "markdown",
   "metadata": {},
   "source": [
    "On code une fonction qui calcule la meilleure approximation de rang $k$."
   ]
  },
  {
   "cell_type": "code",
   "execution_count": 6,
   "metadata": {},
   "outputs": [],
   "source": [
    "def rank_trunc(gram_mat, k, fast=True):\n",
    "    \"\"\"\n",
    "    k-th order approximation of the Gram Matrix G.\n",
    "\n",
    "    Parameters\n",
    "    ----------\n",
    "    gram_mat : array, shape (n_samples, n_samples)\n",
    "        the Gram matrix\n",
    "    k : int\n",
    "        the order approximation\n",
    "    fast : bool\n",
    "        use svd (if False) or svds (if True).\n",
    "\n",
    "    Return\n",
    "    ------\n",
    "    gram_mat_k : array, shape (n_samples, n_samples)\n",
    "        The rank k Gram matrix.\n",
    "    \"\"\"\n",
    "    if fast:\n",
    "        U_k, Lambda_k, U_kt = svds(gram_mat, k=k)\n",
    "        gram_mat_k = dot(U_k, dot(diag(Lambda_k), U_kt))\n",
    "    else:\n",
    "        U, Lambda, Ut = svd(gram_mat)\n",
    "        U_k, Lambda_k, U_kt = U[:,:k], Lambda[:k], Ut[:k,:]\n",
    "        gram_mat_k = dot(dot(U_k, diag(Lambda_k)), U_kt)\n",
    "    return gram_mat_k"
   ]
  },
  {
   "cell_type": "code",
   "execution_count": null,
   "metadata": {},
   "outputs": [],
   "source": []
  },
  {
   "cell_type": "markdown",
   "metadata": {},
   "source": [
    "## Question 3"
   ]
  },
  {
   "cell_type": "markdown",
   "metadata": {},
   "source": [
    "On applique cette fonction sur la matrice décrite dans le sujet de TP."
   ]
  },
  {
   "cell_type": "code",
   "execution_count": 7,
   "metadata": {},
   "outputs": [],
   "source": [
    "p = 200\n",
    "r_noise = 100\n",
    "r_signal = 20\n",
    "\n",
    "intensity = 50\n",
    "\n",
    "rng = np.random.RandomState(42)\n",
    "X_noise = rng.randn(r_noise, p)\n",
    "X_signal = rng.randn(r_signal, p)\n",
    "\n",
    "gram_signal = np.dot(X_noise.T, X_noise) + intensity * np.dot(X_signal.T,\n",
    "                                                              X_signal)\n",
    "n_ranks = 100\n",
    "ranks = np.arange(1, n_ranks + 1)\n",
    "timing_fast = np.zeros(n_ranks)\n",
    "timing_slow = np.zeros(n_ranks)\n",
    "rel_error = np.zeros(n_ranks)\n",
    "\n",
    "# adding a Frobenius norm function (definition from course on similarity and distance metric learning, slide 22)\n",
    "def Frobenius_norm(A):\n",
    "    return sqrt(sum(A**2))\n",
    "\n",
    "for k, rank in enumerate(ranks):\n",
    "    # print(k, rank)\n",
    "    t0 = time()\n",
    "    gram_mat_k = rank_trunc(gram_signal, rank, fast=True)\n",
    "    timing_fast[k] = time() - t0\n",
    "\n",
    "    t0 = time()\n",
    "    gram_mat_k = rank_trunc(gram_signal, rank, fast=False)\n",
    "    timing_slow[k] = time() - t0\n",
    "\n",
    "    # compute relative error with Frobenius norm\n",
    "    rel_error[k] = Frobenius_norm(gram_signal-gram_mat_k) / Frobenius_norm(gram_signal)"
   ]
  },
  {
   "cell_type": "code",
   "execution_count": 8,
   "metadata": {},
   "outputs": [
    {
     "data": {
      "image/png": "[encoded data removed]",
      "text/plain": [
       "<Figure size 720x432 with 2 Axes>"
      ]
     },
     "metadata": {
      "needs_background": "light"
     },
     "output_type": "display_data"
    }
   ],
   "source": [
    "###############################################################################\n",
    "# Display\n",
    "\n",
    "f, axes = plt.subplots(ncols=1, nrows=2, figsize=(10,6))\n",
    "ax1, ax2 = axes.ravel()\n",
    "\n",
    "ax1.plot(ranks, timing_fast, '-', label='fast')\n",
    "ax1.plot(ranks, timing_slow, '-', label='slow')\n",
    "ax1.legend()\n",
    "\n",
    "ax1.set_xlabel('Rank')\n",
    "ax1.set_ylabel('Time')\n",
    "ax2.plot(ranks, rel_error, '-')\n",
    "ax2.set_xlabel('Rank')\n",
    "ax2.set_ylabel('Relative Error')\n",
    "plt.tight_layout()\n",
    "plt.show()"
   ]
  },
  {
   "cell_type": "markdown",
   "metadata": {},
   "source": [
    "On tire deux conclusions:\n",
    "\n",
    "- tout d'abord, la méthode \"rapide\" ne semble en réalité rapide que pour les petites valeurs de $k$. Cela est normal: l'algorithme svds est optimisé pour les matrices creuses (sparse). Bien qu'il puisse aussi être utilisé pour des matrices denses, il n'est vraiment efficace que pour les matrices creuses, ou pour les matrices denses pour lequelles on ne calcule que quelques valeurs propres. Dans notre cas, on se rend compte que le coût de l'algorithme augmente linéairement avec le nombre de valeurs propres à calculer, et qu'au-delà de 25 il dépasse celui de l'algorithme SVD. Ce dernier a en revanche logiquement un coût stable puisqu'il calcule de base toutes les valeurs propres.\n",
    "\n",
    "- On se rend compte que l'erreur relative suit un comportement non-linéaire. Elle décroît très rapidement entre 0 et 20 valeur propres. Ensuite, elle décroît beaucoup plus lentement entre 20 et 100. Le bénéfice absolu sur ce second segment est très faible, puisque l'erreur progresse à peine de 5%. On peut donc en conclure qu'il n'est pas utile de dépasser $k=20$, qui représente le meilleur compromis entre précision de l'approximation et coût en calcul."
   ]
  },
  {
   "cell_type": "code",
   "execution_count": null,
   "metadata": {},
   "outputs": [],
   "source": []
  },
  {
   "cell_type": "markdown",
   "metadata": {},
   "source": [
    "## Question 4"
   ]
  },
  {
   "cell_type": "markdown",
   "metadata": {},
   "source": [
    "On va implémenter l'algorithme de Random Kernel Features pour le noyau Gaussien."
   ]
  },
  {
   "cell_type": "code",
   "execution_count": 9,
   "metadata": {},
   "outputs": [],
   "source": [
    "def random_features(X_train, X_test, gamma, c=300, seed=44):\n",
    "    \"\"\"Compute random kernel features\n",
    "\n",
    "    Parameters\n",
    "    ----------\n",
    "    X_train : array, shape (n_samples1, n_features)\n",
    "        The train samples.\n",
    "    X_test : array, shape (n_samples2, n_features)\n",
    "        The test samples.\n",
    "    gamma : float\n",
    "        The Gaussian kernel parameter\n",
    "    c : int\n",
    "        The number of components\n",
    "    seed : int\n",
    "        The seed for random number generation\n",
    "\n",
    "    Return\n",
    "    ------\n",
    "    X_new_train : array, shape (n_samples1, c)\n",
    "        The new train samples.\n",
    "    X_new_test : array, shape (n_samples2, c)\n",
    "        The new test samples.\n",
    "    \"\"\"\n",
    "    rng = np.random.RandomState(seed)\n",
    "    n_samples, n_features = X_train.shape\n",
    "    W = rng.normal(0, sqrt(2*gamma), (n_features, c))\n",
    "    b = rng.uniform(0, 2*pi, (1,c))\n",
    "    X_new_train = sqrt(2/c) * cos(dot(X_train, W) + b)\n",
    "    X_new_test = sqrt(2/c) * cos(dot(X_test, W) + b)\n",
    "        \n",
    "    return X_new_train, X_new_test"
   ]
  },
  {
   "cell_type": "code",
   "execution_count": null,
   "metadata": {},
   "outputs": [],
   "source": []
  },
  {
   "cell_type": "markdown",
   "metadata": {},
   "source": [
    "## Question 5"
   ]
  },
  {
   "cell_type": "markdown",
   "metadata": {},
   "source": [
    "On va maintenant appliquer cette méthode avec $c=300$."
   ]
  },
  {
   "cell_type": "code",
   "execution_count": 10,
   "metadata": {},
   "outputs": [
    {
     "name": "stdout",
     "output_type": "stream",
     "text": [
      "Fitting SVC linear on 20000 samples...\n",
      "done in 1.359s\n",
      "Predicting with SVC linear on 40000 samples...\n",
      "done in 0.014s\n",
      "classification accuracy: 0.963\n"
     ]
    }
   ],
   "source": [
    "n_samples, n_features = X_train.shape\n",
    "n_samples_test, _ = X_test.shape\n",
    "gamma = 1. / n_features\n",
    "\n",
    "t0 = time()\n",
    "Z_train, Z_test = random_features(X_train, X_test, gamma, c=300, seed=44)\n",
    "generation_rkf = time() - t0\n",
    "\n",
    "print(\"Fitting SVC linear on %d samples...\" % n_samples)\n",
    "t0 = time()\n",
    "clf = LinearSVC(dual=False)\n",
    "clf.fit(Z_train, y_train)\n",
    "timing_rkf = time() - t0\n",
    "print(\"done in %0.3fs\" % (time() - t0))\n",
    "\n",
    "print(\"Predicting with SVC linear on %d samples...\" % n_samples_test)\n",
    "t0 = time()\n",
    "accuracy = clf.score(Z_test, y_test)\n",
    "print(\"done in %0.3fs\" % (time() - t0))\n",
    "print(\"classification accuracy: %0.3f\" % accuracy)"
   ]
  },
  {
   "cell_type": "code",
   "execution_count": 11,
   "metadata": {},
   "outputs": [
    {
     "name": "stdout",
     "output_type": "stream",
     "text": [
      "Il a fallu 0.18 secondes pour générer les features.\n",
      "\n",
      "Le temps d'estimation avec la méthode random kernel feature est 2.89 fois plus court qu'en utilisant les features normales avec un noyau gaussien.\n"
     ]
    }
   ],
   "source": [
    "print(\"Il a fallu \" + str(round(generation_rkf,2)) + \" secondes pour générer les features.\")\n",
    "print()\n",
    "print(\"Le temps d'estimation avec la méthode random kernel feature est \" + str(round(timing_kernel/timing_rkf,2))\\\n",
    "      + \" fois plus court qu'en utilisant les features normales avec un noyau gaussien.\")"
   ]
  },
  {
   "cell_type": "markdown",
   "metadata": {},
   "source": [
    "On tire les conclusions suivantes:\n",
    "    \n",
    "- le temps d'estimation du modèle SVM a été considérablement raccourci en utilisant la méthode random kernel features, par rapport à la méthode normale avec un noyau gaussien. Il est en effet divisé par plus de trois. Il reste toutefois plus élevé qu'en utilisant le modèle linéaire initial, ce qui est normal puisque le coût de la méthode est qu'il faut augmenter le nombre de features (ici poussé à 300, comparé à 22 initialement).\n",
    "\n",
    "- la performance du modèle random kernel features est très bonne, et proche du modèle original à noyau gaussien (précision de 0.96 environ avec random kernel feature, comparé à 0.98 pour le modèle original). Il demeure toutefois une légère perte de performance, qui s'explique par le fait que la méthode random kernel features ne peut fournir qu'une approximation de la valeur du noyau, avec en conséquence une légère perte de précision."
   ]
  },
  {
   "cell_type": "code",
   "execution_count": null,
   "metadata": {},
   "outputs": [],
   "source": []
  },
  {
   "cell_type": "markdown",
   "metadata": {},
   "source": [
    "## Question 6"
   ]
  },
  {
   "cell_type": "markdown",
   "metadata": {},
   "source": [
    "On implémente la méthode de Nystrom."
   ]
  },
  {
   "cell_type": "code",
   "execution_count": 12,
   "metadata": {},
   "outputs": [],
   "source": [
    "def nystrom(X_train, X_test, gamma, c=500, k=200, seed=44):\n",
    "    \"\"\"Compute nystrom kernel approximation\n",
    "\n",
    "    Parameters\n",
    "    ----------\n",
    "    X_train : array, shape (n_samples1, n_features)\n",
    "        The train samples.\n",
    "    X_test : array, shape (n_samples2, n_features)\n",
    "        The test samples.\n",
    "    gamma : float\n",
    "        The Gaussian kernel parameter\n",
    "    c : int\n",
    "        The number of points to sample for the approximation\n",
    "    k : int\n",
    "        The number of components\n",
    "    seed : int\n",
    "        The seed for random number generation\n",
    "\n",
    "    Return\n",
    "    ------\n",
    "    X_new_train : array, shape (n_samples1, c)\n",
    "        The new train samples.\n",
    "    X_new_test : array, shape (n_samples2, c)\n",
    "        The new test samples.\n",
    "    \"\"\"\n",
    "    rng = np.random.RandomState(seed)\n",
    "    n_samples = X_train.shape[0]\n",
    "    idx = rng.choice(n_samples, c)\n",
    "\n",
    "    X_train_idx = X_train[idx, :]\n",
    "    W = rbf_kernel(X_train_idx, X_train_idx, gamma=gamma)\n",
    "    \n",
    "    # computation of W_k and M_k from singular value decomposition of W\n",
    "    V, Sigma, Vt = svd(W)\n",
    "    V_k, Sigma_k, V_kt = V[:,:k], Sigma[:k], Vt[:k,:]\n",
    "    W_k = dot(dot(V_k, diag(Sigma_k)), V_kt)\n",
    "    M_k = dot(V_k, diag(1/sqrt(Sigma_k)))\n",
    "    \n",
    "    # calculation of C matrices\n",
    "    C_train = rbf_kernel(X_train, X_train_idx, gamma=gamma)\n",
    "    C_test = rbf_kernel(X_test, X_train_idx, gamma=gamma)\n",
    "    \n",
    "    # computation of the new features\n",
    "    X_new_train = dot(C_train, M_k)\n",
    "    X_new_test = dot(C_test, M_k)\n",
    "\n",
    "    return X_new_train, X_new_test"
   ]
  },
  {
   "cell_type": "code",
   "execution_count": null,
   "metadata": {},
   "outputs": [],
   "source": []
  },
  {
   "cell_type": "markdown",
   "metadata": {},
   "source": [
    "## Question 7"
   ]
  },
  {
   "cell_type": "markdown",
   "metadata": {},
   "source": [
    "On va maintenant appliquer cette méthode également avec $c=500$ et $k=300$"
   ]
  },
  {
   "cell_type": "code",
   "execution_count": 13,
   "metadata": {},
   "outputs": [
    {
     "name": "stdout",
     "output_type": "stream",
     "text": [
      "Fitting SVC linear on 20000 samples...\n",
      "done in 1.063s\n",
      "Predicting with SVC linear on 40000 samples...\n",
      "done in 0.014s\n",
      "classification accuracy: 0.976\n"
     ]
    }
   ],
   "source": [
    "t0 = time()\n",
    "Z_train, Z_test = nystrom(X_train, X_test, gamma, c=500, k=300, seed=44)\n",
    "generation_nystrom = time() - t0\n",
    "\n",
    "print(\"Fitting SVC linear on %d samples...\" % n_samples)\n",
    "t0 = time()\n",
    "clf = LinearSVC(dual=False)\n",
    "clf.fit(Z_train, y_train)\n",
    "timing_nystrom = time() - t0\n",
    "print(\"done in %0.3fs\" % (time() - t0))\n",
    "\n",
    "print(\"Predicting with SVC linear on %d samples...\" % n_samples_test)\n",
    "t0 = time()\n",
    "accuracy = clf.score(Z_test, y_test)\n",
    "print(\"done in %0.3fs\" % (time() - t0))\n",
    "print(\"classification accuracy: %0.3f\" % accuracy)\n"
   ]
  },
  {
   "cell_type": "code",
   "execution_count": 14,
   "metadata": {},
   "outputs": [
    {
     "name": "stdout",
     "output_type": "stream",
     "text": [
      "Il a fallu 0.53 secondes pour générer les features, ce qui est 2.96 fois plus long qu'avec la méthode rkf.\n",
      "\n",
      "Le temps d'estimation avec l'approximation de Nystrom est 3.7 fois plus court qu'en utilisant les features normales avec un noyau gaussien.\n"
     ]
    }
   ],
   "source": [
    "print(\"Il a fallu \" + str(round(generation_nystrom,2)) + \" secondes pour générer les features, ce qui est \" +\\\n",
    "str(round(generation_nystrom/generation_rkf, 2)) + \" fois plus long qu'avec la méthode rkf.\")\n",
    "print()\n",
    "print(\"Le temps d'estimation avec l'approximation de Nystrom est \" + str(round(timing_kernel/timing_nystrom,2))\\\n",
    "      + \" fois plus court qu'en utilisant les features normales avec un noyau gaussien.\")"
   ]
  },
  {
   "cell_type": "markdown",
   "metadata": {},
   "source": [
    "On tire les conclusions suivantes:\n",
    "    \n",
    "- le temps d'estimation du modèle SVM est là encore considérablement plus court qu'avec la méthode initiale utilisant un noyau gaussien. Il est en effet divisé par plus de trois, ce qui est très similaire au gain obtenu avec la méthode rkf. Ce n'est guère étonnant puisque les modèles travaillent à peu près avec la même dimension de features (c=500 pour Nystrom, c=300 pour rkf).\n",
    "\n",
    "- le cours (slide 36) précise que \"rkf are generally cheaper to generate\". Cela est confirmé ici: générer les features avec Nystrom tend à être plus long qu'avec rkf. Dans une optique de passage à l'échelle, il conviendra de tenir compte de ce facteur en plus de la comparaison du temps d'estimation du modèle SVM.\n",
    "\n",
    "- la performance du modèle avec approximation de Nystrom est excellente, et virtuellement similaire à celle du modèle original à noyau gaussien (précision de 0.976 environ avec random kernel feature, comparé à 0.98 pour le modèle original). Cette performance est meilleure que celle de la méthode rkf, toutefois celle-ci n'est estimée qu'avec 300 features. Un essai rapide en utilisant la valeur c=500 en rkf donne une précision de 0.974, proche mais légèrement inférieure à celle de l'approximation de Nystrom. Cela confirme donc, à la marge, ce qui est dit dans le cours (slide 36): \"At equal number of random samples, Nystrom tends to achieve better performance\""
   ]
  },
  {
   "cell_type": "code",
   "execution_count": null,
   "metadata": {},
   "outputs": [],
   "source": []
  },
  {
   "cell_type": "markdown",
   "metadata": {},
   "source": [
    "## Question 8"
   ]
  },
  {
   "cell_type": "markdown",
   "metadata": {},
   "source": [
    "On va maintenant réaliser une synthèse des performances des RKF et de Nystrom pour un ensemble de paramètres."
   ]
  },
  {
   "cell_type": "code",
   "execution_count": 15,
   "metadata": {},
   "outputs": [
    {
     "name": "stdout",
     "output_type": "stream",
     "text": [
      "Training SVMs for various values of c...\n",
      "0 20\n",
      "1 70\n",
      "2 120\n",
      "3 170\n",
      "4 220\n",
      "5 270\n",
      "6 320\n",
      "7 370\n",
      "8 420\n",
      "9 470\n",
      "10 520\n",
      "11 570\n"
     ]
    }
   ],
   "source": [
    "ranks = np.arange(20, 600, 50)\n",
    "n_ranks = len(ranks)\n",
    "\n",
    "timing_kernel = np.zeros(n_ranks)\n",
    "timing_linear = np.zeros(n_ranks)\n",
    "timing_rkf = np.zeros(n_ranks)\n",
    "timing_nystrom = np.zeros(n_ranks)\n",
    "\n",
    "accuracy_kernel = np.zeros(n_ranks)\n",
    "accuracy_linear = np.zeros(n_ranks)\n",
    "accuracy_nystrom = np.zeros(n_ranks)\n",
    "accuracy_rkf = np.zeros(n_ranks)\n",
    "\n",
    "print(\"Training SVMs for various values of c...\")\n",
    "\n",
    "for i, c in enumerate(ranks):\n",
    "    print(i, c)\n",
    "    \n",
    "    # initiate timer for rkf\n",
    "    t0 = time()\n",
    "    # generate features for rkf model\n",
    "    Z_train, Z_test = random_features(X_train, X_test, gamma, c=c, seed=44)\n",
    "    # train SVM on rkf features\n",
    "    clf = LinearSVC(dual=False)\n",
    "    clf.fit(Z_train, y_train)\n",
    "    # obtain accuracy (and record timer)\n",
    "    accuracy_rkf[i] = clf.score(Z_test, y_test)\n",
    "    timing_rkf[i] = time() - t0\n",
    "    \n",
    "    # initiate timer again for Nystrom\n",
    "    t0 = time()\n",
    "    # generate now features for the Nystrom approximation model\n",
    "    Z_train, Z_test = nystrom(X_train, X_test, gamma, c=c, k=c-10, seed=44)\n",
    "    # train SVM on Nystrom features\n",
    "    clf = LinearSVC(dual=False)\n",
    "    clf.fit(Z_train, y_train)\n",
    "    # obtain accuracy (and record timer)\n",
    "    accuracy_nystrom[i] = clf.score(Z_test, y_test)\n",
    "    timing_nystrom[i] = time() - t0\n",
    "    \n",
    "    # initiate timer again for classic rbf\n",
    "    t0 = time()\n",
    "    # train SVM\n",
    "    clf = SVC(kernel='rbf')\n",
    "    clf.fit(X_train, y_train)\n",
    "    # obtain accuracy (and record timer)\n",
    "    accuracy_kernel[i] = clf.score(X_test, y_test)\n",
    "    timing_kernel[i] = time() - t0\n",
    "    \n",
    "    # initiate timer again for linear model\n",
    "    t0 = time()\n",
    "    # train SVM\n",
    "    clf = LinearSVC(dual=False)\n",
    "    clf.fit(X_train, y_train)\n",
    "    # obtain accuracy (and record timer)\n",
    "    accuracy_linear[i] = clf.score(X_test, y_test)\n",
    "    timing_linear[i] = time() - t0\n",
    "    "
   ]
  },
  {
   "cell_type": "code",
   "execution_count": 16,
   "metadata": {},
   "outputs": [
    {
     "data": {
      "image/png": "[encoded data removed]",
      "text/plain": [
       "<Figure size 720x432 with 2 Axes>"
      ]
     },
     "metadata": {
      "needs_background": "light"
     },
     "output_type": "display_data"
    }
   ],
   "source": [
    "###############################################################################\n",
    "# Display bis\n",
    "\n",
    "f, axes = plt.subplots(ncols=1, nrows=2, figsize=(10,6))\n",
    "ax1, ax2 = axes.ravel()\n",
    "\n",
    "ax1.plot(ranks-10, timing_nystrom, '-', label='Nystrom')\n",
    "ax1.plot(ranks, timing_rkf, '-', label='RKF')\n",
    "ax1.plot(ranks, timing_linear * np.ones(n_ranks), '-', label='LinearSVC')\n",
    "ax1.plot(ranks, timing_kernel * np.ones(n_ranks), '-', label='RBF')\n",
    "\n",
    "ax1.set_xlabel('Number of features')\n",
    "ax1.set_ylabel('Time')\n",
    "ax1.legend(loc='lower right')\n",
    "\n",
    "ax2.plot(ranks-10, accuracy_nystrom, '-', label='Nystrom')\n",
    "ax2.plot(ranks, accuracy_rkf, '-', label='RKF')\n",
    "ax2.plot(ranks, accuracy_linear * np.ones(n_ranks), '-', label='LinearSVC')\n",
    "ax2.plot(ranks, accuracy_kernel * np.ones(n_ranks), '-', label='RBF')\n",
    "ax2.set_xlabel('Number of features')\n",
    "ax2.set_ylabel('Accuracy')\n",
    "ax2.legend(loc='lower right')\n",
    "plt.tight_layout()\n",
    "plt.show()"
   ]
  },
  {
   "cell_type": "markdown",
   "metadata": {},
   "source": [
    "Remarque préliminaire: l'énoncé de l'exercice demande d'estimer le temps de calcul total comme la somme du temps d'entrainement et de prédiction. J'ajoute à ce temps là le temps de création des features pour les modèles rkf et Nystrom car c'est la seule manière de donner du sens à ce chronométrage. En effet, si on ne compte pas la création des features, on estime le même modèle linéaire sur le même nombre de features générés, et sans surprise le temps de calcul total est exactement le même, ce qui n'est pas informatif."
   ]
  },
  {
   "cell_type": "markdown",
   "metadata": {},
   "source": [
    "On peut tirer de ces graphiques les conclusions suivantes:\n",
    "\n",
    "- en termes de temps de calcul, on obtient des résultats cohérents avec ce qu'on pouvait attendre. Le modèle linéaire est le plus rapide à estimer, car il repose sur le plus petit nombre de features (22). Comme il ne dépend pas de k, son temps d'estimation est constant. A l'autre extrême, le modèle à noyau gaussien est le plus lent à calculer, ce qui est normal car il estime l'intégralité de la matrice de Gram, sans simplification. Entre les deux, les modèles rkf et Nystrom offrent un compromis. Ils sont équivalents au modèle linéaire pour c=22, puis voient le temps de calcul augmenter de façon linéaire avec le nombre de features c. On remarque que même pour un grand nombre de features (c=500), ils restent considérablement plus rapide que le modèle à noyau (2,5 secondes au lieu de 7), ce qui confirme leur intérêt pour le passage à l'échelle. On note que le modèle rkf est très légèrement plus rapide que le modèle de Nystrom pour les grandes valeurs de c, ce qui confirme les conclusions précédentes.\n",
    "\n",
    "- concernant la performance, les résultats sont là encore conformes aux attentes. Le meilleur modèle est celui à noyau, car il estime la totalité de la matrice de Gram sans aucune approximation. Il atteint les 0.98 en précision. Le modèle linéaire est celui qui fournit la pire performance et plafone à 0.92 en précision. Entre les deux, les modèles Nystrom et rkf offrent, là encore, un compromis. Pour les très petites valeurs de c, ils sont plus mauvais que le modèle linéaire, mais le dépassent dès qu'on inclut quelques dizaines de features (20 pour Nystrom, 80 pour rkf). La performance augmente logiquement à mesure qu'on augmente le nombre de features dans l'approximation. On remarque que Nystrom obtient une meilleure performance que rkf, ce qui confirme là aussi les conclusions précédentes. Enfin, on note que Nystrom atteint vers 500 features la précision du modèle à noyau, ce qui montre une convergence asymptotique vers le vrai modèle à noyau.\n",
    "\n",
    "- le choix final du modèle relève du meilleur compromis. Le modèle linaire est efficace en calcul mais mauvais en prédiction. Le modèle à noyau est le meilleur en prédiction mais trop gourmand en calcul pour un passage à l'échelle. Le meilleur compromis est le modèle de l'approximation de Nystrom, qui atteint virtuellement la même performance que le modèle à noyaux, tout en étant trois fois moins coûteux en calcul. Le modèle rkf semble légèrement inférieur à celui de Nystrom, étant équivalent en temps de calcul, mais moins bon en précision."
   ]
  },
  {
   "cell_type": "code",
   "execution_count": null,
   "metadata": {},
   "outputs": [],
   "source": []
  }
 ],
 "metadata": {
  "kernelspec": {
   "display_name": "Python 3",
   "language": "python",
   "name": "python3"
  },
  "language_info": {
   "codemirror_mode": {
    "name": "ipython",
    "version": 3
   },
   "file_extension": ".py",
   "mimetype": "text/x-python",
   "name": "python",
   "nbconvert_exporter": "python",
   "pygments_lexer": "ipython3",
   "version": "3.7.4"
  }
 },
 "nbformat": 4,
 "nbformat_minor": 2
}
