{
 "cells": [
  {
   "cell_type": "markdown",
   "metadata": {},
   "source": [
    "<div align='center'><h2><b>Projet SES722 - Econométrie - MS BIG DATA</b></h2></div>\n",
    "\n",
    "<div align='center'>- Romain LEGRAND, Rodolphe SIMONEAU -</div>\n",
    "<br>\n",
    "<div align='center'>10 avril 2020</div>\n"
   ]
  },
  {
   "cell_type": "code",
   "execution_count": 93,
   "metadata": {},
   "outputs": [],
   "source": [
    "from matplotlib import pyplot as plt\n",
    "import pandas as pd\n",
    "import numpy as np\n",
    "from scipy import stats\n",
    "import statsmodels.api as sm\n",
    "from statsmodels.formula.api import ols"
   ]
  },
  {
   "cell_type": "markdown",
   "metadata": {},
   "source": [
    "# Partie 1 : Régression Linéaire"
   ]
  },
  {
   "cell_type": "markdown",
   "metadata": {},
   "source": [
    "#### Question 1 \n",
    "Lire le fichier mroz.txt. Ne sélectionner que les observations pour lesquelles la variable wage est strictement positive."
   ]
  },
  {
   "cell_type": "code",
   "execution_count": 94,
   "metadata": {},
   "outputs": [],
   "source": [
    "names = [\n",
    "    'inlf',                    # =1 if in labor force, 1975\n",
    "    'hours',                   # hours worked, 1975\n",
    "    'kidslt6',                 # #kids < 6 years\n",
    "    'kidsge6',                 # #kids 6-18\n",
    "    'age',                     # woman's age in yrs\n",
    "    'educ',                    # years of schooling\n",
    "    'wage',                    # estimated wage from earns., hours\n",
    "    'repwage',                 # reported wage at interview in 1976\n",
    "    'hushrs',                  # hours worked by husband, 1975\n",
    "    'husage',                  # husband's age\n",
    "    'huseduc',                 # husband's years of schooling\n",
    "    'huswage',                 # husband's hourly wage, 1975\n",
    "    'faminc',                  # family income, 1975\n",
    "    'mtr',                     # fed. marginal tax rate facing woman\n",
    "    'motheduc',                # mother's years of schooling\n",
    "    'fatheduc',                # father's years of schooling\n",
    "    'unem',                    # unem. rate in county of resid.\n",
    "    'city',                    # =1 if live in SMSA\n",
    "    'exper',                   # actual labor mkt exper\n",
    "    'nwifeinc',                # (faminc - wage*hours)/1000\n",
    "    'lwage',                   # log(wage)\n",
    "    'expersq',                 # exper^2\n",
    "]"
   ]
  },
  {
   "cell_type": "code",
   "execution_count": 95,
   "metadata": {},
   "outputs": [],
   "source": [
    "path = \"MROZ.raw\"\n",
    "df = pd.read_csv(path, delim_whitespace=True, header=None,names=names)"
   ]
  },
  {
   "cell_type": "code",
   "execution_count": 96,
   "metadata": {},
   "outputs": [
    {
     "data": {
      "text/plain": [
       "(753, 22)"
      ]
     },
     "execution_count": 96,
     "metadata": {},
     "output_type": "execute_result"
    }
   ],
   "source": [
    "df.shape"
   ]
  },
  {
   "cell_type": "code",
   "execution_count": 97,
   "metadata": {},
   "outputs": [
    {
     "data": {
      "text/plain": [
       "inlf          int64\n",
       "hours         int64\n",
       "kidslt6       int64\n",
       "kidsge6       int64\n",
       "age           int64\n",
       "educ          int64\n",
       "wage         object\n",
       "repwage     float64\n",
       "hushrs        int64\n",
       "husage        int64\n",
       "huseduc       int64\n",
       "huswage     float64\n",
       "faminc        int64\n",
       "mtr         float64\n",
       "motheduc      int64\n",
       "fatheduc      int64\n",
       "unem        float64\n",
       "city          int64\n",
       "exper         int64\n",
       "nwifeinc    float64\n",
       "lwage        object\n",
       "expersq       int64\n",
       "dtype: object"
      ]
     },
     "execution_count": 97,
     "metadata": {},
     "output_type": "execute_result"
    }
   ],
   "source": [
    "df.dtypes"
   ]
  },
  {
   "cell_type": "code",
   "execution_count": 98,
   "metadata": {},
   "outputs": [],
   "source": [
    "df[\"wage\"] = pd.to_numeric(df[\"wage\"], errors='coerce').fillna(0, downcast='infer')\n",
    "df[\"lwage\"] = pd.to_numeric(df[\"lwage\"], errors='coerce').fillna(0, downcast='infer')"
   ]
  },
  {
   "cell_type": "code",
   "execution_count": 99,
   "metadata": {},
   "outputs": [],
   "source": [
    "df2 = df[df[\"wage\"]>0]"
   ]
  },
  {
   "cell_type": "code",
   "execution_count": 100,
   "metadata": {},
   "outputs": [
    {
     "name": "stdout",
     "output_type": "stream",
     "text": [
      "Il y avait 753 lignes dans le dataframe avant la modification.\n",
      "En retirant toutes les lignes où le salaire est inférieur à 0, nous n'obtenons plus que 428 lignes dans le dataframe\n"
     ]
    }
   ],
   "source": [
    "print(\"Il y avait \" + str(df.shape[0]) + \" lignes dans le dataframe avant la modification.\")\n",
    "print(\"En retirant toutes les lignes où le salaire est inférieur à 0, nous n'obtenons plus que \" + str(df2.shape[0]) + \" lignes dans le dataframe\")"
   ]
  },
  {
   "cell_type": "markdown",
   "metadata": {},
   "source": [
    "#### Question 2 \n",
    "Faire les statistiques descriptives du salaire, de l’age et de l’éducation pour l’ensemble des femmes puis, pour les femmes dont le salaire du mari est supérieure au 65ème percentile de l’échantillon, puis pour les femmes dont le salaire du mari est inférieur au 65ème percentile de l’échantillon. Commenter"
   ]
  },
  {
   "cell_type": "markdown",
   "metadata": {},
   "source": [
    "##### Salaire, age et education pour l'ensemble des femmes"
   ]
  },
  {
   "cell_type": "code",
   "execution_count": 101,
   "metadata": {},
   "outputs": [
    {
     "data": {
      "text/plain": [
       "count    428.000000\n",
       "mean       4.177682\n",
       "std        3.310282\n",
       "min        0.128200\n",
       "25%        2.262600\n",
       "50%        3.481900\n",
       "75%        4.970750\n",
       "max       25.000000\n",
       "Name: wage, dtype: float64"
      ]
     },
     "execution_count": 101,
     "metadata": {},
     "output_type": "execute_result"
    }
   ],
   "source": [
    "df2.wage.describe()"
   ]
  },
  {
   "cell_type": "code",
   "execution_count": 102,
   "metadata": {},
   "outputs": [
    {
     "data": {
      "text/plain": [
       "count    428.000000\n",
       "mean      41.971963\n",
       "std        7.721084\n",
       "min       30.000000\n",
       "25%       35.000000\n",
       "50%       42.000000\n",
       "75%       47.250000\n",
       "max       60.000000\n",
       "Name: age, dtype: float64"
      ]
     },
     "execution_count": 102,
     "metadata": {},
     "output_type": "execute_result"
    }
   ],
   "source": [
    "df2.age.describe()"
   ]
  },
  {
   "cell_type": "code",
   "execution_count": 103,
   "metadata": {},
   "outputs": [
    {
     "data": {
      "text/plain": [
       "count    428.000000\n",
       "mean      12.658879\n",
       "std        2.285376\n",
       "min        5.000000\n",
       "25%       12.000000\n",
       "50%       12.000000\n",
       "75%       14.000000\n",
       "max       17.000000\n",
       "Name: educ, dtype: float64"
      ]
     },
     "execution_count": 103,
     "metadata": {},
     "output_type": "execute_result"
    }
   ],
   "source": [
    "df2.educ.describe()"
   ]
  },
  {
   "cell_type": "markdown",
   "metadata": {},
   "source": [
    "##### Calcul du 65th quantile pour le salaire des maris sur l'échantillon"
   ]
  },
  {
   "cell_type": "code",
   "execution_count": 104,
   "metadata": {},
   "outputs": [],
   "source": [
    "husband_65quantile = df2[\"huswage\"].quantile(q=0.65)"
   ]
  },
  {
   "cell_type": "markdown",
   "metadata": {},
   "source": [
    "##### Description de l'age, l'éducation, et le salaire pour les femmes dont les maris gagnent moins que le 65ème percentile"
   ]
  },
  {
   "cell_type": "code",
   "execution_count": 105,
   "metadata": {},
   "outputs": [],
   "source": [
    "df3 = df2[df2[\"huswage\"] <= husband_65quantile]"
   ]
  },
  {
   "cell_type": "code",
   "execution_count": 106,
   "metadata": {},
   "outputs": [
    {
     "data": {
      "text/plain": [
       "count    280.000000\n",
       "mean       3.669390\n",
       "std        2.458277\n",
       "min        0.128200\n",
       "25%        2.151600\n",
       "50%        3.203550\n",
       "75%        4.539500\n",
       "max       22.500000\n",
       "Name: wage, dtype: float64"
      ]
     },
     "execution_count": 106,
     "metadata": {},
     "output_type": "execute_result"
    }
   ],
   "source": [
    "df3.wage.describe()"
   ]
  },
  {
   "cell_type": "code",
   "execution_count": 107,
   "metadata": {},
   "outputs": [
    {
     "data": {
      "text/plain": [
       "count    280.000000\n",
       "mean      41.682143\n",
       "std        7.906875\n",
       "min       30.000000\n",
       "25%       35.000000\n",
       "50%       41.000000\n",
       "75%       47.000000\n",
       "max       60.000000\n",
       "Name: age, dtype: float64"
      ]
     },
     "execution_count": 107,
     "metadata": {},
     "output_type": "execute_result"
    }
   ],
   "source": [
    "df3.age.describe()"
   ]
  },
  {
   "cell_type": "code",
   "execution_count": 108,
   "metadata": {},
   "outputs": [
    {
     "data": {
      "text/plain": [
       "count    280.000000\n",
       "mean      12.203571\n",
       "std        2.119542\n",
       "min        6.000000\n",
       "25%       12.000000\n",
       "50%       12.000000\n",
       "75%       12.000000\n",
       "max       17.000000\n",
       "Name: educ, dtype: float64"
      ]
     },
     "execution_count": 108,
     "metadata": {},
     "output_type": "execute_result"
    }
   ],
   "source": [
    "df3.educ.describe()"
   ]
  },
  {
   "cell_type": "markdown",
   "metadata": {},
   "source": [
    "##### Description de l'age, l'éducation, et le salaire pour les femmes dont les maris gagnent plus que le 65ème percentile"
   ]
  },
  {
   "cell_type": "code",
   "execution_count": 109,
   "metadata": {},
   "outputs": [],
   "source": [
    "df4 = df2[df2[\"huswage\"] > husband_65quantile]"
   ]
  },
  {
   "cell_type": "code",
   "execution_count": 110,
   "metadata": {},
   "outputs": [
    {
     "data": {
      "text/plain": [
       "count    280.000000\n",
       "mean       3.669390\n",
       "std        2.458277\n",
       "min        0.128200\n",
       "25%        2.151600\n",
       "50%        3.203550\n",
       "75%        4.539500\n",
       "max       22.500000\n",
       "Name: wage, dtype: float64"
      ]
     },
     "execution_count": 110,
     "metadata": {},
     "output_type": "execute_result"
    }
   ],
   "source": [
    "df3.wage.describe()"
   ]
  },
  {
   "cell_type": "code",
   "execution_count": 111,
   "metadata": {},
   "outputs": [
    {
     "data": {
      "text/plain": [
       "count    148.00000\n",
       "mean      42.52027\n",
       "std        7.35168\n",
       "min       30.00000\n",
       "25%       36.00000\n",
       "50%       43.00000\n",
       "75%       48.00000\n",
       "max       59.00000\n",
       "Name: age, dtype: float64"
      ]
     },
     "execution_count": 111,
     "metadata": {},
     "output_type": "execute_result"
    }
   ],
   "source": [
    "df4.age.describe()"
   ]
  },
  {
   "cell_type": "code",
   "execution_count": 112,
   "metadata": {},
   "outputs": [
    {
     "data": {
      "text/plain": [
       "count    280.000000\n",
       "mean      12.203571\n",
       "std        2.119542\n",
       "min        6.000000\n",
       "25%       12.000000\n",
       "50%       12.000000\n",
       "75%       12.000000\n",
       "max       17.000000\n",
       "Name: educ, dtype: float64"
      ]
     },
     "execution_count": 112,
     "metadata": {},
     "output_type": "execute_result"
    }
   ],
   "source": [
    "df3.educ.describe()"
   ]
  },
  {
   "cell_type": "markdown",
   "metadata": {},
   "source": [
    "#### Question 3\n",
    "Faire l'histogramme de la variable wage. Supprimer les observations qui sont à plus de 3 écart-types de la moyenne et refaire l’histogramme"
   ]
  },
  {
   "cell_type": "code",
   "execution_count": 113,
   "metadata": {},
   "outputs": [
    {
     "data": {
      "text/plain": [
       "(array([15., 30., 62., 68., 58., 50., 43., 26., 14., 16.,  8., 13.,  3.,\n",
       "         6.,  4.,  0.,  2.,  0.,  1.,  0.,  1.,  1.,  0.,  0.,  0.,  2.,\n",
       "         0.,  0.,  0.,  1.,  0.,  1.,  1.,  0.,  2.]),\n",
       " array([ 0.1282    ,  0.83882286,  1.54944571,  2.26006857,  2.97069143,\n",
       "         3.68131429,  4.39193714,  5.10256   ,  5.81318286,  6.52380571,\n",
       "         7.23442857,  7.94505143,  8.65567429,  9.36629714, 10.07692   ,\n",
       "        10.78754286, 11.49816571, 12.20878857, 12.91941143, 13.63003429,\n",
       "        14.34065714, 15.05128   , 15.76190286, 16.47252571, 17.18314857,\n",
       "        17.89377143, 18.60439429, 19.31501714, 20.02564   , 20.73626286,\n",
       "        21.44688571, 22.15750857, 22.86813143, 23.57875429, 24.28937714,\n",
       "        25.        ]),\n",
       " <a list of 35 Patch objects>)"
      ]
     },
     "execution_count": 113,
     "metadata": {},
     "output_type": "execute_result"
    },
    {
     "data": {
      "image/png": "[encoded data removed]",
      "text/plain": [
       "<Figure size 432x288 with 1 Axes>"
      ]
     },
     "metadata": {
      "needs_background": "light"
     },
     "output_type": "display_data"
    }
   ],
   "source": [
    "# histogramme de la variable wage \n",
    "plt.hist(df2[\"wage\"],'auto')"
   ]
  },
  {
   "cell_type": "code",
   "execution_count": 114,
   "metadata": {},
   "outputs": [
    {
     "name": "stdout",
     "output_type": "stream",
     "text": [
      "3.3064129736891417\n",
      "4.177681542056075\n"
     ]
    }
   ],
   "source": [
    "ecart_type_wage = df2[\"wage\"].std(ddof=0)\n",
    "moyenne_wage = df2[\"wage\"].mean()\n",
    "print(ecart_type_wage)\n",
    "print(moyenne_wage)"
   ]
  },
  {
   "cell_type": "code",
   "execution_count": 115,
   "metadata": {},
   "outputs": [],
   "source": [
    "df5 = df2[df2[\"wage\"]<(moyenne_wage+ecart_type_wage*3)]"
   ]
  },
  {
   "cell_type": "code",
   "execution_count": 116,
   "metadata": {},
   "outputs": [
    {
     "data": {
      "text/plain": [
       "(array([14., 28., 55., 66., 51., 58., 44., 27., 16., 13., 12.,  9., 10.,\n",
       "         4.,  5.,  4.,  0.,  2.,  0.,  1.]),\n",
       " array([ 0.1282 ,  0.79949,  1.47078,  2.14207,  2.81336,  3.48465,\n",
       "         4.15594,  4.82723,  5.49852,  6.16981,  6.8411 ,  7.51239,\n",
       "         8.18368,  8.85497,  9.52626, 10.19755, 10.86884, 11.54013,\n",
       "        12.21142, 12.88271, 13.554  ]),\n",
       " <a list of 20 Patch objects>)"
      ]
     },
     "execution_count": 116,
     "metadata": {},
     "output_type": "execute_result"
    },
    {
     "data": {
      "image/png": "[encoded data removed]",
      "text/plain": [
       "<Figure size 432x288 with 1 Axes>"
      ]
     },
     "metadata": {
      "needs_background": "light"
     },
     "output_type": "display_data"
    }
   ],
   "source": [
    "# histogramme de la variable wage réajustée\n",
    "plt.hist(df5[\"wage\"],'auto')"
   ]
  },
  {
   "cell_type": "markdown",
   "metadata": {},
   "source": [
    "#### Question 4\n",
    "Calculer les corrélations motheduc et fatheduc. Expliquer le problème de multi-collinéarité. Commenter."
   ]
  },
  {
   "cell_type": "code",
   "execution_count": 117,
   "metadata": {},
   "outputs": [
    {
     "data": {
      "text/plain": [
       "array([[1.        , 0.55406322],\n",
       "       [0.55406322, 1.        ]])"
      ]
     },
     "execution_count": 117,
     "metadata": {},
     "output_type": "execute_result"
    }
   ],
   "source": [
    "np.corrcoef(df2[\"motheduc\"],df2[\"fatheduc\"])"
   ]
  },
  {
   "cell_type": "markdown",
   "metadata": {},
   "source": [
    "La corrélation est de 55% entre l'éducation de la mère et celle du père."
   ]
  },
  {
   "cell_type": "markdown",
   "metadata": {},
   "source": [
    "#### Question 5\n",
    "Faites un graphique en nuage de point entre wage et educ,. S'agit-il d'un effet \"toute chose étant égale par ailleurs ?\""
   ]
  },
  {
   "cell_type": "code",
   "execution_count": 118,
   "metadata": {},
   "outputs": [
    {
     "data": {
      "text/plain": [
       "<matplotlib.collections.PathCollection at 0x12ceff198>"
      ]
     },
     "execution_count": 118,
     "metadata": {},
     "output_type": "execute_result"
    },
    {
     "data": {
      "image/png": "[encoded data removed]",
      "text/plain": [
       "<Figure size 432x288 with 1 Axes>"
      ]
     },
     "metadata": {
      "needs_background": "light"
     },
     "output_type": "display_data"
    }
   ],
   "source": [
    "plt.scatter(df2.wage, df2.fatheduc)"
   ]
  },
  {
   "cell_type": "markdown",
   "metadata": {},
   "source": []
  },
  {
   "cell_type": "markdown",
   "metadata": {},
   "source": [
    "#### Question 6\n",
    "Quelle est l'hypothèse fondamentale qui garantit des estimateurs non biaisés ? Expliquer le biais de variable omise."
   ]
  },
  {
   "cell_type": "markdown",
   "metadata": {},
   "source": [
    "- L'hypothèse de normalité des résidus garantit l'obtention du meilleur estimateur linéaire non-biaisé (BLUE). Ainsi, les résidus sont centrés en zéro, de variance constante à travers le temps (iid). On parle alors d'homoscedasticité.\n",
    "- On estime un modèle en prenant certaines variables, mais il en existent d'autres, que l'on ne peut pas contrôler par manque de données. Une variable omise contrarit l'hypothèse de normalité des résidus, car l'effet des variables omises se retrouve en partie dans les résidus."
   ]
  },
  {
   "cell_type": "markdown",
   "metadata": {},
   "source": [
    "#### Question 7\n",
    "Faire la régression du log de wage en utilisant comme variables explicatives une constante, city, educ, exper, nwifeinc, kidslt6, kidsgt6. Commentez l'histogramme des résidus."
   ]
  },
  {
   "cell_type": "code",
   "execution_count": 119,
   "metadata": {},
   "outputs": [
    {
     "data": {
      "text/plain": [
       "(array([ 2.,  1.,  1.,  1.,  1.,  1.,  3.,  2.,  3.,  5.,  5., 10., 16.,\n",
       "        27., 38., 46., 58., 67., 56., 37., 26.,  5.,  7.,  1.,  3.,  1.,\n",
       "         1.,  1.,  3.]),\n",
       " array([-3.00985153, -2.82773465, -2.64561777, -2.46350089, -2.281384  ,\n",
       "        -2.09926712, -1.91715024, -1.73503336, -1.55291648, -1.37079959,\n",
       "        -1.18868271, -1.00656583, -0.82444895, -0.64233206, -0.46021518,\n",
       "        -0.2780983 , -0.09598142,  0.08613546,  0.26825235,  0.45036923,\n",
       "         0.63248611,  0.81460299,  0.99671988,  1.17883676,  1.36095364,\n",
       "         1.54307052,  1.72518741,  1.90730429,  2.08942117,  2.27153805]),\n",
       " <a list of 29 Patch objects>)"
      ]
     },
     "execution_count": 119,
     "metadata": {},
     "output_type": "execute_result"
    },
    {
     "data": {
      "image/png": "[encoded data removed]",
      "text/plain": [
       "<Figure size 432x288 with 1 Axes>"
      ]
     },
     "metadata": {
      "needs_background": "light"
     },
     "output_type": "display_data"
    }
   ],
   "source": [
    "y = df2[\"lwage\"]\n",
    "s = np.shape(df2[\"lwage\"])\n",
    "const = np.ones(s)\n",
    "city = df2[\"city\"]\n",
    "educ = df2[\"educ\"]\n",
    "exper = df2[\"exper\"]\n",
    "nwifeinc = df2[\"nwifeinc\"]\n",
    "kidslt6 = df2[\"kidslt6\"]\n",
    "kidsge6 = df2[\"kidsge6\"]\n",
    "X = np.column_stack((const,city,educ,exper,nwifeinc,kidslt6,kidsge6))\n",
    "beta = np.linalg.inv(X.T @ X)@X.T@y\n",
    "u = y - X@beta \n",
    "plt.hist(u,'auto')"
   ]
  },
  {
   "cell_type": "markdown",
   "metadata": {},
   "source": [
    "Les résidus ne sont pas gaussiens mais sont bien centrés en 0. "
   ]
  },
  {
   "cell_type": "markdown",
   "metadata": {},
   "source": [
    "#### Question 8 \n",
    "Tester l'hypothèse de non significativité de nwifeinc avec un seuil de significativité de 1%, 5% et 10% (test alternatif des deux côtés). Commentez les p-values."
   ]
  },
  {
   "cell_type": "code",
   "execution_count": 123,
   "metadata": {},
   "outputs": [],
   "source": [
    "n,k = np.shape(X)\n",
    "sig2 = u.T@u/(n-k)\n",
    "Var = sig2 * np.linalg.inv(X.T @ X)\n",
    "std = np.sqrt(np.diag(Var))\n",
    "t = beta / std \n",
    "t_nwifeinc = t[4]"
   ]
  },
  {
   "cell_type": "code",
   "execution_count": 125,
   "metadata": {},
   "outputs": [
    {
     "name": "stdout",
     "output_type": "stream",
     "text": [
      "[-1.92694669  0.50254687  6.77056179  3.45171828  1.46595149 -0.53105232\n",
      " -0.43435775]\n"
     ]
    }
   ],
   "source": [
    "print(t)"
   ]
  },
  {
   "cell_type": "code",
   "execution_count": 126,
   "metadata": {},
   "outputs": [
    {
     "name": "stdout",
     "output_type": "stream",
     "text": [
      "1.4659514850330582\n"
     ]
    }
   ],
   "source": [
    "print(t_nwifeinc)"
   ]
  },
  {
   "cell_type": "code",
   "execution_count": 127,
   "metadata": {},
   "outputs": [
    {
     "name": "stdout",
     "output_type": "stream",
     "text": [
      "Au seuil de significativité de 1%\n",
      "On accepte l'hypothèse de non-significativité\n",
      "p_value : 3.5333096948479134e-07 \n",
      "\n",
      "Au seuil de significativité de 5%\n",
      "On accepte l'hypothèse de non-significativité\n",
      "p_value : 9.878952107382961e-05 \n",
      "\n",
      "Au seuil de significativité de 10%\n",
      "On accepte l'hypothèse de non-significativité\n",
      "p_value : 0.0010602435910751766 \n",
      "\n"
     ]
    }
   ],
   "source": [
    "for t in [1,5,10]:\n",
    "    print(\"Au seuil de significativité de \" + str(t) + \"%\")\n",
    "    t_stat = 2 * stats.t.isf(t/200, n-k)\n",
    "    if t_stat < t_nwifeinc:\n",
    "        print(\"On rejette l'hypothèse de non-significativité\")\n",
    "    else: \n",
    "        print(\"On accepte l'hypothèse de non-significativité\")\n",
    "    print('p_value :', 2 * stats.t.sf(t_stat,n-k), '\\n')"
   ]
  },
  {
   "cell_type": "markdown",
   "metadata": {},
   "source": [
    "#### Question 9\n",
    "Tester l’hypothèse que le coefficient associé à nwifeinc est égal à 0.01 avec un seuil de significativité de 5% (test à alternatif des deux côtés)"
   ]
  },
  {
   "cell_type": "code",
   "execution_count": null,
   "metadata": {},
   "outputs": [],
   "source": []
  },
  {
   "cell_type": "markdown",
   "metadata": {},
   "source": [
    "#### Question 10 \n",
    "Tester l’hypothèse jointe que le coefficient de nwifeinc est égal à 0.01 et que celui de city est égal à 0.05."
   ]
  },
  {
   "cell_type": "code",
   "execution_count": 64,
   "metadata": {},
   "outputs": [],
   "source": [
    "Y = df2['lwage']\n",
    "X = df2[['city','educ','exper','nwifeinc', 'kidslt6', 'kidsge6']]"
   ]
  },
  {
   "cell_type": "code",
   "execution_count": 70,
   "metadata": {},
   "outputs": [
    {
     "name": "stdout",
     "output_type": "stream",
     "text": [
      "La p_value est de : 9.425439389224987%\n"
     ]
    }
   ],
   "source": [
    "ols = sm.OLS(Y, sm.add_constant(X)).fit()\n",
    "SSR_n = np.sum(ols.resid ** 2)\n",
    "ddl_n = df.shape[0] - X.shape[1] - 1\n",
    "# Modèle contraint\n",
    "Y = df2['lwage'] - 0.01 * df2['nwifeinc'] - 0.05 * df2['city']\n",
    "X = df2[['exper','educ', 'kidslt6', 'kidsge6']]\n",
    "\n",
    "ols = sm.OLS(Y, sm.add_constant(X)).fit()\n",
    "SSR_c = np.sum(ols.resid ** 2)\n",
    "ddl_c = df.shape[0] - X.shape[1] - 1\n",
    "\n",
    "# Stat de test\n",
    "F = ((SSR_c - SSR_n)/ (ddl_c - ddl_n)) / (SSR_n / ddl_n)\n",
    "p_val = 1- stats.f.cdf(F, ddl_c - ddl_n, ddl_n)\n",
    "\n",
    "print(\"La p_value est de : {}%\".format(100*p_val))"
   ]
  },
  {
   "cell_type": "markdown",
   "metadata": {},
   "source": [
    "La p-value est supérieure à 0.05 : on ne rejette pas l'hypothèse jointe."
   ]
  },
  {
   "cell_type": "markdown",
   "metadata": {},
   "source": [
    "#### Question 11\n",
    "Tester l’hypothèse joint que beta_nwifeinc+beta_city=0.1 et beta_educ+beta_exper=0.1"
   ]
  },
  {
   "cell_type": "code",
   "execution_count": 73,
   "metadata": {},
   "outputs": [
    {
     "name": "stdout",
     "output_type": "stream",
     "text": [
      "La p_value est de : 1.1102230246251565e-14%\n"
     ]
    }
   ],
   "source": [
    "# Modèle non contraint\n",
    "Y = df2['lwage']\n",
    "X = df2[['city','educ','exper','nwifeinc', 'kidslt6', 'kidsge6']]\n",
    "\n",
    "ols = sm.OLS(Y, sm.add_constant(X)).fit()\n",
    "SSR_n = np.sum(ols.resid ** 2)\n",
    "ddl_n = df.shape[0] - X.shape[1] - 1\n",
    "\n",
    "# Modèle contraint\n",
    "Y = df2.lwage - 0.1 * (df2.nwifeinc + df2.city) - 0.1 * (df2.educ + df2.exper)\n",
    "X = df2[['kidslt6', 'kidsge6']]\n",
    "\n",
    "ols = sm.OLS(Y, sm.add_constant(X)).fit()\n",
    "SSR_c = np.sum(ols.resid ** 2)\n",
    "ddl_c = df.shape[0] - X.shape[1] - 1\n",
    "\n",
    "# Stat de test\n",
    "F = ((SSR_c - SSR_n)/ (ddl_c - ddl_n)) / (SSR_n / ddl_n)\n",
    "p_val = 1- stats.f.cdf(F, ddl_c - ddl_n, ddl_n)\n",
    "\n",
    "print(\"La p_value est de : {}%\".format(100*p_val))"
   ]
  },
  {
   "cell_type": "markdown",
   "metadata": {},
   "source": [
    "La p-value est inférieure à 0.05 : on rejette l'hypothèse jointe."
   ]
  },
  {
   "cell_type": "markdown",
   "metadata": {},
   "source": [
    "#### Question 12 \n",
    "Faites une représentation graphique de la manière dont le salaire augmente avec l’éducation\n",
    "et l’expérience professionnelle. Commentez"
   ]
  },
  {
   "cell_type": "code",
   "execution_count": 39,
   "metadata": {},
   "outputs": [
    {
     "data": {
      "image/png": "[encoded data removed]",
      "text/plain": [
       "<Figure size 432x288 with 1 Axes>"
      ]
     },
     "metadata": {
      "needs_background": "light"
     },
     "output_type": "display_data"
    }
   ],
   "source": [
    "plt.scatter(df2.educ,df2.wage)\n",
    "plt.show()"
   ]
  },
  {
   "cell_type": "code",
   "execution_count": 40,
   "metadata": {},
   "outputs": [
    {
     "data": {
      "image/png": "[encoded data removed]",
      "text/plain": [
       "<Figure size 432x288 with 1 Axes>"
      ]
     },
     "metadata": {
      "needs_background": "light"
     },
     "output_type": "display_data"
    }
   ],
   "source": [
    "plt.scatter(df2.exper,df2.wage)\n",
    "plt.show()"
   ]
  },
  {
   "cell_type": "markdown",
   "metadata": {},
   "source": [
    "#### Question 13 \n",
    "Tester l’égalité des coefficients associés aux variables kidsgt6 et kidslt6. Interprétez"
   ]
  },
  {
   "cell_type": "code",
   "execution_count": 41,
   "metadata": {},
   "outputs": [
    {
     "data": {
      "text/plain": [
       "'<F test: F=array([[0.13819611]]), p=0.7102679748433033, df_denom=421, df_num=1>'"
      ]
     },
     "execution_count": 41,
     "metadata": {},
     "output_type": "execute_result"
    }
   ],
   "source": [
    "cols = ['city', 'educ', 'exper', 'nwifeinc', 'kidslt6', 'kidsge6']\n",
    "formula = 'lwage ~ ' + ' + '.join(cols)\n",
    "cols.append('lwage')\n",
    "data = df2[cols].assign(const=1)\n",
    "X = df2[['city', 'educ', 'exper', 'nwifeinc', 'kidslt6', 'kidsge6', 'lwage']]\n",
    "X = X.assign(const=1)\n",
    "formula = 'lwage ~ city + educ + exper + nwifeinc + kidslt6 + kidsge6 + const'\n",
    "results = ols(formula, data).fit()\n",
    "\n",
    "hypotheses = '(kidsge6 = kidslt6)'\n",
    "f_test = results.f_test(hypotheses)\n",
    "f_test.summary()"
   ]
  },
  {
   "cell_type": "markdown",
   "metadata": {},
   "source": [
    "#### Question 14 \n",
    "Faire le test d'hétéroscédasticité de forme linéaire en donnant la p-valeur. Déterminer la ou les sources d’hétéroscédasticité et corriger avec les méthodes vues en cours. Comparer les écarts-types des coefficients estimés avec ceux obtenus à la question 7. Commenter."
   ]
  },
  {
   "cell_type": "code",
   "execution_count": 80,
   "metadata": {},
   "outputs": [
    {
     "name": "stdout",
     "output_type": "stream",
     "text": [
      "p_valeur : 0.09130097553302974\n"
     ]
    }
   ],
   "source": [
    "X = df2[['city','educ','exper','nwifeinc', 'kidslt6', 'kidsge6']]\n",
    "Y = df2.wage\n",
    "results = sm.OLS(Y, sm.add_constant(X)).fit()\n",
    "u2 = results.resid ** 2\n",
    "\n",
    "# Modèle non contraint\n",
    "Y = u2.copy()\n",
    "X = df2[['city','educ','exper','nwifeinc', 'kidslt6', 'kidsge6']]\n",
    "\n",
    "ols = sm.OLS(Y, sm.add_constant(X)).fit()\n",
    "SSR_n = np.sum(ols.resid ** 2)\n",
    "ddl_n = X.shape[0] - X.shape[1] - 1\n",
    "\n",
    "# Modèle contraint\n",
    "X = np.ones((df2.shape[0], 1))\n",
    "\n",
    "ols_2 = sm.OLS(Y, X).fit()\n",
    "SSR_c = np.sum(ols_2.resid ** 2)\n",
    "ddl_c = X.shape[0] - X.shape[1] - 1\n",
    "\n",
    "# Stat de test\n",
    "F = ((SSR_c - SSR_n)/ (ddl_c - ddl_n)) / (SSR_n / ddl_n)\n",
    "p_val = 1 - stats.f.cdf(F, ddl_c - ddl_n, ddl_n)\n",
    "\n",
    "print(\"p_valeur : {}\".format(p_val))"
   ]
  },
  {
   "cell_type": "markdown",
   "metadata": {},
   "source": [
    "On obtient une p-value de 9.1%, qui implique un rejet de l'hypothèse à 10% mais une non-rejet à 5%."
   ]
  },
  {
   "cell_type": "code",
   "execution_count": 89,
   "metadata": {},
   "outputs": [
    {
     "name": "stdout",
     "output_type": "stream",
     "text": [
      "p_valeur : 0.6271456383048674\n"
     ]
    }
   ],
   "source": [
    "Y = np.log(u2)\n",
    "X = df2[['city','educ','exper','nwifeinc', 'kidslt6', 'kidsge6']]\n",
    "model = sm.OLS(Y, sm.add_constant(X)).fit()\n",
    "\n",
    "g = np.dot(sm.add_constant(X), model.params)\n",
    "w = np.sqrt(np.exp(g))\n",
    "Y = u2.copy() / w\n",
    "df_weight = df2.copy()\n",
    "\n",
    "for col in ['city','educ','exper','nwifeinc', 'kidslt6', 'kidsge6'] :\n",
    "    df_weight[col] = df_weight[col]/w \n",
    "    \n",
    "# Modèle contraint\n",
    "X = df_weight[['city','educ','exper','nwifeinc', 'kidslt6', 'kidsge6']]\n",
    "\n",
    "model = sm.OLS(Y, sm.add_constant(X))\n",
    "ols = model.fit()\n",
    "\n",
    "SSR_n = np.sum(ols.resid ** 2)\n",
    "ddl_n = X.shape[0] - X.shape[1] - 1\n",
    "\n",
    "# Modèle contraint\n",
    "X = np.ones((df_weight.shape[0], 1))\n",
    "\n",
    "ols_2 = sm.OLS(Y, X).fit()\n",
    "SSR_c = np.sum(ols_2.resid ** 2)\n",
    "ddl_c = X.shape[0] - X.shape[1] - 1\n",
    "\n",
    "# Stat de test\n",
    "F = ((SSR_c - SSR_n)/ (ddl_c - ddl_n)) / (SSR_n / ddl_n)\n",
    "p_val = 1 - stats.f.cdf(F, ddl_c - ddl_n, ddl_n)\n",
    "\n",
    "print(\"p_valeur : {}\".format(p_val))"
   ]
  },
  {
   "cell_type": "markdown",
   "metadata": {},
   "source": [
    "La p-value est désormais de 63%, ce qui implique que l'on ne peut pas rejeter l'hypothèse d'homoscedasticité des résidus. On a bien corrigé le problème d'hétéroscedasticité."
   ]
  },
  {
   "cell_type": "markdown",
   "metadata": {},
   "source": [
    "#### Question 15 \n",
    "Tester le changement de structure de la question 8 entre les femmes qui ont plus de 43 ans et les autres : test sur l'ensemble des coefficients. Donnez les p-valeurs\n"
   ]
  },
  {
   "cell_type": "code",
   "execution_count": 81,
   "metadata": {},
   "outputs": [
    {
     "name": "stderr",
     "output_type": "stream",
     "text": [
      "//anaconda3/lib/python3.7/site-packages/ipykernel_launcher.py:1: UserWarning: Boolean Series key will be reindexed to match DataFrame index.\n",
      "  \"\"\"Entry point for launching an IPython kernel.\n",
      "//anaconda3/lib/python3.7/site-packages/ipykernel_launcher.py:2: UserWarning: Boolean Series key will be reindexed to match DataFrame index.\n",
      "  \n"
     ]
    }
   ],
   "source": [
    "df_grp1 = df2[df.age > 43]\n",
    "df_grp2 = df2[(df.age <= 43)]"
   ]
  },
  {
   "cell_type": "code",
   "execution_count": 82,
   "metadata": {},
   "outputs": [
    {
     "name": "stdout",
     "output_type": "stream",
     "text": [
      "                            OLS Regression Results                            \n",
      "==============================================================================\n",
      "Dep. Variable:                  lwage   R-squared:                       0.166\n",
      "Model:                            OLS   Adj. R-squared:                  0.138\n",
      "Method:                 Least Squares   F-statistic:                     5.925\n",
      "Date:                Sun, 05 Apr 2020   Prob (F-statistic):           1.15e-05\n",
      "Time:                        15:04:29   Log-Likelihood:                -179.89\n",
      "No. Observations:                 186   AIC:                             373.8\n",
      "Df Residuals:                     179   BIC:                             396.4\n",
      "Df Model:                           6                                         \n",
      "Covariance Type:            nonrobust                                         \n",
      "==============================================================================\n",
      "                 coef    std err          t      P>|t|      [0.025      0.975]\n",
      "------------------------------------------------------------------------------\n",
      "const         -0.3232      0.276     -1.173      0.242      -0.867       0.221\n",
      "city          -0.0188      0.110     -0.171      0.865      -0.236       0.199\n",
      "educ           0.0853      0.020      4.228      0.000       0.045       0.125\n",
      "exper          0.0178      0.006      3.047      0.003       0.006       0.029\n",
      "nwifeinc       0.0093      0.005      1.957      0.052   -7.71e-05       0.019\n",
      "kidslt6       -0.0091      0.332     -0.027      0.978      -0.664       0.646\n",
      "kidsge6       -0.0249      0.051     -0.487      0.627      -0.126       0.076\n",
      "==============================================================================\n",
      "Omnibus:                       37.611   Durbin-Watson:                   2.352\n",
      "Prob(Omnibus):                  0.000   Jarque-Bera (JB):              114.134\n",
      "Skew:                          -0.787   Prob(JB):                     1.64e-25\n",
      "Kurtosis:                       6.500   Cond. No.                         212.\n",
      "==============================================================================\n",
      "\n",
      "Warnings:\n",
      "[1] Standard Errors assume that the covariance matrix of the errors is correctly specified.\n"
     ]
    }
   ],
   "source": [
    "X = sm.add_constant(df_grp1[['city', 'educ', 'exper', 'nwifeinc', 'kidslt6', 'kidsge6']])\n",
    "model = sm.OLS(df_grp1.lwage.apply(float), X)\n",
    "resultats_structure = model.fit()\n",
    "print(resultats_structure.summary())"
   ]
  },
  {
   "cell_type": "code",
   "execution_count": 83,
   "metadata": {},
   "outputs": [
    {
     "name": "stdout",
     "output_type": "stream",
     "text": [
      "                            OLS Regression Results                            \n",
      "==============================================================================\n",
      "Dep. Variable:                  lwage   R-squared:                       0.168\n",
      "Model:                            OLS   Adj. R-squared:                  0.146\n",
      "Method:                 Least Squares   F-statistic:                     7.888\n",
      "Date:                Sun, 05 Apr 2020   Prob (F-statistic):           9.37e-08\n",
      "Time:                        15:04:40   Log-Likelihood:                -248.69\n",
      "No. Observations:                 242   AIC:                             511.4\n",
      "Df Residuals:                     235   BIC:                             535.8\n",
      "Df Model:                           6                                         \n",
      "Covariance Type:            nonrobust                                         \n",
      "==============================================================================\n",
      "                 coef    std err          t      P>|t|      [0.025      0.975]\n",
      "------------------------------------------------------------------------------\n",
      "const         -0.5412      0.318     -1.702      0.090      -1.168       0.085\n",
      "city           0.0850      0.092      0.920      0.358      -0.097       0.267\n",
      "educ           0.1167      0.023      5.038      0.000       0.071       0.162\n",
      "exper          0.0202      0.008      2.540      0.012       0.005       0.036\n",
      "nwifeinc       0.0026      0.005      0.526      0.599      -0.007       0.012\n",
      "kidslt6       -0.0933      0.094     -0.994      0.321      -0.278       0.092\n",
      "kidsge6       -0.0233      0.036     -0.643      0.521      -0.095       0.048\n",
      "==============================================================================\n",
      "Omnibus:                       42.575   Durbin-Watson:                   1.807\n",
      "Prob(Omnibus):                  0.000   Jarque-Bera (JB):              145.224\n",
      "Skew:                          -0.684   Prob(JB):                     2.92e-32\n",
      "Kurtosis:                       6.540   Cond. No.                         186.\n",
      "==============================================================================\n",
      "\n",
      "Warnings:\n",
      "[1] Standard Errors assume that the covariance matrix of the errors is correctly specified.\n"
     ]
    }
   ],
   "source": [
    "X = sm.add_constant(df_grp2[['city', 'educ', 'exper', 'nwifeinc', 'kidslt6', 'kidsge6']])\n",
    "model = sm.OLS(df_grp2.lwage.apply(float), X)\n",
    "resultats_structure = model.fit()\n",
    "print(resultats_structure.summary())"
   ]
  },
  {
   "cell_type": "code",
   "execution_count": 84,
   "metadata": {},
   "outputs": [
    {
     "name": "stdout",
     "output_type": "stream",
     "text": [
      "p_value : 0.6856897347649491\n"
     ]
    }
   ],
   "source": [
    "print(\"p_value : {}\".format(stats.ttest_ind(df_grp1.lwage, df_grp2.lwage)[1]))"
   ]
  },
  {
   "cell_type": "markdown",
   "metadata": {},
   "source": [
    "On ne rejette pas l'hypothèse d'indépendance : on ne peut pas conclure à un effet significatif de l'âge."
   ]
  },
  {
   "cell_type": "markdown",
   "metadata": {},
   "source": [
    "#### Question 16 \n",
    "Ajouter au modèle de la question 7 la variable huseduc. Faire ensuite la même régression en décomposant la variable huseduc en 4 variables binaires construites selon votre choix. Faire le test de non significativité de l’ensemble des variables binaires. Donnez les p-valeurs et commentez."
   ]
  },
  {
   "cell_type": "code",
   "execution_count": 86,
   "metadata": {},
   "outputs": [
    {
     "data": {
      "text/html": [
       "<div>\n",
       "<style scoped>\n",
       "    .dataframe tbody tr th:only-of-type {\n",
       "        vertical-align: middle;\n",
       "    }\n",
       "\n",
       "    .dataframe tbody tr th {\n",
       "        vertical-align: top;\n",
       "    }\n",
       "\n",
       "    .dataframe thead th {\n",
       "        text-align: right;\n",
       "    }\n",
       "</style>\n",
       "<table border=\"1\" class=\"dataframe\">\n",
       "  <thead>\n",
       "    <tr style=\"text-align: right;\">\n",
       "      <th></th>\n",
       "      <th>inlf</th>\n",
       "      <th>hours</th>\n",
       "      <th>kidslt6</th>\n",
       "      <th>kidsge6</th>\n",
       "      <th>age</th>\n",
       "      <th>educ</th>\n",
       "      <th>wage</th>\n",
       "      <th>repwage</th>\n",
       "      <th>hushrs</th>\n",
       "      <th>husage</th>\n",
       "      <th>...</th>\n",
       "      <th>unem</th>\n",
       "      <th>city</th>\n",
       "      <th>exper</th>\n",
       "      <th>nwifeinc</th>\n",
       "      <th>lwage</th>\n",
       "      <th>expersq</th>\n",
       "      <th>col_(3.999, 11.0]</th>\n",
       "      <th>col_(11.0, 12.0]</th>\n",
       "      <th>col_(12.0, 16.0]</th>\n",
       "      <th>col_(16.0, 17.0]</th>\n",
       "    </tr>\n",
       "  </thead>\n",
       "  <tbody>\n",
       "    <tr>\n",
       "      <th>0</th>\n",
       "      <td>1</td>\n",
       "      <td>1610</td>\n",
       "      <td>1</td>\n",
       "      <td>0</td>\n",
       "      <td>32</td>\n",
       "      <td>12</td>\n",
       "      <td>3.3540</td>\n",
       "      <td>2.65</td>\n",
       "      <td>2708</td>\n",
       "      <td>34</td>\n",
       "      <td>...</td>\n",
       "      <td>5.0</td>\n",
       "      <td>0</td>\n",
       "      <td>14</td>\n",
       "      <td>10.910060</td>\n",
       "      <td>1.210154</td>\n",
       "      <td>196</td>\n",
       "      <td>0</td>\n",
       "      <td>1</td>\n",
       "      <td>0</td>\n",
       "      <td>0</td>\n",
       "    </tr>\n",
       "    <tr>\n",
       "      <th>1</th>\n",
       "      <td>1</td>\n",
       "      <td>1656</td>\n",
       "      <td>0</td>\n",
       "      <td>2</td>\n",
       "      <td>30</td>\n",
       "      <td>12</td>\n",
       "      <td>1.3889</td>\n",
       "      <td>2.65</td>\n",
       "      <td>2310</td>\n",
       "      <td>30</td>\n",
       "      <td>...</td>\n",
       "      <td>11.0</td>\n",
       "      <td>1</td>\n",
       "      <td>5</td>\n",
       "      <td>19.499980</td>\n",
       "      <td>0.328512</td>\n",
       "      <td>25</td>\n",
       "      <td>1</td>\n",
       "      <td>0</td>\n",
       "      <td>0</td>\n",
       "      <td>0</td>\n",
       "    </tr>\n",
       "    <tr>\n",
       "      <th>2</th>\n",
       "      <td>1</td>\n",
       "      <td>1980</td>\n",
       "      <td>1</td>\n",
       "      <td>3</td>\n",
       "      <td>35</td>\n",
       "      <td>12</td>\n",
       "      <td>4.5455</td>\n",
       "      <td>4.04</td>\n",
       "      <td>3072</td>\n",
       "      <td>40</td>\n",
       "      <td>...</td>\n",
       "      <td>5.0</td>\n",
       "      <td>0</td>\n",
       "      <td>15</td>\n",
       "      <td>12.039910</td>\n",
       "      <td>1.514138</td>\n",
       "      <td>225</td>\n",
       "      <td>0</td>\n",
       "      <td>1</td>\n",
       "      <td>0</td>\n",
       "      <td>0</td>\n",
       "    </tr>\n",
       "    <tr>\n",
       "      <th>3</th>\n",
       "      <td>1</td>\n",
       "      <td>456</td>\n",
       "      <td>0</td>\n",
       "      <td>3</td>\n",
       "      <td>34</td>\n",
       "      <td>12</td>\n",
       "      <td>1.0965</td>\n",
       "      <td>3.25</td>\n",
       "      <td>1920</td>\n",
       "      <td>53</td>\n",
       "      <td>...</td>\n",
       "      <td>5.0</td>\n",
       "      <td>0</td>\n",
       "      <td>6</td>\n",
       "      <td>6.799996</td>\n",
       "      <td>0.092123</td>\n",
       "      <td>36</td>\n",
       "      <td>1</td>\n",
       "      <td>0</td>\n",
       "      <td>0</td>\n",
       "      <td>0</td>\n",
       "    </tr>\n",
       "    <tr>\n",
       "      <th>4</th>\n",
       "      <td>1</td>\n",
       "      <td>1568</td>\n",
       "      <td>1</td>\n",
       "      <td>2</td>\n",
       "      <td>31</td>\n",
       "      <td>14</td>\n",
       "      <td>4.5918</td>\n",
       "      <td>3.60</td>\n",
       "      <td>2000</td>\n",
       "      <td>32</td>\n",
       "      <td>...</td>\n",
       "      <td>9.5</td>\n",
       "      <td>1</td>\n",
       "      <td>7</td>\n",
       "      <td>20.100060</td>\n",
       "      <td>1.524272</td>\n",
       "      <td>49</td>\n",
       "      <td>0</td>\n",
       "      <td>1</td>\n",
       "      <td>0</td>\n",
       "      <td>0</td>\n",
       "    </tr>\n",
       "  </tbody>\n",
       "</table>\n",
       "<p>5 rows × 26 columns</p>\n",
       "</div>"
      ],
      "text/plain": [
       "   inlf  hours  kidslt6  kidsge6  age  educ    wage  repwage  hushrs  husage  \\\n",
       "0     1   1610        1        0   32    12  3.3540     2.65    2708      34   \n",
       "1     1   1656        0        2   30    12  1.3889     2.65    2310      30   \n",
       "2     1   1980        1        3   35    12  4.5455     4.04    3072      40   \n",
       "3     1    456        0        3   34    12  1.0965     3.25    1920      53   \n",
       "4     1   1568        1        2   31    14  4.5918     3.60    2000      32   \n",
       "\n",
       "   ...  unem  city  exper   nwifeinc     lwage  expersq  col_(3.999, 11.0]  \\\n",
       "0  ...   5.0     0     14  10.910060  1.210154      196                  0   \n",
       "1  ...  11.0     1      5  19.499980  0.328512       25                  1   \n",
       "2  ...   5.0     0     15  12.039910  1.514138      225                  0   \n",
       "3  ...   5.0     0      6   6.799996  0.092123       36                  1   \n",
       "4  ...   9.5     1      7  20.100060  1.524272       49                  0   \n",
       "\n",
       "   col_(11.0, 12.0]  col_(12.0, 16.0]  col_(16.0, 17.0]  \n",
       "0                 1                 0                 0  \n",
       "1                 0                 0                 0  \n",
       "2                 1                 0                 0  \n",
       "3                 0                 0                 0  \n",
       "4                 1                 0                 0  \n",
       "\n",
       "[5 rows x 26 columns]"
      ]
     },
     "execution_count": 86,
     "metadata": {},
     "output_type": "execute_result"
    }
   ],
   "source": [
    "huseduc_cat = pd.DataFrame(pd.get_dummies(pd.qcut(df2.huseduc, 4),prefix='col'))\n",
    "df_modified = pd.concat([df2,huseduc_cat], axis=1)\n",
    "df_modified.head()"
   ]
  },
  {
   "cell_type": "code",
   "execution_count": 87,
   "metadata": {},
   "outputs": [
    {
     "name": "stdout",
     "output_type": "stream",
     "text": [
      "p_value : 0.06305414850343172\n"
     ]
    },
    {
     "name": "stderr",
     "output_type": "stream",
     "text": [
      "//anaconda3/lib/python3.7/site-packages/numpy/core/fromnumeric.py:2389: FutureWarning: Method .ptp is deprecated and will be removed in a future version. Use numpy.ptp instead.\n",
      "  return ptp(axis=axis, out=out, **kwargs)\n"
     ]
    }
   ],
   "source": [
    "# Modèle non contraint\n",
    "Y = df_modified.lwage\n",
    "X = df_modified[['city',\n",
    "                'educ',\n",
    "                'exper',\n",
    "                'nwifeinc',\n",
    "                'kidslt6',\n",
    "                'kidsge6',\n",
    "                'col_(3.999, 11.0]',\n",
    "                'col_(11.0, 12.0]',\n",
    "                'col_(12.0, 16.0]',\n",
    "                'col_(16.0, 17.0]'\n",
    "               ]]\n",
    "\n",
    "model = sm.OLS(Y, sm.add_constant(X))\n",
    "ols = model.fit()\n",
    "\n",
    "SSR_n = np.sum(ols.resid ** 2)\n",
    "ddl_n = X.shape[0] - X.shape[1] - 1\n",
    "\n",
    "# Modèle contraint\n",
    "X = df_modified[['city', 'educ', 'exper', 'nwifeinc','kidslt6','kidsge6']]\n",
    "\n",
    "ols_2 = sm.OLS(Y, X).fit()\n",
    "SSR_c = np.sum(ols_2.resid ** 2)\n",
    "ddl_c = X.shape[0] - X.shape[1] - 1\n",
    "\n",
    "# Stat de test\n",
    "F = ((SSR_c - SSR_n)/ (ddl_c - ddl_n)) / (SSR_n / ddl_n)\n",
    "p_val = 1 - stats.f.cdf(F, ddl_c - ddl_n, ddl_n)\n",
    "\n",
    "print(\"p_value : {}\".format(p_val))"
   ]
  },
  {
   "cell_type": "markdown",
   "metadata": {},
   "source": [
    "La p-value est 6.3% : on ne rejette pas l'hypothèse nulle de non-significativité de l'ensemble des variables binaires."
   ]
  },
  {
   "cell_type": "markdown",
   "metadata": {},
   "source": [
    "# Partie 2 : Times Series"
   ]
  },
  {
   "cell_type": "markdown",
   "metadata": {},
   "source": []
  },
  {
   "cell_type": "code",
   "execution_count": null,
   "metadata": {},
   "outputs": [],
   "source": []
  },
  {
   "cell_type": "code",
   "execution_count": null,
   "metadata": {},
   "outputs": [],
   "source": []
  },
  {
   "cell_type": "code",
   "execution_count": null,
   "metadata": {},
   "outputs": [],
   "source": []
  }
 ],
 "metadata": {
  "kernelspec": {
   "display_name": "Python 3",
   "language": "python",
   "name": "python3"
  },
  "language_info": {
   "codemirror_mode": {
    "name": "ipython",
    "version": 3
   },
   "file_extension": ".py",
   "mimetype": "text/x-python",
   "name": "python",
   "nbconvert_exporter": "python",
   "pygments_lexer": "ipython3",
   "version": "3.7.4"
  }
 },
 "nbformat": 4,
 "nbformat_minor": 2
}
