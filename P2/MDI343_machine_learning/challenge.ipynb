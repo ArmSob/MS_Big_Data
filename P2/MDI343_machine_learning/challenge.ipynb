{
 "cells": [
  {
   "cell_type": "markdown",
   "metadata": {},
   "source": [
    "# Data challenge: Fusion of algorithms for face recognition"
   ]
  },
  {
   "cell_type": "markdown",
   "metadata": {},
   "source": [
    "### Romain Legrand, February 2020\n",
    "\n"
   ]
  },
  {
   "cell_type": "code",
   "execution_count": null,
   "metadata": {},
   "outputs": [],
   "source": []
  },
  {
   "cell_type": "markdown",
   "metadata": {},
   "source": [
    "## Challenge description"
   ]
  },
  {
   "cell_type": "markdown",
   "metadata": {},
   "source": [
    "The increasingly ubiquitous presence of biometric solutions and face recognition in particular in everyday life requires their adaptation for practical scenario. In the presence of several possible solutions, and if global decisions are to be made, each such single solution can be far less efficient than tailoring them to the complexity of an image.\n",
    "\n",
    "In this challenge, the goal is to build a fusion of algorithms in order to construct the best suited solution for comparison of a pair of images. This fusion will be driven by qualities computed on each image.\n",
    "\n",
    "Comparing of two images is done in two steps. 1st, a vector of features is computed for each image. 2nd, a simple function produces a vector of scores for a pair of images. The goal is to create a function that will compare a pair of images based on the information mentioned above, and decide whether two images belong to the same person.\n",
    "\n",
    "You are provided a label set of training data and a test set without labels. You should submit a .csv file with labels for each entry of this test set."
   ]
  },
  {
   "cell_type": "markdown",
   "metadata": {},
   "source": [
    "The dataset comprises a training set and a test set. The training set consist of two files, **xtrain_challenge.csv** and **xtest_challenge.csv**.\n",
    "\n",
    "File **xtrain_challenge.csv** contains one observation per row which contains following entries based on a pair of images:\n",
    " * columns 1-13 - 13 qualities on first image;\n",
    " * columns 14-26 - 13 qualities on second image;\n",
    " * columns 27-37 - 11 matching scores between the two images.\n",
    "\n",
    "File **ytrain_challenge.csv** contains one line with each entry corresponding to one observation in **xtrain_challenge.csv**, maintaining the order, and has '1' if a pair of images belong to the same person and '0' otherwise.\n",
    "\n",
    "For each of these 38 variables, there are in total 9,800,713 training observations.\n",
    "\n",
    "The test file **xtest_challenge.csv** has the same structure as file **xtrain_challenge.csv**.\n",
    "\n",
    "There are in total 3,768,311 test observations."
   ]
  },
  {
   "cell_type": "markdown",
   "metadata": {},
   "source": [
    "Consider the problem of the supervised classification with two classes labeled '0' and '1'. Many methods for supervised classification assign a new observation $\\boldsymbol{x}$ to a class using the following rule:\n",
    "\n",
    "\\begin{align}\n",
    "g(\\boldsymbol{x}) = \\begin{cases}1 & \\text{ if } f(\\boldsymbol{x}) \\ge t, \\\\ 0 & \\text{ otherwise}.\\end{cases}\n",
    "\\end{align}\n",
    "\n",
    "Threshold $t$ is then chosen due to specific needs managing the trade-off between the true positive rate (TPR) and the false positive rate (FPR), depending on the cost of the corresponding mistakes.\n",
    "\n",
    "Here, the performance criterion is **TPR for the value of FPR = $10^{-4}$**, or, speaking in other words, one needs to maximize the value of the receiver operating characteristic (ROC) in the point FPR = $10^{-4}$. The submitted solution file should thus contain the score for each observation."
   ]
  },
  {
   "cell_type": "code",
   "execution_count": null,
   "metadata": {},
   "outputs": [],
   "source": []
  },
  {
   "cell_type": "markdown",
   "metadata": {},
   "source": [
    "## Imports"
   ]
  },
  {
   "cell_type": "code",
   "execution_count": 1,
   "metadata": {},
   "outputs": [],
   "source": [
    "# data treatment\n",
    "import numpy as np\n",
    "import pandas as pd\n",
    "from sklearn import preprocessing\n",
    "from sklearn.model_selection import PredefinedSplit\n",
    "from sklearn.model_selection import train_test_split\n",
    "import matplotlib.pyplot as plt\n",
    "import seaborn as sns\n",
    "import pickle\n",
    "import warnings\n",
    "warnings.filterwarnings(\"ignore\")\n",
    "from sklearn.decomposition import PCA\n",
    "import numpy.matlib\n",
    "\n",
    "# machine learning\n",
    "from sklearn.model_selection import GridSearchCV\n",
    "from sklearn.neighbors import KNeighborsClassifier\n",
    "from sklearn.ensemble import RandomForestClassifier\n",
    "from sklearn.svm import SVC\n",
    "from sklearn.ensemble import ExtraTreesClassifier\n",
    "from sklearn.ensemble import AdaBoostClassifier\n",
    "from sklearn.tree import DecisionTreeClassifier\n",
    "from sklearn.linear_model import LogisticRegression\n",
    "from sklearn.linear_model import Perceptron\n",
    "from sklearn.ensemble import GradientBoostingClassifier\n",
    "from xgboost import XGBClassifier\n",
    "\n",
    "# deep learning\n",
    "import tensorflow as tf\n",
    "from tensorflow import keras"
   ]
  },
  {
   "cell_type": "code",
   "execution_count": null,
   "metadata": {},
   "outputs": [],
   "source": []
  },
  {
   "cell_type": "markdown",
   "metadata": {},
   "source": [
    "## Exploratory analysis of the dataset"
   ]
  },
  {
   "cell_type": "code",
   "execution_count": 2,
   "metadata": {},
   "outputs": [],
   "source": [
    "# data loading\n",
    "path = '/home/romain/Bureau/datachallenge/'\n",
    "X_train = pd.read_csv(path + 'xtrain_challenge.csv')\n",
    "y_train = pd.read_csv(path + 'ytrain_challenge.csv')\n",
    "X_test = pd.read_csv(path + 'xtest_challenge.csv')\n",
    "\n",
    "# build indices for later split between test and train, labels and features\n",
    "X_ind = ['qs1','qs2','qs3','qs4','qs5','qs6','qs7','qs8','qs9','qs10','qs11','qs12','qs13',\\\n",
    "        'qr1','qr2','qr3','qr4','qr5','qr6','qr7','qr8','qr9','qr10','qr11','qr12','qr13',\\\n",
    "        's1','s2','s3','s4','s5','s6','s7','s8','s9','s10','s11']\n",
    "y_ind = ['y']"
   ]
  },
  {
   "cell_type": "code",
   "execution_count": 3,
   "metadata": {},
   "outputs": [
    {
     "name": "stdout",
     "output_type": "stream",
     "text": [
      "The X_train dataset comprises 37 features and 9800713 observations.\n",
      "The y_train dataset comprises 1 labels and 9800713 observations.\n",
      "The X_test dataset comprises 37 features and 3768311 observations.\n"
     ]
    }
   ],
   "source": [
    "# dimensions of the dataset\n",
    "train = pd.concat([X_train, y_train], axis=1)\n",
    "print('The X_train dataset comprises ' + str(X_train.shape[1]) + ' features and ' + str(X_train.shape[0]) + ' observations.')\n",
    "print('The y_train dataset comprises ' + str(y_train.shape[1]) + ' labels and ' + str(y_train.shape[0]) + ' observations.')\n",
    "print('The X_test dataset comprises ' + str(X_test.shape[1]) + ' features and ' + str(X_test.shape[0]) + ' observations.')"
   ]
  },
  {
   "cell_type": "markdown",
   "metadata": {},
   "source": [
    "The dimensions of the datasets are compliant with the description."
   ]
  },
  {
   "cell_type": "code",
   "execution_count": 4,
   "metadata": {},
   "outputs": [
    {
     "name": "stdout",
     "output_type": "stream",
     "text": [
      "There are 0 missing values in X_train.\n",
      "There are 0 missing values in y_train.\n",
      "There are 0 missing values in X_test.\n"
     ]
    }
   ],
   "source": [
    "# check for potential missing values\n",
    "print('There are ' + str(X_train.isna().sum().sum()) + ' missing values in X_train.')\n",
    "print('There are ' + str(y_train.isna().sum().sum()) + ' missing values in y_train.')\n",
    "print('There are ' + str(X_test.isna().sum().sum()) + ' missing values in X_test.')"
   ]
  },
  {
   "cell_type": "markdown",
   "metadata": {},
   "source": [
    "There are no missing values, so the dataset is clean. No further cleaning is required."
   ]
  },
  {
   "cell_type": "code",
   "execution_count": 5,
   "metadata": {},
   "outputs": [
    {
     "data": {
      "text/html": [
       "<div>\n",
       "<style scoped>\n",
       "    .dataframe tbody tr th:only-of-type {\n",
       "        vertical-align: middle;\n",
       "    }\n",
       "\n",
       "    .dataframe tbody tr th {\n",
       "        vertical-align: top;\n",
       "    }\n",
       "\n",
       "    .dataframe thead th {\n",
       "        text-align: right;\n",
       "    }\n",
       "</style>\n",
       "<table border=\"1\" class=\"dataframe\">\n",
       "  <thead>\n",
       "    <tr style=\"text-align: right;\">\n",
       "      <th></th>\n",
       "      <th>qs1</th>\n",
       "      <th>qs2</th>\n",
       "      <th>qs3</th>\n",
       "      <th>qs4</th>\n",
       "      <th>qs5</th>\n",
       "      <th>qs6</th>\n",
       "      <th>qs7</th>\n",
       "      <th>qs8</th>\n",
       "      <th>qs9</th>\n",
       "      <th>qs10</th>\n",
       "      <th>qs11</th>\n",
       "      <th>qs12</th>\n",
       "      <th>qs13</th>\n",
       "    </tr>\n",
       "  </thead>\n",
       "  <tbody>\n",
       "    <tr>\n",
       "      <td>0</td>\n",
       "      <td>1.0</td>\n",
       "      <td>0.0</td>\n",
       "      <td>0.0</td>\n",
       "      <td>-6.24</td>\n",
       "      <td>-5.27</td>\n",
       "      <td>-1.86</td>\n",
       "      <td>0.63</td>\n",
       "      <td>3.27</td>\n",
       "      <td>0.89</td>\n",
       "      <td>350.98</td>\n",
       "      <td>64.86</td>\n",
       "      <td>0.0</td>\n",
       "      <td>1.00</td>\n",
       "    </tr>\n",
       "    <tr>\n",
       "      <td>1</td>\n",
       "      <td>1.0</td>\n",
       "      <td>0.0</td>\n",
       "      <td>0.0</td>\n",
       "      <td>-0.42</td>\n",
       "      <td>-4.50</td>\n",
       "      <td>-4.31</td>\n",
       "      <td>1.61</td>\n",
       "      <td>1.72</td>\n",
       "      <td>2.76</td>\n",
       "      <td>347.06</td>\n",
       "      <td>28.85</td>\n",
       "      <td>0.0</td>\n",
       "      <td>0.99</td>\n",
       "    </tr>\n",
       "    <tr>\n",
       "      <td>2</td>\n",
       "      <td>1.0</td>\n",
       "      <td>0.0</td>\n",
       "      <td>0.0</td>\n",
       "      <td>33.76</td>\n",
       "      <td>-19.29</td>\n",
       "      <td>2.71</td>\n",
       "      <td>1.73</td>\n",
       "      <td>1.32</td>\n",
       "      <td>1.53</td>\n",
       "      <td>135.94</td>\n",
       "      <td>57.65</td>\n",
       "      <td>1.0</td>\n",
       "      <td>0.01</td>\n",
       "    </tr>\n",
       "    <tr>\n",
       "      <td>3</td>\n",
       "      <td>1.0</td>\n",
       "      <td>0.0</td>\n",
       "      <td>0.0</td>\n",
       "      <td>-2.82</td>\n",
       "      <td>-8.04</td>\n",
       "      <td>3.04</td>\n",
       "      <td>0.94</td>\n",
       "      <td>2.92</td>\n",
       "      <td>0.09</td>\n",
       "      <td>288.07</td>\n",
       "      <td>21.23</td>\n",
       "      <td>0.0</td>\n",
       "      <td>0.94</td>\n",
       "    </tr>\n",
       "    <tr>\n",
       "      <td>4</td>\n",
       "      <td>1.0</td>\n",
       "      <td>0.0</td>\n",
       "      <td>0.0</td>\n",
       "      <td>3.56</td>\n",
       "      <td>-10.61</td>\n",
       "      <td>-0.65</td>\n",
       "      <td>0.19</td>\n",
       "      <td>1.04</td>\n",
       "      <td>2.10</td>\n",
       "      <td>166.12</td>\n",
       "      <td>37.36</td>\n",
       "      <td>1.0</td>\n",
       "      <td>0.00</td>\n",
       "    </tr>\n",
       "  </tbody>\n",
       "</table>\n",
       "</div>"
      ],
      "text/plain": [
       "   qs1  qs2  qs3    qs4    qs5   qs6   qs7   qs8   qs9    qs10   qs11  qs12  \\\n",
       "0  1.0  0.0  0.0  -6.24  -5.27 -1.86  0.63  3.27  0.89  350.98  64.86   0.0   \n",
       "1  1.0  0.0  0.0  -0.42  -4.50 -4.31  1.61  1.72  2.76  347.06  28.85   0.0   \n",
       "2  1.0  0.0  0.0  33.76 -19.29  2.71  1.73  1.32  1.53  135.94  57.65   1.0   \n",
       "3  1.0  0.0  0.0  -2.82  -8.04  3.04  0.94  2.92  0.09  288.07  21.23   0.0   \n",
       "4  1.0  0.0  0.0   3.56 -10.61 -0.65  0.19  1.04  2.10  166.12  37.36   1.0   \n",
       "\n",
       "   qs13  \n",
       "0  1.00  \n",
       "1  0.99  \n",
       "2  0.01  \n",
       "3  0.94  \n",
       "4  0.00  "
      ]
     },
     "execution_count": 5,
     "metadata": {},
     "output_type": "execute_result"
    }
   ],
   "source": [
    "# splitting the X_train dataset into its three different components\n",
    "qs_ind= [\"qs1\",\"qs2\",\"qs3\",\"qs4\",\"qs5\",\"qs6\",\"qs7\",\"qs8\",\"qs9\",\"qs10\",\"qs11\",\"qs12\",\"qs13\"]\n",
    "qr_ind= [\"qr1\",\"qr2\",\"qr3\",\"qr4\",\"qr5\",\"qr6\",\"qr7\",\"qr8\",\"qr9\",\"qr10\",\"qr11\",\"qr12\",\"qr13\"]\n",
    "s_ind= [\"s1\",\"s2\",\"s3\",\"s4\",\"s5\",\"s6\",\"s7\",\"s8\",\"s9\",\"s10\",\"s11\"]\n",
    "# summary of the first part of the dataset (image 1 qualities)\n",
    "round(X_train[qs_ind].head(), 2)"
   ]
  },
  {
   "cell_type": "code",
   "execution_count": 6,
   "metadata": {},
   "outputs": [
    {
     "data": {
      "text/html": [
       "<div>\n",
       "<style scoped>\n",
       "    .dataframe tbody tr th:only-of-type {\n",
       "        vertical-align: middle;\n",
       "    }\n",
       "\n",
       "    .dataframe tbody tr th {\n",
       "        vertical-align: top;\n",
       "    }\n",
       "\n",
       "    .dataframe thead th {\n",
       "        text-align: right;\n",
       "    }\n",
       "</style>\n",
       "<table border=\"1\" class=\"dataframe\">\n",
       "  <thead>\n",
       "    <tr style=\"text-align: right;\">\n",
       "      <th></th>\n",
       "      <th>qs1</th>\n",
       "      <th>qs2</th>\n",
       "      <th>qs3</th>\n",
       "      <th>qs4</th>\n",
       "      <th>qs5</th>\n",
       "      <th>qs6</th>\n",
       "      <th>qs7</th>\n",
       "      <th>qs8</th>\n",
       "      <th>qs9</th>\n",
       "      <th>qs10</th>\n",
       "      <th>qs11</th>\n",
       "      <th>qs12</th>\n",
       "      <th>qs13</th>\n",
       "    </tr>\n",
       "  </thead>\n",
       "  <tbody>\n",
       "    <tr>\n",
       "      <td>count</td>\n",
       "      <td>9800713.00</td>\n",
       "      <td>9800713.00</td>\n",
       "      <td>9800713.00</td>\n",
       "      <td>9800713.00</td>\n",
       "      <td>9800713.00</td>\n",
       "      <td>9800713.00</td>\n",
       "      <td>9800713.00</td>\n",
       "      <td>9800713.00</td>\n",
       "      <td>9800713.00</td>\n",
       "      <td>9800713.00</td>\n",
       "      <td>9800713.00</td>\n",
       "      <td>9800713.00</td>\n",
       "      <td>9800713.00</td>\n",
       "    </tr>\n",
       "    <tr>\n",
       "      <td>mean</td>\n",
       "      <td>0.99</td>\n",
       "      <td>0.01</td>\n",
       "      <td>0.00</td>\n",
       "      <td>-0.22</td>\n",
       "      <td>-5.77</td>\n",
       "      <td>-0.74</td>\n",
       "      <td>1.26</td>\n",
       "      <td>1.00</td>\n",
       "      <td>0.86</td>\n",
       "      <td>256.10</td>\n",
       "      <td>37.65</td>\n",
       "      <td>0.19</td>\n",
       "      <td>0.70</td>\n",
       "    </tr>\n",
       "    <tr>\n",
       "      <td>std</td>\n",
       "      <td>0.06</td>\n",
       "      <td>0.05</td>\n",
       "      <td>0.04</td>\n",
       "      <td>9.95</td>\n",
       "      <td>8.87</td>\n",
       "      <td>4.57</td>\n",
       "      <td>1.16</td>\n",
       "      <td>0.89</td>\n",
       "      <td>0.77</td>\n",
       "      <td>75.13</td>\n",
       "      <td>13.40</td>\n",
       "      <td>0.39</td>\n",
       "      <td>0.45</td>\n",
       "    </tr>\n",
       "    <tr>\n",
       "      <td>min</td>\n",
       "      <td>0.00</td>\n",
       "      <td>0.00</td>\n",
       "      <td>0.00</td>\n",
       "      <td>-78.20</td>\n",
       "      <td>-67.71</td>\n",
       "      <td>-34.82</td>\n",
       "      <td>0.00</td>\n",
       "      <td>0.00</td>\n",
       "      <td>0.00</td>\n",
       "      <td>-298.00</td>\n",
       "      <td>18.42</td>\n",
       "      <td>0.00</td>\n",
       "      <td>0.00</td>\n",
       "    </tr>\n",
       "    <tr>\n",
       "      <td>25%</td>\n",
       "      <td>1.00</td>\n",
       "      <td>0.00</td>\n",
       "      <td>0.00</td>\n",
       "      <td>-3.22</td>\n",
       "      <td>-12.63</td>\n",
       "      <td>-2.85</td>\n",
       "      <td>0.47</td>\n",
       "      <td>0.35</td>\n",
       "      <td>0.31</td>\n",
       "      <td>211.26</td>\n",
       "      <td>25.80</td>\n",
       "      <td>0.00</td>\n",
       "      <td>0.01</td>\n",
       "    </tr>\n",
       "    <tr>\n",
       "      <td>50%</td>\n",
       "      <td>1.00</td>\n",
       "      <td>0.00</td>\n",
       "      <td>0.00</td>\n",
       "      <td>-0.01</td>\n",
       "      <td>-4.87</td>\n",
       "      <td>-0.60</td>\n",
       "      <td>1.00</td>\n",
       "      <td>0.76</td>\n",
       "      <td>0.67</td>\n",
       "      <td>264.15</td>\n",
       "      <td>34.49</td>\n",
       "      <td>0.00</td>\n",
       "      <td>1.00</td>\n",
       "    </tr>\n",
       "    <tr>\n",
       "      <td>75%</td>\n",
       "      <td>1.00</td>\n",
       "      <td>0.00</td>\n",
       "      <td>0.00</td>\n",
       "      <td>3.14</td>\n",
       "      <td>0.96</td>\n",
       "      <td>1.43</td>\n",
       "      <td>1.74</td>\n",
       "      <td>1.38</td>\n",
       "      <td>1.19</td>\n",
       "      <td>309.14</td>\n",
       "      <td>48.07</td>\n",
       "      <td>0.00</td>\n",
       "      <td>1.00</td>\n",
       "    </tr>\n",
       "    <tr>\n",
       "      <td>max</td>\n",
       "      <td>1.00</td>\n",
       "      <td>1.00</td>\n",
       "      <td>1.00</td>\n",
       "      <td>59.34</td>\n",
       "      <td>26.68</td>\n",
       "      <td>64.82</td>\n",
       "      <td>38.73</td>\n",
       "      <td>15.68</td>\n",
       "      <td>24.42</td>\n",
       "      <td>470.47</td>\n",
       "      <td>76.77</td>\n",
       "      <td>1.00</td>\n",
       "      <td>1.00</td>\n",
       "    </tr>\n",
       "  </tbody>\n",
       "</table>\n",
       "</div>"
      ],
      "text/plain": [
       "              qs1         qs2         qs3         qs4         qs5         qs6  \\\n",
       "count  9800713.00  9800713.00  9800713.00  9800713.00  9800713.00  9800713.00   \n",
       "mean         0.99        0.01        0.00       -0.22       -5.77       -0.74   \n",
       "std          0.06        0.05        0.04        9.95        8.87        4.57   \n",
       "min          0.00        0.00        0.00      -78.20      -67.71      -34.82   \n",
       "25%          1.00        0.00        0.00       -3.22      -12.63       -2.85   \n",
       "50%          1.00        0.00        0.00       -0.01       -4.87       -0.60   \n",
       "75%          1.00        0.00        0.00        3.14        0.96        1.43   \n",
       "max          1.00        1.00        1.00       59.34       26.68       64.82   \n",
       "\n",
       "              qs7         qs8         qs9        qs10        qs11        qs12  \\\n",
       "count  9800713.00  9800713.00  9800713.00  9800713.00  9800713.00  9800713.00   \n",
       "mean         1.26        1.00        0.86      256.10       37.65        0.19   \n",
       "std          1.16        0.89        0.77       75.13       13.40        0.39   \n",
       "min          0.00        0.00        0.00     -298.00       18.42        0.00   \n",
       "25%          0.47        0.35        0.31      211.26       25.80        0.00   \n",
       "50%          1.00        0.76        0.67      264.15       34.49        0.00   \n",
       "75%          1.74        1.38        1.19      309.14       48.07        0.00   \n",
       "max         38.73       15.68       24.42      470.47       76.77        1.00   \n",
       "\n",
       "             qs13  \n",
       "count  9800713.00  \n",
       "mean         0.70  \n",
       "std          0.45  \n",
       "min          0.00  \n",
       "25%          0.01  \n",
       "50%          1.00  \n",
       "75%          1.00  \n",
       "max          1.00  "
      ]
     },
     "execution_count": 6,
     "metadata": {},
     "output_type": "execute_result"
    }
   ],
   "source": [
    "round(X_train[qs_ind].describe(),2)"
   ]
  },
  {
   "cell_type": "markdown",
   "metadata": {},
   "source": [
    "Overall, the qs features seem to display limited homogeneity. Some features are binary (like qs1-qs3), while the others seem to be quantitative. Among the quantitative features, the scale seem to vary fairly from one feature to another. For instance, qs10 seems to take large values (and has the largest standard deviation), by contrast with qs9 which displays very small values and volatility. In theory at least, it may be useful to standardise the variables.\n",
    "\n",
    "Overall, these features display clear quantitative aspects, but it is difficult to obtain much intuitive interpretation from them. Let us see if the other parts of the train set display the same characteristics."
   ]
  },
  {
   "cell_type": "code",
   "execution_count": 7,
   "metadata": {},
   "outputs": [
    {
     "data": {
      "text/html": [
       "<div>\n",
       "<style scoped>\n",
       "    .dataframe tbody tr th:only-of-type {\n",
       "        vertical-align: middle;\n",
       "    }\n",
       "\n",
       "    .dataframe tbody tr th {\n",
       "        vertical-align: top;\n",
       "    }\n",
       "\n",
       "    .dataframe thead th {\n",
       "        text-align: right;\n",
       "    }\n",
       "</style>\n",
       "<table border=\"1\" class=\"dataframe\">\n",
       "  <thead>\n",
       "    <tr style=\"text-align: right;\">\n",
       "      <th></th>\n",
       "      <th>qr1</th>\n",
       "      <th>qr2</th>\n",
       "      <th>qr3</th>\n",
       "      <th>qr4</th>\n",
       "      <th>qr5</th>\n",
       "      <th>qr6</th>\n",
       "      <th>qr7</th>\n",
       "      <th>qr8</th>\n",
       "      <th>qr9</th>\n",
       "      <th>qr10</th>\n",
       "      <th>qr11</th>\n",
       "      <th>qr12</th>\n",
       "      <th>qr13</th>\n",
       "    </tr>\n",
       "  </thead>\n",
       "  <tbody>\n",
       "    <tr>\n",
       "      <td>0</td>\n",
       "      <td>1.0</td>\n",
       "      <td>0.0</td>\n",
       "      <td>0.0</td>\n",
       "      <td>-9.44</td>\n",
       "      <td>-12.53</td>\n",
       "      <td>0.84</td>\n",
       "      <td>2.59</td>\n",
       "      <td>1.53</td>\n",
       "      <td>1.03</td>\n",
       "      <td>276.02</td>\n",
       "      <td>58.02</td>\n",
       "      <td>0.0</td>\n",
       "      <td>1.00</td>\n",
       "    </tr>\n",
       "    <tr>\n",
       "      <td>1</td>\n",
       "      <td>1.0</td>\n",
       "      <td>0.0</td>\n",
       "      <td>0.0</td>\n",
       "      <td>-0.35</td>\n",
       "      <td>-18.97</td>\n",
       "      <td>-1.31</td>\n",
       "      <td>1.23</td>\n",
       "      <td>0.84</td>\n",
       "      <td>0.34</td>\n",
       "      <td>263.84</td>\n",
       "      <td>30.50</td>\n",
       "      <td>0.0</td>\n",
       "      <td>1.00</td>\n",
       "    </tr>\n",
       "    <tr>\n",
       "      <td>2</td>\n",
       "      <td>1.0</td>\n",
       "      <td>0.0</td>\n",
       "      <td>0.0</td>\n",
       "      <td>-12.58</td>\n",
       "      <td>-9.99</td>\n",
       "      <td>-0.15</td>\n",
       "      <td>1.21</td>\n",
       "      <td>0.34</td>\n",
       "      <td>1.60</td>\n",
       "      <td>357.67</td>\n",
       "      <td>51.98</td>\n",
       "      <td>1.0</td>\n",
       "      <td>1.00</td>\n",
       "    </tr>\n",
       "    <tr>\n",
       "      <td>3</td>\n",
       "      <td>1.0</td>\n",
       "      <td>0.0</td>\n",
       "      <td>0.0</td>\n",
       "      <td>1.57</td>\n",
       "      <td>-13.22</td>\n",
       "      <td>-2.66</td>\n",
       "      <td>1.18</td>\n",
       "      <td>0.23</td>\n",
       "      <td>0.38</td>\n",
       "      <td>268.44</td>\n",
       "      <td>24.59</td>\n",
       "      <td>0.0</td>\n",
       "      <td>0.19</td>\n",
       "    </tr>\n",
       "    <tr>\n",
       "      <td>4</td>\n",
       "      <td>1.0</td>\n",
       "      <td>0.0</td>\n",
       "      <td>0.0</td>\n",
       "      <td>20.03</td>\n",
       "      <td>-15.53</td>\n",
       "      <td>-1.21</td>\n",
       "      <td>1.31</td>\n",
       "      <td>0.23</td>\n",
       "      <td>1.25</td>\n",
       "      <td>172.19</td>\n",
       "      <td>26.14</td>\n",
       "      <td>0.0</td>\n",
       "      <td>1.00</td>\n",
       "    </tr>\n",
       "  </tbody>\n",
       "</table>\n",
       "</div>"
      ],
      "text/plain": [
       "   qr1  qr2  qr3    qr4    qr5   qr6   qr7   qr8   qr9    qr10   qr11  qr12  \\\n",
       "0  1.0  0.0  0.0  -9.44 -12.53  0.84  2.59  1.53  1.03  276.02  58.02   0.0   \n",
       "1  1.0  0.0  0.0  -0.35 -18.97 -1.31  1.23  0.84  0.34  263.84  30.50   0.0   \n",
       "2  1.0  0.0  0.0 -12.58  -9.99 -0.15  1.21  0.34  1.60  357.67  51.98   1.0   \n",
       "3  1.0  0.0  0.0   1.57 -13.22 -2.66  1.18  0.23  0.38  268.44  24.59   0.0   \n",
       "4  1.0  0.0  0.0  20.03 -15.53 -1.21  1.31  0.23  1.25  172.19  26.14   0.0   \n",
       "\n",
       "   qr13  \n",
       "0  1.00  \n",
       "1  1.00  \n",
       "2  1.00  \n",
       "3  0.19  \n",
       "4  1.00  "
      ]
     },
     "execution_count": 7,
     "metadata": {},
     "output_type": "execute_result"
    }
   ],
   "source": [
    "round(X_train[qr_ind].head(), 2)"
   ]
  },
  {
   "cell_type": "code",
   "execution_count": 8,
   "metadata": {},
   "outputs": [
    {
     "data": {
      "text/html": [
       "<div>\n",
       "<style scoped>\n",
       "    .dataframe tbody tr th:only-of-type {\n",
       "        vertical-align: middle;\n",
       "    }\n",
       "\n",
       "    .dataframe tbody tr th {\n",
       "        vertical-align: top;\n",
       "    }\n",
       "\n",
       "    .dataframe thead th {\n",
       "        text-align: right;\n",
       "    }\n",
       "</style>\n",
       "<table border=\"1\" class=\"dataframe\">\n",
       "  <thead>\n",
       "    <tr style=\"text-align: right;\">\n",
       "      <th></th>\n",
       "      <th>qr1</th>\n",
       "      <th>qr2</th>\n",
       "      <th>qr3</th>\n",
       "      <th>qr4</th>\n",
       "      <th>qr5</th>\n",
       "      <th>qr6</th>\n",
       "      <th>qr7</th>\n",
       "      <th>qr8</th>\n",
       "      <th>qr9</th>\n",
       "      <th>qr10</th>\n",
       "      <th>qr11</th>\n",
       "      <th>qr12</th>\n",
       "      <th>qr13</th>\n",
       "    </tr>\n",
       "  </thead>\n",
       "  <tbody>\n",
       "    <tr>\n",
       "      <td>count</td>\n",
       "      <td>9800713.00</td>\n",
       "      <td>9800713.00</td>\n",
       "      <td>9800713.00</td>\n",
       "      <td>9800713.00</td>\n",
       "      <td>9800713.00</td>\n",
       "      <td>9800713.00</td>\n",
       "      <td>9800713.00</td>\n",
       "      <td>9800713.00</td>\n",
       "      <td>9800713.00</td>\n",
       "      <td>9800713.00</td>\n",
       "      <td>9800713.00</td>\n",
       "      <td>9800713.00</td>\n",
       "      <td>9800713.00</td>\n",
       "    </tr>\n",
       "    <tr>\n",
       "      <td>mean</td>\n",
       "      <td>1.00</td>\n",
       "      <td>0.00</td>\n",
       "      <td>0.00</td>\n",
       "      <td>-0.20</td>\n",
       "      <td>-5.79</td>\n",
       "      <td>-0.76</td>\n",
       "      <td>1.22</td>\n",
       "      <td>0.96</td>\n",
       "      <td>0.82</td>\n",
       "      <td>268.56</td>\n",
       "      <td>38.06</td>\n",
       "      <td>0.18</td>\n",
       "      <td>0.73</td>\n",
       "    </tr>\n",
       "    <tr>\n",
       "      <td>std</td>\n",
       "      <td>0.68</td>\n",
       "      <td>0.61</td>\n",
       "      <td>0.02</td>\n",
       "      <td>8.45</td>\n",
       "      <td>8.35</td>\n",
       "      <td>4.39</td>\n",
       "      <td>1.10</td>\n",
       "      <td>0.86</td>\n",
       "      <td>0.82</td>\n",
       "      <td>74.96</td>\n",
       "      <td>13.60</td>\n",
       "      <td>0.38</td>\n",
       "      <td>0.44</td>\n",
       "    </tr>\n",
       "    <tr>\n",
       "      <td>min</td>\n",
       "      <td>0.00</td>\n",
       "      <td>0.00</td>\n",
       "      <td>0.00</td>\n",
       "      <td>-54.76</td>\n",
       "      <td>-42.13</td>\n",
       "      <td>-26.40</td>\n",
       "      <td>0.00</td>\n",
       "      <td>0.00</td>\n",
       "      <td>0.00</td>\n",
       "      <td>-298.00</td>\n",
       "      <td>18.46</td>\n",
       "      <td>0.00</td>\n",
       "      <td>0.00</td>\n",
       "    </tr>\n",
       "    <tr>\n",
       "      <td>25%</td>\n",
       "      <td>1.00</td>\n",
       "      <td>0.00</td>\n",
       "      <td>0.00</td>\n",
       "      <td>-2.58</td>\n",
       "      <td>-12.42</td>\n",
       "      <td>-2.75</td>\n",
       "      <td>0.45</td>\n",
       "      <td>0.33</td>\n",
       "      <td>0.29</td>\n",
       "      <td>224.61</td>\n",
       "      <td>25.78</td>\n",
       "      <td>0.00</td>\n",
       "      <td>0.04</td>\n",
       "    </tr>\n",
       "    <tr>\n",
       "      <td>50%</td>\n",
       "      <td>1.00</td>\n",
       "      <td>0.00</td>\n",
       "      <td>0.00</td>\n",
       "      <td>0.05</td>\n",
       "      <td>-4.91</td>\n",
       "      <td>-0.64</td>\n",
       "      <td>0.96</td>\n",
       "      <td>0.72</td>\n",
       "      <td>0.64</td>\n",
       "      <td>277.41</td>\n",
       "      <td>35.21</td>\n",
       "      <td>0.00</td>\n",
       "      <td>1.00</td>\n",
       "    </tr>\n",
       "    <tr>\n",
       "      <td>75%</td>\n",
       "      <td>1.00</td>\n",
       "      <td>0.00</td>\n",
       "      <td>0.00</td>\n",
       "      <td>2.61</td>\n",
       "      <td>0.76</td>\n",
       "      <td>1.24</td>\n",
       "      <td>1.69</td>\n",
       "      <td>1.32</td>\n",
       "      <td>1.13</td>\n",
       "      <td>321.69</td>\n",
       "      <td>48.95</td>\n",
       "      <td>0.00</td>\n",
       "      <td>1.00</td>\n",
       "    </tr>\n",
       "    <tr>\n",
       "      <td>max</td>\n",
       "      <td>260.25</td>\n",
       "      <td>233.13</td>\n",
       "      <td>0.98</td>\n",
       "      <td>51.08</td>\n",
       "      <td>22.77</td>\n",
       "      <td>24.74</td>\n",
       "      <td>30.01</td>\n",
       "      <td>9.43</td>\n",
       "      <td>145.21</td>\n",
       "      <td>1611.47</td>\n",
       "      <td>76.77</td>\n",
       "      <td>1.00</td>\n",
       "      <td>1.00</td>\n",
       "    </tr>\n",
       "  </tbody>\n",
       "</table>\n",
       "</div>"
      ],
      "text/plain": [
       "              qr1         qr2         qr3         qr4         qr5         qr6  \\\n",
       "count  9800713.00  9800713.00  9800713.00  9800713.00  9800713.00  9800713.00   \n",
       "mean         1.00        0.00        0.00       -0.20       -5.79       -0.76   \n",
       "std          0.68        0.61        0.02        8.45        8.35        4.39   \n",
       "min          0.00        0.00        0.00      -54.76      -42.13      -26.40   \n",
       "25%          1.00        0.00        0.00       -2.58      -12.42       -2.75   \n",
       "50%          1.00        0.00        0.00        0.05       -4.91       -0.64   \n",
       "75%          1.00        0.00        0.00        2.61        0.76        1.24   \n",
       "max        260.25      233.13        0.98       51.08       22.77       24.74   \n",
       "\n",
       "              qr7         qr8         qr9        qr10        qr11        qr12  \\\n",
       "count  9800713.00  9800713.00  9800713.00  9800713.00  9800713.00  9800713.00   \n",
       "mean         1.22        0.96        0.82      268.56       38.06        0.18   \n",
       "std          1.10        0.86        0.82       74.96       13.60        0.38   \n",
       "min          0.00        0.00        0.00     -298.00       18.46        0.00   \n",
       "25%          0.45        0.33        0.29      224.61       25.78        0.00   \n",
       "50%          0.96        0.72        0.64      277.41       35.21        0.00   \n",
       "75%          1.69        1.32        1.13      321.69       48.95        0.00   \n",
       "max         30.01        9.43      145.21     1611.47       76.77        1.00   \n",
       "\n",
       "             qr13  \n",
       "count  9800713.00  \n",
       "mean         0.73  \n",
       "std          0.44  \n",
       "min          0.00  \n",
       "25%          0.04  \n",
       "50%          1.00  \n",
       "75%          1.00  \n",
       "max          1.00  "
      ]
     },
     "execution_count": 8,
     "metadata": {},
     "output_type": "execute_result"
    }
   ],
   "source": [
    "round(X_train[qr_ind].describe(),2)"
   ]
  },
  {
   "cell_type": "markdown",
   "metadata": {},
   "source": [
    "The qualities for image 2 are very comparable to the qualities for image 1, as might have been expected. In fact, it seems that the two images are described by the same set of features. Still, there seem to be some differences between certain features (for instance the max of qs1 is 1, while that of qr1 is 260.25)."
   ]
  },
  {
   "cell_type": "code",
   "execution_count": 9,
   "metadata": {},
   "outputs": [
    {
     "data": {
      "text/html": [
       "<div>\n",
       "<style scoped>\n",
       "    .dataframe tbody tr th:only-of-type {\n",
       "        vertical-align: middle;\n",
       "    }\n",
       "\n",
       "    .dataframe tbody tr th {\n",
       "        vertical-align: top;\n",
       "    }\n",
       "\n",
       "    .dataframe thead th {\n",
       "        text-align: right;\n",
       "    }\n",
       "</style>\n",
       "<table border=\"1\" class=\"dataframe\">\n",
       "  <thead>\n",
       "    <tr style=\"text-align: right;\">\n",
       "      <th></th>\n",
       "      <th>s1</th>\n",
       "      <th>s2</th>\n",
       "      <th>s3</th>\n",
       "      <th>s4</th>\n",
       "      <th>s5</th>\n",
       "      <th>s6</th>\n",
       "      <th>s7</th>\n",
       "      <th>s8</th>\n",
       "      <th>s9</th>\n",
       "      <th>s10</th>\n",
       "      <th>s11</th>\n",
       "    </tr>\n",
       "  </thead>\n",
       "  <tbody>\n",
       "    <tr>\n",
       "      <td>0</td>\n",
       "      <td>2405.94</td>\n",
       "      <td>1981.09</td>\n",
       "      <td>2677.84</td>\n",
       "      <td>2470.44</td>\n",
       "      <td>1579.39</td>\n",
       "      <td>2185.79</td>\n",
       "      <td>2118.77</td>\n",
       "      <td>2580.99</td>\n",
       "      <td>2498.04</td>\n",
       "      <td>3180.58</td>\n",
       "      <td>2718.29</td>\n",
       "    </tr>\n",
       "    <tr>\n",
       "      <td>1</td>\n",
       "      <td>3241.37</td>\n",
       "      <td>2015.24</td>\n",
       "      <td>3987.19</td>\n",
       "      <td>3343.53</td>\n",
       "      <td>2894.69</td>\n",
       "      <td>2947.34</td>\n",
       "      <td>2689.42</td>\n",
       "      <td>3763.51</td>\n",
       "      <td>2544.22</td>\n",
       "      <td>3515.58</td>\n",
       "      <td>3247.49</td>\n",
       "    </tr>\n",
       "    <tr>\n",
       "      <td>2</td>\n",
       "      <td>2199.22</td>\n",
       "      <td>2549.59</td>\n",
       "      <td>2164.41</td>\n",
       "      <td>2100.69</td>\n",
       "      <td>1294.35</td>\n",
       "      <td>2136.04</td>\n",
       "      <td>1644.05</td>\n",
       "      <td>2308.05</td>\n",
       "      <td>1774.88</td>\n",
       "      <td>3005.79</td>\n",
       "      <td>2507.02</td>\n",
       "    </tr>\n",
       "    <tr>\n",
       "      <td>3</td>\n",
       "      <td>2390.40</td>\n",
       "      <td>2141.75</td>\n",
       "      <td>2086.02</td>\n",
       "      <td>2154.69</td>\n",
       "      <td>1247.48</td>\n",
       "      <td>1903.36</td>\n",
       "      <td>2232.54</td>\n",
       "      <td>2146.34</td>\n",
       "      <td>2201.53</td>\n",
       "      <td>3315.03</td>\n",
       "      <td>2274.76</td>\n",
       "    </tr>\n",
       "    <tr>\n",
       "      <td>4</td>\n",
       "      <td>1822.14</td>\n",
       "      <td>2202.60</td>\n",
       "      <td>2150.07</td>\n",
       "      <td>2194.25</td>\n",
       "      <td>1575.43</td>\n",
       "      <td>2345.59</td>\n",
       "      <td>1976.82</td>\n",
       "      <td>1440.78</td>\n",
       "      <td>2061.06</td>\n",
       "      <td>2927.96</td>\n",
       "      <td>2073.16</td>\n",
       "    </tr>\n",
       "  </tbody>\n",
       "</table>\n",
       "</div>"
      ],
      "text/plain": [
       "        s1       s2       s3       s4       s5       s6       s7       s8  \\\n",
       "0  2405.94  1981.09  2677.84  2470.44  1579.39  2185.79  2118.77  2580.99   \n",
       "1  3241.37  2015.24  3987.19  3343.53  2894.69  2947.34  2689.42  3763.51   \n",
       "2  2199.22  2549.59  2164.41  2100.69  1294.35  2136.04  1644.05  2308.05   \n",
       "3  2390.40  2141.75  2086.02  2154.69  1247.48  1903.36  2232.54  2146.34   \n",
       "4  1822.14  2202.60  2150.07  2194.25  1575.43  2345.59  1976.82  1440.78   \n",
       "\n",
       "        s9      s10      s11  \n",
       "0  2498.04  3180.58  2718.29  \n",
       "1  2544.22  3515.58  3247.49  \n",
       "2  1774.88  3005.79  2507.02  \n",
       "3  2201.53  3315.03  2274.76  \n",
       "4  2061.06  2927.96  2073.16  "
      ]
     },
     "execution_count": 9,
     "metadata": {},
     "output_type": "execute_result"
    }
   ],
   "source": [
    "round(X_train[s_ind].head(), 2)"
   ]
  },
  {
   "cell_type": "code",
   "execution_count": 10,
   "metadata": {},
   "outputs": [
    {
     "data": {
      "text/html": [
       "<div>\n",
       "<style scoped>\n",
       "    .dataframe tbody tr th:only-of-type {\n",
       "        vertical-align: middle;\n",
       "    }\n",
       "\n",
       "    .dataframe tbody tr th {\n",
       "        vertical-align: top;\n",
       "    }\n",
       "\n",
       "    .dataframe thead th {\n",
       "        text-align: right;\n",
       "    }\n",
       "</style>\n",
       "<table border=\"1\" class=\"dataframe\">\n",
       "  <thead>\n",
       "    <tr style=\"text-align: right;\">\n",
       "      <th></th>\n",
       "      <th>s1</th>\n",
       "      <th>s2</th>\n",
       "      <th>s3</th>\n",
       "      <th>s4</th>\n",
       "      <th>s5</th>\n",
       "      <th>s6</th>\n",
       "      <th>s7</th>\n",
       "      <th>s8</th>\n",
       "      <th>s9</th>\n",
       "      <th>s10</th>\n",
       "      <th>s11</th>\n",
       "    </tr>\n",
       "  </thead>\n",
       "  <tbody>\n",
       "    <tr>\n",
       "      <td>count</td>\n",
       "      <td>9800713.00</td>\n",
       "      <td>9800713.00</td>\n",
       "      <td>9800713.00</td>\n",
       "      <td>9800713.00</td>\n",
       "      <td>9800713.00</td>\n",
       "      <td>9800713.00</td>\n",
       "      <td>9800713.00</td>\n",
       "      <td>9800713.00</td>\n",
       "      <td>9800713.00</td>\n",
       "      <td>9800713.00</td>\n",
       "      <td>9800713.00</td>\n",
       "    </tr>\n",
       "    <tr>\n",
       "      <td>mean</td>\n",
       "      <td>2421.92</td>\n",
       "      <td>2294.54</td>\n",
       "      <td>2619.50</td>\n",
       "      <td>2646.18</td>\n",
       "      <td>2337.43</td>\n",
       "      <td>2476.21</td>\n",
       "      <td>2364.23</td>\n",
       "      <td>2441.25</td>\n",
       "      <td>2740.13</td>\n",
       "      <td>3306.10</td>\n",
       "      <td>2717.58</td>\n",
       "    </tr>\n",
       "    <tr>\n",
       "      <td>std</td>\n",
       "      <td>1036.61</td>\n",
       "      <td>953.51</td>\n",
       "      <td>1260.02</td>\n",
       "      <td>1392.76</td>\n",
       "      <td>1713.47</td>\n",
       "      <td>1206.69</td>\n",
       "      <td>1411.61</td>\n",
       "      <td>1382.01</td>\n",
       "      <td>1361.46</td>\n",
       "      <td>847.41</td>\n",
       "      <td>1207.08</td>\n",
       "    </tr>\n",
       "    <tr>\n",
       "      <td>min</td>\n",
       "      <td>0.00</td>\n",
       "      <td>810.02</td>\n",
       "      <td>621.83</td>\n",
       "      <td>983.51</td>\n",
       "      <td>209.37</td>\n",
       "      <td>669.21</td>\n",
       "      <td>328.08</td>\n",
       "      <td>452.83</td>\n",
       "      <td>1238.68</td>\n",
       "      <td>2160.87</td>\n",
       "      <td>1123.05</td>\n",
       "    </tr>\n",
       "    <tr>\n",
       "      <td>25%</td>\n",
       "      <td>1895.08</td>\n",
       "      <td>1778.46</td>\n",
       "      <td>2021.02</td>\n",
       "      <td>2022.19</td>\n",
       "      <td>1592.70</td>\n",
       "      <td>1900.85</td>\n",
       "      <td>1722.64</td>\n",
       "      <td>1799.49</td>\n",
       "      <td>2162.60</td>\n",
       "      <td>2926.56</td>\n",
       "      <td>2170.65</td>\n",
       "    </tr>\n",
       "    <tr>\n",
       "      <td>50%</td>\n",
       "      <td>2150.87</td>\n",
       "      <td>2045.51</td>\n",
       "      <td>2278.87</td>\n",
       "      <td>2254.63</td>\n",
       "      <td>1891.18</td>\n",
       "      <td>2143.05</td>\n",
       "      <td>1986.90</td>\n",
       "      <td>2074.42</td>\n",
       "      <td>2367.71</td>\n",
       "      <td>3072.89</td>\n",
       "      <td>2386.12</td>\n",
       "    </tr>\n",
       "    <tr>\n",
       "      <td>75%</td>\n",
       "      <td>2508.11</td>\n",
       "      <td>2425.35</td>\n",
       "      <td>2650.59</td>\n",
       "      <td>2599.26</td>\n",
       "      <td>2306.54</td>\n",
       "      <td>2500.04</td>\n",
       "      <td>2360.03</td>\n",
       "      <td>2461.89</td>\n",
       "      <td>2659.91</td>\n",
       "      <td>3283.64</td>\n",
       "      <td>2698.51</td>\n",
       "    </tr>\n",
       "    <tr>\n",
       "      <td>max</td>\n",
       "      <td>10867.54</td>\n",
       "      <td>10582.65</td>\n",
       "      <td>14978.20</td>\n",
       "      <td>12126.51</td>\n",
       "      <td>19901.92</td>\n",
       "      <td>12649.93</td>\n",
       "      <td>13897.51</td>\n",
       "      <td>14897.88</td>\n",
       "      <td>14110.44</td>\n",
       "      <td>10135.24</td>\n",
       "      <td>11874.24</td>\n",
       "    </tr>\n",
       "  </tbody>\n",
       "</table>\n",
       "</div>"
      ],
      "text/plain": [
       "               s1          s2          s3          s4          s5          s6  \\\n",
       "count  9800713.00  9800713.00  9800713.00  9800713.00  9800713.00  9800713.00   \n",
       "mean      2421.92     2294.54     2619.50     2646.18     2337.43     2476.21   \n",
       "std       1036.61      953.51     1260.02     1392.76     1713.47     1206.69   \n",
       "min          0.00      810.02      621.83      983.51      209.37      669.21   \n",
       "25%       1895.08     1778.46     2021.02     2022.19     1592.70     1900.85   \n",
       "50%       2150.87     2045.51     2278.87     2254.63     1891.18     2143.05   \n",
       "75%       2508.11     2425.35     2650.59     2599.26     2306.54     2500.04   \n",
       "max      10867.54    10582.65    14978.20    12126.51    19901.92    12649.93   \n",
       "\n",
       "               s7          s8          s9         s10         s11  \n",
       "count  9800713.00  9800713.00  9800713.00  9800713.00  9800713.00  \n",
       "mean      2364.23     2441.25     2740.13     3306.10     2717.58  \n",
       "std       1411.61     1382.01     1361.46      847.41     1207.08  \n",
       "min        328.08      452.83     1238.68     2160.87     1123.05  \n",
       "25%       1722.64     1799.49     2162.60     2926.56     2170.65  \n",
       "50%       1986.90     2074.42     2367.71     3072.89     2386.12  \n",
       "75%       2360.03     2461.89     2659.91     3283.64     2698.51  \n",
       "max      13897.51    14897.88    14110.44    10135.24    11874.24  "
      ]
     },
     "execution_count": 10,
     "metadata": {},
     "output_type": "execute_result"
    }
   ],
   "source": [
    "round(X_train[s_ind].describe(),2)"
   ]
  },
  {
   "cell_type": "markdown",
   "metadata": {},
   "source": [
    "The matching score features seem to all be quantitative. They also display fairly heterogenous values, some being quite large in amplitude like s5, other being smaller like s10. This again legitimates a possible standardisation of the features before their use for machine learning purposes."
   ]
  },
  {
   "cell_type": "code",
   "execution_count": 11,
   "metadata": {},
   "outputs": [
    {
     "data": {
      "text/html": [
       "<div>\n",
       "<style scoped>\n",
       "    .dataframe tbody tr th:only-of-type {\n",
       "        vertical-align: middle;\n",
       "    }\n",
       "\n",
       "    .dataframe tbody tr th {\n",
       "        vertical-align: top;\n",
       "    }\n",
       "\n",
       "    .dataframe thead th {\n",
       "        text-align: right;\n",
       "    }\n",
       "</style>\n",
       "<table border=\"1\" class=\"dataframe\">\n",
       "  <thead>\n",
       "    <tr style=\"text-align: right;\">\n",
       "      <th></th>\n",
       "      <th>y</th>\n",
       "    </tr>\n",
       "  </thead>\n",
       "  <tbody>\n",
       "    <tr>\n",
       "      <td>0</td>\n",
       "      <td>0</td>\n",
       "    </tr>\n",
       "    <tr>\n",
       "      <td>1</td>\n",
       "      <td>0</td>\n",
       "    </tr>\n",
       "    <tr>\n",
       "      <td>2</td>\n",
       "      <td>0</td>\n",
       "    </tr>\n",
       "    <tr>\n",
       "      <td>3</td>\n",
       "      <td>0</td>\n",
       "    </tr>\n",
       "    <tr>\n",
       "      <td>4</td>\n",
       "      <td>0</td>\n",
       "    </tr>\n",
       "  </tbody>\n",
       "</table>\n",
       "</div>"
      ],
      "text/plain": [
       "   y\n",
       "0  0\n",
       "1  0\n",
       "2  0\n",
       "3  0\n",
       "4  0"
      ]
     },
     "execution_count": 11,
     "metadata": {},
     "output_type": "execute_result"
    }
   ],
   "source": [
    "round(y_train.head(), 2)"
   ]
  },
  {
   "cell_type": "code",
   "execution_count": 12,
   "metadata": {},
   "outputs": [
    {
     "name": "stdout",
     "output_type": "stream",
     "text": [
      "0    9127661\n",
      "1     673052\n",
      "Name: y, dtype: int64\n"
     ]
    }
   ],
   "source": [
    "print(y_train['y'].value_counts())"
   ]
  },
  {
   "cell_type": "markdown",
   "metadata": {},
   "source": [
    "Regarding the labels, they are made of 0's and 1's, as expected. What is interesting however is the imbalance that exists between 0 and 1 labels. It appears that there are more than 10 times more 0 labels than 1 labels, whoch may create an imbalance in the dataset dans make it harder to identify the matches."
   ]
  },
  {
   "cell_type": "markdown",
   "metadata": {},
   "source": [
    "Let us now proceed to some correlation analysis. This is best done with the heatmap application proposed by seaborn."
   ]
  },
  {
   "cell_type": "code",
   "execution_count": 13,
   "metadata": {},
   "outputs": [
    {
     "data": {
      "image/png": "[encoded data removed]",
      "text/plain": [
       "<Figure size 576x432 with 2 Axes>"
      ]
     },
     "metadata": {
      "needs_background": "light"
     },
     "output_type": "display_data"
    }
   ],
   "source": [
    "correlations = X_train.corr()\n",
    "fig_1 = plt.figure(figsize=(8,6))\n",
    "sns.heatmap(correlations, xticklabels=correlations.columns, yticklabels=correlations.columns, cmap='coolwarm')\n",
    "plt.title('Heatmap for feature correlation')\n",
    "plt.show()"
   ]
  },
  {
   "cell_type": "markdown",
   "metadata": {},
   "source": [
    "There are two striking facts about the dataset that this heatmap reveals. First, the qs and qr features display no cross correlation whatsoever. This can be seen from the off-diagonal elements of the heatmap. It suggests that the picture quality features don't contain similar information, and that the picture quality on image 1 does not contain information about picture quality on image 2. This is rather good news, since we indeed don't expect two different images to contain similar feature values a priori. \n",
    "\n",
    "The second conclusion is that the matching score features are highly correlated one with each other. This can be seen from the lower right square of the heatmap, which displays correlations close to 1. This is reassuring in a way since it suggests that the scores generally agree on whether two images belong to the same person. It is however also bad news since it says that these features essentially carry the same information and may mostly repeat each other."
   ]
  },
  {
   "cell_type": "markdown",
   "metadata": {},
   "source": [
    "A final and potentially useful set of information can be obtained from dimensionality reduction. Here, I follow a simple PCA approach to project the train data on two dimensions and visualize how separable the labels are."
   ]
  },
  {
   "cell_type": "code",
   "execution_count": 14,
   "metadata": {},
   "outputs": [
    {
     "data": {
      "image/png": "[encoded data removed]",
      "text/plain": [
       "<Figure size 576x360 with 1 Axes>"
      ]
     },
     "metadata": {
      "needs_background": "light"
     },
     "output_type": "display_data"
    }
   ],
   "source": [
    "nb = 100000\n",
    "X_pca = X_train[:nb].to_numpy()\n",
    "y_pca = y_train[:nb].to_numpy()\n",
    "mask = (y_pca==1).flatten()\n",
    "pca = PCA(n_components=2)\n",
    "pca_components = pca.fit_transform(X_pca)\n",
    "label1 = pca_components[mask]\n",
    "label2 = pca_components[~mask]\n",
    "fig_1 = plt.figure(figsize=(8,5))\n",
    "plt.scatter(label1[:,0], label1[:,1], c=[[0.6,0.3,0.8]], alpha=0.5, s=2, label=\"y=1\")\n",
    "plt.scatter(label2[:,0], label2[:,1], c=[[0.1,0.6,0.1]], alpha=0.5, s=2, label=\"y=0\")\n",
    "plt.xlim([-5000, 35000])\n",
    "plt.xlabel(\"component 1\")\n",
    "plt.ylim([-6000, 6000])\n",
    "plt.ylabel(\"component 2\")\n",
    "plt.title('PCA on the model features')\n",
    "plt.grid(True)\n",
    "plt.legend()\n",
    "plt.show()"
   ]
  },
  {
   "cell_type": "markdown",
   "metadata": {},
   "source": [
    "What can be concluded from this plot is that the data looks neatly separable. There are two well defined clusters for the positive and negative lables. The cluster for y=0 is very compact, meaning it is easy to identify the un-matched pairs. The cluster for the pairs that represent a match is much more widely spread. While it is overall separated from the match cluster, there are observations which overlap. This implies that the hardest part of the challenge will consist in properly identifying matching paris, which will tend to be identified as pairs that don't match."
   ]
  },
  {
   "cell_type": "code",
   "execution_count": null,
   "metadata": {},
   "outputs": [],
   "source": []
  },
  {
   "cell_type": "markdown",
   "metadata": {},
   "source": [
    "## checking for potential redundancies"
   ]
  },
  {
   "cell_type": "markdown",
   "metadata": {},
   "source": [
    "The qs and qr features seem to share the same structure. This suggests that a given set of values for qs1-qs13 or qr1-qr13 may uniquely define an image. In other words, we may assume that no two different images share the same qs/qr values. While this is a strong assumption, it is worth checking for its veracity. Indeed, if it turns out to be correct and that the same image pairs appear on the train set and the test set, the information on the train set may be directly exploited to produce predictions on the test set."
   ]
  },
  {
   "cell_type": "code",
   "execution_count": 15,
   "metadata": {},
   "outputs": [
    {
     "name": "stdout",
     "output_type": "stream",
     "text": [
      "There are 131673 distinct values for image 1 in the train set.\n",
      "There are 9145855 distinct values for image 2 in the train set.\n",
      "There are 81522 distinct values for image 1 in the test set.\n",
      "There are 3581021 distinct values for image 2 in the test set.\n",
      "\n",
      "There are 0 image-1 value(s) in the test set that are also part of the train set.\n"
     ]
    }
   ],
   "source": [
    "# let us first separate the different elements\n",
    "nb_im1_train = X_train[qs_ind].drop_duplicates().shape[0]\n",
    "nb_im2_train = X_train[qr_ind].drop_duplicates().shape[0]\n",
    "nb_im1_test = X_test[qs_ind].drop_duplicates().shape[0]\n",
    "nb_im2_test = X_test[qr_ind].drop_duplicates().shape[0]\n",
    "print(\"There are \" + str(nb_im1_train) + \" distinct values for image 1 in the train set.\")\n",
    "print(\"There are \" + str(nb_im2_train) + \" distinct values for image 2 in the train set.\")\n",
    "print(\"There are \" + str(nb_im1_test) + \" distinct values for image 1 in the test set.\")\n",
    "print(\"There are \" + str(nb_im2_test) + \" distinct values for image 2 in the test set.\")\n",
    "\n",
    "# check whether there are image 1 on the train set that are the same as image 1 on the test set.\n",
    "list_im1_train = np.asarray(X_train[qs_ind].drop_duplicates().values.tolist())\n",
    "list_im1_test = np.asarray(X_test[qs_ind].drop_duplicates().values.tolist())\n",
    "im1_train_set = set([tuple(x) for x in list_im1_train])\n",
    "im1_test_set = set([tuple(x) for x in list_im1_test])\n",
    "intersection_im1 = np.array([x for x in im1_train_set & im1_test_set])\n",
    "nb_intersection = intersection_im1.shape[0]\n",
    "print()\n",
    "print(\"There are \" + str(nb_intersection) + \" image-1 value(s) in the test set that are also part of the train set.\")"
   ]
  },
  {
   "cell_type": "markdown",
   "metadata": {},
   "source": [
    "The results are rather surprising. The train set as a whole contains 9800713 observations. Over these observations, the set of image 1 contains only 131673 distinct values, i.e. less than 2% of the observations are distinct. On the other hand, the set of image 2 contains 9145855 distinct values, which represents more than 93% of the values in the train set. The same magnitudes hold for the test set. This means that the set of image 1 is rather small and that the same images keep repeating all over again. The set of image 2, by contrast, keeps presenting different images.\n",
    "\n",
    "Then, the key question is: do the train and test sets contain the same images? If yes, this information can be profitably exploited. What is shown here is that there are no image 1 in common in the train and test sets. Hence, the strategy of identifying and working with images in common in the train and test sets will not be pursued any further."
   ]
  },
  {
   "cell_type": "code",
   "execution_count": null,
   "metadata": {},
   "outputs": [],
   "source": []
  },
  {
   "cell_type": "markdown",
   "metadata": {},
   "source": [
    "## Machine learning strategies"
   ]
  },
  {
   "cell_type": "markdown",
   "metadata": {},
   "source": [
    "The challenge consists in a binary classification problem. There exist a range of machine learning methods which can be applied to this problem. Among them, we may cite:\n",
    "\n",
    "- K-nearest neighbours\n",
    "- linear discriminant analysis\n",
    "- decision tree\n",
    "- support vector machine\n",
    "- random forest\n",
    "- extra tree\n",
    "- Adaboost\n",
    "- gradient boosting\n",
    "- XGBoost\n",
    "- neural networks and deep learning"
   ]
  },
  {
   "cell_type": "markdown",
   "metadata": {},
   "source": [
    "A few comments apply:\n",
    "- KNN is not a very strong candidate. It suffers from scalability issues, which makes it unsuitable in this challenge where the dataset is large (around 10 million observations). Also, it can only predict classes with a majority vote, but cannot produce scores, which is yet the metric required for this challenge. For this reason, I will develop a small knn application on a limited subsampe, but that will be mostly for the sake of pedagogy and obtaining a rough performance estimate on a simple model.\n",
    "- Linear discriminant analysis and decision trees are also weak models. For this reason, I will not proceed any further with them on this challenge.\n",
    "- support vector machines have been dominating the field of classification until the 2010's. They thus represent a methodology to consider, though it is established that more recent methodologies may produce better results.\n",
    "- random forests, extre tree, Adaboost, gradient boosting and XGBoost are state-of-the-art ensemble learning methods which are very efficient. They should be considered individually to check whether they represent the best competitor in this challenge.\n",
    "- neural networks can be very powerful tools, but they must be trained on large datasets, and they require a very large number of computations. For this reason, I will try a few different architectures in this challenge, but will not have the time to develop a full treatment of this class of models."
   ]
  },
  {
   "cell_type": "code",
   "execution_count": null,
   "metadata": {},
   "outputs": [],
   "source": []
  },
  {
   "cell_type": "markdown",
   "metadata": {},
   "source": [
    "## Separating the data into train, validation and test sets"
   ]
  },
  {
   "cell_type": "markdown",
   "metadata": {},
   "source": [
    "Most machine learning models are estimated on three datasets: a train set to train the model; a validation set to discriminate among models trained on the train set (typically for the purpose of hyperparameter optmisation); and a test set to test the overall performance of the model. \n",
    "\n",
    "The challenge provides a full train set (including both the features X and the labels y), along with a test set (features only). To train models properly, however, a validation set is needed. For this reason, it can be useful to create a validation set from part of the train set.\n",
    "\n",
    "As the original train set is quite large (almost 10 million observations), running cross-validation methods on it will often not be possible on a standard laptop like mine. For this reason, my approach will be flexible. Depending on the model and the optimisation procedures used to tune the hyperparmaters, I may work on smaller subsamples, or with the full train set."
   ]
  },
  {
   "cell_type": "code",
   "execution_count": null,
   "metadata": {},
   "outputs": [],
   "source": []
  },
  {
   "cell_type": "markdown",
   "metadata": {},
   "source": [
    "## Scoring strategy"
   ]
  },
  {
   "cell_type": "markdown",
   "metadata": {},
   "source": [
    "The performance criterion for this challenge is the **TPR for the value of FPR = $10^{-4}$**, that is, the value of the receiver operating characteristic (ROC) in the point FPR = $10^{-4}$. The submitted solutions must thus contain the score for each observation. In this respect, each model considered in the challenge must be capable of producing scores, which in the case of binary classification implies producing prediction probabilities for class 1.\n",
    "\n",
    "Also, training a model requires optimising some score that represents a measure of how well the model can predict the data. As we are working with binary data in this challenge, the score that I choose is simply the mean accuracy, that is, the proportion of labels which are predicted correctly by the model."
   ]
  },
  {
   "cell_type": "code",
   "execution_count": null,
   "metadata": {},
   "outputs": [],
   "source": []
  },
  {
   "cell_type": "markdown",
   "metadata": {},
   "source": [
    "## Normalisation of the data"
   ]
  },
  {
   "cell_type": "markdown",
   "metadata": {},
   "source": [
    "As shown in the part on data exploration, the data is very heterogenous and differently scaled. It may thus make sense to normalise it before using it for machine learning purposes. My preliminary attempts on normalisation produced however no improvement on the performances however. For this reason, I will typically not standardise the data, except on methodologies where this preprocessing is justified like KNN."
   ]
  },
  {
   "cell_type": "code",
   "execution_count": null,
   "metadata": {},
   "outputs": [],
   "source": []
  },
  {
   "cell_type": "markdown",
   "metadata": {},
   "source": [
    "## A first approach: the KNN model"
   ]
  },
  {
   "cell_type": "markdown",
   "metadata": {},
   "source": [
    "I briefly develop a knn model, mostly for the sake of obtaining a preliminary estimate of the classification performance in this challenge.\n",
    "\n",
    "I optimise the number of neighbours k with a grid search. I run the grid on a small subset of the train set because knn becomes quickly intractable at large scale. Also, as KNN is sensitive to the scale of the variables, I standardise the features, making it possible to use a regular Euclidian distance for the algorithm."
   ]
  },
  {
   "cell_type": "code",
   "execution_count": 19,
   "metadata": {},
   "outputs": [],
   "source": [
    "# parameters for the model\n",
    "train_size = 10000\n",
    "valid_size = 5000\n",
    "max_k = 100\n",
    "seed = 0\n",
    "\n",
    "# convert arrays to numpy\n",
    "temp = train.sample(n=train_size+valid_size, random_state=seed)\n",
    "knn_X_train = np.array(temp[0:train_size][X_ind])\n",
    "knn_y_train = np.ravel(np.array(temp[0:train_size][y_ind]))\n",
    "knn_X_valid = np.array(temp[train_size:train_size+valid_size][X_ind])\n",
    "knn_y_valid = np.ravel(np.array(temp[train_size:train_size+valid_size][y_ind]))\n",
    "\n",
    "# normalise the datasets\n",
    "scaler = preprocessing.StandardScaler()\n",
    "knn_X_train = scaler.fit_transform(knn_X_train)\n",
    "knn_X_valid = scaler.fit_transform(knn_X_valid)\n",
    "\n",
    "# split dataset as train/validation: create a list where train indices are -1 and validation indices are 0\n",
    "split_index = [-1] * train_size + [0] * valid_size\n",
    "split = PredefinedSplit(test_fold = split_index)\n",
    "\n",
    "# concatenate train and validation sets (required: the grid will separate them according to split)\n",
    "knn_X = np.concatenate((knn_X_train, knn_X_valid), axis=0)\n",
    "knn_y = np.concatenate((knn_y_train, knn_y_valid), axis=0)\n",
    "\n",
    "# create matrix of features for the test set\n",
    "knn_X_test = np.array(X_test)\n",
    "knn_X_test = scaler.fit_transform(knn_X_test)"
   ]
  },
  {
   "cell_type": "code",
   "execution_count": 22,
   "metadata": {},
   "outputs": [
    {
     "name": "stdout",
     "output_type": "stream",
     "text": [
      "KNeighborsClassifier(algorithm='auto', leaf_size=30, metric='minkowski',\n",
      "                     metric_params=None, n_jobs=None, n_neighbors=4, p=2,\n",
      "                     weights='uniform')\n"
     ]
    }
   ],
   "source": [
    "# define grid\n",
    "grid = {'n_neighbors':list(range(1, max_k))}\n",
    "\n",
    "# run grid search\n",
    "knn = KNeighborsClassifier()\n",
    "grid_search = GridSearchCV(knn, grid, cv=split, scoring='accuracy');\n",
    "grid_search.fit(knn_X, knn_y);\n",
    "best_k = grid_search.best_estimator_.n_neighbors\n",
    "\n",
    "# print best model\n",
    "print(grid_search.best_estimator_)"
   ]
  },
  {
   "cell_type": "code",
   "execution_count": 28,
   "metadata": {},
   "outputs": [
    {
     "data": {
      "image/png": "[encoded data removed]",
      "text/plain": [
       "<Figure size 576x432 with 1 Axes>"
      ]
     },
     "metadata": {
      "needs_background": "light"
     },
     "output_type": "display_data"
    },
    {
     "name": "stdout",
     "output_type": "stream",
     "text": [
      "The optimal value for k is 4, which corresponds to an accuracy of 0.9912 on the validation set.\n"
     ]
    }
   ],
   "source": [
    "# plot the accuracy values given the value of k\n",
    "fig_1 = plt.figure(figsize=(8,6))\n",
    "plt.plot(list(range(1, max_k)), grid_search.cv_results_['mean_test_score'])\n",
    "plt.xlim([0, max_k])\n",
    "plt.xlabel(\"k\")\n",
    "plt.ylabel(\"accuracy\")\n",
    "plt.title('Accuracy on validation set for different values of k')\n",
    "plt.grid(True)\n",
    "plt.show()\n",
    "# print outcome\n",
    "print(\"The optimal value for k is \" + str(best_k) +\\\n",
    "      \", which corresponds to an accuracy of \" + str(grid_search.best_score_) + \" on the validation set.\")"
   ]
  },
  {
   "cell_type": "code",
   "execution_count": 29,
   "metadata": {},
   "outputs": [],
   "source": [
    "# create model with optimal hyperparameter values\n",
    "knn = grid_search.best_estimator_;\n",
    "\n",
    "# save model to file\n",
    "pickle.dump(knn, open(\"knn.pickle.dat\", \"wb\"))"
   ]
  },
  {
   "cell_type": "code",
   "execution_count": 25,
   "metadata": {},
   "outputs": [],
   "source": [
    "# load model if necessary\n",
    "# knn = pickle.load(open(\"knn.pickle.dat\", \"rb\"))\n",
    "\n",
    "# fit model to data\n",
    "knn.fit(knn_X_train, knn_y_train);"
   ]
  },
  {
   "cell_type": "code",
   "execution_count": 26,
   "metadata": {},
   "outputs": [],
   "source": [
    "# obtain prediction on the full test set\n",
    "knn_predict = knn.predict_proba(knn_X_test)\n",
    "\n",
    "# save predictions\n",
    "np.savetxt('knn_romain_legrand.csv', knn_predict[:,1], fmt = '%1.15f', delimiter=',')"
   ]
  },
  {
   "cell_type": "markdown",
   "metadata": {},
   "source": [
    "Without much surprise, the performance achieved on the actual test set is fairly low: 0.236. This is mostly due to the fact that the algorithm is based on a tiny dataset, and also partly to the fact that the knn algorithm does not produce acccurate scores, but only rough probabilities based on the k nearest neighbours. A more adequate approach is required."
   ]
  },
  {
   "cell_type": "code",
   "execution_count": null,
   "metadata": {},
   "outputs": [],
   "source": []
  },
  {
   "cell_type": "markdown",
   "metadata": {},
   "source": [
    "## Support vector machines"
   ]
  },
  {
   "cell_type": "markdown",
   "metadata": {},
   "source": [
    "SVM have dominated the field of classification for years, and for this reason it is worth considering them as a good candidate for the challenge. To be efficient, SVM require some optimisation. I proceed by grid search, similarly to the knn models. The parameters considered are the regularisation value C, the kernel (linear, gaussian, polynomial or sigmoid), and the hyperparameter values gamma and d associated to the kernels.\n",
    "\n",
    "Because the grid is large, I use a reduced sample of size 30000 for my grid search. Also, the cost of fitting a SVM increases at least quadratically  in the number of samples, therefore I reduce the full train sample to a size 100000, before applying the fitted model on the whole test set."
   ]
  },
  {
   "cell_type": "code",
   "execution_count": 27,
   "metadata": {},
   "outputs": [],
   "source": [
    "# parameters for the model\n",
    "train_size = 30000\n",
    "valid_size = 10000\n",
    "seed = 0\n",
    "\n",
    "# convert arrays to numpy\n",
    "temp = train.sample(n=train_size+valid_size, random_state=seed)\n",
    "svm_X_train = np.array(temp[0:train_size][X_ind])\n",
    "svm_y_train = np.ravel(np.array(temp[0:train_size][y_ind]))\n",
    "svm_X_valid = np.array(temp[train_size:train_size+valid_size][X_ind])\n",
    "svm_y_valid = np.ravel(np.array(temp[train_size:train_size+valid_size][y_ind]))\n",
    "\n",
    "# normalise the datasets\n",
    "scaler = preprocessing.StandardScaler()\n",
    "svm_X_train = scaler.fit_transform(svm_X_train)\n",
    "svm_X_valid = scaler.fit_transform(svm_X_valid)\n",
    "\n",
    "# split dataset as train/validation: create a list where train indices are -1 and validation indices are 0\n",
    "split_index = [-1] * train_size + [0] * valid_size\n",
    "split = PredefinedSplit(test_fold = split_index)\n",
    "\n",
    "# concatenate train and validation sets (required: the grid will separate them according to split)\n",
    "svm_X = np.concatenate((svm_X_train, svm_X_valid), axis=0)\n",
    "svm_y = np.concatenate((svm_y_train, svm_y_valid), axis=0)"
   ]
  },
  {
   "cell_type": "code",
   "execution_count": 5,
   "metadata": {},
   "outputs": [
    {
     "name": "stdout",
     "output_type": "stream",
     "text": [
      "SVC(C=1, cache_size=200, class_weight=None, coef0=0.0,\n",
      "    decision_function_shape='ovr', degree=2, gamma='scale', kernel='rbf',\n",
      "    max_iter=-1, probability=False, random_state=None, shrinking=True,\n",
      "    tol=0.001, verbose=False)\n"
     ]
    }
   ],
   "source": [
    "# define grid\n",
    "grid = {'C':[1, 1.5, 2, 2.5, 3], \n",
    "        'kernel':('linear', 'poly', 'rbf', 'sigmoid'),\n",
    "        'gamma':['scale', \"auto\", 0.01, 0.1], \n",
    "        'degree': [2, 3, 4]}\n",
    "\n",
    "# run grid search\n",
    "svm = SVC();\n",
    "grid_search = GridSearchCV(svm, grid, cv=split, scoring='accuracy');\n",
    "grid_search.fit(svm_X, svm_y);\n",
    "\n",
    "# print best model\n",
    "print(grid_search.best_estimator_)"
   ]
  },
  {
   "cell_type": "code",
   "execution_count": null,
   "metadata": {},
   "outputs": [],
   "source": [
    "# create model with optimal hyperparameter values\n",
    "svm = grid_search.best_estimator_;\n",
    "\n",
    "# save model to file\n",
    "pickle.dump(svm, open(\"svm.pickle.dat\", \"wb\"))"
   ]
  },
  {
   "cell_type": "code",
   "execution_count": null,
   "metadata": {},
   "outputs": [],
   "source": [
    "# load model if necessary\n",
    "# svm = pickle.load(open(\"svm.pickle.dat\", \"rb\"))\n",
    "\n",
    "# fit model to data\n",
    "train_size = 100000\n",
    "seed = 0\n",
    "temp = train.sample(n=train_size, random_state=seed)\n",
    "svm_X_train = np.array(temp[0:train_size][X_ind])\n",
    "svm_y_train = np.ravel(np.array(temp[0:train_size][y_ind]))\n",
    "svm.fit(svm_X_train, svm_y_train);"
   ]
  },
  {
   "cell_type": "code",
   "execution_count": null,
   "metadata": {},
   "outputs": [],
   "source": [
    "# obtain predictions on the test set\n",
    "pred = svm.decision_function(X_test)\n",
    "# save the predictions\n",
    "np.savetxt('svm_romain_legrand.csv', pred, fmt = '%1.15f', delimiter=',')"
   ]
  },
  {
   "cell_type": "markdown",
   "metadata": {},
   "source": [
    "The performance on the test set is about 0.817. This is considerably better than the knn model, but it should still be improved. Let us now consider ensemble learning models."
   ]
  },
  {
   "cell_type": "code",
   "execution_count": null,
   "metadata": {},
   "outputs": [],
   "source": []
  },
  {
   "cell_type": "markdown",
   "metadata": {},
   "source": [
    "## Random forests"
   ]
  },
  {
   "cell_type": "markdown",
   "metadata": {},
   "source": [
    "Random forests represent a class of machine learning algorithms with solid performances in the family of ensemble learning. I optimise my model with a grid search on the following parameters: the split criterion (Gini or entropy), the max depth of the trees (from 5 to 50), and the definition of the max number of features considered for the splits (square root of n, log2 of n, or 20% of n). As usual, the grid search is realised on a reduced sample of size 30000 to keep the exercice tractable. Actual training with optimised hyperparameter values is then conducted on the full train sample."
   ]
  },
  {
   "cell_type": "code",
   "execution_count": 30,
   "metadata": {},
   "outputs": [],
   "source": [
    "# parameters for the model\n",
    "train_size = 30000\n",
    "valid_size = 10000\n",
    "seed = 0\n",
    "\n",
    "# convert arrays to numpy\n",
    "temp = train.sample(n=train_size+valid_size, random_state=seed)\n",
    "rf_X_train = np.array(temp[0:train_size][X_ind])\n",
    "rf_y_train = np.ravel(np.array(temp[0:train_size][y_ind]))\n",
    "rf_X_valid = np.array(temp[train_size:train_size+valid_size][X_ind])\n",
    "rf_y_valid = np.ravel(np.array(temp[train_size:train_size+valid_size][y_ind]))\n",
    "\n",
    "# split dataset as train/validation: create a list where train indices are -1 and validation indices are 0\n",
    "split_index = [-1] * train_size + [0] * valid_size\n",
    "split = PredefinedSplit(test_fold = split_index)\n",
    "\n",
    "# concatenate train and validation sets (required: the grid will separate them according to split)\n",
    "rf_X = np.concatenate((rf_X_train, rf_X_valid), axis=0)\n",
    "rf_y = np.concatenate((rf_y_train, rf_y_valid), axis=0)"
   ]
  },
  {
   "cell_type": "code",
   "execution_count": 18,
   "metadata": {},
   "outputs": [
    {
     "name": "stdout",
     "output_type": "stream",
     "text": [
      "RandomForestClassifier(bootstrap=True, class_weight=None, criterion='gini',\n",
      "                       max_depth=30, max_features='sqrt', max_leaf_nodes=None,\n",
      "                       min_impurity_decrease=0.0, min_impurity_split=None,\n",
      "                       min_samples_leaf=1, min_samples_split=2,\n",
      "                       min_weight_fraction_leaf=0.0, n_estimators=10,\n",
      "                       n_jobs=None, oob_score=False, random_state=None,\n",
      "                       verbose=0, warm_start=False)\n"
     ]
    }
   ],
   "source": [
    "# define grid\n",
    "grid = {'criterion':('gini', 'entropy'), \n",
    "        'max_depth':[5, 10, 15, 20, 30, 40, 50],\n",
    "        'max_features':['sqrt', \"log2\", 0.2]}\n",
    "\n",
    "# run grid search\n",
    "rf = RandomForestClassifier();\n",
    "grid_search = GridSearchCV(rf, grid, cv=split, scoring='accuracy');\n",
    "grid_search.fit(rf_X, rf_y);\n",
    "# print best model\n",
    "print(grid_search.best_estimator_)"
   ]
  },
  {
   "cell_type": "code",
   "execution_count": null,
   "metadata": {},
   "outputs": [],
   "source": [
    "# create model with optimal hyperparameter values\n",
    "rf = grid_search.best_estimator_;\n",
    "\n",
    "# save model to file\n",
    "pickle.dump(rf, open(\"svm.pickle.dat\", \"wb\"))"
   ]
  },
  {
   "cell_type": "code",
   "execution_count": null,
   "metadata": {},
   "outputs": [],
   "source": [
    "# load model if necessary\n",
    "# rf = pickle.load(open(\"rf.pickle.dat\", \"rb\"))\n",
    "\n",
    "# fit model to data\n",
    "rf.fit(X_train, y_train);"
   ]
  },
  {
   "cell_type": "code",
   "execution_count": 25,
   "metadata": {},
   "outputs": [],
   "source": [
    "# obtain predictions on the test set\n",
    "pred = rf.predict_proba(X_test)[:,1]\n",
    "# save the predictions\n",
    "np.savetxt('rf_romain_legrand.csv', pred, fmt = '%1.15f', delimiter=',')"
   ]
  },
  {
   "cell_type": "markdown",
   "metadata": {},
   "source": [
    "The performance on the test set is 0.817. It is quite similar to the performance of the SVM algorithm, so random forests don't seem to represent a significant improvement in this challenge."
   ]
  },
  {
   "cell_type": "code",
   "execution_count": null,
   "metadata": {},
   "outputs": [],
   "source": []
  },
  {
   "cell_type": "markdown",
   "metadata": {},
   "source": [
    "## Extra tree"
   ]
  },
  {
   "cell_type": "markdown",
   "metadata": {},
   "source": [
    "Extra tree and random forests are close methodologies. My approach is thus similar to random forests. "
   ]
  },
  {
   "cell_type": "code",
   "execution_count": 31,
   "metadata": {},
   "outputs": [],
   "source": [
    "# parameters for the model\n",
    "train_size = 30000\n",
    "valid_size = 10000\n",
    "seed = 0\n",
    "\n",
    "# convert arrays to numpy\n",
    "temp = train.sample(n=train_size+valid_size, random_state=seed)\n",
    "etr_X_train = np.array(temp[0:train_size][X_ind])\n",
    "etr_y_train = np.ravel(np.array(temp[0:train_size][y_ind]))\n",
    "etr_X_valid = np.array(temp[train_size:train_size+valid_size][X_ind])\n",
    "etr_y_valid = np.ravel(np.array(temp[train_size:train_size+valid_size][y_ind]))\n",
    "\n",
    "# split dataset as train/validation: create a list where train indices are -1 and validation indices are 0\n",
    "split_index = [-1] * train_size + [0] * valid_size\n",
    "split = PredefinedSplit(test_fold = split_index)\n",
    "\n",
    "# concatenate train and validation sets (required: the grid will separate them according to split)\n",
    "etr_X = np.concatenate((etr_X_train, etr_X_valid), axis=0)\n",
    "etr_y = np.concatenate((etr_y_train, etr_y_valid), axis=0)"
   ]
  },
  {
   "cell_type": "code",
   "execution_count": 32,
   "metadata": {},
   "outputs": [
    {
     "name": "stdout",
     "output_type": "stream",
     "text": [
      "ExtraTreesClassifier(bootstrap=False, class_weight=None, criterion='gini',\n",
      "                     max_depth=20, max_features=0.2, max_leaf_nodes=None,\n",
      "                     min_impurity_decrease=0.0, min_impurity_split=None,\n",
      "                     min_samples_leaf=1, min_samples_split=2,\n",
      "                     min_weight_fraction_leaf=0.0, n_estimators=10, n_jobs=None,\n",
      "                     oob_score=False, random_state=None, verbose=0,\n",
      "                     warm_start=False)\n"
     ]
    }
   ],
   "source": [
    "# define grid\n",
    "grid = {'criterion':('gini', 'entropy'), \n",
    "        'max_depth':[5, 10, 15, 20, 30, 40, 50],\n",
    "        'max_features':['sqrt', \"log2\", 0.2]}\n",
    "\n",
    "# run grid search\n",
    "etr = ExtraTreesClassifier();\n",
    "grid_search = GridSearchCV(etr, grid, cv=split, scoring='accuracy');\n",
    "grid_search.fit(etr_X, etr_y);\n",
    "print(grid_search.best_estimator_)"
   ]
  },
  {
   "cell_type": "code",
   "execution_count": null,
   "metadata": {},
   "outputs": [],
   "source": [
    "# create model with optimal hyperparameter values\n",
    "etr = grid_search.best_estimator_;\n",
    "\n",
    "# save model to file\n",
    "pickle.dump(etr, open(\"svm.pickle.dat\", \"wb\"))"
   ]
  },
  {
   "cell_type": "code",
   "execution_count": null,
   "metadata": {},
   "outputs": [],
   "source": [
    "# load model if necessary\n",
    "# etr = pickle.load(open(\"etr.pickle.dat\", \"rb\"))\n",
    "\n",
    "# fit model to data\n",
    "etr.fit(X_train, y_train);"
   ]
  },
  {
   "cell_type": "code",
   "execution_count": 35,
   "metadata": {},
   "outputs": [],
   "source": [
    "# obtain predictions on the test set\n",
    "pred = etr.predict_proba(X_test)[:,1]\n",
    "# save the predictions\n",
    "np.savetxt('etr_romain_legrand.csv', pred, fmt = '%1.15f', delimiter=',')"
   ]
  },
  {
   "cell_type": "markdown",
   "metadata": {},
   "source": [
    "The performance on the test set is 0.817. This is strictly similar to the random forest, so no improvement is obtained from this algorithm."
   ]
  },
  {
   "cell_type": "code",
   "execution_count": null,
   "metadata": {},
   "outputs": [],
   "source": []
  },
  {
   "cell_type": "markdown",
   "metadata": {},
   "source": [
    "## Adaboost"
   ]
  },
  {
   "cell_type": "markdown",
   "metadata": {},
   "source": [
    "Adaboost classifiers use combinations of weak learners to obtain better predictions than with a single weak learner. There are several possible candidates for the weak learner. I consider three of them: the decision tree, which represents the base algorithm, the logistic regression, and a random forest with low depth. I train the models on a sub-sample of size 100000, and select the best candidate on a alidation sample of size 50000."
   ]
  },
  {
   "cell_type": "code",
   "execution_count": 63,
   "metadata": {},
   "outputs": [],
   "source": [
    "# parameters for the model\n",
    "train_size = 100000\n",
    "valid_size = 50000\n",
    "seed = 0\n",
    "\n",
    "# convert arrays to numpy\n",
    "temp = train.sample(n=train_size+valid_size, random_state=seed)\n",
    "adb_X_train = np.array(temp[0:train_size][X_ind])\n",
    "adb_y_train = np.ravel(np.array(temp[0:train_size][y_ind]))\n",
    "adb_X_valid = np.array(temp[train_size:train_size+valid_size][X_ind])\n",
    "adb_y_valid = np.ravel(np.array(temp[train_size:train_size+valid_size][y_ind]))"
   ]
  },
  {
   "cell_type": "code",
   "execution_count": 64,
   "metadata": {},
   "outputs": [
    {
     "name": "stdout",
     "output_type": "stream",
     "text": [
      "Accuracy on validation with decision tree is 1.0.\n"
     ]
    }
   ],
   "source": [
    "# train an adaboost model on decision trees\n",
    "adb_tree = AdaBoostClassifier(DecisionTreeClassifier(max_depth=2), n_estimators=100, random_state=0)\n",
    "# fit on train set\n",
    "adb_tree.fit(adb_X_train, adb_y_train)\n",
    "# predict on validation set\n",
    "score_tree = adb_tree.score(adb_X_valid, adb_y_valid)\n",
    "# print result\n",
    "print(\"Accuracy on validation with decision tree is \" + str(round(score_tree, 2)) + \".\")"
   ]
  },
  {
   "cell_type": "code",
   "execution_count": 65,
   "metadata": {},
   "outputs": [
    {
     "name": "stdout",
     "output_type": "stream",
     "text": [
      "Accuracy on validation with logistic regression is 1.0.\n"
     ]
    }
   ],
   "source": [
    "# train an adaboost model on logistic regression\n",
    "adb_lr = AdaBoostClassifier(LogisticRegression(random_state=0), n_estimators=100, random_state=0)\n",
    "# fit on train set\n",
    "adb_lr.fit(adb_X_train, adb_y_train)\n",
    "# predict on validation set\n",
    "score_lr = adb_lr.score(adb_X_valid, adb_y_valid)\n",
    "# print result\n",
    "print(\"Accuracy on validation with logistic regression is \" + str(round(score_lr, 2)) + \".\")"
   ]
  },
  {
   "cell_type": "code",
   "execution_count": 66,
   "metadata": {},
   "outputs": [
    {
     "name": "stdout",
     "output_type": "stream",
     "text": [
      "Accuracy on validation with random forest is 1.0.\n"
     ]
    }
   ],
   "source": [
    "# train an adaboost model on random forest\n",
    "adb_rf = AdaBoostClassifier(RandomForestClassifier(max_depth=2, n_estimators=5), n_estimators=100, random_state=0)\n",
    "# fit on train set\n",
    "adb_rf.fit(adb_X_train, adb_y_train)\n",
    "# predict on validation set\n",
    "score_rf = adb_rf.score(adb_X_valid, adb_y_valid)\n",
    "# print result\n",
    "print(\"Accuracy on validation with random forest is \" + str(round(score_rf, 2)) + \".\")"
   ]
  },
  {
   "cell_type": "markdown",
   "metadata": {},
   "source": [
    "The three models produce very comparable results. For this reason, I will focus only on the most flexible model: the random forest."
   ]
  },
  {
   "cell_type": "code",
   "execution_count": 13,
   "metadata": {},
   "outputs": [],
   "source": [
    "# train the adaboost model\n",
    "adb = AdaBoostClassifier(RandomForestClassifier(max_depth=2, n_estimators=5), n_estimators=100, random_state=0)\n",
    "\n",
    "# save model to file\n",
    "pickle.dump(adb, open(\"adb.pickle.dat\", \"wb\"))"
   ]
  },
  {
   "cell_type": "code",
   "execution_count": null,
   "metadata": {},
   "outputs": [],
   "source": [
    "# load model if necessary\n",
    "adb = pickle.load(open(\"adb.pickle.dat\", \"rb\"))\n",
    "\n",
    "# fit model to data\n",
    "adb.fit(X_train, y_train)"
   ]
  },
  {
   "cell_type": "code",
   "execution_count": 15,
   "metadata": {},
   "outputs": [],
   "source": [
    "# obtain predictions on the test set\n",
    "pred = adb.predict_proba(X_test)[:,1]\n",
    "\n",
    "# save the predictions\n",
    "np.savetxt('adb_romain_legrand.csv', pred, fmt = '%1.15f', delimiter=',')"
   ]
  },
  {
   "cell_type": "markdown",
   "metadata": {},
   "source": [
    "The performance is 0.821. This is the best model so far, but the performance might still be improved."
   ]
  },
  {
   "cell_type": "code",
   "execution_count": null,
   "metadata": {},
   "outputs": [],
   "source": []
  },
  {
   "cell_type": "markdown",
   "metadata": {},
   "source": [
    "## Gradient boosting"
   ]
  },
  {
   "cell_type": "markdown",
   "metadata": {},
   "source": [
    "Gradient boosting is yet another candidate in the class of ensemble learning models. I follow a usual grid search approach for the main parameters of interest: the learning rate, the maximum depth, and the maximum number of features retained."
   ]
  },
  {
   "cell_type": "code",
   "execution_count": 11,
   "metadata": {},
   "outputs": [],
   "source": [
    "# parameters for the model\n",
    "train_size = 30000\n",
    "valid_size = 10000\n",
    "seed = 0\n",
    "\n",
    "# convert arrays to numpy\n",
    "temp = train.sample(n=train_size+valid_size, random_state=seed)\n",
    "gb_X_train = np.array(temp[0:train_size][X_ind])\n",
    "gb_y_train = np.ravel(np.array(temp[0:train_size][y_ind]))\n",
    "gb_X_valid = np.array(temp[train_size:train_size+valid_size][X_ind])\n",
    "gb_y_valid = np.ravel(np.array(temp[train_size:train_size+valid_size][y_ind]))\n",
    "\n",
    "# split dataset as train/validation: create a list where train indices are -1 and validation indices are 0\n",
    "split_index = [-1] * train_size + [0] * valid_size\n",
    "split = PredefinedSplit(test_fold = split_index)\n",
    "\n",
    "# concatenate train and validation sets (required: the grid will separate them according to split)\n",
    "gb_X = np.concatenate((gb_X_train, gb_X_valid), axis=0)\n",
    "gb_y = np.concatenate((gb_y_train, gb_y_valid), axis=0)"
   ]
  },
  {
   "cell_type": "code",
   "execution_count": 35,
   "metadata": {},
   "outputs": [
    {
     "name": "stdout",
     "output_type": "stream",
     "text": [
      "GradientBoostingClassifier(criterion='friedman_mse', init=None,\n",
      "                           learning_rate=0.2, loss='deviance', max_depth=9,\n",
      "                           max_features='sqrt', max_leaf_nodes=None,\n",
      "                           min_impurity_decrease=0.0, min_impurity_split=None,\n",
      "                           min_samples_leaf=1, min_samples_split=2,\n",
      "                           min_weight_fraction_leaf=0.0, n_estimators=100,\n",
      "                           n_iter_no_change=None, presort='auto',\n",
      "                           random_state=None, subsample=1.0, tol=0.0001,\n",
      "                           validation_fraction=0.1, verbose=0,\n",
      "                           warm_start=False)\n"
     ]
    }
   ],
   "source": [
    "# define grid\n",
    "grid = {'learning_rate':[0.05, 0.1, 0.2, 0.3],\n",
    "        'max_depth':[3, 6, 9, 12, 15],\n",
    "        'max_features':['sqrt', \"log2\", 0.2]}\n",
    "\n",
    "# run grid search\n",
    "gb = GradientBoostingClassifier()\n",
    "grid_search = GridSearchCV(gb, grid, cv=split, scoring='accuracy');\n",
    "grid_search.fit(gb_X, gb_y);\n",
    "print(grid_search.best_estimator_)"
   ]
  },
  {
   "cell_type": "code",
   "execution_count": null,
   "metadata": {},
   "outputs": [],
   "source": [
    "# create model with optimal hyperparameter values\n",
    "gb = grid_search.best_estimator_;\n",
    "\n",
    "# save model to file\n",
    "pickle.dump(gb, open(\"gb.pickle.dat\", \"wb\"))"
   ]
  },
  {
   "cell_type": "code",
   "execution_count": null,
   "metadata": {},
   "outputs": [],
   "source": [
    "# load model if necessary\n",
    "# gb = pickle.load(open(\"gb.pickle.dat\", \"rb\"))\n",
    "\n",
    "# fit model to data\n",
    "gb.fit(X_train, y_train);"
   ]
  },
  {
   "cell_type": "code",
   "execution_count": 10,
   "metadata": {},
   "outputs": [],
   "source": [
    "# obtain predictions on the test set\n",
    "pred = gb.predict_proba(X_test)[:,1]\n",
    "# save the predictions\n",
    "np.savetxt('gb_romain_legrand.csv', pred, fmt = '%1.15f', delimiter=',')"
   ]
  },
  {
   "cell_type": "markdown",
   "metadata": {},
   "source": [
    "The performance is about 0.813. The gradient boosting model has not significantly improved the predictive performance."
   ]
  },
  {
   "cell_type": "code",
   "execution_count": null,
   "metadata": {},
   "outputs": [],
   "source": []
  },
  {
   "cell_type": "markdown",
   "metadata": {},
   "source": [
    "## XGBoost"
   ]
  },
  {
   "cell_type": "markdown",
   "metadata": {},
   "source": [
    "The final candidate in the family of ensemble learning models is the XGBoost methodology. Here again, hyperparameters are tuned with grid search. The search focuses on three major hyperparameters: the maximum depth of the trees, the learning rate, and the size of the subsamples used by the algorithm.\n",
    "\n",
    "Also, because the classes are strongly imbalanced, and because this can affect strongly the performance of the algorithm, the scale_pos_weight parameter of the algorithm is set to 0.1."
   ]
  },
  {
   "cell_type": "code",
   "execution_count": 4,
   "metadata": {},
   "outputs": [],
   "source": [
    "# convert data to numpy\n",
    "X_train = np.array(X_train)\n",
    "y_train = np.ravel(np.array(y_train))\n",
    "X_test = np.array(X_test)"
   ]
  },
  {
   "cell_type": "code",
   "execution_count": 5,
   "metadata": {},
   "outputs": [],
   "source": [
    "# parameters for the model\n",
    "train_size = 100000\n",
    "valid_size = 20000\n",
    "seed = 0\n",
    "\n",
    "# convert arrays to numpy\n",
    "temp = train.sample(n=train_size+valid_size, random_state=seed)\n",
    "xgb_X_train = np.array(temp[0:train_size][X_ind])\n",
    "xgb_y_train = np.ravel(np.array(temp[0:train_size][y_ind]))\n",
    "xgb_X_valid = np.array(temp[train_size:train_size+valid_size][X_ind])\n",
    "xgb_y_valid = np.ravel(np.array(temp[train_size:train_size+valid_size][y_ind]))\n",
    "\n",
    "# split dataset as train/validation: create a list where train indices are -1 and validation indices are 0\n",
    "split_index = [-1] * train_size + [0] * valid_size\n",
    "split = PredefinedSplit(test_fold = split_index)\n",
    "\n",
    "# concatenate train and validation sets (required: the grid will separate them according to split)\n",
    "xgb_X = np.concatenate((xgb_X_train, xgb_X_valid), axis=0)\n",
    "xgb_y = np.concatenate((xgb_y_train, xgb_y_valid), axis=0)"
   ]
  },
  {
   "cell_type": "code",
   "execution_count": 6,
   "metadata": {},
   "outputs": [
    {
     "name": "stdout",
     "output_type": "stream",
     "text": [
      "XGBClassifier(base_score=0.5, booster=None, colsample_bylevel=1,\n",
      "              colsample_bynode=1, colsample_bytree=1, eta=0.3, gamma=0,\n",
      "              gpu_id=-1, importance_type='gain', interaction_constraints=None,\n",
      "              learning_rate=0.300000012, max_delta_step=0, max_depth=12,\n",
      "              min_child_weight=1, missing=nan, monotone_constraints=None,\n",
      "              n_estimators=100, n_jobs=0, num_parallel_tree=1,\n",
      "              objective='binary:logistic', random_state=0, reg_alpha=0,\n",
      "              reg_lambda=1, scale_pos_weight=0.1, subsample=0.75,\n",
      "              tree_method=None, validate_parameters=False, verbosity=None)\n"
     ]
    }
   ],
   "source": [
    "# obtain class weight\n",
    "class_weight = weight = np.sum(y_train==0)/np.sum(y_train==1)\n",
    "\n",
    "# define grid\n",
    "grid = {\n",
    "    'max_depth':[6, 12, 18],\n",
    "    'eta': [0.3, 0.6, 0.9],\n",
    "    'subsample': [0.5, 0.75, 1]}\n",
    "xgb = XGBClassifier(scale_pos_weight=0.1);\n",
    "\n",
    "# run grid search\n",
    "grid_search = GridSearchCV(xgb, grid, cv=split, scoring='accuracy');\n",
    "grid_search.fit(xgb_X, xgb_y);\n",
    "print(grid_search.best_estimator_)"
   ]
  },
  {
   "cell_type": "code",
   "execution_count": 7,
   "metadata": {},
   "outputs": [],
   "source": [
    "# create model with optimal hyperparameter values\n",
    "xgb = grid_search.best_estimator_;\n",
    "\n",
    "# save model to file\n",
    "pickle.dump(xgb, open(\"xgb.pickle.dat\", \"wb\"))"
   ]
  },
  {
   "cell_type": "code",
   "execution_count": 9,
   "metadata": {},
   "outputs": [
    {
     "name": "stdout",
     "output_type": "stream",
     "text": [
      "[00:08:01] WARNING: /workspace/src/gbm/gbtree.cc:138: Tree method is automatically selected to be 'approx' for faster speed. To use old behavior (exact greedy algorithm on single machine), set tree_method to 'exact'.\n"
     ]
    }
   ],
   "source": [
    "# load model if necessary\n",
    "# xgb = pickle.load(open(\"xgb.pickle.dat\", \"rb\"))\n",
    "\n",
    "# fit model to data\n",
    "xgb.fit(X_train, y_train);"
   ]
  },
  {
   "cell_type": "code",
   "execution_count": 7,
   "metadata": {},
   "outputs": [],
   "source": [
    "# obtain predictions on the test set\n",
    "pred = xgb.predict_proba(X_test)[:,1]\n",
    "\n",
    "# save the predictions\n",
    "np.savetxt('xgb_romain_legrand.csv', pred, fmt = '%1.15f', delimiter=',')"
   ]
  },
  {
   "cell_type": "markdown",
   "metadata": {},
   "source": [
    "The performance obtained is 0.872. XGBoost clearly overperforms all the other models so far. It remains to see whether neural networks can achieve better performances."
   ]
  },
  {
   "cell_type": "code",
   "execution_count": null,
   "metadata": {},
   "outputs": [],
   "source": []
  },
  {
   "cell_type": "markdown",
   "metadata": {},
   "source": [
    "## Neural networks"
   ]
  },
  {
   "cell_type": "markdown",
   "metadata": {},
   "source": [
    "Neural networks today represent the state of the art for deep learning. They are one of the best options for image classification, but require an adequate architecture and take much time to train. After several attempts, the retained architecture is a neural network with six dense layers, 40 neurons per layer, and a Relu activation. I also use batch normalisation for improved performance."
   ]
  },
  {
   "cell_type": "code",
   "execution_count": 3,
   "metadata": {},
   "outputs": [],
   "source": [
    "# conversion of train and test dataset\n",
    "X_train = np.array(X_train)\n",
    "y_train = np.array(y_train)\n",
    "X_test = np.array(X_test)"
   ]
  },
  {
   "cell_type": "code",
   "execution_count": 4,
   "metadata": {},
   "outputs": [],
   "source": [
    "# architecture of the network\n",
    "nn_epochs = 1\n",
    "nn_batch_size = 100\n",
    "nn_verbose = 1\n",
    "nn_input_size = 37\n",
    "nn_layer_size = 40\n",
    "nn_validation_split = 0.1\n",
    "nn_dropout = 0.1"
   ]
  },
  {
   "cell_type": "code",
   "execution_count": 5,
   "metadata": {},
   "outputs": [],
   "source": [
    "# building of the model\n",
    "model = tf.keras.models.Sequential()\n",
    "\n",
    "# dense layers\n",
    "model.add(keras.layers.Dense(nn_layer_size,input_shape=(nn_input_size,), name='dense_layer_1', use_bias=False))\n",
    "model.add(keras.layers.BatchNormalization())\n",
    "model.add(keras.layers.Activation(\"relu\"))\n",
    "\n",
    "model.add(keras.layers.Dense(nn_layer_size, name='dense_layer_2', use_bias=False))\n",
    "model.add(keras.layers.BatchNormalization())\n",
    "model.add(keras.layers.Activation(\"relu\"))\n",
    "\n",
    "model.add(keras.layers.Dense(nn_layer_size, name='dense_layer_3', use_bias=False))\n",
    "model.add(keras.layers.BatchNormalization())\n",
    "model.add(keras.layers.Activation(\"relu\"))\n",
    "          \n",
    "          \n",
    "model.add(keras.layers.Dense(nn_layer_size, name='dense_layer_4', use_bias=False))\n",
    "model.add(keras.layers.BatchNormalization())\n",
    "model.add(keras.layers.Activation(\"relu\"))\n",
    "          \n",
    "model.add(keras.layers.Dense(nn_layer_size, name='dense_layer_5', use_bias=False))\n",
    "model.add(keras.layers.BatchNormalization())\n",
    "model.add(keras.layers.Activation(\"relu\"))\n",
    "          \n",
    "model.add(keras.layers.Dense(nn_layer_size, name='dense_layer_6', use_bias=False))\n",
    "model.add(keras.layers.BatchNormalization())\n",
    "model.add(keras.layers.Activation(\"relu\"))\n",
    "\n",
    "# decision layer\n",
    "model.add(keras.layers.Dense(1, name='dense_layer_final', activation='sigmoid'))"
   ]
  },
  {
   "cell_type": "code",
   "execution_count": 6,
   "metadata": {},
   "outputs": [
    {
     "name": "stdout",
     "output_type": "stream",
     "text": [
      "Model: \"sequential\"\n",
      "_________________________________________________________________\n",
      "Layer (type)                 Output Shape              Param #   \n",
      "=================================================================\n",
      "dense_layer_1 (Dense)        (None, 40)                1480      \n",
      "_________________________________________________________________\n",
      "batch_normalization (BatchNo (None, 40)                160       \n",
      "_________________________________________________________________\n",
      "activation (Activation)      (None, 40)                0         \n",
      "_________________________________________________________________\n",
      "dense_layer_2 (Dense)        (None, 40)                1600      \n",
      "_________________________________________________________________\n",
      "batch_normalization_1 (Batch (None, 40)                160       \n",
      "_________________________________________________________________\n",
      "activation_1 (Activation)    (None, 40)                0         \n",
      "_________________________________________________________________\n",
      "dense_layer_3 (Dense)        (None, 40)                1600      \n",
      "_________________________________________________________________\n",
      "batch_normalization_2 (Batch (None, 40)                160       \n",
      "_________________________________________________________________\n",
      "activation_2 (Activation)    (None, 40)                0         \n",
      "_________________________________________________________________\n",
      "dense_layer_4 (Dense)        (None, 40)                1600      \n",
      "_________________________________________________________________\n",
      "batch_normalization_3 (Batch (None, 40)                160       \n",
      "_________________________________________________________________\n",
      "activation_3 (Activation)    (None, 40)                0         \n",
      "_________________________________________________________________\n",
      "dense_layer_5 (Dense)        (None, 40)                1600      \n",
      "_________________________________________________________________\n",
      "batch_normalization_4 (Batch (None, 40)                160       \n",
      "_________________________________________________________________\n",
      "activation_4 (Activation)    (None, 40)                0         \n",
      "_________________________________________________________________\n",
      "dense_layer_6 (Dense)        (None, 40)                1600      \n",
      "_________________________________________________________________\n",
      "batch_normalization_5 (Batch (None, 40)                160       \n",
      "_________________________________________________________________\n",
      "activation_5 (Activation)    (None, 40)                0         \n",
      "_________________________________________________________________\n",
      "dense_layer_final (Dense)    (None, 1)                 41        \n",
      "=================================================================\n",
      "Total params: 10,481\n",
      "Trainable params: 10,001\n",
      "Non-trainable params: 480\n",
      "_________________________________________________________________\n"
     ]
    }
   ],
   "source": [
    "# summary of the model\n",
    "model.summary()"
   ]
  },
  {
   "cell_type": "code",
   "execution_count": 7,
   "metadata": {},
   "outputs": [],
   "source": [
    "# compilation\n",
    "model.compile(optimizer='adam', loss='binary_crossentropy', metrics=['accuracy'])"
   ]
  },
  {
   "cell_type": "code",
   "execution_count": 8,
   "metadata": {},
   "outputs": [
    {
     "name": "stdout",
     "output_type": "stream",
     "text": [
      "Train on 8820641 samples, validate on 980072 samples\n",
      "8820641/8820641 [==============================] - 1514s 172us/sample - loss: 0.0115 - accuracy: 0.9966 - val_loss: 0.0103 - val_accuracy: 0.9970\n"
     ]
    }
   ],
   "source": [
    "# training of the model\n",
    "model.fit(X_train, y_train, batch_size=nn_batch_size, epochs=nn_epochs, verbose=nn_verbose, \\\n",
    "         validation_split=nn_validation_split);\n",
    "\n",
    "# save model\n",
    "model.save('nn_model.h5')"
   ]
  },
  {
   "cell_type": "code",
   "execution_count": 10,
   "metadata": {},
   "outputs": [],
   "source": [
    "# load model if needed\n",
    "# model = tf.keras.models.load_model('nn_model.h5')\n",
    "\n",
    "# obtain predictions\n",
    "predictions = model.predict(X_test)"
   ]
  },
  {
   "cell_type": "code",
   "execution_count": 11,
   "metadata": {},
   "outputs": [],
   "source": [
    "# save the predictions\n",
    "np.savetxt('nn_romain_legrand.csv', predictions, fmt = '%1.15f', delimiter=',')"
   ]
  },
  {
   "cell_type": "markdown",
   "metadata": {},
   "source": [
    "The performance is 0.842. This is a good performance, but not yet enough to overperform XGBoost, which thus becomes my best performer in this challenge."
   ]
  },
  {
   "cell_type": "code",
   "execution_count": null,
   "metadata": {},
   "outputs": [],
   "source": []
  },
  {
   "cell_type": "markdown",
   "metadata": {},
   "source": [
    "## Conclusion"
   ]
  },
  {
   "cell_type": "markdown",
   "metadata": {},
   "source": [
    "I have tried a number of different approaches in this challenge. Standard algorithms like KNN, SVM, and random forests have produced mediocre to fair performances. The best performers are the current state-of-the-art approaches: neural network, on the one hand, and XGBoost, on the other hand."
   ]
  },
  {
   "cell_type": "code",
   "execution_count": null,
   "metadata": {},
   "outputs": [],
   "source": []
  }
 ],
 "metadata": {
  "kernelspec": {
   "display_name": "Python 3",
   "language": "python",
   "name": "python3"
  },
  "language_info": {
   "codemirror_mode": {
    "name": "ipython",
    "version": 3
   },
   "file_extension": ".py",
   "mimetype": "text/x-python",
   "name": "python",
   "nbconvert_exporter": "python",
   "pygments_lexer": "ipython3",
   "version": "3.7.4"
  }
 },
 "nbformat": 4,
 "nbformat_minor": 2
}
